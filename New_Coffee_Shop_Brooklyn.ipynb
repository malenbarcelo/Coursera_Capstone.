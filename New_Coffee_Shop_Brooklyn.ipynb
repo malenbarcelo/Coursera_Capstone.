{
 "cells": [
  {
   "cell_type": "markdown",
   "metadata": {},
   "source": [
    "## Introduction\n",
    "\n",
    "A client is moving from Paris to Brooklyn, New York for work and his wife wants to move the Coffee Shop she has now in Paris to Brooklyn. They ask me where in the Borough I would recommend to open it."
   ]
  },
  {
   "cell_type": "markdown",
   "metadata": {},
   "source": [
    "## Table of Contents\n",
    "\n",
    "<div class=\"alert alert-block alert-info\" style=\"margin-top: 20px\">\n",
    "\n",
    "<font size = 3>\n",
    "\n",
    "1. <a href=\"#item1\">Download and Explore Dataset</a>\n",
    "\n",
    "2. <a href=\"#item2\">Explore Neighborhoods in Brookly</a>\n",
    "\n",
    "3. <a href=\"#item3\">Conclusion</a>    \n",
    "</font>\n",
    "</div>"
   ]
  },
  {
   "cell_type": "markdown",
   "metadata": {},
   "source": [
    "Download all the dependencies needed"
   ]
  },
  {
   "cell_type": "code",
   "execution_count": 2,
   "metadata": {},
   "outputs": [],
   "source": [
    "import numpy as np \n",
    "\n",
    "import pandas as pd \n",
    "pd.set_option('display.max_columns', None)\n",
    "pd.set_option('display.max_rows', None)\n",
    "\n",
    "import json \n",
    "\n",
    "from geopy.geocoders import Nominatim \n",
    "\n",
    "import requests \n",
    "from pandas.io.json import json_normalize \n",
    "\n",
    "import matplotlib.cm as cm\n",
    "import matplotlib.colors as colors\n",
    "\n",
    "from sklearn.cluster import KMeans\n",
    "\n",
    "import folium "
   ]
  },
  {
   "cell_type": "markdown",
   "metadata": {},
   "source": [
    "## 1. Download and Explore Dataset"
   ]
  },
  {
   "cell_type": "markdown",
   "metadata": {},
   "source": [
    "Dataset that contains boroughs and neighborhoods in New York as well as the the latitude and logitude coordinates of each neighborhood: \n",
    "https://geo.nyu.edu/catalog/nyu_2451_34572"
   ]
  },
  {
   "cell_type": "markdown",
   "metadata": {},
   "source": [
    "I use the downloaded file placed on the server, so I run a `wget` command and access the data. "
   ]
  },
  {
   "cell_type": "code",
   "execution_count": 7,
   "metadata": {},
   "outputs": [
    {
     "name": "stdout",
     "output_type": "stream",
     "text": [
      "Data downloaded!\n"
     ]
    }
   ],
   "source": [
    "!wget -q -O 'newyork_data.json' https://cocl.us/new_york_dataset\n",
    "print('Data downloaded!')"
   ]
  },
  {
   "cell_type": "markdown",
   "metadata": {},
   "source": [
    "#### Load data"
   ]
  },
  {
   "cell_type": "code",
   "execution_count": 8,
   "metadata": {},
   "outputs": [],
   "source": [
    "with open('newyork_data.json') as json_data:\n",
    "    newyork_data = json.load(json_data)"
   ]
  },
  {
   "cell_type": "markdown",
   "metadata": {},
   "source": [
    "Define a new variable that includes the Features data."
   ]
  },
  {
   "cell_type": "code",
   "execution_count": 17,
   "metadata": {},
   "outputs": [
    {
     "data": {
      "text/plain": [
       "{'type': 'Feature',\n",
       " 'id': 'nyu_2451_34572.1',\n",
       " 'geometry': {'type': 'Point',\n",
       "  'coordinates': [-73.84720052054902, 40.89470517661]},\n",
       " 'geometry_name': 'geom',\n",
       " 'properties': {'name': 'Wakefield',\n",
       "  'stacked': 1,\n",
       "  'annoline1': 'Wakefield',\n",
       "  'annoline2': None,\n",
       "  'annoline3': None,\n",
       "  'annoangle': 0.0,\n",
       "  'borough': 'Bronx',\n",
       "  'bbox': [-73.84720052054902,\n",
       "   40.89470517661,\n",
       "   -73.84720052054902,\n",
       "   40.89470517661]}}"
      ]
     },
     "execution_count": 17,
     "metadata": {},
     "output_type": "execute_result"
    }
   ],
   "source": [
    "neighborhoods_data = newyork_data['features']\n",
    "neighborhoods_data[0]"
   ]
  },
  {
   "cell_type": "markdown",
   "metadata": {},
   "source": [
    "#### Tranform the data into a *pandas* dataframe"
   ]
  },
  {
   "cell_type": "code",
   "execution_count": 16,
   "metadata": {},
   "outputs": [],
   "source": [
    "# define the dataframe columns\n",
    "column_names = ['Borough', 'Neighborhood', 'Latitude', 'Longitude'] \n",
    "\n",
    "# instantiate the dataframe\n",
    "neighborhoods = pd.DataFrame(columns=column_names)"
   ]
  },
  {
   "cell_type": "markdown",
   "metadata": {},
   "source": [
    "Fill the dataframe one row at a time with a loop."
   ]
  },
  {
   "cell_type": "code",
   "execution_count": 20,
   "metadata": {},
   "outputs": [],
   "source": [
    "for data in neighborhoods_data:\n",
    "    borough = data['properties']['borough'] \n",
    "    neighborhood_name = data['properties']['name']\n",
    "        \n",
    "    neighborhood_latlon = data['geometry']['coordinates']\n",
    "    neighborhood_lat = neighborhood_latlon[1]\n",
    "    neighborhood_lon = neighborhood_latlon[0]\n",
    "    \n",
    "    neighborhoods = neighborhoods.append({'Borough': borough,\n",
    "                                          'Neighborhood': neighborhood_name,\n",
    "                                          'Latitude': neighborhood_lat,\n",
    "                                          'Longitude': neighborhood_lon}, ignore_index=True)"
   ]
  },
  {
   "cell_type": "code",
   "execution_count": 21,
   "metadata": {},
   "outputs": [
    {
     "data": {
      "text/html": [
       "<div>\n",
       "<style scoped>\n",
       "    .dataframe tbody tr th:only-of-type {\n",
       "        vertical-align: middle;\n",
       "    }\n",
       "\n",
       "    .dataframe tbody tr th {\n",
       "        vertical-align: top;\n",
       "    }\n",
       "\n",
       "    .dataframe thead th {\n",
       "        text-align: right;\n",
       "    }\n",
       "</style>\n",
       "<table border=\"1\" class=\"dataframe\">\n",
       "  <thead>\n",
       "    <tr style=\"text-align: right;\">\n",
       "      <th></th>\n",
       "      <th>Borough</th>\n",
       "      <th>Neighborhood</th>\n",
       "      <th>Latitude</th>\n",
       "      <th>Longitude</th>\n",
       "    </tr>\n",
       "  </thead>\n",
       "  <tbody>\n",
       "    <tr>\n",
       "      <th>0</th>\n",
       "      <td>Bronx</td>\n",
       "      <td>Wakefield</td>\n",
       "      <td>40.894705</td>\n",
       "      <td>-73.847201</td>\n",
       "    </tr>\n",
       "    <tr>\n",
       "      <th>1</th>\n",
       "      <td>Bronx</td>\n",
       "      <td>Co-op City</td>\n",
       "      <td>40.874294</td>\n",
       "      <td>-73.829939</td>\n",
       "    </tr>\n",
       "    <tr>\n",
       "      <th>2</th>\n",
       "      <td>Bronx</td>\n",
       "      <td>Eastchester</td>\n",
       "      <td>40.887556</td>\n",
       "      <td>-73.827806</td>\n",
       "    </tr>\n",
       "    <tr>\n",
       "      <th>3</th>\n",
       "      <td>Bronx</td>\n",
       "      <td>Fieldston</td>\n",
       "      <td>40.895437</td>\n",
       "      <td>-73.905643</td>\n",
       "    </tr>\n",
       "    <tr>\n",
       "      <th>4</th>\n",
       "      <td>Bronx</td>\n",
       "      <td>Riverdale</td>\n",
       "      <td>40.890834</td>\n",
       "      <td>-73.912585</td>\n",
       "    </tr>\n",
       "  </tbody>\n",
       "</table>\n",
       "</div>"
      ],
      "text/plain": [
       "  Borough Neighborhood   Latitude  Longitude\n",
       "0   Bronx    Wakefield  40.894705 -73.847201\n",
       "1   Bronx   Co-op City  40.874294 -73.829939\n",
       "2   Bronx  Eastchester  40.887556 -73.827806\n",
       "3   Bronx    Fieldston  40.895437 -73.905643\n",
       "4   Bronx    Riverdale  40.890834 -73.912585"
      ]
     },
     "execution_count": 21,
     "metadata": {},
     "output_type": "execute_result"
    }
   ],
   "source": [
    "neighborhoods.head()"
   ]
  },
  {
   "cell_type": "markdown",
   "metadata": {},
   "source": [
    "#### Create a new dataframe of Brooklyn data."
   ]
  },
  {
   "cell_type": "code",
   "execution_count": 26,
   "metadata": {},
   "outputs": [
    {
     "data": {
      "text/html": [
       "<div>\n",
       "<style scoped>\n",
       "    .dataframe tbody tr th:only-of-type {\n",
       "        vertical-align: middle;\n",
       "    }\n",
       "\n",
       "    .dataframe tbody tr th {\n",
       "        vertical-align: top;\n",
       "    }\n",
       "\n",
       "    .dataframe thead th {\n",
       "        text-align: right;\n",
       "    }\n",
       "</style>\n",
       "<table border=\"1\" class=\"dataframe\">\n",
       "  <thead>\n",
       "    <tr style=\"text-align: right;\">\n",
       "      <th></th>\n",
       "      <th>Borough</th>\n",
       "      <th>Neighborhood</th>\n",
       "      <th>Latitude</th>\n",
       "      <th>Longitude</th>\n",
       "    </tr>\n",
       "  </thead>\n",
       "  <tbody>\n",
       "    <tr>\n",
       "      <th>0</th>\n",
       "      <td>Brooklyn</td>\n",
       "      <td>Bay Ridge</td>\n",
       "      <td>40.625801</td>\n",
       "      <td>-74.030621</td>\n",
       "    </tr>\n",
       "    <tr>\n",
       "      <th>1</th>\n",
       "      <td>Brooklyn</td>\n",
       "      <td>Bensonhurst</td>\n",
       "      <td>40.611009</td>\n",
       "      <td>-73.995180</td>\n",
       "    </tr>\n",
       "    <tr>\n",
       "      <th>2</th>\n",
       "      <td>Brooklyn</td>\n",
       "      <td>Sunset Park</td>\n",
       "      <td>40.645103</td>\n",
       "      <td>-74.010316</td>\n",
       "    </tr>\n",
       "    <tr>\n",
       "      <th>3</th>\n",
       "      <td>Brooklyn</td>\n",
       "      <td>Greenpoint</td>\n",
       "      <td>40.730201</td>\n",
       "      <td>-73.954241</td>\n",
       "    </tr>\n",
       "    <tr>\n",
       "      <th>4</th>\n",
       "      <td>Brooklyn</td>\n",
       "      <td>Gravesend</td>\n",
       "      <td>40.595260</td>\n",
       "      <td>-73.973471</td>\n",
       "    </tr>\n",
       "  </tbody>\n",
       "</table>\n",
       "</div>"
      ],
      "text/plain": [
       "    Borough Neighborhood   Latitude  Longitude\n",
       "0  Brooklyn    Bay Ridge  40.625801 -74.030621\n",
       "1  Brooklyn  Bensonhurst  40.611009 -73.995180\n",
       "2  Brooklyn  Sunset Park  40.645103 -74.010316\n",
       "3  Brooklyn   Greenpoint  40.730201 -73.954241\n",
       "4  Brooklyn    Gravesend  40.595260 -73.973471"
      ]
     },
     "execution_count": 26,
     "metadata": {},
     "output_type": "execute_result"
    }
   ],
   "source": [
    "brooklyn_data = neighborhoods[neighborhoods['Borough'] == 'Brooklyn'].reset_index(drop=True)\n",
    "brooklyn_data.head()"
   ]
  },
  {
   "cell_type": "code",
   "execution_count": 34,
   "metadata": {},
   "outputs": [
    {
     "data": {
      "text/plain": [
       "(140, 4)"
      ]
     },
     "execution_count": 34,
     "metadata": {},
     "output_type": "execute_result"
    }
   ],
   "source": [
    "brooklyn_data.shape"
   ]
  },
  {
   "cell_type": "markdown",
   "metadata": {},
   "source": [
    "#### Get the latitude and longitud of Brooklyn and create a map with the neighborhoods superimposed on top"
   ]
  },
  {
   "cell_type": "code",
   "execution_count": 25,
   "metadata": {},
   "outputs": [
    {
     "name": "stdout",
     "output_type": "stream",
     "text": [
      "The geograpical coordinate of Brooklyn are 40.6501038, -73.9495823.\n"
     ]
    }
   ],
   "source": [
    "address = 'Brooklyn, NY'\n",
    "\n",
    "geolocator = Nominatim(user_agent=\"ny_explorer\")\n",
    "location = geolocator.geocode(address)\n",
    "latitude = location.latitude\n",
    "longitude = location.longitude\n",
    "print('The geograpical coordinate of Brooklyn are {}, {}.'.format(latitude, longitude))"
   ]
  },
  {
   "cell_type": "code",
   "execution_count": 96,
   "metadata": {},
   "outputs": [
    {
     "data": {
      "text/html": [
       "<div style=\"width:100%;\"><div style=\"position:relative;width:100%;height:0;padding-bottom:60%;\"><iframe src=\"data:text/html;charset=utf-8;base64,PCFET0NUWVBFIGh0bWw+CjxoZWFkPiAgICAKICAgIDxtZXRhIGh0dHAtZXF1aXY9ImNvbnRlbnQtdHlwZSIgY29udGVudD0idGV4dC9odG1sOyBjaGFyc2V0PVVURi04IiAvPgogICAgPHNjcmlwdD5MX1BSRUZFUl9DQU5WQVMgPSBmYWxzZTsgTF9OT19UT1VDSCA9IGZhbHNlOyBMX0RJU0FCTEVfM0QgPSBmYWxzZTs8L3NjcmlwdD4KICAgIDxzY3JpcHQgc3JjPSJodHRwczovL2Nkbi5qc2RlbGl2ci5uZXQvbnBtL2xlYWZsZXRAMS4yLjAvZGlzdC9sZWFmbGV0LmpzIj48L3NjcmlwdD4KICAgIDxzY3JpcHQgc3JjPSJodHRwczovL2FqYXguZ29vZ2xlYXBpcy5jb20vYWpheC9saWJzL2pxdWVyeS8xLjExLjEvanF1ZXJ5Lm1pbi5qcyI+PC9zY3JpcHQ+CiAgICA8c2NyaXB0IHNyYz0iaHR0cHM6Ly9tYXhjZG4uYm9vdHN0cmFwY2RuLmNvbS9ib290c3RyYXAvMy4yLjAvanMvYm9vdHN0cmFwLm1pbi5qcyI+PC9zY3JpcHQ+CiAgICA8c2NyaXB0IHNyYz0iaHR0cHM6Ly9jZG5qcy5jbG91ZGZsYXJlLmNvbS9hamF4L2xpYnMvTGVhZmxldC5hd2Vzb21lLW1hcmtlcnMvMi4wLjIvbGVhZmxldC5hd2Vzb21lLW1hcmtlcnMuanMiPjwvc2NyaXB0PgogICAgPGxpbmsgcmVsPSJzdHlsZXNoZWV0IiBocmVmPSJodHRwczovL2Nkbi5qc2RlbGl2ci5uZXQvbnBtL2xlYWZsZXRAMS4yLjAvZGlzdC9sZWFmbGV0LmNzcyIvPgogICAgPGxpbmsgcmVsPSJzdHlsZXNoZWV0IiBocmVmPSJodHRwczovL21heGNkbi5ib290c3RyYXBjZG4uY29tL2Jvb3RzdHJhcC8zLjIuMC9jc3MvYm9vdHN0cmFwLm1pbi5jc3MiLz4KICAgIDxsaW5rIHJlbD0ic3R5bGVzaGVldCIgaHJlZj0iaHR0cHM6Ly9tYXhjZG4uYm9vdHN0cmFwY2RuLmNvbS9ib290c3RyYXAvMy4yLjAvY3NzL2Jvb3RzdHJhcC10aGVtZS5taW4uY3NzIi8+CiAgICA8bGluayByZWw9InN0eWxlc2hlZXQiIGhyZWY9Imh0dHBzOi8vbWF4Y2RuLmJvb3RzdHJhcGNkbi5jb20vZm9udC1hd2Vzb21lLzQuNi4zL2Nzcy9mb250LWF3ZXNvbWUubWluLmNzcyIvPgogICAgPGxpbmsgcmVsPSJzdHlsZXNoZWV0IiBocmVmPSJodHRwczovL2NkbmpzLmNsb3VkZmxhcmUuY29tL2FqYXgvbGlicy9MZWFmbGV0LmF3ZXNvbWUtbWFya2Vycy8yLjAuMi9sZWFmbGV0LmF3ZXNvbWUtbWFya2Vycy5jc3MiLz4KICAgIDxsaW5rIHJlbD0ic3R5bGVzaGVldCIgaHJlZj0iaHR0cHM6Ly9yYXdnaXQuY29tL3B5dGhvbi12aXN1YWxpemF0aW9uL2ZvbGl1bS9tYXN0ZXIvZm9saXVtL3RlbXBsYXRlcy9sZWFmbGV0LmF3ZXNvbWUucm90YXRlLmNzcyIvPgogICAgPHN0eWxlPmh0bWwsIGJvZHkge3dpZHRoOiAxMDAlO2hlaWdodDogMTAwJTttYXJnaW46IDA7cGFkZGluZzogMDt9PC9zdHlsZT4KICAgIDxzdHlsZT4jbWFwIHtwb3NpdGlvbjphYnNvbHV0ZTt0b3A6MDtib3R0b206MDtyaWdodDowO2xlZnQ6MDt9PC9zdHlsZT4KICAgIAogICAgICAgICAgICA8c3R5bGU+ICNtYXBfMmJmZDM2NTVjYjRjNDYxNGJiM2NlYzhkZjQ3YTZjMjkgewogICAgICAgICAgICAgICAgcG9zaXRpb24gOiByZWxhdGl2ZTsKICAgICAgICAgICAgICAgIHdpZHRoIDogMTAwLjAlOwogICAgICAgICAgICAgICAgaGVpZ2h0OiAxMDAuMCU7CiAgICAgICAgICAgICAgICBsZWZ0OiAwLjAlOwogICAgICAgICAgICAgICAgdG9wOiAwLjAlOwogICAgICAgICAgICAgICAgfQogICAgICAgICAgICA8L3N0eWxlPgogICAgICAgIAo8L2hlYWQ+Cjxib2R5PiAgICAKICAgIAogICAgICAgICAgICA8ZGl2IGNsYXNzPSJmb2xpdW0tbWFwIiBpZD0ibWFwXzJiZmQzNjU1Y2I0YzQ2MTRiYjNjZWM4ZGY0N2E2YzI5IiA+PC9kaXY+CiAgICAgICAgCjwvYm9keT4KPHNjcmlwdD4gICAgCiAgICAKCiAgICAgICAgICAgIAogICAgICAgICAgICAgICAgdmFyIGJvdW5kcyA9IG51bGw7CiAgICAgICAgICAgIAoKICAgICAgICAgICAgdmFyIG1hcF8yYmZkMzY1NWNiNGM0NjE0YmIzY2VjOGRmNDdhNmMyOSA9IEwubWFwKAogICAgICAgICAgICAgICAgICAgICAgICAgICAgICAgICAgJ21hcF8yYmZkMzY1NWNiNGM0NjE0YmIzY2VjOGRmNDdhNmMyOScsCiAgICAgICAgICAgICAgICAgICAgICAgICAgICAgICAgICB7Y2VudGVyOiBbNDAuNjUwMTAzOCwtNzMuOTQ5NTgyM10sCiAgICAgICAgICAgICAgICAgICAgICAgICAgICAgICAgICB6b29tOiAxMiwKICAgICAgICAgICAgICAgICAgICAgICAgICAgICAgICAgIG1heEJvdW5kczogYm91bmRzLAogICAgICAgICAgICAgICAgICAgICAgICAgICAgICAgICAgbGF5ZXJzOiBbXSwKICAgICAgICAgICAgICAgICAgICAgICAgICAgICAgICAgIHdvcmxkQ29weUp1bXA6IGZhbHNlLAogICAgICAgICAgICAgICAgICAgICAgICAgICAgICAgICAgY3JzOiBMLkNSUy5FUFNHMzg1NwogICAgICAgICAgICAgICAgICAgICAgICAgICAgICAgICB9KTsKICAgICAgICAgICAgCiAgICAgICAgCiAgICAKICAgICAgICAgICAgdmFyIHRpbGVfbGF5ZXJfOGRlZGFlYWI1ZmMzNGUyOGJkZGIwOTBhMDM1NTFmZGEgPSBMLnRpbGVMYXllcigKICAgICAgICAgICAgICAgICdodHRwczovL3tzfS50aWxlLm9wZW5zdHJlZXRtYXAub3JnL3t6fS97eH0ve3l9LnBuZycsCiAgICAgICAgICAgICAgICB7CiAgImF0dHJpYnV0aW9uIjogbnVsbCwKICAiZGV0ZWN0UmV0aW5hIjogZmFsc2UsCiAgIm1heFpvb20iOiAxOCwKICAibWluWm9vbSI6IDEsCiAgIm5vV3JhcCI6IGZhbHNlLAogICJzdWJkb21haW5zIjogImFiYyIKfQogICAgICAgICAgICAgICAgKS5hZGRUbyhtYXBfMmJmZDM2NTVjYjRjNDYxNGJiM2NlYzhkZjQ3YTZjMjkpOwogICAgICAgIAogICAgCiAgICAgICAgICAgIHZhciBjaXJjbGVfbWFya2VyXzk2MGJhYTYwMjAyMzRiYTU4MzkzOTJlYjU2ZDkxZmQ3ID0gTC5jaXJjbGVNYXJrZXIoCiAgICAgICAgICAgICAgICBbNDAuNjI1ODAxMDY1MDEwNjU2LC03NC4wMzA2MjA2OTM1MzgxM10sCiAgICAgICAgICAgICAgICB7CiAgImJ1YmJsaW5nTW91c2VFdmVudHMiOiB0cnVlLAogICJjb2xvciI6ICJibHVlIiwKICAiZGFzaEFycmF5IjogbnVsbCwKICAiZGFzaE9mZnNldCI6IG51bGwsCiAgImZpbGwiOiB0cnVlLAogICJmaWxsQ29sb3IiOiAiIzMxODZjYyIsCiAgImZpbGxPcGFjaXR5IjogMC43LAogICJmaWxsUnVsZSI6ICJldmVub2RkIiwKICAibGluZUNhcCI6ICJyb3VuZCIsCiAgImxpbmVKb2luIjogInJvdW5kIiwKICAib3BhY2l0eSI6IDEuMCwKICAicmFkaXVzIjogNSwKICAic3Ryb2tlIjogdHJ1ZSwKICAid2VpZ2h0IjogMwp9CiAgICAgICAgICAgICAgICApLmFkZFRvKG1hcF8yYmZkMzY1NWNiNGM0NjE0YmIzY2VjOGRmNDdhNmMyOSk7CiAgICAgICAgICAgIAogICAgCiAgICAgICAgICAgIHZhciBwb3B1cF9iYWFhOWU0NmEzODM0MjNhYTdmZjI4MjhmODU3N2NlMyA9IEwucG9wdXAoe21heFdpZHRoOiAnMzAwJ30pOwoKICAgICAgICAgICAgCiAgICAgICAgICAgICAgICB2YXIgaHRtbF82YTU3NjZmYTE4OTc0YjU4ODBhNzc4ODVkZjE5ODFiZSA9ICQoJzxkaXYgaWQ9Imh0bWxfNmE1NzY2ZmExODk3NGI1ODgwYTc3ODg1ZGYxOTgxYmUiIHN0eWxlPSJ3aWR0aDogMTAwLjAlOyBoZWlnaHQ6IDEwMC4wJTsiPkJheSBSaWRnZTwvZGl2PicpWzBdOwogICAgICAgICAgICAgICAgcG9wdXBfYmFhYTllNDZhMzgzNDIzYWE3ZmYyODI4Zjg1NzdjZTMuc2V0Q29udGVudChodG1sXzZhNTc2NmZhMTg5NzRiNTg4MGE3Nzg4NWRmMTk4MWJlKTsKICAgICAgICAgICAgCgogICAgICAgICAgICBjaXJjbGVfbWFya2VyXzk2MGJhYTYwMjAyMzRiYTU4MzkzOTJlYjU2ZDkxZmQ3LmJpbmRQb3B1cChwb3B1cF9iYWFhOWU0NmEzODM0MjNhYTdmZjI4MjhmODU3N2NlMyk7CgogICAgICAgICAgICAKICAgICAgICAKICAgIAogICAgICAgICAgICB2YXIgY2lyY2xlX21hcmtlcl8wY2I2Y2ZiY2I0MzA0N2QyYTM5YmY1ODg5YTNlMmI3YyA9IEwuY2lyY2xlTWFya2VyKAogICAgICAgICAgICAgICAgWzQwLjYxMTAwODkwMjAyMDQ0LC03My45OTUxNzk5ODM4MDcyOV0sCiAgICAgICAgICAgICAgICB7CiAgImJ1YmJsaW5nTW91c2VFdmVudHMiOiB0cnVlLAogICJjb2xvciI6ICJibHVlIiwKICAiZGFzaEFycmF5IjogbnVsbCwKICAiZGFzaE9mZnNldCI6IG51bGwsCiAgImZpbGwiOiB0cnVlLAogICJmaWxsQ29sb3IiOiAiIzMxODZjYyIsCiAgImZpbGxPcGFjaXR5IjogMC43LAogICJmaWxsUnVsZSI6ICJldmVub2RkIiwKICAibGluZUNhcCI6ICJyb3VuZCIsCiAgImxpbmVKb2luIjogInJvdW5kIiwKICAib3BhY2l0eSI6IDEuMCwKICAicmFkaXVzIjogNSwKICAic3Ryb2tlIjogdHJ1ZSwKICAid2VpZ2h0IjogMwp9CiAgICAgICAgICAgICAgICApLmFkZFRvKG1hcF8yYmZkMzY1NWNiNGM0NjE0YmIzY2VjOGRmNDdhNmMyOSk7CiAgICAgICAgICAgIAogICAgCiAgICAgICAgICAgIHZhciBwb3B1cF8wNDFlYjVhNWM5MjU0MTFhYTkzMzU4NDM3MmRlMjQ4ZSA9IEwucG9wdXAoe21heFdpZHRoOiAnMzAwJ30pOwoKICAgICAgICAgICAgCiAgICAgICAgICAgICAgICB2YXIgaHRtbF83OTQ0ZjE0ZTg2ZmQ0NjcwYWY1NjBiYWM5NjllYzFiNSA9ICQoJzxkaXYgaWQ9Imh0bWxfNzk0NGYxNGU4NmZkNDY3MGFmNTYwYmFjOTY5ZWMxYjUiIHN0eWxlPSJ3aWR0aDogMTAwLjAlOyBoZWlnaHQ6IDEwMC4wJTsiPkJlbnNvbmh1cnN0PC9kaXY+JylbMF07CiAgICAgICAgICAgICAgICBwb3B1cF8wNDFlYjVhNWM5MjU0MTFhYTkzMzU4NDM3MmRlMjQ4ZS5zZXRDb250ZW50KGh0bWxfNzk0NGYxNGU4NmZkNDY3MGFmNTYwYmFjOTY5ZWMxYjUpOwogICAgICAgICAgICAKCiAgICAgICAgICAgIGNpcmNsZV9tYXJrZXJfMGNiNmNmYmNiNDMwNDdkMmEzOWJmNTg4OWEzZTJiN2MuYmluZFBvcHVwKHBvcHVwXzA0MWViNWE1YzkyNTQxMWFhOTMzNTg0MzcyZGUyNDhlKTsKCiAgICAgICAgICAgIAogICAgICAgIAogICAgCiAgICAgICAgICAgIHZhciBjaXJjbGVfbWFya2VyX2RjZWQ5ZjdmMDhmNTQ4ZWFhMjIzNDhkZTU2YmExOWZhID0gTC5jaXJjbGVNYXJrZXIoCiAgICAgICAgICAgICAgICBbNDAuNjQ1MTAyOTQ5MjU0MjksLTc0LjAxMDMxNjE4NTI3Nzg0XSwKICAgICAgICAgICAgICAgIHsKICAiYnViYmxpbmdNb3VzZUV2ZW50cyI6IHRydWUsCiAgImNvbG9yIjogImJsdWUiLAogICJkYXNoQXJyYXkiOiBudWxsLAogICJkYXNoT2Zmc2V0IjogbnVsbCwKICAiZmlsbCI6IHRydWUsCiAgImZpbGxDb2xvciI6ICIjMzE4NmNjIiwKICAiZmlsbE9wYWNpdHkiOiAwLjcsCiAgImZpbGxSdWxlIjogImV2ZW5vZGQiLAogICJsaW5lQ2FwIjogInJvdW5kIiwKICAibGluZUpvaW4iOiAicm91bmQiLAogICJvcGFjaXR5IjogMS4wLAogICJyYWRpdXMiOiA1LAogICJzdHJva2UiOiB0cnVlLAogICJ3ZWlnaHQiOiAzCn0KICAgICAgICAgICAgICAgICkuYWRkVG8obWFwXzJiZmQzNjU1Y2I0YzQ2MTRiYjNjZWM4ZGY0N2E2YzI5KTsKICAgICAgICAgICAgCiAgICAKICAgICAgICAgICAgdmFyIHBvcHVwXzE5NjAyMzg1MDZjNzQ2NmY4MWQ1YzdkODk3Mzc0Yjg1ID0gTC5wb3B1cCh7bWF4V2lkdGg6ICczMDAnfSk7CgogICAgICAgICAgICAKICAgICAgICAgICAgICAgIHZhciBodG1sXzg0ZDBjZTJkNDk2YTQwNjFhZjM4YzkyZWM1ZjQzMTI5ID0gJCgnPGRpdiBpZD0iaHRtbF84NGQwY2UyZDQ5NmE0MDYxYWYzOGM5MmVjNWY0MzEyOSIgc3R5bGU9IndpZHRoOiAxMDAuMCU7IGhlaWdodDogMTAwLjAlOyI+U3Vuc2V0IFBhcms8L2Rpdj4nKVswXTsKICAgICAgICAgICAgICAgIHBvcHVwXzE5NjAyMzg1MDZjNzQ2NmY4MWQ1YzdkODk3Mzc0Yjg1LnNldENvbnRlbnQoaHRtbF84NGQwY2UyZDQ5NmE0MDYxYWYzOGM5MmVjNWY0MzEyOSk7CiAgICAgICAgICAgIAoKICAgICAgICAgICAgY2lyY2xlX21hcmtlcl9kY2VkOWY3ZjA4ZjU0OGVhYTIyMzQ4ZGU1NmJhMTlmYS5iaW5kUG9wdXAocG9wdXBfMTk2MDIzODUwNmM3NDY2ZjgxZDVjN2Q4OTczNzRiODUpOwoKICAgICAgICAgICAgCiAgICAgICAgCiAgICAKICAgICAgICAgICAgdmFyIGNpcmNsZV9tYXJrZXJfZTZiMDJmNGZhZTQ3NDJkYzhiN2Y0Y2IzYWFkOGMxMDEgPSBMLmNpcmNsZU1hcmtlcigKICAgICAgICAgICAgICAgIFs0MC43MzAyMDA5ODQ4NjQ3LC03My45NTQyNDA5MzEyNzM5M10sCiAgICAgICAgICAgICAgICB7CiAgImJ1YmJsaW5nTW91c2VFdmVudHMiOiB0cnVlLAogICJjb2xvciI6ICJibHVlIiwKICAiZGFzaEFycmF5IjogbnVsbCwKICAiZGFzaE9mZnNldCI6IG51bGwsCiAgImZpbGwiOiB0cnVlLAogICJmaWxsQ29sb3IiOiAiIzMxODZjYyIsCiAgImZpbGxPcGFjaXR5IjogMC43LAogICJmaWxsUnVsZSI6ICJldmVub2RkIiwKICAibGluZUNhcCI6ICJyb3VuZCIsCiAgImxpbmVKb2luIjogInJvdW5kIiwKICAib3BhY2l0eSI6IDEuMCwKICAicmFkaXVzIjogNSwKICAic3Ryb2tlIjogdHJ1ZSwKICAid2VpZ2h0IjogMwp9CiAgICAgICAgICAgICAgICApLmFkZFRvKG1hcF8yYmZkMzY1NWNiNGM0NjE0YmIzY2VjOGRmNDdhNmMyOSk7CiAgICAgICAgICAgIAogICAgCiAgICAgICAgICAgIHZhciBwb3B1cF9jZGEyNGViOTAyNTk0NjRiYTMwZDBjYWM1NWIwYWJkMCA9IEwucG9wdXAoe21heFdpZHRoOiAnMzAwJ30pOwoKICAgICAgICAgICAgCiAgICAgICAgICAgICAgICB2YXIgaHRtbF81ZWVkMTFhZTVmMWQ0NmNjOGY2ZjRiZmI5ZmYyZjcwNyA9ICQoJzxkaXYgaWQ9Imh0bWxfNWVlZDExYWU1ZjFkNDZjYzhmNmY0YmZiOWZmMmY3MDciIHN0eWxlPSJ3aWR0aDogMTAwLjAlOyBoZWlnaHQ6IDEwMC4wJTsiPkdyZWVucG9pbnQ8L2Rpdj4nKVswXTsKICAgICAgICAgICAgICAgIHBvcHVwX2NkYTI0ZWI5MDI1OTQ2NGJhMzBkMGNhYzU1YjBhYmQwLnNldENvbnRlbnQoaHRtbF81ZWVkMTFhZTVmMWQ0NmNjOGY2ZjRiZmI5ZmYyZjcwNyk7CiAgICAgICAgICAgIAoKICAgICAgICAgICAgY2lyY2xlX21hcmtlcl9lNmIwMmY0ZmFlNDc0MmRjOGI3ZjRjYjNhYWQ4YzEwMS5iaW5kUG9wdXAocG9wdXBfY2RhMjRlYjkwMjU5NDY0YmEzMGQwY2FjNTViMGFiZDApOwoKICAgICAgICAgICAgCiAgICAgICAgCiAgICAKICAgICAgICAgICAgdmFyIGNpcmNsZV9tYXJrZXJfNmExMDcyMmZjYjdlNGYyNThlMjg4YjAyOTcwYzQ1NzYgPSBMLmNpcmNsZU1hcmtlcigKICAgICAgICAgICAgICAgIFs0MC41OTUyNjAwMTMwNjU5MywtNzMuOTczNDcwODc3MDg0NDVdLAogICAgICAgICAgICAgICAgewogICJidWJibGluZ01vdXNlRXZlbnRzIjogdHJ1ZSwKICAiY29sb3IiOiAiYmx1ZSIsCiAgImRhc2hBcnJheSI6IG51bGwsCiAgImRhc2hPZmZzZXQiOiBudWxsLAogICJmaWxsIjogdHJ1ZSwKICAiZmlsbENvbG9yIjogIiMzMTg2Y2MiLAogICJmaWxsT3BhY2l0eSI6IDAuNywKICAiZmlsbFJ1bGUiOiAiZXZlbm9kZCIsCiAgImxpbmVDYXAiOiAicm91bmQiLAogICJsaW5lSm9pbiI6ICJyb3VuZCIsCiAgIm9wYWNpdHkiOiAxLjAsCiAgInJhZGl1cyI6IDUsCiAgInN0cm9rZSI6IHRydWUsCiAgIndlaWdodCI6IDMKfQogICAgICAgICAgICAgICAgKS5hZGRUbyhtYXBfMmJmZDM2NTVjYjRjNDYxNGJiM2NlYzhkZjQ3YTZjMjkpOwogICAgICAgICAgICAKICAgIAogICAgICAgICAgICB2YXIgcG9wdXBfNWRkNWNiYzVhMjE2NGVjMjgxZGJhYWZkZjY0NzEwZjcgPSBMLnBvcHVwKHttYXhXaWR0aDogJzMwMCd9KTsKCiAgICAgICAgICAgIAogICAgICAgICAgICAgICAgdmFyIGh0bWxfYTgyNGRlZTc3YmM2NGNiZGFmYjM1YzkwYTkxZmM0ZTcgPSAkKCc8ZGl2IGlkPSJodG1sX2E4MjRkZWU3N2JjNjRjYmRhZmIzNWM5MGE5MWZjNGU3IiBzdHlsZT0id2lkdGg6IDEwMC4wJTsgaGVpZ2h0OiAxMDAuMCU7Ij5HcmF2ZXNlbmQ8L2Rpdj4nKVswXTsKICAgICAgICAgICAgICAgIHBvcHVwXzVkZDVjYmM1YTIxNjRlYzI4MWRiYWFmZGY2NDcxMGY3LnNldENvbnRlbnQoaHRtbF9hODI0ZGVlNzdiYzY0Y2JkYWZiMzVjOTBhOTFmYzRlNyk7CiAgICAgICAgICAgIAoKICAgICAgICAgICAgY2lyY2xlX21hcmtlcl82YTEwNzIyZmNiN2U0ZjI1OGUyODhiMDI5NzBjNDU3Ni5iaW5kUG9wdXAocG9wdXBfNWRkNWNiYzVhMjE2NGVjMjgxZGJhYWZkZjY0NzEwZjcpOwoKICAgICAgICAgICAgCiAgICAgICAgCiAgICAKICAgICAgICAgICAgdmFyIGNpcmNsZV9tYXJrZXJfZjIzMGM5ZTJhZTI0NDQzMGI2ZWFjNWUwNTk5NTc2OWEgPSBMLmNpcmNsZU1hcmtlcigKICAgICAgICAgICAgICAgIFs0MC41NzY4MjUwNjU2NjYwNCwtNzMuOTY1MDk0NDg3ODUzMzZdLAogICAgICAgICAgICAgICAgewogICJidWJibGluZ01vdXNlRXZlbnRzIjogdHJ1ZSwKICAiY29sb3IiOiAiYmx1ZSIsCiAgImRhc2hBcnJheSI6IG51bGwsCiAgImRhc2hPZmZzZXQiOiBudWxsLAogICJmaWxsIjogdHJ1ZSwKICAiZmlsbENvbG9yIjogIiMzMTg2Y2MiLAogICJmaWxsT3BhY2l0eSI6IDAuNywKICAiZmlsbFJ1bGUiOiAiZXZlbm9kZCIsCiAgImxpbmVDYXAiOiAicm91bmQiLAogICJsaW5lSm9pbiI6ICJyb3VuZCIsCiAgIm9wYWNpdHkiOiAxLjAsCiAgInJhZGl1cyI6IDUsCiAgInN0cm9rZSI6IHRydWUsCiAgIndlaWdodCI6IDMKfQogICAgICAgICAgICAgICAgKS5hZGRUbyhtYXBfMmJmZDM2NTVjYjRjNDYxNGJiM2NlYzhkZjQ3YTZjMjkpOwogICAgICAgICAgICAKICAgIAogICAgICAgICAgICB2YXIgcG9wdXBfZWU5ZTg0N2MzMDAxNDQ3Y2E0MjcwOTg5MzUxNjdmODggPSBMLnBvcHVwKHttYXhXaWR0aDogJzMwMCd9KTsKCiAgICAgICAgICAgIAogICAgICAgICAgICAgICAgdmFyIGh0bWxfYTVlYWU0MTY2MTEyNGE2YzlkM2MxYWQyZDY2NDEwMWQgPSAkKCc8ZGl2IGlkPSJodG1sX2E1ZWFlNDE2NjExMjRhNmM5ZDNjMWFkMmQ2NjQxMDFkIiBzdHlsZT0id2lkdGg6IDEwMC4wJTsgaGVpZ2h0OiAxMDAuMCU7Ij5CcmlnaHRvbiBCZWFjaDwvZGl2PicpWzBdOwogICAgICAgICAgICAgICAgcG9wdXBfZWU5ZTg0N2MzMDAxNDQ3Y2E0MjcwOTg5MzUxNjdmODguc2V0Q29udGVudChodG1sX2E1ZWFlNDE2NjExMjRhNmM5ZDNjMWFkMmQ2NjQxMDFkKTsKICAgICAgICAgICAgCgogICAgICAgICAgICBjaXJjbGVfbWFya2VyX2YyMzBjOWUyYWUyNDQ0MzBiNmVhYzVlMDU5OTU3NjlhLmJpbmRQb3B1cChwb3B1cF9lZTllODQ3YzMwMDE0NDdjYTQyNzA5ODkzNTE2N2Y4OCk7CgogICAgICAgICAgICAKICAgICAgICAKICAgIAogICAgICAgICAgICB2YXIgY2lyY2xlX21hcmtlcl82NmYxNzE3YTY5MmE0OTdmYWQyNzFlNWE4YzVkZTI5ZCA9IEwuY2lyY2xlTWFya2VyKAogICAgICAgICAgICAgICAgWzQwLjU4Njg5MDEyNjc4Mzg0LC03My45NDMxODY0MDQ4Mjk3OV0sCiAgICAgICAgICAgICAgICB7CiAgImJ1YmJsaW5nTW91c2VFdmVudHMiOiB0cnVlLAogICJjb2xvciI6ICJibHVlIiwKICAiZGFzaEFycmF5IjogbnVsbCwKICAiZGFzaE9mZnNldCI6IG51bGwsCiAgImZpbGwiOiB0cnVlLAogICJmaWxsQ29sb3IiOiAiIzMxODZjYyIsCiAgImZpbGxPcGFjaXR5IjogMC43LAogICJmaWxsUnVsZSI6ICJldmVub2RkIiwKICAibGluZUNhcCI6ICJyb3VuZCIsCiAgImxpbmVKb2luIjogInJvdW5kIiwKICAib3BhY2l0eSI6IDEuMCwKICAicmFkaXVzIjogNSwKICAic3Ryb2tlIjogdHJ1ZSwKICAid2VpZ2h0IjogMwp9CiAgICAgICAgICAgICAgICApLmFkZFRvKG1hcF8yYmZkMzY1NWNiNGM0NjE0YmIzY2VjOGRmNDdhNmMyOSk7CiAgICAgICAgICAgIAogICAgCiAgICAgICAgICAgIHZhciBwb3B1cF85ZGRkYjdlZDliMzQ0ZjI0OTdlMzE1MmZjOGE0NGJiNiA9IEwucG9wdXAoe21heFdpZHRoOiAnMzAwJ30pOwoKICAgICAgICAgICAgCiAgICAgICAgICAgICAgICB2YXIgaHRtbF9lMGIzMDc4ZTI3ZDU0NjI1OTBhMWY0YmZlNmFmZTg2MCA9ICQoJzxkaXYgaWQ9Imh0bWxfZTBiMzA3OGUyN2Q1NDYyNTkwYTFmNGJmZTZhZmU4NjAiIHN0eWxlPSJ3aWR0aDogMTAwLjAlOyBoZWlnaHQ6IDEwMC4wJTsiPlNoZWVwc2hlYWQgQmF5PC9kaXY+JylbMF07CiAgICAgICAgICAgICAgICBwb3B1cF85ZGRkYjdlZDliMzQ0ZjI0OTdlMzE1MmZjOGE0NGJiNi5zZXRDb250ZW50KGh0bWxfZTBiMzA3OGUyN2Q1NDYyNTkwYTFmNGJmZTZhZmU4NjApOwogICAgICAgICAgICAKCiAgICAgICAgICAgIGNpcmNsZV9tYXJrZXJfNjZmMTcxN2E2OTJhNDk3ZmFkMjcxZTVhOGM1ZGUyOWQuYmluZFBvcHVwKHBvcHVwXzlkZGRiN2VkOWIzNDRmMjQ5N2UzMTUyZmM4YTQ0YmI2KTsKCiAgICAgICAgICAgIAogICAgICAgIAogICAgCiAgICAgICAgICAgIHZhciBjaXJjbGVfbWFya2VyXzA1ZDU4Y2JiNjEwODRhYjA5N2VmYTI4YjRmNTAxNmYzID0gTC5jaXJjbGVNYXJrZXIoCiAgICAgICAgICAgICAgICBbNDAuNjE0NDMyNTEzMzUwOTgsLTczLjk1NzQzODQwNTU5OTM5XSwKICAgICAgICAgICAgICAgIHsKICAiYnViYmxpbmdNb3VzZUV2ZW50cyI6IHRydWUsCiAgImNvbG9yIjogImJsdWUiLAogICJkYXNoQXJyYXkiOiBudWxsLAogICJkYXNoT2Zmc2V0IjogbnVsbCwKICAiZmlsbCI6IHRydWUsCiAgImZpbGxDb2xvciI6ICIjMzE4NmNjIiwKICAiZmlsbE9wYWNpdHkiOiAwLjcsCiAgImZpbGxSdWxlIjogImV2ZW5vZGQiLAogICJsaW5lQ2FwIjogInJvdW5kIiwKICAibGluZUpvaW4iOiAicm91bmQiLAogICJvcGFjaXR5IjogMS4wLAogICJyYWRpdXMiOiA1LAogICJzdHJva2UiOiB0cnVlLAogICJ3ZWlnaHQiOiAzCn0KICAgICAgICAgICAgICAgICkuYWRkVG8obWFwXzJiZmQzNjU1Y2I0YzQ2MTRiYjNjZWM4ZGY0N2E2YzI5KTsKICAgICAgICAgICAgCiAgICAKICAgICAgICAgICAgdmFyIHBvcHVwXzcxNTQ1ZjgyNTdiOTQxYjRiYTBhYjVlYTIxNDcxNjQwID0gTC5wb3B1cCh7bWF4V2lkdGg6ICczMDAnfSk7CgogICAgICAgICAgICAKICAgICAgICAgICAgICAgIHZhciBodG1sXzBkOGNmYjJiMTMwNzQ0NGJhNGJlZGM0Y2YxYjEyMWNlID0gJCgnPGRpdiBpZD0iaHRtbF8wZDhjZmIyYjEzMDc0NDRiYTRiZWRjNGNmMWIxMjFjZSIgc3R5bGU9IndpZHRoOiAxMDAuMCU7IGhlaWdodDogMTAwLjAlOyI+TWFuaGF0dGFuIFRlcnJhY2U8L2Rpdj4nKVswXTsKICAgICAgICAgICAgICAgIHBvcHVwXzcxNTQ1ZjgyNTdiOTQxYjRiYTBhYjVlYTIxNDcxNjQwLnNldENvbnRlbnQoaHRtbF8wZDhjZmIyYjEzMDc0NDRiYTRiZWRjNGNmMWIxMjFjZSk7CiAgICAgICAgICAgIAoKICAgICAgICAgICAgY2lyY2xlX21hcmtlcl8wNWQ1OGNiYjYxMDg0YWIwOTdlZmEyOGI0ZjUwMTZmMy5iaW5kUG9wdXAocG9wdXBfNzE1NDVmODI1N2I5NDFiNGJhMGFiNWVhMjE0NzE2NDApOwoKICAgICAgICAgICAgCiAgICAgICAgCiAgICAKICAgICAgICAgICAgdmFyIGNpcmNsZV9tYXJrZXJfMmFjNzU1YTc5MTY1NGJhM2IxMGU5ZTc2YzgxODRkMGEgPSBMLmNpcmNsZU1hcmtlcigKICAgICAgICAgICAgICAgIFs0MC42MzYzMjU4OTAyNjY3NywtNzMuOTU4NDAxMDY1MzM5MDNdLAogICAgICAgICAgICAgICAgewogICJidWJibGluZ01vdXNlRXZlbnRzIjogdHJ1ZSwKICAiY29sb3IiOiAiYmx1ZSIsCiAgImRhc2hBcnJheSI6IG51bGwsCiAgImRhc2hPZmZzZXQiOiBudWxsLAogICJmaWxsIjogdHJ1ZSwKICAiZmlsbENvbG9yIjogIiMzMTg2Y2MiLAogICJmaWxsT3BhY2l0eSI6IDAuNywKICAiZmlsbFJ1bGUiOiAiZXZlbm9kZCIsCiAgImxpbmVDYXAiOiAicm91bmQiLAogICJsaW5lSm9pbiI6ICJyb3VuZCIsCiAgIm9wYWNpdHkiOiAxLjAsCiAgInJhZGl1cyI6IDUsCiAgInN0cm9rZSI6IHRydWUsCiAgIndlaWdodCI6IDMKfQogICAgICAgICAgICAgICAgKS5hZGRUbyhtYXBfMmJmZDM2NTVjYjRjNDYxNGJiM2NlYzhkZjQ3YTZjMjkpOwogICAgICAgICAgICAKICAgIAogICAgICAgICAgICB2YXIgcG9wdXBfYjI3ZGQ3MTVkYjAxNDMwMWFlNTRiZTlhZmYxMTgwMjEgPSBMLnBvcHVwKHttYXhXaWR0aDogJzMwMCd9KTsKCiAgICAgICAgICAgIAogICAgICAgICAgICAgICAgdmFyIGh0bWxfMmM5YzU4ZTQ0MGYyNGM5ZDg3YjdhOGJkYTExZmE2OTUgPSAkKCc8ZGl2IGlkPSJodG1sXzJjOWM1OGU0NDBmMjRjOWQ4N2I3YThiZGExMWZhNjk1IiBzdHlsZT0id2lkdGg6IDEwMC4wJTsgaGVpZ2h0OiAxMDAuMCU7Ij5GbGF0YnVzaDwvZGl2PicpWzBdOwogICAgICAgICAgICAgICAgcG9wdXBfYjI3ZGQ3MTVkYjAxNDMwMWFlNTRiZTlhZmYxMTgwMjEuc2V0Q29udGVudChodG1sXzJjOWM1OGU0NDBmMjRjOWQ4N2I3YThiZGExMWZhNjk1KTsKICAgICAgICAgICAgCgogICAgICAgICAgICBjaXJjbGVfbWFya2VyXzJhYzc1NWE3OTE2NTRiYTNiMTBlOWU3NmM4MTg0ZDBhLmJpbmRQb3B1cChwb3B1cF9iMjdkZDcxNWRiMDE0MzAxYWU1NGJlOWFmZjExODAyMSk7CgogICAgICAgICAgICAKICAgICAgICAKICAgIAogICAgICAgICAgICB2YXIgY2lyY2xlX21hcmtlcl84OThkOGNkMmYzM2Q0MTgxYmNlNGQ4M2M3YTdjMzkyYyA9IEwuY2lyY2xlTWFya2VyKAogICAgICAgICAgICAgICAgWzQwLjY3MDgyOTE3Njk1Mjk0LC03My45NDMyOTExOTA3MzU4Ml0sCiAgICAgICAgICAgICAgICB7CiAgImJ1YmJsaW5nTW91c2VFdmVudHMiOiB0cnVlLAogICJjb2xvciI6ICJibHVlIiwKICAiZGFzaEFycmF5IjogbnVsbCwKICAiZGFzaE9mZnNldCI6IG51bGwsCiAgImZpbGwiOiB0cnVlLAogICJmaWxsQ29sb3IiOiAiIzMxODZjYyIsCiAgImZpbGxPcGFjaXR5IjogMC43LAogICJmaWxsUnVsZSI6ICJldmVub2RkIiwKICAibGluZUNhcCI6ICJyb3VuZCIsCiAgImxpbmVKb2luIjogInJvdW5kIiwKICAib3BhY2l0eSI6IDEuMCwKICAicmFkaXVzIjogNSwKICAic3Ryb2tlIjogdHJ1ZSwKICAid2VpZ2h0IjogMwp9CiAgICAgICAgICAgICAgICApLmFkZFRvKG1hcF8yYmZkMzY1NWNiNGM0NjE0YmIzY2VjOGRmNDdhNmMyOSk7CiAgICAgICAgICAgIAogICAgCiAgICAgICAgICAgIHZhciBwb3B1cF84ZDE4NWMzMmQyOTY0ZjY5Yjk4NzI1N2RmNjJiZDdmNiA9IEwucG9wdXAoe21heFdpZHRoOiAnMzAwJ30pOwoKICAgICAgICAgICAgCiAgICAgICAgICAgICAgICB2YXIgaHRtbF9kMTk4YTI3ZDI2NTE0OWFiOTYwNGZjNmQyOWIzNmQ3OSA9ICQoJzxkaXYgaWQ9Imh0bWxfZDE5OGEyN2QyNjUxNDlhYjk2MDRmYzZkMjliMzZkNzkiIHN0eWxlPSJ3aWR0aDogMTAwLjAlOyBoZWlnaHQ6IDEwMC4wJTsiPkNyb3duIEhlaWdodHM8L2Rpdj4nKVswXTsKICAgICAgICAgICAgICAgIHBvcHVwXzhkMTg1YzMyZDI5NjRmNjliOTg3MjU3ZGY2MmJkN2Y2LnNldENvbnRlbnQoaHRtbF9kMTk4YTI3ZDI2NTE0OWFiOTYwNGZjNmQyOWIzNmQ3OSk7CiAgICAgICAgICAgIAoKICAgICAgICAgICAgY2lyY2xlX21hcmtlcl84OThkOGNkMmYzM2Q0MTgxYmNlNGQ4M2M3YTdjMzkyYy5iaW5kUG9wdXAocG9wdXBfOGQxODVjMzJkMjk2NGY2OWI5ODcyNTdkZjYyYmQ3ZjYpOwoKICAgICAgICAgICAgCiAgICAgICAgCiAgICAKICAgICAgICAgICAgdmFyIGNpcmNsZV9tYXJrZXJfOTkzZTAyZTRjYjNlNDk0ZDlkZDAzNjZmODZhNTk0NGUgPSBMLmNpcmNsZU1hcmtlcigKICAgICAgICAgICAgICAgIFs0MC42NDE3MTc3NjY2ODk2MSwtNzMuOTM2MTAyNTYxODU4MzZdLAogICAgICAgICAgICAgICAgewogICJidWJibGluZ01vdXNlRXZlbnRzIjogdHJ1ZSwKICAiY29sb3IiOiAiYmx1ZSIsCiAgImRhc2hBcnJheSI6IG51bGwsCiAgImRhc2hPZmZzZXQiOiBudWxsLAogICJmaWxsIjogdHJ1ZSwKICAiZmlsbENvbG9yIjogIiMzMTg2Y2MiLAogICJmaWxsT3BhY2l0eSI6IDAuNywKICAiZmlsbFJ1bGUiOiAiZXZlbm9kZCIsCiAgImxpbmVDYXAiOiAicm91bmQiLAogICJsaW5lSm9pbiI6ICJyb3VuZCIsCiAgIm9wYWNpdHkiOiAxLjAsCiAgInJhZGl1cyI6IDUsCiAgInN0cm9rZSI6IHRydWUsCiAgIndlaWdodCI6IDMKfQogICAgICAgICAgICAgICAgKS5hZGRUbyhtYXBfMmJmZDM2NTVjYjRjNDYxNGJiM2NlYzhkZjQ3YTZjMjkpOwogICAgICAgICAgICAKICAgIAogICAgICAgICAgICB2YXIgcG9wdXBfODI2MmIwYTg3NGNlNDk5ODlkNjdiNDQwMjRjYmI3NTEgPSBMLnBvcHVwKHttYXhXaWR0aDogJzMwMCd9KTsKCiAgICAgICAgICAgIAogICAgICAgICAgICAgICAgdmFyIGh0bWxfYThkZDA1ODA0NzcwNGZlOWIxMmViYWJlMjI4MWJkZjMgPSAkKCc8ZGl2IGlkPSJodG1sX2E4ZGQwNTgwNDc3MDRmZTliMTJlYmFiZTIyODFiZGYzIiBzdHlsZT0id2lkdGg6IDEwMC4wJTsgaGVpZ2h0OiAxMDAuMCU7Ij5FYXN0IEZsYXRidXNoPC9kaXY+JylbMF07CiAgICAgICAgICAgICAgICBwb3B1cF84MjYyYjBhODc0Y2U0OTk4OWQ2N2I0NDAyNGNiYjc1MS5zZXRDb250ZW50KGh0bWxfYThkZDA1ODA0NzcwNGZlOWIxMmViYWJlMjI4MWJkZjMpOwogICAgICAgICAgICAKCiAgICAgICAgICAgIGNpcmNsZV9tYXJrZXJfOTkzZTAyZTRjYjNlNDk0ZDlkZDAzNjZmODZhNTk0NGUuYmluZFBvcHVwKHBvcHVwXzgyNjJiMGE4NzRjZTQ5OTg5ZDY3YjQ0MDI0Y2JiNzUxKTsKCiAgICAgICAgICAgIAogICAgICAgIAogICAgCiAgICAgICAgICAgIHZhciBjaXJjbGVfbWFya2VyX2YzNTE0NmI0YTk3MTRiOTg4ZDYwYzE1ZDE4OTkxYWM0ID0gTC5jaXJjbGVNYXJrZXIoCiAgICAgICAgICAgICAgICBbNDAuNjQyMzgxOTU4MDAzNTI2LC03My45ODA0MjExMDU1OTQ3NF0sCiAgICAgICAgICAgICAgICB7CiAgImJ1YmJsaW5nTW91c2VFdmVudHMiOiB0cnVlLAogICJjb2xvciI6ICJibHVlIiwKICAiZGFzaEFycmF5IjogbnVsbCwKICAiZGFzaE9mZnNldCI6IG51bGwsCiAgImZpbGwiOiB0cnVlLAogICJmaWxsQ29sb3IiOiAiIzMxODZjYyIsCiAgImZpbGxPcGFjaXR5IjogMC43LAogICJmaWxsUnVsZSI6ICJldmVub2RkIiwKICAibGluZUNhcCI6ICJyb3VuZCIsCiAgImxpbmVKb2luIjogInJvdW5kIiwKICAib3BhY2l0eSI6IDEuMCwKICAicmFkaXVzIjogNSwKICAic3Ryb2tlIjogdHJ1ZSwKICAid2VpZ2h0IjogMwp9CiAgICAgICAgICAgICAgICApLmFkZFRvKG1hcF8yYmZkMzY1NWNiNGM0NjE0YmIzY2VjOGRmNDdhNmMyOSk7CiAgICAgICAgICAgIAogICAgCiAgICAgICAgICAgIHZhciBwb3B1cF9kMjc0MDM3NGYxNjE0NTZlYjllMmFmYTE2Nzc1Mzk4ZSA9IEwucG9wdXAoe21heFdpZHRoOiAnMzAwJ30pOwoKICAgICAgICAgICAgCiAgICAgICAgICAgICAgICB2YXIgaHRtbF85NzIyZTdjYmQxN2I0Y2E1OGFiMGYzZTkwZjI0NmRkNSA9ICQoJzxkaXYgaWQ9Imh0bWxfOTcyMmU3Y2JkMTdiNGNhNThhYjBmM2U5MGYyNDZkZDUiIHN0eWxlPSJ3aWR0aDogMTAwLjAlOyBoZWlnaHQ6IDEwMC4wJTsiPktlbnNpbmd0b248L2Rpdj4nKVswXTsKICAgICAgICAgICAgICAgIHBvcHVwX2QyNzQwMzc0ZjE2MTQ1NmViOWUyYWZhMTY3NzUzOThlLnNldENvbnRlbnQoaHRtbF85NzIyZTdjYmQxN2I0Y2E1OGFiMGYzZTkwZjI0NmRkNSk7CiAgICAgICAgICAgIAoKICAgICAgICAgICAgY2lyY2xlX21hcmtlcl9mMzUxNDZiNGE5NzE0Yjk4OGQ2MGMxNWQxODk5MWFjNC5iaW5kUG9wdXAocG9wdXBfZDI3NDAzNzRmMTYxNDU2ZWI5ZTJhZmExNjc3NTM5OGUpOwoKICAgICAgICAgICAgCiAgICAgICAgCiAgICAKICAgICAgICAgICAgdmFyIGNpcmNsZV9tYXJrZXJfNDcwYjQ2N2I5ODgxNGRmOWE3NzQ0YWE1Njg4YjIxZGMgPSBMLmNpcmNsZU1hcmtlcigKICAgICAgICAgICAgICAgIFs0MC42NTY5NDU4MzU3NTEwNCwtNzMuOTgwMDczNDA0MzAxNzJdLAogICAgICAgICAgICAgICAgewogICJidWJibGluZ01vdXNlRXZlbnRzIjogdHJ1ZSwKICAiY29sb3IiOiAiYmx1ZSIsCiAgImRhc2hBcnJheSI6IG51bGwsCiAgImRhc2hPZmZzZXQiOiBudWxsLAogICJmaWxsIjogdHJ1ZSwKICAiZmlsbENvbG9yIjogIiMzMTg2Y2MiLAogICJmaWxsT3BhY2l0eSI6IDAuNywKICAiZmlsbFJ1bGUiOiAiZXZlbm9kZCIsCiAgImxpbmVDYXAiOiAicm91bmQiLAogICJsaW5lSm9pbiI6ICJyb3VuZCIsCiAgIm9wYWNpdHkiOiAxLjAsCiAgInJhZGl1cyI6IDUsCiAgInN0cm9rZSI6IHRydWUsCiAgIndlaWdodCI6IDMKfQogICAgICAgICAgICAgICAgKS5hZGRUbyhtYXBfMmJmZDM2NTVjYjRjNDYxNGJiM2NlYzhkZjQ3YTZjMjkpOwogICAgICAgICAgICAKICAgIAogICAgICAgICAgICB2YXIgcG9wdXBfODNjYjQ4YWUxYWJhNGRjZjgxZmE3YmVmNzI1YzM0M2UgPSBMLnBvcHVwKHttYXhXaWR0aDogJzMwMCd9KTsKCiAgICAgICAgICAgIAogICAgICAgICAgICAgICAgdmFyIGh0bWxfZTdhMDJhZjkwNTFjNDgwYmE2NzNmOTg5YjBjYWE1Y2QgPSAkKCc8ZGl2IGlkPSJodG1sX2U3YTAyYWY5MDUxYzQ4MGJhNjczZjk4OWIwY2FhNWNkIiBzdHlsZT0id2lkdGg6IDEwMC4wJTsgaGVpZ2h0OiAxMDAuMCU7Ij5XaW5kc29yIFRlcnJhY2U8L2Rpdj4nKVswXTsKICAgICAgICAgICAgICAgIHBvcHVwXzgzY2I0OGFlMWFiYTRkY2Y4MWZhN2JlZjcyNWMzNDNlLnNldENvbnRlbnQoaHRtbF9lN2EwMmFmOTA1MWM0ODBiYTY3M2Y5ODliMGNhYTVjZCk7CiAgICAgICAgICAgIAoKICAgICAgICAgICAgY2lyY2xlX21hcmtlcl80NzBiNDY3Yjk4ODE0ZGY5YTc3NDRhYTU2ODhiMjFkYy5iaW5kUG9wdXAocG9wdXBfODNjYjQ4YWUxYWJhNGRjZjgxZmE3YmVmNzI1YzM0M2UpOwoKICAgICAgICAgICAgCiAgICAgICAgCiAgICAKICAgICAgICAgICAgdmFyIGNpcmNsZV9tYXJrZXJfZmU1ZjExYjhmMTVmNGYyMjk0YTgzODk3MGU3Y2M0NTcgPSBMLmNpcmNsZU1hcmtlcigKICAgICAgICAgICAgICAgIFs0MC42NzY4MjIyNjIyNTQ3MjQsLTczLjk2NDg1OTI0MjYyNjldLAogICAgICAgICAgICAgICAgewogICJidWJibGluZ01vdXNlRXZlbnRzIjogdHJ1ZSwKICAiY29sb3IiOiAiYmx1ZSIsCiAgImRhc2hBcnJheSI6IG51bGwsCiAgImRhc2hPZmZzZXQiOiBudWxsLAogICJmaWxsIjogdHJ1ZSwKICAiZmlsbENvbG9yIjogIiMzMTg2Y2MiLAogICJmaWxsT3BhY2l0eSI6IDAuNywKICAiZmlsbFJ1bGUiOiAiZXZlbm9kZCIsCiAgImxpbmVDYXAiOiAicm91bmQiLAogICJsaW5lSm9pbiI6ICJyb3VuZCIsCiAgIm9wYWNpdHkiOiAxLjAsCiAgInJhZGl1cyI6IDUsCiAgInN0cm9rZSI6IHRydWUsCiAgIndlaWdodCI6IDMKfQogICAgICAgICAgICAgICAgKS5hZGRUbyhtYXBfMmJmZDM2NTVjYjRjNDYxNGJiM2NlYzhkZjQ3YTZjMjkpOwogICAgICAgICAgICAKICAgIAogICAgICAgICAgICB2YXIgcG9wdXBfZDBjMWE0NmE5YThmNDY4OGJkNGU4ZmQxZDk5YmE1NTggPSBMLnBvcHVwKHttYXhXaWR0aDogJzMwMCd9KTsKCiAgICAgICAgICAgIAogICAgICAgICAgICAgICAgdmFyIGh0bWxfYzg2YmQ5ZmY1OTVmNDc3OGFjODA0YzZmZGM1NDc2ZWMgPSAkKCc8ZGl2IGlkPSJodG1sX2M4NmJkOWZmNTk1ZjQ3NzhhYzgwNGM2ZmRjNTQ3NmVjIiBzdHlsZT0id2lkdGg6IDEwMC4wJTsgaGVpZ2h0OiAxMDAuMCU7Ij5Qcm9zcGVjdCBIZWlnaHRzPC9kaXY+JylbMF07CiAgICAgICAgICAgICAgICBwb3B1cF9kMGMxYTQ2YTlhOGY0Njg4YmQ0ZThmZDFkOTliYTU1OC5zZXRDb250ZW50KGh0bWxfYzg2YmQ5ZmY1OTVmNDc3OGFjODA0YzZmZGM1NDc2ZWMpOwogICAgICAgICAgICAKCiAgICAgICAgICAgIGNpcmNsZV9tYXJrZXJfZmU1ZjExYjhmMTVmNGYyMjk0YTgzODk3MGU3Y2M0NTcuYmluZFBvcHVwKHBvcHVwX2QwYzFhNDZhOWE4ZjQ2ODhiZDRlOGZkMWQ5OWJhNTU4KTsKCiAgICAgICAgICAgIAogICAgICAgIAogICAgCiAgICAgICAgICAgIHZhciBjaXJjbGVfbWFya2VyXzgzNTFmOWUyNzgwMzQzY2Q5N2NhZDBhZjFiNjk2MWM2ID0gTC5jaXJjbGVNYXJrZXIoCiAgICAgICAgICAgICAgICBbNDAuNjYzOTQ5OTQzMzk3NTUsLTczLjkxMDIzNTM2MTc2NjA3XSwKICAgICAgICAgICAgICAgIHsKICAiYnViYmxpbmdNb3VzZUV2ZW50cyI6IHRydWUsCiAgImNvbG9yIjogImJsdWUiLAogICJkYXNoQXJyYXkiOiBudWxsLAogICJkYXNoT2Zmc2V0IjogbnVsbCwKICAiZmlsbCI6IHRydWUsCiAgImZpbGxDb2xvciI6ICIjMzE4NmNjIiwKICAiZmlsbE9wYWNpdHkiOiAwLjcsCiAgImZpbGxSdWxlIjogImV2ZW5vZGQiLAogICJsaW5lQ2FwIjogInJvdW5kIiwKICAibGluZUpvaW4iOiAicm91bmQiLAogICJvcGFjaXR5IjogMS4wLAogICJyYWRpdXMiOiA1LAogICJzdHJva2UiOiB0cnVlLAogICJ3ZWlnaHQiOiAzCn0KICAgICAgICAgICAgICAgICkuYWRkVG8obWFwXzJiZmQzNjU1Y2I0YzQ2MTRiYjNjZWM4ZGY0N2E2YzI5KTsKICAgICAgICAgICAgCiAgICAKICAgICAgICAgICAgdmFyIHBvcHVwX2NkZTA1MmQ4ZGRlMTRhOGFiOWY3NjIwYzc4YTk1YzQ1ID0gTC5wb3B1cCh7bWF4V2lkdGg6ICczMDAnfSk7CgogICAgICAgICAgICAKICAgICAgICAgICAgICAgIHZhciBodG1sX2NlMzc5YjY5MTllYTQ2OTI4ZDlmYzkyMDRkMTdhY2Y3ID0gJCgnPGRpdiBpZD0iaHRtbF9jZTM3OWI2OTE5ZWE0NjkyOGQ5ZmM5MjA0ZDE3YWNmNyIgc3R5bGU9IndpZHRoOiAxMDAuMCU7IGhlaWdodDogMTAwLjAlOyI+QnJvd25zdmlsbGU8L2Rpdj4nKVswXTsKICAgICAgICAgICAgICAgIHBvcHVwX2NkZTA1MmQ4ZGRlMTRhOGFiOWY3NjIwYzc4YTk1YzQ1LnNldENvbnRlbnQoaHRtbF9jZTM3OWI2OTE5ZWE0NjkyOGQ5ZmM5MjA0ZDE3YWNmNyk7CiAgICAgICAgICAgIAoKICAgICAgICAgICAgY2lyY2xlX21hcmtlcl84MzUxZjllMjc4MDM0M2NkOTdjYWQwYWYxYjY5NjFjNi5iaW5kUG9wdXAocG9wdXBfY2RlMDUyZDhkZGUxNGE4YWI5Zjc2MjBjNzhhOTVjNDUpOwoKICAgICAgICAgICAgCiAgICAgICAgCiAgICAKICAgICAgICAgICAgdmFyIGNpcmNsZV9tYXJrZXJfYWU3YTc2Y2ExYTdjNGMxYmEyNTU4OTBhMjk0MzkwZjYgPSBMLmNpcmNsZU1hcmtlcigKICAgICAgICAgICAgICAgIFs0MC43MDcxNDQzOTM0NDI1MSwtNzMuOTU4MTE1MjkyMjA5MjddLAogICAgICAgICAgICAgICAgewogICJidWJibGluZ01vdXNlRXZlbnRzIjogdHJ1ZSwKICAiY29sb3IiOiAiYmx1ZSIsCiAgImRhc2hBcnJheSI6IG51bGwsCiAgImRhc2hPZmZzZXQiOiBudWxsLAogICJmaWxsIjogdHJ1ZSwKICAiZmlsbENvbG9yIjogIiMzMTg2Y2MiLAogICJmaWxsT3BhY2l0eSI6IDAuNywKICAiZmlsbFJ1bGUiOiAiZXZlbm9kZCIsCiAgImxpbmVDYXAiOiAicm91bmQiLAogICJsaW5lSm9pbiI6ICJyb3VuZCIsCiAgIm9wYWNpdHkiOiAxLjAsCiAgInJhZGl1cyI6IDUsCiAgInN0cm9rZSI6IHRydWUsCiAgIndlaWdodCI6IDMKfQogICAgICAgICAgICAgICAgKS5hZGRUbyhtYXBfMmJmZDM2NTVjYjRjNDYxNGJiM2NlYzhkZjQ3YTZjMjkpOwogICAgICAgICAgICAKICAgIAogICAgICAgICAgICB2YXIgcG9wdXBfNDZkMDE1NThiMDg2NGViOWJjYTBlYjRlNTM5YTNmOTggPSBMLnBvcHVwKHttYXhXaWR0aDogJzMwMCd9KTsKCiAgICAgICAgICAgIAogICAgICAgICAgICAgICAgdmFyIGh0bWxfYzg2MzRkNTUxNTUzNDQ5NTkwYjQzYmJkODdjNTY5ZWEgPSAkKCc8ZGl2IGlkPSJodG1sX2M4NjM0ZDU1MTU1MzQ0OTU5MGI0M2JiZDg3YzU2OWVhIiBzdHlsZT0id2lkdGg6IDEwMC4wJTsgaGVpZ2h0OiAxMDAuMCU7Ij5XaWxsaWFtc2J1cmc8L2Rpdj4nKVswXTsKICAgICAgICAgICAgICAgIHBvcHVwXzQ2ZDAxNTU4YjA4NjRlYjliY2EwZWI0ZTUzOWEzZjk4LnNldENvbnRlbnQoaHRtbF9jODYzNGQ1NTE1NTM0NDk1OTBiNDNiYmQ4N2M1NjllYSk7CiAgICAgICAgICAgIAoKICAgICAgICAgICAgY2lyY2xlX21hcmtlcl9hZTdhNzZjYTFhN2M0YzFiYTI1NTg5MGEyOTQzOTBmNi5iaW5kUG9wdXAocG9wdXBfNDZkMDE1NThiMDg2NGViOWJjYTBlYjRlNTM5YTNmOTgpOwoKICAgICAgICAgICAgCiAgICAgICAgCiAgICAKICAgICAgICAgICAgdmFyIGNpcmNsZV9tYXJrZXJfODRkZjhjOTljOWU3NDViMTlkYTJkMDg1NzdlZTAxZjcgPSBMLmNpcmNsZU1hcmtlcigKICAgICAgICAgICAgICAgIFs0MC42OTgxMTYxMTAxNzkwMSwtNzMuOTI1MjU3OTc0ODcwNDVdLAogICAgICAgICAgICAgICAgewogICJidWJibGluZ01vdXNlRXZlbnRzIjogdHJ1ZSwKICAiY29sb3IiOiAiYmx1ZSIsCiAgImRhc2hBcnJheSI6IG51bGwsCiAgImRhc2hPZmZzZXQiOiBudWxsLAogICJmaWxsIjogdHJ1ZSwKICAiZmlsbENvbG9yIjogIiMzMTg2Y2MiLAogICJmaWxsT3BhY2l0eSI6IDAuNywKICAiZmlsbFJ1bGUiOiAiZXZlbm9kZCIsCiAgImxpbmVDYXAiOiAicm91bmQiLAogICJsaW5lSm9pbiI6ICJyb3VuZCIsCiAgIm9wYWNpdHkiOiAxLjAsCiAgInJhZGl1cyI6IDUsCiAgInN0cm9rZSI6IHRydWUsCiAgIndlaWdodCI6IDMKfQogICAgICAgICAgICAgICAgKS5hZGRUbyhtYXBfMmJmZDM2NTVjYjRjNDYxNGJiM2NlYzhkZjQ3YTZjMjkpOwogICAgICAgICAgICAKICAgIAogICAgICAgICAgICB2YXIgcG9wdXBfMzI5NmQ0NTU2NjAwNDRhMjgwOGUyODEwYzI3M2IwYmYgPSBMLnBvcHVwKHttYXhXaWR0aDogJzMwMCd9KTsKCiAgICAgICAgICAgIAogICAgICAgICAgICAgICAgdmFyIGh0bWxfNTRkZDFiNDUzYThmNGY3ODhkMDVkMDA2MWNlYjQ2YWUgPSAkKCc8ZGl2IGlkPSJodG1sXzU0ZGQxYjQ1M2E4ZjRmNzg4ZDA1ZDAwNjFjZWI0NmFlIiBzdHlsZT0id2lkdGg6IDEwMC4wJTsgaGVpZ2h0OiAxMDAuMCU7Ij5CdXNod2ljazwvZGl2PicpWzBdOwogICAgICAgICAgICAgICAgcG9wdXBfMzI5NmQ0NTU2NjAwNDRhMjgwOGUyODEwYzI3M2IwYmYuc2V0Q29udGVudChodG1sXzU0ZGQxYjQ1M2E4ZjRmNzg4ZDA1ZDAwNjFjZWI0NmFlKTsKICAgICAgICAgICAgCgogICAgICAgICAgICBjaXJjbGVfbWFya2VyXzg0ZGY4Yzk5YzllNzQ1YjE5ZGEyZDA4NTc3ZWUwMWY3LmJpbmRQb3B1cChwb3B1cF8zMjk2ZDQ1NTY2MDA0NGEyODA4ZTI4MTBjMjczYjBiZik7CgogICAgICAgICAgICAKICAgICAgICAKICAgIAogICAgICAgICAgICB2YXIgY2lyY2xlX21hcmtlcl8wZDY1YzE2MTYzYTM0NTEwYWYzMGZjM2FkZWYxY2U2MSA9IEwuY2lyY2xlTWFya2VyKAogICAgICAgICAgICAgICAgWzQwLjY4NzIzMTYwNzcyMDQ1NiwtNzMuOTQxNzg0ODg2OTAyOTddLAogICAgICAgICAgICAgICAgewogICJidWJibGluZ01vdXNlRXZlbnRzIjogdHJ1ZSwKICAiY29sb3IiOiAiYmx1ZSIsCiAgImRhc2hBcnJheSI6IG51bGwsCiAgImRhc2hPZmZzZXQiOiBudWxsLAogICJmaWxsIjogdHJ1ZSwKICAiZmlsbENvbG9yIjogIiMzMTg2Y2MiLAogICJmaWxsT3BhY2l0eSI6IDAuNywKICAiZmlsbFJ1bGUiOiAiZXZlbm9kZCIsCiAgImxpbmVDYXAiOiAicm91bmQiLAogICJsaW5lSm9pbiI6ICJyb3VuZCIsCiAgIm9wYWNpdHkiOiAxLjAsCiAgInJhZGl1cyI6IDUsCiAgInN0cm9rZSI6IHRydWUsCiAgIndlaWdodCI6IDMKfQogICAgICAgICAgICAgICAgKS5hZGRUbyhtYXBfMmJmZDM2NTVjYjRjNDYxNGJiM2NlYzhkZjQ3YTZjMjkpOwogICAgICAgICAgICAKICAgIAogICAgICAgICAgICB2YXIgcG9wdXBfMWY1Y2Y3NzU4NjhhNGUyNjhiMTJjNDY3Y2YyNGMzOGEgPSBMLnBvcHVwKHttYXhXaWR0aDogJzMwMCd9KTsKCiAgICAgICAgICAgIAogICAgICAgICAgICAgICAgdmFyIGh0bWxfY2UxOTczZGQwZmQzNDNjYTlkYzMxNjY4YzFmZGU1YWQgPSAkKCc8ZGl2IGlkPSJodG1sX2NlMTk3M2RkMGZkMzQzY2E5ZGMzMTY2OGMxZmRlNWFkIiBzdHlsZT0id2lkdGg6IDEwMC4wJTsgaGVpZ2h0OiAxMDAuMCU7Ij5CZWRmb3JkIFN0dXl2ZXNhbnQ8L2Rpdj4nKVswXTsKICAgICAgICAgICAgICAgIHBvcHVwXzFmNWNmNzc1ODY4YTRlMjY4YjEyYzQ2N2NmMjRjMzhhLnNldENvbnRlbnQoaHRtbF9jZTE5NzNkZDBmZDM0M2NhOWRjMzE2NjhjMWZkZTVhZCk7CiAgICAgICAgICAgIAoKICAgICAgICAgICAgY2lyY2xlX21hcmtlcl8wZDY1YzE2MTYzYTM0NTEwYWYzMGZjM2FkZWYxY2U2MS5iaW5kUG9wdXAocG9wdXBfMWY1Y2Y3NzU4NjhhNGUyNjhiMTJjNDY3Y2YyNGMzOGEpOwoKICAgICAgICAgICAgCiAgICAgICAgCiAgICAKICAgICAgICAgICAgdmFyIGNpcmNsZV9tYXJrZXJfZTJiNmJiYjBmNzdlNDg2ZjlkZjFmZmZiNDc3ZWNhOGEgPSBMLmNpcmNsZU1hcmtlcigKICAgICAgICAgICAgICAgIFs0MC42OTU4NjM3MjI3MjQwODQsLTczLjk5Mzc4MjI1NDk2NDI0XSwKICAgICAgICAgICAgICAgIHsKICAiYnViYmxpbmdNb3VzZUV2ZW50cyI6IHRydWUsCiAgImNvbG9yIjogImJsdWUiLAogICJkYXNoQXJyYXkiOiBudWxsLAogICJkYXNoT2Zmc2V0IjogbnVsbCwKICAiZmlsbCI6IHRydWUsCiAgImZpbGxDb2xvciI6ICIjMzE4NmNjIiwKICAiZmlsbE9wYWNpdHkiOiAwLjcsCiAgImZpbGxSdWxlIjogImV2ZW5vZGQiLAogICJsaW5lQ2FwIjogInJvdW5kIiwKICAibGluZUpvaW4iOiAicm91bmQiLAogICJvcGFjaXR5IjogMS4wLAogICJyYWRpdXMiOiA1LAogICJzdHJva2UiOiB0cnVlLAogICJ3ZWlnaHQiOiAzCn0KICAgICAgICAgICAgICAgICkuYWRkVG8obWFwXzJiZmQzNjU1Y2I0YzQ2MTRiYjNjZWM4ZGY0N2E2YzI5KTsKICAgICAgICAgICAgCiAgICAKICAgICAgICAgICAgdmFyIHBvcHVwXzA2MDQ2ZGVmZTUzNzRiZDNhYmQ4ZDI3MmFmZTlmZjRmID0gTC5wb3B1cCh7bWF4V2lkdGg6ICczMDAnfSk7CgogICAgICAgICAgICAKICAgICAgICAgICAgICAgIHZhciBodG1sXzI0NThmZTkwYWIzODRmYTE5YWJkNjgwYzA0MmY5ZjM1ID0gJCgnPGRpdiBpZD0iaHRtbF8yNDU4ZmU5MGFiMzg0ZmExOWFiZDY4MGMwNDJmOWYzNSIgc3R5bGU9IndpZHRoOiAxMDAuMCU7IGhlaWdodDogMTAwLjAlOyI+QnJvb2tseW4gSGVpZ2h0czwvZGl2PicpWzBdOwogICAgICAgICAgICAgICAgcG9wdXBfMDYwNDZkZWZlNTM3NGJkM2FiZDhkMjcyYWZlOWZmNGYuc2V0Q29udGVudChodG1sXzI0NThmZTkwYWIzODRmYTE5YWJkNjgwYzA0MmY5ZjM1KTsKICAgICAgICAgICAgCgogICAgICAgICAgICBjaXJjbGVfbWFya2VyX2UyYjZiYmIwZjc3ZTQ4NmY5ZGYxZmZmYjQ3N2VjYThhLmJpbmRQb3B1cChwb3B1cF8wNjA0NmRlZmU1Mzc0YmQzYWJkOGQyNzJhZmU5ZmY0Zik7CgogICAgICAgICAgICAKICAgICAgICAKICAgIAogICAgICAgICAgICB2YXIgY2lyY2xlX21hcmtlcl9jZTc3NDNjZmE0MWU0NTgzODI2NWM5NjlmNjU2NzI0MyA9IEwuY2lyY2xlTWFya2VyKAogICAgICAgICAgICAgICAgWzQwLjY4NzkxOTcyMjQ4NTU3NCwtNzMuOTk4NTYxMzkyMTg0NjNdLAogICAgICAgICAgICAgICAgewogICJidWJibGluZ01vdXNlRXZlbnRzIjogdHJ1ZSwKICAiY29sb3IiOiAiYmx1ZSIsCiAgImRhc2hBcnJheSI6IG51bGwsCiAgImRhc2hPZmZzZXQiOiBudWxsLAogICJmaWxsIjogdHJ1ZSwKICAiZmlsbENvbG9yIjogIiMzMTg2Y2MiLAogICJmaWxsT3BhY2l0eSI6IDAuNywKICAiZmlsbFJ1bGUiOiAiZXZlbm9kZCIsCiAgImxpbmVDYXAiOiAicm91bmQiLAogICJsaW5lSm9pbiI6ICJyb3VuZCIsCiAgIm9wYWNpdHkiOiAxLjAsCiAgInJhZGl1cyI6IDUsCiAgInN0cm9rZSI6IHRydWUsCiAgIndlaWdodCI6IDMKfQogICAgICAgICAgICAgICAgKS5hZGRUbyhtYXBfMmJmZDM2NTVjYjRjNDYxNGJiM2NlYzhkZjQ3YTZjMjkpOwogICAgICAgICAgICAKICAgIAogICAgICAgICAgICB2YXIgcG9wdXBfNzhiMjdjYTU1MTFhNDhiYWIwMDU4ZGFjYThhYTU1YzEgPSBMLnBvcHVwKHttYXhXaWR0aDogJzMwMCd9KTsKCiAgICAgICAgICAgIAogICAgICAgICAgICAgICAgdmFyIGh0bWxfNjk0MjZhMDQxZTVkNDIzZjkwNzFlYzE0MTJmODdiMGMgPSAkKCc8ZGl2IGlkPSJodG1sXzY5NDI2YTA0MWU1ZDQyM2Y5MDcxZWMxNDEyZjg3YjBjIiBzdHlsZT0id2lkdGg6IDEwMC4wJTsgaGVpZ2h0OiAxMDAuMCU7Ij5Db2JibGUgSGlsbDwvZGl2PicpWzBdOwogICAgICAgICAgICAgICAgcG9wdXBfNzhiMjdjYTU1MTFhNDhiYWIwMDU4ZGFjYThhYTU1YzEuc2V0Q29udGVudChodG1sXzY5NDI2YTA0MWU1ZDQyM2Y5MDcxZWMxNDEyZjg3YjBjKTsKICAgICAgICAgICAgCgogICAgICAgICAgICBjaXJjbGVfbWFya2VyX2NlNzc0M2NmYTQxZTQ1ODM4MjY1Yzk2OWY2NTY3MjQzLmJpbmRQb3B1cChwb3B1cF83OGIyN2NhNTUxMWE0OGJhYjAwNThkYWNhOGFhNTVjMSk7CgogICAgICAgICAgICAKICAgICAgICAKICAgIAogICAgICAgICAgICB2YXIgY2lyY2xlX21hcmtlcl82MjI0OWM3NThlM2I0NzliYWI4OGQ1ZjBiOWY5NjhhNSA9IEwuY2lyY2xlTWFya2VyKAogICAgICAgICAgICAgICAgWzQwLjY4MDU0MDIzMTA3NjQ4NSwtNzMuOTk0NjUzNzI4MjgwMDZdLAogICAgICAgICAgICAgICAgewogICJidWJibGluZ01vdXNlRXZlbnRzIjogdHJ1ZSwKICAiY29sb3IiOiAiYmx1ZSIsCiAgImRhc2hBcnJheSI6IG51bGwsCiAgImRhc2hPZmZzZXQiOiBudWxsLAogICJmaWxsIjogdHJ1ZSwKICAiZmlsbENvbG9yIjogIiMzMTg2Y2MiLAogICJmaWxsT3BhY2l0eSI6IDAuNywKICAiZmlsbFJ1bGUiOiAiZXZlbm9kZCIsCiAgImxpbmVDYXAiOiAicm91bmQiLAogICJsaW5lSm9pbiI6ICJyb3VuZCIsCiAgIm9wYWNpdHkiOiAxLjAsCiAgInJhZGl1cyI6IDUsCiAgInN0cm9rZSI6IHRydWUsCiAgIndlaWdodCI6IDMKfQogICAgICAgICAgICAgICAgKS5hZGRUbyhtYXBfMmJmZDM2NTVjYjRjNDYxNGJiM2NlYzhkZjQ3YTZjMjkpOwogICAgICAgICAgICAKICAgIAogICAgICAgICAgICB2YXIgcG9wdXBfMWQ3NmQ3OWFlYTE3NDVjYjkyMTkzMjRhMjBmMDE4ZTggPSBMLnBvcHVwKHttYXhXaWR0aDogJzMwMCd9KTsKCiAgICAgICAgICAgIAogICAgICAgICAgICAgICAgdmFyIGh0bWxfMDE3YzkwZGI0NTdlNDJkOWIzZWVkYjBiNWE0N2E5M2IgPSAkKCc8ZGl2IGlkPSJodG1sXzAxN2M5MGRiNDU3ZTQyZDliM2VlZGIwYjVhNDdhOTNiIiBzdHlsZT0id2lkdGg6IDEwMC4wJTsgaGVpZ2h0OiAxMDAuMCU7Ij5DYXJyb2xsIEdhcmRlbnM8L2Rpdj4nKVswXTsKICAgICAgICAgICAgICAgIHBvcHVwXzFkNzZkNzlhZWExNzQ1Y2I5MjE5MzI0YTIwZjAxOGU4LnNldENvbnRlbnQoaHRtbF8wMTdjOTBkYjQ1N2U0MmQ5YjNlZWRiMGI1YTQ3YTkzYik7CiAgICAgICAgICAgIAoKICAgICAgICAgICAgY2lyY2xlX21hcmtlcl82MjI0OWM3NThlM2I0NzliYWI4OGQ1ZjBiOWY5NjhhNS5iaW5kUG9wdXAocG9wdXBfMWQ3NmQ3OWFlYTE3NDVjYjkyMTkzMjRhMjBmMDE4ZTgpOwoKICAgICAgICAgICAgCiAgICAgICAgCiAgICAKICAgICAgICAgICAgdmFyIGNpcmNsZV9tYXJrZXJfNzE3ODY3NmMwYWI2NDMwY2FjZGNjY2YyOWUxY2I2MWEgPSBMLmNpcmNsZU1hcmtlcigKICAgICAgICAgICAgICAgIFs0MC42NzYyNTMyMzAyNTA4ODYsLTc0LjAxMjc1ODk3NDczNTZdLAogICAgICAgICAgICAgICAgewogICJidWJibGluZ01vdXNlRXZlbnRzIjogdHJ1ZSwKICAiY29sb3IiOiAiYmx1ZSIsCiAgImRhc2hBcnJheSI6IG51bGwsCiAgImRhc2hPZmZzZXQiOiBudWxsLAogICJmaWxsIjogdHJ1ZSwKICAiZmlsbENvbG9yIjogIiMzMTg2Y2MiLAogICJmaWxsT3BhY2l0eSI6IDAuNywKICAiZmlsbFJ1bGUiOiAiZXZlbm9kZCIsCiAgImxpbmVDYXAiOiAicm91bmQiLAogICJsaW5lSm9pbiI6ICJyb3VuZCIsCiAgIm9wYWNpdHkiOiAxLjAsCiAgInJhZGl1cyI6IDUsCiAgInN0cm9rZSI6IHRydWUsCiAgIndlaWdodCI6IDMKfQogICAgICAgICAgICAgICAgKS5hZGRUbyhtYXBfMmJmZDM2NTVjYjRjNDYxNGJiM2NlYzhkZjQ3YTZjMjkpOwogICAgICAgICAgICAKICAgIAogICAgICAgICAgICB2YXIgcG9wdXBfMDhlZjk5YjNiMzU1NDMxNmJjYmQ3YWZjNDY0Y2Q1ZjAgPSBMLnBvcHVwKHttYXhXaWR0aDogJzMwMCd9KTsKCiAgICAgICAgICAgIAogICAgICAgICAgICAgICAgdmFyIGh0bWxfYWEzOTZmZjdiOGNmNDY0M2IzNWY1YTM2YWVlZDRhNGUgPSAkKCc8ZGl2IGlkPSJodG1sX2FhMzk2ZmY3YjhjZjQ2NDNiMzVmNWEzNmFlZWQ0YTRlIiBzdHlsZT0id2lkdGg6IDEwMC4wJTsgaGVpZ2h0OiAxMDAuMCU7Ij5SZWQgSG9vazwvZGl2PicpWzBdOwogICAgICAgICAgICAgICAgcG9wdXBfMDhlZjk5YjNiMzU1NDMxNmJjYmQ3YWZjNDY0Y2Q1ZjAuc2V0Q29udGVudChodG1sX2FhMzk2ZmY3YjhjZjQ2NDNiMzVmNWEzNmFlZWQ0YTRlKTsKICAgICAgICAgICAgCgogICAgICAgICAgICBjaXJjbGVfbWFya2VyXzcxNzg2NzZjMGFiNjQzMGNhY2RjY2NmMjllMWNiNjFhLmJpbmRQb3B1cChwb3B1cF8wOGVmOTliM2IzNTU0MzE2YmNiZDdhZmM0NjRjZDVmMCk7CgogICAgICAgICAgICAKICAgICAgICAKICAgIAogICAgICAgICAgICB2YXIgY2lyY2xlX21hcmtlcl9jYzQ0YWQ4NjE1MGE0YWNhODZiM2NlZmViMDU0OWFlMSA9IEwuY2lyY2xlTWFya2VyKAogICAgICAgICAgICAgICAgWzQwLjY3MzkzMTE0MzE4NzE1NCwtNzMuOTk0NDQwODcxNDUzMzldLAogICAgICAgICAgICAgICAgewogICJidWJibGluZ01vdXNlRXZlbnRzIjogdHJ1ZSwKICAiY29sb3IiOiAiYmx1ZSIsCiAgImRhc2hBcnJheSI6IG51bGwsCiAgImRhc2hPZmZzZXQiOiBudWxsLAogICJmaWxsIjogdHJ1ZSwKICAiZmlsbENvbG9yIjogIiMzMTg2Y2MiLAogICJmaWxsT3BhY2l0eSI6IDAuNywKICAiZmlsbFJ1bGUiOiAiZXZlbm9kZCIsCiAgImxpbmVDYXAiOiAicm91bmQiLAogICJsaW5lSm9pbiI6ICJyb3VuZCIsCiAgIm9wYWNpdHkiOiAxLjAsCiAgInJhZGl1cyI6IDUsCiAgInN0cm9rZSI6IHRydWUsCiAgIndlaWdodCI6IDMKfQogICAgICAgICAgICAgICAgKS5hZGRUbyhtYXBfMmJmZDM2NTVjYjRjNDYxNGJiM2NlYzhkZjQ3YTZjMjkpOwogICAgICAgICAgICAKICAgIAogICAgICAgICAgICB2YXIgcG9wdXBfMWViNTI2NWE4MGNjNDA4ZWFkZTVhYTAxMWJmMjc0YTcgPSBMLnBvcHVwKHttYXhXaWR0aDogJzMwMCd9KTsKCiAgICAgICAgICAgIAogICAgICAgICAgICAgICAgdmFyIGh0bWxfNDdkMWEzYWMzZmE3NGE1MWE3ZDkwMzc5OTIwMTJjYTkgPSAkKCc8ZGl2IGlkPSJodG1sXzQ3ZDFhM2FjM2ZhNzRhNTFhN2Q5MDM3OTkyMDEyY2E5IiBzdHlsZT0id2lkdGg6IDEwMC4wJTsgaGVpZ2h0OiAxMDAuMCU7Ij5Hb3dhbnVzPC9kaXY+JylbMF07CiAgICAgICAgICAgICAgICBwb3B1cF8xZWI1MjY1YTgwY2M0MDhlYWRlNWFhMDExYmYyNzRhNy5zZXRDb250ZW50KGh0bWxfNDdkMWEzYWMzZmE3NGE1MWE3ZDkwMzc5OTIwMTJjYTkpOwogICAgICAgICAgICAKCiAgICAgICAgICAgIGNpcmNsZV9tYXJrZXJfY2M0NGFkODYxNTBhNGFjYTg2YjNjZWZlYjA1NDlhZTEuYmluZFBvcHVwKHBvcHVwXzFlYjUyNjVhODBjYzQwOGVhZGU1YWEwMTFiZjI3NGE3KTsKCiAgICAgICAgICAgIAogICAgICAgIAogICAgCiAgICAgICAgICAgIHZhciBjaXJjbGVfbWFya2VyXzI1Yjc0NGRlMmJjNzQzNTFiMWZkYTM0ZTE3YzViYzczID0gTC5jaXJjbGVNYXJrZXIoCiAgICAgICAgICAgICAgICBbNDAuNjg4NTI3MjYwMTg5NzcsLTczLjk3MjkwNTc0MzY5MDkyXSwKICAgICAgICAgICAgICAgIHsKICAiYnViYmxpbmdNb3VzZUV2ZW50cyI6IHRydWUsCiAgImNvbG9yIjogImJsdWUiLAogICJkYXNoQXJyYXkiOiBudWxsLAogICJkYXNoT2Zmc2V0IjogbnVsbCwKICAiZmlsbCI6IHRydWUsCiAgImZpbGxDb2xvciI6ICIjMzE4NmNjIiwKICAiZmlsbE9wYWNpdHkiOiAwLjcsCiAgImZpbGxSdWxlIjogImV2ZW5vZGQiLAogICJsaW5lQ2FwIjogInJvdW5kIiwKICAibGluZUpvaW4iOiAicm91bmQiLAogICJvcGFjaXR5IjogMS4wLAogICJyYWRpdXMiOiA1LAogICJzdHJva2UiOiB0cnVlLAogICJ3ZWlnaHQiOiAzCn0KICAgICAgICAgICAgICAgICkuYWRkVG8obWFwXzJiZmQzNjU1Y2I0YzQ2MTRiYjNjZWM4ZGY0N2E2YzI5KTsKICAgICAgICAgICAgCiAgICAKICAgICAgICAgICAgdmFyIHBvcHVwX2FhMTc2NGU3NjRhZjRiOTlhODQxOTg5M2Y4NDg1ODkwID0gTC5wb3B1cCh7bWF4V2lkdGg6ICczMDAnfSk7CgogICAgICAgICAgICAKICAgICAgICAgICAgICAgIHZhciBodG1sX2M0ODU0MmNkY2EzNjQyMmI5MjY0MDg3MWQzNTVlNzg2ID0gJCgnPGRpdiBpZD0iaHRtbF9jNDg1NDJjZGNhMzY0MjJiOTI2NDA4NzFkMzU1ZTc4NiIgc3R5bGU9IndpZHRoOiAxMDAuMCU7IGhlaWdodDogMTAwLjAlOyI+Rm9ydCBHcmVlbmU8L2Rpdj4nKVswXTsKICAgICAgICAgICAgICAgIHBvcHVwX2FhMTc2NGU3NjRhZjRiOTlhODQxOTg5M2Y4NDg1ODkwLnNldENvbnRlbnQoaHRtbF9jNDg1NDJjZGNhMzY0MjJiOTI2NDA4NzFkMzU1ZTc4Nik7CiAgICAgICAgICAgIAoKICAgICAgICAgICAgY2lyY2xlX21hcmtlcl8yNWI3NDRkZTJiYzc0MzUxYjFmZGEzNGUxN2M1YmM3My5iaW5kUG9wdXAocG9wdXBfYWExNzY0ZTc2NGFmNGI5OWE4NDE5ODkzZjg0ODU4OTApOwoKICAgICAgICAgICAgCiAgICAgICAgCiAgICAKICAgICAgICAgICAgdmFyIGNpcmNsZV9tYXJrZXJfNmNiZjM4ZGYzNDc0NDQ4ZmJmYWFmMjMwN2JkZjhhODIgPSBMLmNpcmNsZU1hcmtlcigKICAgICAgICAgICAgICAgIFs0MC42NzIzMjA1MjI2ODE5NywtNzMuOTc3MDUwMzAxODM5MjRdLAogICAgICAgICAgICAgICAgewogICJidWJibGluZ01vdXNlRXZlbnRzIjogdHJ1ZSwKICAiY29sb3IiOiAiYmx1ZSIsCiAgImRhc2hBcnJheSI6IG51bGwsCiAgImRhc2hPZmZzZXQiOiBudWxsLAogICJmaWxsIjogdHJ1ZSwKICAiZmlsbENvbG9yIjogIiMzMTg2Y2MiLAogICJmaWxsT3BhY2l0eSI6IDAuNywKICAiZmlsbFJ1bGUiOiAiZXZlbm9kZCIsCiAgImxpbmVDYXAiOiAicm91bmQiLAogICJsaW5lSm9pbiI6ICJyb3VuZCIsCiAgIm9wYWNpdHkiOiAxLjAsCiAgInJhZGl1cyI6IDUsCiAgInN0cm9rZSI6IHRydWUsCiAgIndlaWdodCI6IDMKfQogICAgICAgICAgICAgICAgKS5hZGRUbyhtYXBfMmJmZDM2NTVjYjRjNDYxNGJiM2NlYzhkZjQ3YTZjMjkpOwogICAgICAgICAgICAKICAgIAogICAgICAgICAgICB2YXIgcG9wdXBfZjQ3NzJiM2UxNTk0NDNkMjk4ZjllZDU1ZWM3YjVjYjMgPSBMLnBvcHVwKHttYXhXaWR0aDogJzMwMCd9KTsKCiAgICAgICAgICAgIAogICAgICAgICAgICAgICAgdmFyIGh0bWxfOWZjZWYyYjlkYmNhNDU4MjhkNTM2YzRkZjFhOGU4YWQgPSAkKCc8ZGl2IGlkPSJodG1sXzlmY2VmMmI5ZGJjYTQ1ODI4ZDUzNmM0ZGYxYThlOGFkIiBzdHlsZT0id2lkdGg6IDEwMC4wJTsgaGVpZ2h0OiAxMDAuMCU7Ij5QYXJrIFNsb3BlPC9kaXY+JylbMF07CiAgICAgICAgICAgICAgICBwb3B1cF9mNDc3MmIzZTE1OTQ0M2QyOThmOWVkNTVlYzdiNWNiMy5zZXRDb250ZW50KGh0bWxfOWZjZWYyYjlkYmNhNDU4MjhkNTM2YzRkZjFhOGU4YWQpOwogICAgICAgICAgICAKCiAgICAgICAgICAgIGNpcmNsZV9tYXJrZXJfNmNiZjM4ZGYzNDc0NDQ4ZmJmYWFmMjMwN2JkZjhhODIuYmluZFBvcHVwKHBvcHVwX2Y0NzcyYjNlMTU5NDQzZDI5OGY5ZWQ1NWVjN2I1Y2IzKTsKCiAgICAgICAgICAgIAogICAgICAgIAogICAgCiAgICAgICAgICAgIHZhciBjaXJjbGVfbWFya2VyX2JlOWRmYzZhN2QxNzQxM2JiZjIwNTJlYWI0ZDFiNmFjID0gTC5jaXJjbGVNYXJrZXIoCiAgICAgICAgICAgICAgICBbNDAuNjgyMzkxMDExNDQyMTEsLTczLjg3NjYxNTk2NDU3Mjk2XSwKICAgICAgICAgICAgICAgIHsKICAiYnViYmxpbmdNb3VzZUV2ZW50cyI6IHRydWUsCiAgImNvbG9yIjogImJsdWUiLAogICJkYXNoQXJyYXkiOiBudWxsLAogICJkYXNoT2Zmc2V0IjogbnVsbCwKICAiZmlsbCI6IHRydWUsCiAgImZpbGxDb2xvciI6ICIjMzE4NmNjIiwKICAiZmlsbE9wYWNpdHkiOiAwLjcsCiAgImZpbGxSdWxlIjogImV2ZW5vZGQiLAogICJsaW5lQ2FwIjogInJvdW5kIiwKICAibGluZUpvaW4iOiAicm91bmQiLAogICJvcGFjaXR5IjogMS4wLAogICJyYWRpdXMiOiA1LAogICJzdHJva2UiOiB0cnVlLAogICJ3ZWlnaHQiOiAzCn0KICAgICAgICAgICAgICAgICkuYWRkVG8obWFwXzJiZmQzNjU1Y2I0YzQ2MTRiYjNjZWM4ZGY0N2E2YzI5KTsKICAgICAgICAgICAgCiAgICAKICAgICAgICAgICAgdmFyIHBvcHVwXzA5ODZmN2VhNDQ3MjQ2ZWJiZGU4MWY3M2JiNGE0NWZmID0gTC5wb3B1cCh7bWF4V2lkdGg6ICczMDAnfSk7CgogICAgICAgICAgICAKICAgICAgICAgICAgICAgIHZhciBodG1sXzg2ZjllZDZmZmE2ODQ3ODZhNDcwMWQ2ZDcyNzBmMWU5ID0gJCgnPGRpdiBpZD0iaHRtbF84NmY5ZWQ2ZmZhNjg0Nzg2YTQ3MDFkNmQ3MjcwZjFlOSIgc3R5bGU9IndpZHRoOiAxMDAuMCU7IGhlaWdodDogMTAwLjAlOyI+Q3lwcmVzcyBIaWxsczwvZGl2PicpWzBdOwogICAgICAgICAgICAgICAgcG9wdXBfMDk4NmY3ZWE0NDcyNDZlYmJkZTgxZjczYmI0YTQ1ZmYuc2V0Q29udGVudChodG1sXzg2ZjllZDZmZmE2ODQ3ODZhNDcwMWQ2ZDcyNzBmMWU5KTsKICAgICAgICAgICAgCgogICAgICAgICAgICBjaXJjbGVfbWFya2VyX2JlOWRmYzZhN2QxNzQxM2JiZjIwNTJlYWI0ZDFiNmFjLmJpbmRQb3B1cChwb3B1cF8wOTg2ZjdlYTQ0NzI0NmViYmRlODFmNzNiYjRhNDVmZik7CgogICAgICAgICAgICAKICAgICAgICAKICAgIAogICAgICAgICAgICB2YXIgY2lyY2xlX21hcmtlcl8xNGFlZGJjOGY3MmM0MGQzYTg1ODRkMGM0YTU5NjAwOCA9IEwuY2lyY2xlTWFya2VyKAogICAgICAgICAgICAgICAgWzQwLjY2OTkyNTcwMDg0NzA0NSwtNzMuODgwNjk4NjM5MTczNjZdLAogICAgICAgICAgICAgICAgewogICJidWJibGluZ01vdXNlRXZlbnRzIjogdHJ1ZSwKICAiY29sb3IiOiAiYmx1ZSIsCiAgImRhc2hBcnJheSI6IG51bGwsCiAgImRhc2hPZmZzZXQiOiBudWxsLAogICJmaWxsIjogdHJ1ZSwKICAiZmlsbENvbG9yIjogIiMzMTg2Y2MiLAogICJmaWxsT3BhY2l0eSI6IDAuNywKICAiZmlsbFJ1bGUiOiAiZXZlbm9kZCIsCiAgImxpbmVDYXAiOiAicm91bmQiLAogICJsaW5lSm9pbiI6ICJyb3VuZCIsCiAgIm9wYWNpdHkiOiAxLjAsCiAgInJhZGl1cyI6IDUsCiAgInN0cm9rZSI6IHRydWUsCiAgIndlaWdodCI6IDMKfQogICAgICAgICAgICAgICAgKS5hZGRUbyhtYXBfMmJmZDM2NTVjYjRjNDYxNGJiM2NlYzhkZjQ3YTZjMjkpOwogICAgICAgICAgICAKICAgIAogICAgICAgICAgICB2YXIgcG9wdXBfYjhhNTZiMjU1YzEwNDMxYWI1Y2ZkYjYxZDY2MzM5ZTQgPSBMLnBvcHVwKHttYXhXaWR0aDogJzMwMCd9KTsKCiAgICAgICAgICAgIAogICAgICAgICAgICAgICAgdmFyIGh0bWxfNDk0ZTkxMWY2NjM1NGU5ZmE1Y2IxMGY3NGMwMmZjOGYgPSAkKCc8ZGl2IGlkPSJodG1sXzQ5NGU5MTFmNjYzNTRlOWZhNWNiMTBmNzRjMDJmYzhmIiBzdHlsZT0id2lkdGg6IDEwMC4wJTsgaGVpZ2h0OiAxMDAuMCU7Ij5FYXN0IE5ldyBZb3JrPC9kaXY+JylbMF07CiAgICAgICAgICAgICAgICBwb3B1cF9iOGE1NmIyNTVjMTA0MzFhYjVjZmRiNjFkNjYzMzllNC5zZXRDb250ZW50KGh0bWxfNDk0ZTkxMWY2NjM1NGU5ZmE1Y2IxMGY3NGMwMmZjOGYpOwogICAgICAgICAgICAKCiAgICAgICAgICAgIGNpcmNsZV9tYXJrZXJfMTRhZWRiYzhmNzJjNDBkM2E4NTg0ZDBjNGE1OTYwMDguYmluZFBvcHVwKHBvcHVwX2I4YTU2YjI1NWMxMDQzMWFiNWNmZGI2MWQ2NjMzOWU0KTsKCiAgICAgICAgICAgIAogICAgICAgIAogICAgCiAgICAgICAgICAgIHZhciBjaXJjbGVfbWFya2VyX2Y3YmVlZDZkODQzZTRlZTk5ODM0N2NhZGUxMTFjYzA4ID0gTC5jaXJjbGVNYXJrZXIoCiAgICAgICAgICAgICAgICBbNDAuNjQ3NTg5MDUyMzA4NzQsLTczLjg3OTM2OTcwMDQ1ODc1XSwKICAgICAgICAgICAgICAgIHsKICAiYnViYmxpbmdNb3VzZUV2ZW50cyI6IHRydWUsCiAgImNvbG9yIjogImJsdWUiLAogICJkYXNoQXJyYXkiOiBudWxsLAogICJkYXNoT2Zmc2V0IjogbnVsbCwKICAiZmlsbCI6IHRydWUsCiAgImZpbGxDb2xvciI6ICIjMzE4NmNjIiwKICAiZmlsbE9wYWNpdHkiOiAwLjcsCiAgImZpbGxSdWxlIjogImV2ZW5vZGQiLAogICJsaW5lQ2FwIjogInJvdW5kIiwKICAibGluZUpvaW4iOiAicm91bmQiLAogICJvcGFjaXR5IjogMS4wLAogICJyYWRpdXMiOiA1LAogICJzdHJva2UiOiB0cnVlLAogICJ3ZWlnaHQiOiAzCn0KICAgICAgICAgICAgICAgICkuYWRkVG8obWFwXzJiZmQzNjU1Y2I0YzQ2MTRiYjNjZWM4ZGY0N2E2YzI5KTsKICAgICAgICAgICAgCiAgICAKICAgICAgICAgICAgdmFyIHBvcHVwX2E0M2U5Y2YyOGJlNTRmNjQ4ZjJjZTRkMjg1YjE5ZjRkID0gTC5wb3B1cCh7bWF4V2lkdGg6ICczMDAnfSk7CgogICAgICAgICAgICAKICAgICAgICAgICAgICAgIHZhciBodG1sXzAzOWMwMWU0ODg0NDRjYTA4YjYxZWZjNzFmNGE2Y2M3ID0gJCgnPGRpdiBpZD0iaHRtbF8wMzljMDFlNDg4NDQ0Y2EwOGI2MWVmYzcxZjRhNmNjNyIgc3R5bGU9IndpZHRoOiAxMDAuMCU7IGhlaWdodDogMTAwLjAlOyI+U3RhcnJldHQgQ2l0eTwvZGl2PicpWzBdOwogICAgICAgICAgICAgICAgcG9wdXBfYTQzZTljZjI4YmU1NGY2NDhmMmNlNGQyODViMTlmNGQuc2V0Q29udGVudChodG1sXzAzOWMwMWU0ODg0NDRjYTA4YjYxZWZjNzFmNGE2Y2M3KTsKICAgICAgICAgICAgCgogICAgICAgICAgICBjaXJjbGVfbWFya2VyX2Y3YmVlZDZkODQzZTRlZTk5ODM0N2NhZGUxMTFjYzA4LmJpbmRQb3B1cChwb3B1cF9hNDNlOWNmMjhiZTU0ZjY0OGYyY2U0ZDI4NWIxOWY0ZCk7CgogICAgICAgICAgICAKICAgICAgICAKICAgIAogICAgICAgICAgICB2YXIgY2lyY2xlX21hcmtlcl80MTAzYmJjNWZhOWY0NzllYTZjMjI3MjI5NTYyNmMxMCA9IEwuY2lyY2xlTWFya2VyKAogICAgICAgICAgICAgICAgWzQwLjYzNTU2NDMyNzk3NDI4LC03My45MDIwOTI2OTc3ODk2Nl0sCiAgICAgICAgICAgICAgICB7CiAgImJ1YmJsaW5nTW91c2VFdmVudHMiOiB0cnVlLAogICJjb2xvciI6ICJibHVlIiwKICAiZGFzaEFycmF5IjogbnVsbCwKICAiZGFzaE9mZnNldCI6IG51bGwsCiAgImZpbGwiOiB0cnVlLAogICJmaWxsQ29sb3IiOiAiIzMxODZjYyIsCiAgImZpbGxPcGFjaXR5IjogMC43LAogICJmaWxsUnVsZSI6ICJldmVub2RkIiwKICAibGluZUNhcCI6ICJyb3VuZCIsCiAgImxpbmVKb2luIjogInJvdW5kIiwKICAib3BhY2l0eSI6IDEuMCwKICAicmFkaXVzIjogNSwKICAic3Ryb2tlIjogdHJ1ZSwKICAid2VpZ2h0IjogMwp9CiAgICAgICAgICAgICAgICApLmFkZFRvKG1hcF8yYmZkMzY1NWNiNGM0NjE0YmIzY2VjOGRmNDdhNmMyOSk7CiAgICAgICAgICAgIAogICAgCiAgICAgICAgICAgIHZhciBwb3B1cF84ZTQ3MjQzMmNmOWM0MWEwOGIwOTY3ZDQ2ZTNjOTBmNyA9IEwucG9wdXAoe21heFdpZHRoOiAnMzAwJ30pOwoKICAgICAgICAgICAgCiAgICAgICAgICAgICAgICB2YXIgaHRtbF84NGJjYTM3M2JlODc0MjAwOTg2MWRiNjU2YTcxMTMzMSA9ICQoJzxkaXYgaWQ9Imh0bWxfODRiY2EzNzNiZTg3NDIwMDk4NjFkYjY1NmE3MTEzMzEiIHN0eWxlPSJ3aWR0aDogMTAwLjAlOyBoZWlnaHQ6IDEwMC4wJTsiPkNhbmFyc2llPC9kaXY+JylbMF07CiAgICAgICAgICAgICAgICBwb3B1cF84ZTQ3MjQzMmNmOWM0MWEwOGIwOTY3ZDQ2ZTNjOTBmNy5zZXRDb250ZW50KGh0bWxfODRiY2EzNzNiZTg3NDIwMDk4NjFkYjY1NmE3MTEzMzEpOwogICAgICAgICAgICAKCiAgICAgICAgICAgIGNpcmNsZV9tYXJrZXJfNDEwM2JiYzVmYTlmNDc5ZWE2YzIyNzIyOTU2MjZjMTAuYmluZFBvcHVwKHBvcHVwXzhlNDcyNDMyY2Y5YzQxYTA4YjA5NjdkNDZlM2M5MGY3KTsKCiAgICAgICAgICAgIAogICAgICAgIAogICAgCiAgICAgICAgICAgIHZhciBjaXJjbGVfbWFya2VyXzhmNDNkNzk0MDMxNjRiYWNhMTkzZGNlMGQ1NjFkYjk4ID0gTC5jaXJjbGVNYXJrZXIoCiAgICAgICAgICAgICAgICBbNDAuNjMwNDQ2MDQzNzU3NDY2LC03My45MjkxMTMwMjY0NDY3NF0sCiAgICAgICAgICAgICAgICB7CiAgImJ1YmJsaW5nTW91c2VFdmVudHMiOiB0cnVlLAogICJjb2xvciI6ICJibHVlIiwKICAiZGFzaEFycmF5IjogbnVsbCwKICAiZGFzaE9mZnNldCI6IG51bGwsCiAgImZpbGwiOiB0cnVlLAogICJmaWxsQ29sb3IiOiAiIzMxODZjYyIsCiAgImZpbGxPcGFjaXR5IjogMC43LAogICJmaWxsUnVsZSI6ICJldmVub2RkIiwKICAibGluZUNhcCI6ICJyb3VuZCIsCiAgImxpbmVKb2luIjogInJvdW5kIiwKICAib3BhY2l0eSI6IDEuMCwKICAicmFkaXVzIjogNSwKICAic3Ryb2tlIjogdHJ1ZSwKICAid2VpZ2h0IjogMwp9CiAgICAgICAgICAgICAgICApLmFkZFRvKG1hcF8yYmZkMzY1NWNiNGM0NjE0YmIzY2VjOGRmNDdhNmMyOSk7CiAgICAgICAgICAgIAogICAgCiAgICAgICAgICAgIHZhciBwb3B1cF9mNzMyZTA4ZWQwZjg0MmZiYWYxMjJhMDUxNjBlNDc5MiA9IEwucG9wdXAoe21heFdpZHRoOiAnMzAwJ30pOwoKICAgICAgICAgICAgCiAgICAgICAgICAgICAgICB2YXIgaHRtbF8xMGI4MTFhZTUyOWI0MTljYTY4MTRmYmE2MTNiOTQ5OCA9ICQoJzxkaXYgaWQ9Imh0bWxfMTBiODExYWU1MjliNDE5Y2E2ODE0ZmJhNjEzYjk0OTgiIHN0eWxlPSJ3aWR0aDogMTAwLjAlOyBoZWlnaHQ6IDEwMC4wJTsiPkZsYXRsYW5kczwvZGl2PicpWzBdOwogICAgICAgICAgICAgICAgcG9wdXBfZjczMmUwOGVkMGY4NDJmYmFmMTIyYTA1MTYwZTQ3OTIuc2V0Q29udGVudChodG1sXzEwYjgxMWFlNTI5YjQxOWNhNjgxNGZiYTYxM2I5NDk4KTsKICAgICAgICAgICAgCgogICAgICAgICAgICBjaXJjbGVfbWFya2VyXzhmNDNkNzk0MDMxNjRiYWNhMTkzZGNlMGQ1NjFkYjk4LmJpbmRQb3B1cChwb3B1cF9mNzMyZTA4ZWQwZjg0MmZiYWYxMjJhMDUxNjBlNDc5Mik7CgogICAgICAgICAgICAKICAgICAgICAKICAgIAogICAgICAgICAgICB2YXIgY2lyY2xlX21hcmtlcl9kMTZkYmU3YTJmZWM0N2I2YTMwOWNmYmQ2ZWY0MTgwZCA9IEwuY2lyY2xlTWFya2VyKAogICAgICAgICAgICAgICAgWzQwLjYwNjMzNjQyMTY4NTYyNiwtNzMuOTA4MTg1NzE3Nzc0MjNdLAogICAgICAgICAgICAgICAgewogICJidWJibGluZ01vdXNlRXZlbnRzIjogdHJ1ZSwKICAiY29sb3IiOiAiYmx1ZSIsCiAgImRhc2hBcnJheSI6IG51bGwsCiAgImRhc2hPZmZzZXQiOiBudWxsLAogICJmaWxsIjogdHJ1ZSwKICAiZmlsbENvbG9yIjogIiMzMTg2Y2MiLAogICJmaWxsT3BhY2l0eSI6IDAuNywKICAiZmlsbFJ1bGUiOiAiZXZlbm9kZCIsCiAgImxpbmVDYXAiOiAicm91bmQiLAogICJsaW5lSm9pbiI6ICJyb3VuZCIsCiAgIm9wYWNpdHkiOiAxLjAsCiAgInJhZGl1cyI6IDUsCiAgInN0cm9rZSI6IHRydWUsCiAgIndlaWdodCI6IDMKfQogICAgICAgICAgICAgICAgKS5hZGRUbyhtYXBfMmJmZDM2NTVjYjRjNDYxNGJiM2NlYzhkZjQ3YTZjMjkpOwogICAgICAgICAgICAKICAgIAogICAgICAgICAgICB2YXIgcG9wdXBfNGMyMDAwYjdjZTYxNDkyNmIyZGQzNmQ4NTg0NDNiNzggPSBMLnBvcHVwKHttYXhXaWR0aDogJzMwMCd9KTsKCiAgICAgICAgICAgIAogICAgICAgICAgICAgICAgdmFyIGh0bWxfZGVlN2JmMTRjOWEyNGUxMGI2NTAyZGE3NTJjMDRlNGMgPSAkKCc8ZGl2IGlkPSJodG1sX2RlZTdiZjE0YzlhMjRlMTBiNjUwMmRhNzUyYzA0ZTRjIiBzdHlsZT0id2lkdGg6IDEwMC4wJTsgaGVpZ2h0OiAxMDAuMCU7Ij5NaWxsIElzbGFuZDwvZGl2PicpWzBdOwogICAgICAgICAgICAgICAgcG9wdXBfNGMyMDAwYjdjZTYxNDkyNmIyZGQzNmQ4NTg0NDNiNzguc2V0Q29udGVudChodG1sX2RlZTdiZjE0YzlhMjRlMTBiNjUwMmRhNzUyYzA0ZTRjKTsKICAgICAgICAgICAgCgogICAgICAgICAgICBjaXJjbGVfbWFya2VyX2QxNmRiZTdhMmZlYzQ3YjZhMzA5Y2ZiZDZlZjQxODBkLmJpbmRQb3B1cChwb3B1cF80YzIwMDBiN2NlNjE0OTI2YjJkZDM2ZDg1ODQ0M2I3OCk7CgogICAgICAgICAgICAKICAgICAgICAKICAgIAogICAgICAgICAgICB2YXIgY2lyY2xlX21hcmtlcl83NWI3OTdkNTc1Y2I0ZDM0OGZjODdmNWViMjQ3MzE0NiA9IEwuY2lyY2xlTWFya2VyKAogICAgICAgICAgICAgICAgWzQwLjU3NzkxMzUwMzA4NjU3LC03My45NDM1MzcyMjg5MTg4Nl0sCiAgICAgICAgICAgICAgICB7CiAgImJ1YmJsaW5nTW91c2VFdmVudHMiOiB0cnVlLAogICJjb2xvciI6ICJibHVlIiwKICAiZGFzaEFycmF5IjogbnVsbCwKICAiZGFzaE9mZnNldCI6IG51bGwsCiAgImZpbGwiOiB0cnVlLAogICJmaWxsQ29sb3IiOiAiIzMxODZjYyIsCiAgImZpbGxPcGFjaXR5IjogMC43LAogICJmaWxsUnVsZSI6ICJldmVub2RkIiwKICAibGluZUNhcCI6ICJyb3VuZCIsCiAgImxpbmVKb2luIjogInJvdW5kIiwKICAib3BhY2l0eSI6IDEuMCwKICAicmFkaXVzIjogNSwKICAic3Ryb2tlIjogdHJ1ZSwKICAid2VpZ2h0IjogMwp9CiAgICAgICAgICAgICAgICApLmFkZFRvKG1hcF8yYmZkMzY1NWNiNGM0NjE0YmIzY2VjOGRmNDdhNmMyOSk7CiAgICAgICAgICAgIAogICAgCiAgICAgICAgICAgIHZhciBwb3B1cF84MTQ4MzJiMzk2Y2M0MTA0YTkwYzFmNzIyNzA5ODBjNCA9IEwucG9wdXAoe21heFdpZHRoOiAnMzAwJ30pOwoKICAgICAgICAgICAgCiAgICAgICAgICAgICAgICB2YXIgaHRtbF8zMjI2ZWI0ZTgxM2U0ZTVlYTFmNjI0ZDI2ZGQ2MzZkMyA9ICQoJzxkaXYgaWQ9Imh0bWxfMzIyNmViNGU4MTNlNGU1ZWExZjYyNGQyNmRkNjM2ZDMiIHN0eWxlPSJ3aWR0aDogMTAwLjAlOyBoZWlnaHQ6IDEwMC4wJTsiPk1hbmhhdHRhbiBCZWFjaDwvZGl2PicpWzBdOwogICAgICAgICAgICAgICAgcG9wdXBfODE0ODMyYjM5NmNjNDEwNGE5MGMxZjcyMjcwOTgwYzQuc2V0Q29udGVudChodG1sXzMyMjZlYjRlODEzZTRlNWVhMWY2MjRkMjZkZDYzNmQzKTsKICAgICAgICAgICAgCgogICAgICAgICAgICBjaXJjbGVfbWFya2VyXzc1Yjc5N2Q1NzVjYjRkMzQ4ZmM4N2Y1ZWIyNDczMTQ2LmJpbmRQb3B1cChwb3B1cF84MTQ4MzJiMzk2Y2M0MTA0YTkwYzFmNzIyNzA5ODBjNCk7CgogICAgICAgICAgICAKICAgICAgICAKICAgIAogICAgICAgICAgICB2YXIgY2lyY2xlX21hcmtlcl80MTc1OTQ5ODJiYzU0ZmUwOGNkYzg5NjFlODI3YTRhOCA9IEwuY2lyY2xlTWFya2VyKAogICAgICAgICAgICAgICAgWzQwLjU3NDI5MjU2NDcxNjAxLC03My45ODg2ODI5NTgyMTYzN10sCiAgICAgICAgICAgICAgICB7CiAgImJ1YmJsaW5nTW91c2VFdmVudHMiOiB0cnVlLAogICJjb2xvciI6ICJibHVlIiwKICAiZGFzaEFycmF5IjogbnVsbCwKICAiZGFzaE9mZnNldCI6IG51bGwsCiAgImZpbGwiOiB0cnVlLAogICJmaWxsQ29sb3IiOiAiIzMxODZjYyIsCiAgImZpbGxPcGFjaXR5IjogMC43LAogICJmaWxsUnVsZSI6ICJldmVub2RkIiwKICAibGluZUNhcCI6ICJyb3VuZCIsCiAgImxpbmVKb2luIjogInJvdW5kIiwKICAib3BhY2l0eSI6IDEuMCwKICAicmFkaXVzIjogNSwKICAic3Ryb2tlIjogdHJ1ZSwKICAid2VpZ2h0IjogMwp9CiAgICAgICAgICAgICAgICApLmFkZFRvKG1hcF8yYmZkMzY1NWNiNGM0NjE0YmIzY2VjOGRmNDdhNmMyOSk7CiAgICAgICAgICAgIAogICAgCiAgICAgICAgICAgIHZhciBwb3B1cF9iZGUzN2QzNGI1MjU0MjQ0OWQ3NmU2YmVjNGJhYzEwZSA9IEwucG9wdXAoe21heFdpZHRoOiAnMzAwJ30pOwoKICAgICAgICAgICAgCiAgICAgICAgICAgICAgICB2YXIgaHRtbF8wMGI1YmY0ZTk0NzY0MTc0ODRjMzRlZmZlNDAyNDhiZSA9ICQoJzxkaXYgaWQ9Imh0bWxfMDBiNWJmNGU5NDc2NDE3NDg0YzM0ZWZmZTQwMjQ4YmUiIHN0eWxlPSJ3aWR0aDogMTAwLjAlOyBoZWlnaHQ6IDEwMC4wJTsiPkNvbmV5IElzbGFuZDwvZGl2PicpWzBdOwogICAgICAgICAgICAgICAgcG9wdXBfYmRlMzdkMzRiNTI1NDI0NDlkNzZlNmJlYzRiYWMxMGUuc2V0Q29udGVudChodG1sXzAwYjViZjRlOTQ3NjQxNzQ4NGMzNGVmZmU0MDI0OGJlKTsKICAgICAgICAgICAgCgogICAgICAgICAgICBjaXJjbGVfbWFya2VyXzQxNzU5NDk4MmJjNTRmZTA4Y2RjODk2MWU4MjdhNGE4LmJpbmRQb3B1cChwb3B1cF9iZGUzN2QzNGI1MjU0MjQ0OWQ3NmU2YmVjNGJhYzEwZSk7CgogICAgICAgICAgICAKICAgICAgICAKICAgIAogICAgICAgICAgICB2YXIgY2lyY2xlX21hcmtlcl85NmNjNTdhMjY5MzA0NTEwODM5OTgzNGQxZjhhMThiNCA9IEwuY2lyY2xlTWFya2VyKAogICAgICAgICAgICAgICAgWzQwLjU5OTUxODcwMjgyMjM4LC03My45OTg3NTIyMTQ0MzUxOV0sCiAgICAgICAgICAgICAgICB7CiAgImJ1YmJsaW5nTW91c2VFdmVudHMiOiB0cnVlLAogICJjb2xvciI6ICJibHVlIiwKICAiZGFzaEFycmF5IjogbnVsbCwKICAiZGFzaE9mZnNldCI6IG51bGwsCiAgImZpbGwiOiB0cnVlLAogICJmaWxsQ29sb3IiOiAiIzMxODZjYyIsCiAgImZpbGxPcGFjaXR5IjogMC43LAogICJmaWxsUnVsZSI6ICJldmVub2RkIiwKICAibGluZUNhcCI6ICJyb3VuZCIsCiAgImxpbmVKb2luIjogInJvdW5kIiwKICAib3BhY2l0eSI6IDEuMCwKICAicmFkaXVzIjogNSwKICAic3Ryb2tlIjogdHJ1ZSwKICAid2VpZ2h0IjogMwp9CiAgICAgICAgICAgICAgICApLmFkZFRvKG1hcF8yYmZkMzY1NWNiNGM0NjE0YmIzY2VjOGRmNDdhNmMyOSk7CiAgICAgICAgICAgIAogICAgCiAgICAgICAgICAgIHZhciBwb3B1cF84ZDQxMGUzZDBlMzI0MmIwYjI5ZjZhMjNiMzM2NzQyNSA9IEwucG9wdXAoe21heFdpZHRoOiAnMzAwJ30pOwoKICAgICAgICAgICAgCiAgICAgICAgICAgICAgICB2YXIgaHRtbF9lN2ZmZDhmZDk1ZDU0ZWEwOWNkNzk2OThiMjIxNjFmYyA9ICQoJzxkaXYgaWQ9Imh0bWxfZTdmZmQ4ZmQ5NWQ1NGVhMDljZDc5Njk4YjIyMTYxZmMiIHN0eWxlPSJ3aWR0aDogMTAwLjAlOyBoZWlnaHQ6IDEwMC4wJTsiPkJhdGggQmVhY2g8L2Rpdj4nKVswXTsKICAgICAgICAgICAgICAgIHBvcHVwXzhkNDEwZTNkMGUzMjQyYjBiMjlmNmEyM2IzMzY3NDI1LnNldENvbnRlbnQoaHRtbF9lN2ZmZDhmZDk1ZDU0ZWEwOWNkNzk2OThiMjIxNjFmYyk7CiAgICAgICAgICAgIAoKICAgICAgICAgICAgY2lyY2xlX21hcmtlcl85NmNjNTdhMjY5MzA0NTEwODM5OTgzNGQxZjhhMThiNC5iaW5kUG9wdXAocG9wdXBfOGQ0MTBlM2QwZTMyNDJiMGIyOWY2YTIzYjMzNjc0MjUpOwoKICAgICAgICAgICAgCiAgICAgICAgCiAgICAKICAgICAgICAgICAgdmFyIGNpcmNsZV9tYXJrZXJfODAyMmY5NTIyMWFhNGNiZjk5ZjYxODI1Mjg1OTA5MjcgPSBMLmNpcmNsZU1hcmtlcigKICAgICAgICAgICAgICAgIFs0MC42MzMxMzA1MTI3NTgwMTUsLTczLjk5MDQ5ODIzMDQ0ODExXSwKICAgICAgICAgICAgICAgIHsKICAiYnViYmxpbmdNb3VzZUV2ZW50cyI6IHRydWUsCiAgImNvbG9yIjogImJsdWUiLAogICJkYXNoQXJyYXkiOiBudWxsLAogICJkYXNoT2Zmc2V0IjogbnVsbCwKICAiZmlsbCI6IHRydWUsCiAgImZpbGxDb2xvciI6ICIjMzE4NmNjIiwKICAiZmlsbE9wYWNpdHkiOiAwLjcsCiAgImZpbGxSdWxlIjogImV2ZW5vZGQiLAogICJsaW5lQ2FwIjogInJvdW5kIiwKICAibGluZUpvaW4iOiAicm91bmQiLAogICJvcGFjaXR5IjogMS4wLAogICJyYWRpdXMiOiA1LAogICJzdHJva2UiOiB0cnVlLAogICJ3ZWlnaHQiOiAzCn0KICAgICAgICAgICAgICAgICkuYWRkVG8obWFwXzJiZmQzNjU1Y2I0YzQ2MTRiYjNjZWM4ZGY0N2E2YzI5KTsKICAgICAgICAgICAgCiAgICAKICAgICAgICAgICAgdmFyIHBvcHVwXzhmMWU1MWI2MmZkZDRiNGI5NjEzNzgzYTdiMjY4N2QzID0gTC5wb3B1cCh7bWF4V2lkdGg6ICczMDAnfSk7CgogICAgICAgICAgICAKICAgICAgICAgICAgICAgIHZhciBodG1sXzQwZmYzOWMwOTgzMDQ5NDM5NzY2ZThjYmE2MGE3OGNkID0gJCgnPGRpdiBpZD0iaHRtbF80MGZmMzljMDk4MzA0OTQzOTc2NmU4Y2JhNjBhNzhjZCIgc3R5bGU9IndpZHRoOiAxMDAuMCU7IGhlaWdodDogMTAwLjAlOyI+Qm9yb3VnaCBQYXJrPC9kaXY+JylbMF07CiAgICAgICAgICAgICAgICBwb3B1cF84ZjFlNTFiNjJmZGQ0YjRiOTYxMzc4M2E3YjI2ODdkMy5zZXRDb250ZW50KGh0bWxfNDBmZjM5YzA5ODMwNDk0Mzk3NjZlOGNiYTYwYTc4Y2QpOwogICAgICAgICAgICAKCiAgICAgICAgICAgIGNpcmNsZV9tYXJrZXJfODAyMmY5NTIyMWFhNGNiZjk5ZjYxODI1Mjg1OTA5MjcuYmluZFBvcHVwKHBvcHVwXzhmMWU1MWI2MmZkZDRiNGI5NjEzNzgzYTdiMjY4N2QzKTsKCiAgICAgICAgICAgIAogICAgICAgIAogICAgCiAgICAgICAgICAgIHZhciBjaXJjbGVfbWFya2VyXzhmMDBjZWVmNDRmYTRlMzdhYmRmMTI0OWE3ZTNlZjUzID0gTC5jaXJjbGVNYXJrZXIoCiAgICAgICAgICAgICAgICBbNDAuNjE5MjE5NDU3NzIyNjM2LC03NC4wMTkzMTM3NTYzNjAyMl0sCiAgICAgICAgICAgICAgICB7CiAgImJ1YmJsaW5nTW91c2VFdmVudHMiOiB0cnVlLAogICJjb2xvciI6ICJibHVlIiwKICAiZGFzaEFycmF5IjogbnVsbCwKICAiZGFzaE9mZnNldCI6IG51bGwsCiAgImZpbGwiOiB0cnVlLAogICJmaWxsQ29sb3IiOiAiIzMxODZjYyIsCiAgImZpbGxPcGFjaXR5IjogMC43LAogICJmaWxsUnVsZSI6ICJldmVub2RkIiwKICAibGluZUNhcCI6ICJyb3VuZCIsCiAgImxpbmVKb2luIjogInJvdW5kIiwKICAib3BhY2l0eSI6IDEuMCwKICAicmFkaXVzIjogNSwKICAic3Ryb2tlIjogdHJ1ZSwKICAid2VpZ2h0IjogMwp9CiAgICAgICAgICAgICAgICApLmFkZFRvKG1hcF8yYmZkMzY1NWNiNGM0NjE0YmIzY2VjOGRmNDdhNmMyOSk7CiAgICAgICAgICAgIAogICAgCiAgICAgICAgICAgIHZhciBwb3B1cF85MjFiOTYyZThiZjA0MzMxODQ2MGY3ZmJjMWE3OGY4MyA9IEwucG9wdXAoe21heFdpZHRoOiAnMzAwJ30pOwoKICAgICAgICAgICAgCiAgICAgICAgICAgICAgICB2YXIgaHRtbF80N2Y3MjVkNDNiZjY0YTRjYjhiOWIxMzVjOGZjN2Y2YyA9ICQoJzxkaXYgaWQ9Imh0bWxfNDdmNzI1ZDQzYmY2NGE0Y2I4YjliMTM1YzhmYzdmNmMiIHN0eWxlPSJ3aWR0aDogMTAwLjAlOyBoZWlnaHQ6IDEwMC4wJTsiPkR5a2VyIEhlaWdodHM8L2Rpdj4nKVswXTsKICAgICAgICAgICAgICAgIHBvcHVwXzkyMWI5NjJlOGJmMDQzMzE4NDYwZjdmYmMxYTc4ZjgzLnNldENvbnRlbnQoaHRtbF80N2Y3MjVkNDNiZjY0YTRjYjhiOWIxMzVjOGZjN2Y2Yyk7CiAgICAgICAgICAgIAoKICAgICAgICAgICAgY2lyY2xlX21hcmtlcl84ZjAwY2VlZjQ0ZmE0ZTM3YWJkZjEyNDlhN2UzZWY1My5iaW5kUG9wdXAocG9wdXBfOTIxYjk2MmU4YmYwNDMzMTg0NjBmN2ZiYzFhNzhmODMpOwoKICAgICAgICAgICAgCiAgICAgICAgCiAgICAKICAgICAgICAgICAgdmFyIGNpcmNsZV9tYXJrZXJfZmE5OTQyZGJlODZiNDJiMzgxNTk4NTFjMjhiMzQxNWEgPSBMLmNpcmNsZU1hcmtlcigKICAgICAgICAgICAgICAgIFs0MC41OTA4NDg0MzM5MDIwNDYsLTczLjkzMDEwMTcwNjkxMTk2XSwKICAgICAgICAgICAgICAgIHsKICAiYnViYmxpbmdNb3VzZUV2ZW50cyI6IHRydWUsCiAgImNvbG9yIjogImJsdWUiLAogICJkYXNoQXJyYXkiOiBudWxsLAogICJkYXNoT2Zmc2V0IjogbnVsbCwKICAiZmlsbCI6IHRydWUsCiAgImZpbGxDb2xvciI6ICIjMzE4NmNjIiwKICAiZmlsbE9wYWNpdHkiOiAwLjcsCiAgImZpbGxSdWxlIjogImV2ZW5vZGQiLAogICJsaW5lQ2FwIjogInJvdW5kIiwKICAibGluZUpvaW4iOiAicm91bmQiLAogICJvcGFjaXR5IjogMS4wLAogICJyYWRpdXMiOiA1LAogICJzdHJva2UiOiB0cnVlLAogICJ3ZWlnaHQiOiAzCn0KICAgICAgICAgICAgICAgICkuYWRkVG8obWFwXzJiZmQzNjU1Y2I0YzQ2MTRiYjNjZWM4ZGY0N2E2YzI5KTsKICAgICAgICAgICAgCiAgICAKICAgICAgICAgICAgdmFyIHBvcHVwX2ViMzFjNTQzZDRhZDQxYzg4MmNmNDJhODEwYTBlMzNjID0gTC5wb3B1cCh7bWF4V2lkdGg6ICczMDAnfSk7CgogICAgICAgICAgICAKICAgICAgICAgICAgICAgIHZhciBodG1sXzM5MzhmZDhmNTEwMjQ3NzI4Njg3OTVmODQ2NDc1MjhhID0gJCgnPGRpdiBpZD0iaHRtbF8zOTM4ZmQ4ZjUxMDI0NzcyODY4Nzk1Zjg0NjQ3NTI4YSIgc3R5bGU9IndpZHRoOiAxMDAuMCU7IGhlaWdodDogMTAwLjAlOyI+R2Vycml0c2VuIEJlYWNoPC9kaXY+JylbMF07CiAgICAgICAgICAgICAgICBwb3B1cF9lYjMxYzU0M2Q0YWQ0MWM4ODJjZjQyYTgxMGEwZTMzYy5zZXRDb250ZW50KGh0bWxfMzkzOGZkOGY1MTAyNDc3Mjg2ODc5NWY4NDY0NzUyOGEpOwogICAgICAgICAgICAKCiAgICAgICAgICAgIGNpcmNsZV9tYXJrZXJfZmE5OTQyZGJlODZiNDJiMzgxNTk4NTFjMjhiMzQxNWEuYmluZFBvcHVwKHBvcHVwX2ViMzFjNTQzZDRhZDQxYzg4MmNmNDJhODEwYTBlMzNjKTsKCiAgICAgICAgICAgIAogICAgICAgIAogICAgCiAgICAgICAgICAgIHZhciBjaXJjbGVfbWFya2VyXzQwZDVlM2I3YzNiZTQ0OTE4YjMzYTNiNWRkYjVlYzM2ID0gTC5jaXJjbGVNYXJrZXIoCiAgICAgICAgICAgICAgICBbNDAuNjA5NzQ3Nzc5ODk0NjA0LC03My45MzEzNDQwNDEwODQ5N10sCiAgICAgICAgICAgICAgICB7CiAgImJ1YmJsaW5nTW91c2VFdmVudHMiOiB0cnVlLAogICJjb2xvciI6ICJibHVlIiwKICAiZGFzaEFycmF5IjogbnVsbCwKICAiZGFzaE9mZnNldCI6IG51bGwsCiAgImZpbGwiOiB0cnVlLAogICJmaWxsQ29sb3IiOiAiIzMxODZjYyIsCiAgImZpbGxPcGFjaXR5IjogMC43LAogICJmaWxsUnVsZSI6ICJldmVub2RkIiwKICAibGluZUNhcCI6ICJyb3VuZCIsCiAgImxpbmVKb2luIjogInJvdW5kIiwKICAib3BhY2l0eSI6IDEuMCwKICAicmFkaXVzIjogNSwKICAic3Ryb2tlIjogdHJ1ZSwKICAid2VpZ2h0IjogMwp9CiAgICAgICAgICAgICAgICApLmFkZFRvKG1hcF8yYmZkMzY1NWNiNGM0NjE0YmIzY2VjOGRmNDdhNmMyOSk7CiAgICAgICAgICAgIAogICAgCiAgICAgICAgICAgIHZhciBwb3B1cF82N2JiYzQyYjYyYzA0NTMyOGRmMzI0MDQ3YmM3YzdkMCA9IEwucG9wdXAoe21heFdpZHRoOiAnMzAwJ30pOwoKICAgICAgICAgICAgCiAgICAgICAgICAgICAgICB2YXIgaHRtbF8wY2Q4MWFkYTAyYzM0YjE5YjlkOTM2M2Q5ODYwZGQ1MyA9ICQoJzxkaXYgaWQ9Imh0bWxfMGNkODFhZGEwMmMzNGIxOWI5ZDkzNjNkOTg2MGRkNTMiIHN0eWxlPSJ3aWR0aDogMTAwLjAlOyBoZWlnaHQ6IDEwMC4wJTsiPk1hcmluZSBQYXJrPC9kaXY+JylbMF07CiAgICAgICAgICAgICAgICBwb3B1cF82N2JiYzQyYjYyYzA0NTMyOGRmMzI0MDQ3YmM3YzdkMC5zZXRDb250ZW50KGh0bWxfMGNkODFhZGEwMmMzNGIxOWI5ZDkzNjNkOTg2MGRkNTMpOwogICAgICAgICAgICAKCiAgICAgICAgICAgIGNpcmNsZV9tYXJrZXJfNDBkNWUzYjdjM2JlNDQ5MThiMzNhM2I1ZGRiNWVjMzYuYmluZFBvcHVwKHBvcHVwXzY3YmJjNDJiNjJjMDQ1MzI4ZGYzMjQwNDdiYzdjN2QwKTsKCiAgICAgICAgICAgIAogICAgICAgIAogICAgCiAgICAgICAgICAgIHZhciBjaXJjbGVfbWFya2VyX2EzZmYyYmM3ODk0ODQ0MWI5NmEyMzQ3NDA2Njk0ZmM0ID0gTC5jaXJjbGVNYXJrZXIoCiAgICAgICAgICAgICAgICBbNDAuNjkzMjI5NDIxODgxNTA0LC03My45Njc4NDMwNjIxNjM2N10sCiAgICAgICAgICAgICAgICB7CiAgImJ1YmJsaW5nTW91c2VFdmVudHMiOiB0cnVlLAogICJjb2xvciI6ICJibHVlIiwKICAiZGFzaEFycmF5IjogbnVsbCwKICAiZGFzaE9mZnNldCI6IG51bGwsCiAgImZpbGwiOiB0cnVlLAogICJmaWxsQ29sb3IiOiAiIzMxODZjYyIsCiAgImZpbGxPcGFjaXR5IjogMC43LAogICJmaWxsUnVsZSI6ICJldmVub2RkIiwKICAibGluZUNhcCI6ICJyb3VuZCIsCiAgImxpbmVKb2luIjogInJvdW5kIiwKICAib3BhY2l0eSI6IDEuMCwKICAicmFkaXVzIjogNSwKICAic3Ryb2tlIjogdHJ1ZSwKICAid2VpZ2h0IjogMwp9CiAgICAgICAgICAgICAgICApLmFkZFRvKG1hcF8yYmZkMzY1NWNiNGM0NjE0YmIzY2VjOGRmNDdhNmMyOSk7CiAgICAgICAgICAgIAogICAgCiAgICAgICAgICAgIHZhciBwb3B1cF82ZmQ0NzQ3NjNlZWM0MWRjYjBlNDZkNzBlNjE2MGRkMyA9IEwucG9wdXAoe21heFdpZHRoOiAnMzAwJ30pOwoKICAgICAgICAgICAgCiAgICAgICAgICAgICAgICB2YXIgaHRtbF8wYTQyMjgyYjRhZmQ0OGRmYmU5ZmZlM2EzY2Q2NzZjYyA9ICQoJzxkaXYgaWQ9Imh0bWxfMGE0MjI4MmI0YWZkNDhkZmJlOWZmZTNhM2NkNjc2Y2MiIHN0eWxlPSJ3aWR0aDogMTAwLjAlOyBoZWlnaHQ6IDEwMC4wJTsiPkNsaW50b24gSGlsbDwvZGl2PicpWzBdOwogICAgICAgICAgICAgICAgcG9wdXBfNmZkNDc0NzYzZWVjNDFkY2IwZTQ2ZDcwZTYxNjBkZDMuc2V0Q29udGVudChodG1sXzBhNDIyODJiNGFmZDQ4ZGZiZTlmZmUzYTNjZDY3NmNjKTsKICAgICAgICAgICAgCgogICAgICAgICAgICBjaXJjbGVfbWFya2VyX2EzZmYyYmM3ODk0ODQ0MWI5NmEyMzQ3NDA2Njk0ZmM0LmJpbmRQb3B1cChwb3B1cF82ZmQ0NzQ3NjNlZWM0MWRjYjBlNDZkNzBlNjE2MGRkMyk7CgogICAgICAgICAgICAKICAgICAgICAKICAgIAogICAgICAgICAgICB2YXIgY2lyY2xlX21hcmtlcl80NGRmNzM2NzZkMGY0YzM2OTJmNGNkMjY0OTZlNDgxMiA9IEwuY2lyY2xlTWFya2VyKAogICAgICAgICAgICAgICAgWzQwLjU3NjM3NTM3ODkwMjI0LC03NC4wMDc4NzMxMTIwMDI0XSwKICAgICAgICAgICAgICAgIHsKICAiYnViYmxpbmdNb3VzZUV2ZW50cyI6IHRydWUsCiAgImNvbG9yIjogImJsdWUiLAogICJkYXNoQXJyYXkiOiBudWxsLAogICJkYXNoT2Zmc2V0IjogbnVsbCwKICAiZmlsbCI6IHRydWUsCiAgImZpbGxDb2xvciI6ICIjMzE4NmNjIiwKICAiZmlsbE9wYWNpdHkiOiAwLjcsCiAgImZpbGxSdWxlIjogImV2ZW5vZGQiLAogICJsaW5lQ2FwIjogInJvdW5kIiwKICAibGluZUpvaW4iOiAicm91bmQiLAogICJvcGFjaXR5IjogMS4wLAogICJyYWRpdXMiOiA1LAogICJzdHJva2UiOiB0cnVlLAogICJ3ZWlnaHQiOiAzCn0KICAgICAgICAgICAgICAgICkuYWRkVG8obWFwXzJiZmQzNjU1Y2I0YzQ2MTRiYjNjZWM4ZGY0N2E2YzI5KTsKICAgICAgICAgICAgCiAgICAKICAgICAgICAgICAgdmFyIHBvcHVwXzg4ZmJlMGNmZmM0MjRkZjNiYzczNGUyOTkzOTA1NGFjID0gTC5wb3B1cCh7bWF4V2lkdGg6ICczMDAnfSk7CgogICAgICAgICAgICAKICAgICAgICAgICAgICAgIHZhciBodG1sX2ZiYWFlOGMyYTgyZTQ2NmY4MjM0ZjcxZTRiNmZjOGM1ID0gJCgnPGRpdiBpZD0iaHRtbF9mYmFhZThjMmE4MmU0NjZmODIzNGY3MWU0YjZmYzhjNSIgc3R5bGU9IndpZHRoOiAxMDAuMCU7IGhlaWdodDogMTAwLjAlOyI+U2VhIEdhdGU8L2Rpdj4nKVswXTsKICAgICAgICAgICAgICAgIHBvcHVwXzg4ZmJlMGNmZmM0MjRkZjNiYzczNGUyOTkzOTA1NGFjLnNldENvbnRlbnQoaHRtbF9mYmFhZThjMmE4MmU0NjZmODIzNGY3MWU0YjZmYzhjNSk7CiAgICAgICAgICAgIAoKICAgICAgICAgICAgY2lyY2xlX21hcmtlcl80NGRmNzM2NzZkMGY0YzM2OTJmNGNkMjY0OTZlNDgxMi5iaW5kUG9wdXAocG9wdXBfODhmYmUwY2ZmYzQyNGRmM2JjNzM0ZTI5OTM5MDU0YWMpOwoKICAgICAgICAgICAgCiAgICAgICAgCiAgICAKICAgICAgICAgICAgdmFyIGNpcmNsZV9tYXJrZXJfNzgxY2VkNmY4ZGExNDEwZWExMDAwOTU2N2ViOTAzMjcgPSBMLmNpcmNsZU1hcmtlcigKICAgICAgICAgICAgICAgIFs0MC42OTA4NDQwMjEwOTgwMiwtNzMuOTgzNDYzMzc0MzEwOTldLAogICAgICAgICAgICAgICAgewogICJidWJibGluZ01vdXNlRXZlbnRzIjogdHJ1ZSwKICAiY29sb3IiOiAiYmx1ZSIsCiAgImRhc2hBcnJheSI6IG51bGwsCiAgImRhc2hPZmZzZXQiOiBudWxsLAogICJmaWxsIjogdHJ1ZSwKICAiZmlsbENvbG9yIjogIiMzMTg2Y2MiLAogICJmaWxsT3BhY2l0eSI6IDAuNywKICAiZmlsbFJ1bGUiOiAiZXZlbm9kZCIsCiAgImxpbmVDYXAiOiAicm91bmQiLAogICJsaW5lSm9pbiI6ICJyb3VuZCIsCiAgIm9wYWNpdHkiOiAxLjAsCiAgInJhZGl1cyI6IDUsCiAgInN0cm9rZSI6IHRydWUsCiAgIndlaWdodCI6IDMKfQogICAgICAgICAgICAgICAgKS5hZGRUbyhtYXBfMmJmZDM2NTVjYjRjNDYxNGJiM2NlYzhkZjQ3YTZjMjkpOwogICAgICAgICAgICAKICAgIAogICAgICAgICAgICB2YXIgcG9wdXBfZDExYjc3NjRkMzA3NDA4NzlkNTk4NDQwMjI4NjBlYTAgPSBMLnBvcHVwKHttYXhXaWR0aDogJzMwMCd9KTsKCiAgICAgICAgICAgIAogICAgICAgICAgICAgICAgdmFyIGh0bWxfM2NmNTVkNzFkMDM1NDc5MDgwMTNhODE5MzZiZGEyMzAgPSAkKCc8ZGl2IGlkPSJodG1sXzNjZjU1ZDcxZDAzNTQ3OTA4MDEzYTgxOTM2YmRhMjMwIiBzdHlsZT0id2lkdGg6IDEwMC4wJTsgaGVpZ2h0OiAxMDAuMCU7Ij5Eb3dudG93bjwvZGl2PicpWzBdOwogICAgICAgICAgICAgICAgcG9wdXBfZDExYjc3NjRkMzA3NDA4NzlkNTk4NDQwMjI4NjBlYTAuc2V0Q29udGVudChodG1sXzNjZjU1ZDcxZDAzNTQ3OTA4MDEzYTgxOTM2YmRhMjMwKTsKICAgICAgICAgICAgCgogICAgICAgICAgICBjaXJjbGVfbWFya2VyXzc4MWNlZDZmOGRhMTQxMGVhMTAwMDk1NjdlYjkwMzI3LmJpbmRQb3B1cChwb3B1cF9kMTFiNzc2NGQzMDc0MDg3OWQ1OTg0NDAyMjg2MGVhMCk7CgogICAgICAgICAgICAKICAgICAgICAKICAgIAogICAgICAgICAgICB2YXIgY2lyY2xlX21hcmtlcl9lNjZiNDRjMzM2OWE0YWE5YjQ0NWJmZGQ0ODhkMTVkOCA9IEwuY2lyY2xlTWFya2VyKAogICAgICAgICAgICAgICAgWzQwLjY4NTY4MjkxMjA5MTQ0NCwtNzMuOTgzNzQ4MjQxMTU3OThdLAogICAgICAgICAgICAgICAgewogICJidWJibGluZ01vdXNlRXZlbnRzIjogdHJ1ZSwKICAiY29sb3IiOiAiYmx1ZSIsCiAgImRhc2hBcnJheSI6IG51bGwsCiAgImRhc2hPZmZzZXQiOiBudWxsLAogICJmaWxsIjogdHJ1ZSwKICAiZmlsbENvbG9yIjogIiMzMTg2Y2MiLAogICJmaWxsT3BhY2l0eSI6IDAuNywKICAiZmlsbFJ1bGUiOiAiZXZlbm9kZCIsCiAgImxpbmVDYXAiOiAicm91bmQiLAogICJsaW5lSm9pbiI6ICJyb3VuZCIsCiAgIm9wYWNpdHkiOiAxLjAsCiAgInJhZGl1cyI6IDUsCiAgInN0cm9rZSI6IHRydWUsCiAgIndlaWdodCI6IDMKfQogICAgICAgICAgICAgICAgKS5hZGRUbyhtYXBfMmJmZDM2NTVjYjRjNDYxNGJiM2NlYzhkZjQ3YTZjMjkpOwogICAgICAgICAgICAKICAgIAogICAgICAgICAgICB2YXIgcG9wdXBfMzNlOWU3ZmRhNmEwNDI5NTk1MTk5NTkxNDc5N2MxNGMgPSBMLnBvcHVwKHttYXhXaWR0aDogJzMwMCd9KTsKCiAgICAgICAgICAgIAogICAgICAgICAgICAgICAgdmFyIGh0bWxfNjIwM2ZiNWQ2M2UzNGViMGI3ZGNiNWJlNjgzMmZkNjUgPSAkKCc8ZGl2IGlkPSJodG1sXzYyMDNmYjVkNjNlMzRlYjBiN2RjYjViZTY4MzJmZDY1IiBzdHlsZT0id2lkdGg6IDEwMC4wJTsgaGVpZ2h0OiAxMDAuMCU7Ij5Cb2VydW0gSGlsbDwvZGl2PicpWzBdOwogICAgICAgICAgICAgICAgcG9wdXBfMzNlOWU3ZmRhNmEwNDI5NTk1MTk5NTkxNDc5N2MxNGMuc2V0Q29udGVudChodG1sXzYyMDNmYjVkNjNlMzRlYjBiN2RjYjViZTY4MzJmZDY1KTsKICAgICAgICAgICAgCgogICAgICAgICAgICBjaXJjbGVfbWFya2VyX2U2NmI0NGMzMzY5YTRhYTliNDQ1YmZkZDQ4OGQxNWQ4LmJpbmRQb3B1cChwb3B1cF8zM2U5ZTdmZGE2YTA0Mjk1OTUxOTk1OTE0Nzk3YzE0Yyk7CgogICAgICAgICAgICAKICAgICAgICAKICAgIAogICAgICAgICAgICB2YXIgY2lyY2xlX21hcmtlcl81NDYyMmMxZWMzZTQ0ZmNiYWNmMTNhZDlkOGY0ZmRkNyA9IEwuY2lyY2xlTWFya2VyKAogICAgICAgICAgICAgICAgWzQwLjY1ODQyMDAxNzQ2OTgxNSwtNzMuOTU0ODk4NjcwNzc3MTNdLAogICAgICAgICAgICAgICAgewogICJidWJibGluZ01vdXNlRXZlbnRzIjogdHJ1ZSwKICAiY29sb3IiOiAiYmx1ZSIsCiAgImRhc2hBcnJheSI6IG51bGwsCiAgImRhc2hPZmZzZXQiOiBudWxsLAogICJmaWxsIjogdHJ1ZSwKICAiZmlsbENvbG9yIjogIiMzMTg2Y2MiLAogICJmaWxsT3BhY2l0eSI6IDAuNywKICAiZmlsbFJ1bGUiOiAiZXZlbm9kZCIsCiAgImxpbmVDYXAiOiAicm91bmQiLAogICJsaW5lSm9pbiI6ICJyb3VuZCIsCiAgIm9wYWNpdHkiOiAxLjAsCiAgInJhZGl1cyI6IDUsCiAgInN0cm9rZSI6IHRydWUsCiAgIndlaWdodCI6IDMKfQogICAgICAgICAgICAgICAgKS5hZGRUbyhtYXBfMmJmZDM2NTVjYjRjNDYxNGJiM2NlYzhkZjQ3YTZjMjkpOwogICAgICAgICAgICAKICAgIAogICAgICAgICAgICB2YXIgcG9wdXBfMjM0OGI0NmNhNzU4NDU2M2FmYTI3ZGM3ZWNiMjU2ZGEgPSBMLnBvcHVwKHttYXhXaWR0aDogJzMwMCd9KTsKCiAgICAgICAgICAgIAogICAgICAgICAgICAgICAgdmFyIGh0bWxfNDEwMGZhMzdlNzdlNDQ3NTkxYjA3OTMwYWM1MzI0NjUgPSAkKCc8ZGl2IGlkPSJodG1sXzQxMDBmYTM3ZTc3ZTQ0NzU5MWIwNzkzMGFjNTMyNDY1IiBzdHlsZT0id2lkdGg6IDEwMC4wJTsgaGVpZ2h0OiAxMDAuMCU7Ij5Qcm9zcGVjdCBMZWZmZXJ0cyBHYXJkZW5zPC9kaXY+JylbMF07CiAgICAgICAgICAgICAgICBwb3B1cF8yMzQ4YjQ2Y2E3NTg0NTYzYWZhMjdkYzdlY2IyNTZkYS5zZXRDb250ZW50KGh0bWxfNDEwMGZhMzdlNzdlNDQ3NTkxYjA3OTMwYWM1MzI0NjUpOwogICAgICAgICAgICAKCiAgICAgICAgICAgIGNpcmNsZV9tYXJrZXJfNTQ2MjJjMWVjM2U0NGZjYmFjZjEzYWQ5ZDhmNGZkZDcuYmluZFBvcHVwKHBvcHVwXzIzNDhiNDZjYTc1ODQ1NjNhZmEyN2RjN2VjYjI1NmRhKTsKCiAgICAgICAgICAgIAogICAgICAgIAogICAgCiAgICAgICAgICAgIHZhciBjaXJjbGVfbWFya2VyX2ZhZjhiM2U3M2VmOTRiODRhYTc2ODJhYzZiOTAxOGQ4ID0gTC5jaXJjbGVNYXJrZXIoCiAgICAgICAgICAgICAgICBbNDAuNjc4NDAyNTU0Nzk1MzU1LC03My45MTMwNjgzMTc4NzM5NV0sCiAgICAgICAgICAgICAgICB7CiAgImJ1YmJsaW5nTW91c2VFdmVudHMiOiB0cnVlLAogICJjb2xvciI6ICJibHVlIiwKICAiZGFzaEFycmF5IjogbnVsbCwKICAiZGFzaE9mZnNldCI6IG51bGwsCiAgImZpbGwiOiB0cnVlLAogICJmaWxsQ29sb3IiOiAiIzMxODZjYyIsCiAgImZpbGxPcGFjaXR5IjogMC43LAogICJmaWxsUnVsZSI6ICJldmVub2RkIiwKICAibGluZUNhcCI6ICJyb3VuZCIsCiAgImxpbmVKb2luIjogInJvdW5kIiwKICAib3BhY2l0eSI6IDEuMCwKICAicmFkaXVzIjogNSwKICAic3Ryb2tlIjogdHJ1ZSwKICAid2VpZ2h0IjogMwp9CiAgICAgICAgICAgICAgICApLmFkZFRvKG1hcF8yYmZkMzY1NWNiNGM0NjE0YmIzY2VjOGRmNDdhNmMyOSk7CiAgICAgICAgICAgIAogICAgCiAgICAgICAgICAgIHZhciBwb3B1cF85M2E1YjRjMTY0ZjA0YTZjOTI0ZThkYTdlMjVkMDcyYSA9IEwucG9wdXAoe21heFdpZHRoOiAnMzAwJ30pOwoKICAgICAgICAgICAgCiAgICAgICAgICAgICAgICB2YXIgaHRtbF9kM2NhYjg5YjUwMTg0NzhlYWFhZGZkNzJiMDhjNDI0YyA9ICQoJzxkaXYgaWQ9Imh0bWxfZDNjYWI4OWI1MDE4NDc4ZWFhYWRmZDcyYjA4YzQyNGMiIHN0eWxlPSJ3aWR0aDogMTAwLjAlOyBoZWlnaHQ6IDEwMC4wJTsiPk9jZWFuIEhpbGw8L2Rpdj4nKVswXTsKICAgICAgICAgICAgICAgIHBvcHVwXzkzYTViNGMxNjRmMDRhNmM5MjRlOGRhN2UyNWQwNzJhLnNldENvbnRlbnQoaHRtbF9kM2NhYjg5YjUwMTg0NzhlYWFhZGZkNzJiMDhjNDI0Yyk7CiAgICAgICAgICAgIAoKICAgICAgICAgICAgY2lyY2xlX21hcmtlcl9mYWY4YjNlNzNlZjk0Yjg0YWE3NjgyYWM2YjkwMThkOC5iaW5kUG9wdXAocG9wdXBfOTNhNWI0YzE2NGYwNGE2YzkyNGU4ZGE3ZTI1ZDA3MmEpOwoKICAgICAgICAgICAgCiAgICAgICAgCiAgICAKICAgICAgICAgICAgdmFyIGNpcmNsZV9tYXJrZXJfNWNiYjRjZjkwZTZiNDE3ZjhmMTdhM2UxN2JmYWU0OWQgPSBMLmNpcmNsZU1hcmtlcigKICAgICAgICAgICAgICAgIFs0MC42Nzg1Njk5NTcyNzQ3OSwtNzMuODY3OTc1OTgwODEzMzRdLAogICAgICAgICAgICAgICAgewogICJidWJibGluZ01vdXNlRXZlbnRzIjogdHJ1ZSwKICAiY29sb3IiOiAiYmx1ZSIsCiAgImRhc2hBcnJheSI6IG51bGwsCiAgImRhc2hPZmZzZXQiOiBudWxsLAogICJmaWxsIjogdHJ1ZSwKICAiZmlsbENvbG9yIjogIiMzMTg2Y2MiLAogICJmaWxsT3BhY2l0eSI6IDAuNywKICAiZmlsbFJ1bGUiOiAiZXZlbm9kZCIsCiAgImxpbmVDYXAiOiAicm91bmQiLAogICJsaW5lSm9pbiI6ICJyb3VuZCIsCiAgIm9wYWNpdHkiOiAxLjAsCiAgInJhZGl1cyI6IDUsCiAgInN0cm9rZSI6IHRydWUsCiAgIndlaWdodCI6IDMKfQogICAgICAgICAgICAgICAgKS5hZGRUbyhtYXBfMmJmZDM2NTVjYjRjNDYxNGJiM2NlYzhkZjQ3YTZjMjkpOwogICAgICAgICAgICAKICAgIAogICAgICAgICAgICB2YXIgcG9wdXBfMmQzNjI4MDllNGFjNGFkNTlhNzE4NDAzNzk2NTY5MWEgPSBMLnBvcHVwKHttYXhXaWR0aDogJzMwMCd9KTsKCiAgICAgICAgICAgIAogICAgICAgICAgICAgICAgdmFyIGh0bWxfNGE4NzFjZDk3YThhNDAwOTk0YmE1NjAwM2IzMTIyYTAgPSAkKCc8ZGl2IGlkPSJodG1sXzRhODcxY2Q5N2E4YTQwMDk5NGJhNTYwMDNiMzEyMmEwIiBzdHlsZT0id2lkdGg6IDEwMC4wJTsgaGVpZ2h0OiAxMDAuMCU7Ij5DaXR5IExpbmU8L2Rpdj4nKVswXTsKICAgICAgICAgICAgICAgIHBvcHVwXzJkMzYyODA5ZTRhYzRhZDU5YTcxODQwMzc5NjU2OTFhLnNldENvbnRlbnQoaHRtbF80YTg3MWNkOTdhOGE0MDA5OTRiYTU2MDAzYjMxMjJhMCk7CiAgICAgICAgICAgIAoKICAgICAgICAgICAgY2lyY2xlX21hcmtlcl81Y2JiNGNmOTBlNmI0MTdmOGYxN2EzZTE3YmZhZTQ5ZC5iaW5kUG9wdXAocG9wdXBfMmQzNjI4MDllNGFjNGFkNTlhNzE4NDAzNzk2NTY5MWEpOwoKICAgICAgICAgICAgCiAgICAgICAgCiAgICAKICAgICAgICAgICAgdmFyIGNpcmNsZV9tYXJrZXJfNjY4MGFlYzdmNDgwNDZhOTg5M2Y3ZGNlNjAyMTlmZjQgPSBMLmNpcmNsZU1hcmtlcigKICAgICAgICAgICAgICAgIFs0MC42MTUxNDk1NTA0NTMwOCwtNzMuODk4NTU2MzM2MzAzMTddLAogICAgICAgICAgICAgICAgewogICJidWJibGluZ01vdXNlRXZlbnRzIjogdHJ1ZSwKICAiY29sb3IiOiAiYmx1ZSIsCiAgImRhc2hBcnJheSI6IG51bGwsCiAgImRhc2hPZmZzZXQiOiBudWxsLAogICJmaWxsIjogdHJ1ZSwKICAiZmlsbENvbG9yIjogIiMzMTg2Y2MiLAogICJmaWxsT3BhY2l0eSI6IDAuNywKICAiZmlsbFJ1bGUiOiAiZXZlbm9kZCIsCiAgImxpbmVDYXAiOiAicm91bmQiLAogICJsaW5lSm9pbiI6ICJyb3VuZCIsCiAgIm9wYWNpdHkiOiAxLjAsCiAgInJhZGl1cyI6IDUsCiAgInN0cm9rZSI6IHRydWUsCiAgIndlaWdodCI6IDMKfQogICAgICAgICAgICAgICAgKS5hZGRUbyhtYXBfMmJmZDM2NTVjYjRjNDYxNGJiM2NlYzhkZjQ3YTZjMjkpOwogICAgICAgICAgICAKICAgIAogICAgICAgICAgICB2YXIgcG9wdXBfNzc5YjFmMzg3OWEzNDRjNmFiOWY2MmNjZWFkZjExOTIgPSBMLnBvcHVwKHttYXhXaWR0aDogJzMwMCd9KTsKCiAgICAgICAgICAgIAogICAgICAgICAgICAgICAgdmFyIGh0bWxfMDVkZmFhODc3NmFmNGI4ZWJmZjA1YjE4NDkwYWQzMWQgPSAkKCc8ZGl2IGlkPSJodG1sXzA1ZGZhYTg3NzZhZjRiOGViZmYwNWIxODQ5MGFkMzFkIiBzdHlsZT0id2lkdGg6IDEwMC4wJTsgaGVpZ2h0OiAxMDAuMCU7Ij5CZXJnZW4gQmVhY2g8L2Rpdj4nKVswXTsKICAgICAgICAgICAgICAgIHBvcHVwXzc3OWIxZjM4NzlhMzQ0YzZhYjlmNjJjY2VhZGYxMTkyLnNldENvbnRlbnQoaHRtbF8wNWRmYWE4Nzc2YWY0YjhlYmZmMDViMTg0OTBhZDMxZCk7CiAgICAgICAgICAgIAoKICAgICAgICAgICAgY2lyY2xlX21hcmtlcl82NjgwYWVjN2Y0ODA0NmE5ODkzZjdkY2U2MDIxOWZmNC5iaW5kUG9wdXAocG9wdXBfNzc5YjFmMzg3OWEzNDRjNmFiOWY2MmNjZWFkZjExOTIpOwoKICAgICAgICAgICAgCiAgICAgICAgCiAgICAKICAgICAgICAgICAgdmFyIGNpcmNsZV9tYXJrZXJfMDcwOWJmOTNmMmQ5NDBjMDlkMWJkZWI2MGNjYmUwZTggPSBMLmNpcmNsZU1hcmtlcigKICAgICAgICAgICAgICAgIFs0MC42MjU1OTU4OTg2OTg0MywtNzMuOTU3NTk1MjM0ODk4MzhdLAogICAgICAgICAgICAgICAgewogICJidWJibGluZ01vdXNlRXZlbnRzIjogdHJ1ZSwKICAiY29sb3IiOiAiYmx1ZSIsCiAgImRhc2hBcnJheSI6IG51bGwsCiAgImRhc2hPZmZzZXQiOiBudWxsLAogICJmaWxsIjogdHJ1ZSwKICAiZmlsbENvbG9yIjogIiMzMTg2Y2MiLAogICJmaWxsT3BhY2l0eSI6IDAuNywKICAiZmlsbFJ1bGUiOiAiZXZlbm9kZCIsCiAgImxpbmVDYXAiOiAicm91bmQiLAogICJsaW5lSm9pbiI6ICJyb3VuZCIsCiAgIm9wYWNpdHkiOiAxLjAsCiAgInJhZGl1cyI6IDUsCiAgInN0cm9rZSI6IHRydWUsCiAgIndlaWdodCI6IDMKfQogICAgICAgICAgICAgICAgKS5hZGRUbyhtYXBfMmJmZDM2NTVjYjRjNDYxNGJiM2NlYzhkZjQ3YTZjMjkpOwogICAgICAgICAgICAKICAgIAogICAgICAgICAgICB2YXIgcG9wdXBfMDRjNDU5MDQyY2E2NDZhZTgwYmMyZTA5MzAwMTAyMmEgPSBMLnBvcHVwKHttYXhXaWR0aDogJzMwMCd9KTsKCiAgICAgICAgICAgIAogICAgICAgICAgICAgICAgdmFyIGh0bWxfYzMxNTllMmZmOWVjNDk1NmEwMDc4MzZiYjJjZGJmNzggPSAkKCc8ZGl2IGlkPSJodG1sX2MzMTU5ZTJmZjllYzQ5NTZhMDA3ODM2YmIyY2RiZjc4IiBzdHlsZT0id2lkdGg6IDEwMC4wJTsgaGVpZ2h0OiAxMDAuMCU7Ij5NaWR3b29kPC9kaXY+JylbMF07CiAgICAgICAgICAgICAgICBwb3B1cF8wNGM0NTkwNDJjYTY0NmFlODBiYzJlMDkzMDAxMDIyYS5zZXRDb250ZW50KGh0bWxfYzMxNTllMmZmOWVjNDk1NmEwMDc4MzZiYjJjZGJmNzgpOwogICAgICAgICAgICAKCiAgICAgICAgICAgIGNpcmNsZV9tYXJrZXJfMDcwOWJmOTNmMmQ5NDBjMDlkMWJkZWI2MGNjYmUwZTguYmluZFBvcHVwKHBvcHVwXzA0YzQ1OTA0MmNhNjQ2YWU4MGJjMmUwOTMwMDEwMjJhKTsKCiAgICAgICAgICAgIAogICAgICAgIAogICAgCiAgICAgICAgICAgIHZhciBjaXJjbGVfbWFya2VyXzY4YjI5NzVlM2UxOTQ3NzM4NTQzMWViNDI1NDA4MzVhID0gTC5jaXJjbGVNYXJrZXIoCiAgICAgICAgICAgICAgICBbNDAuNjQ3MDA4NjAzMTg1MTg1LC03My45NjI2MTMxNjcxNjA0OF0sCiAgICAgICAgICAgICAgICB7CiAgImJ1YmJsaW5nTW91c2VFdmVudHMiOiB0cnVlLAogICJjb2xvciI6ICJibHVlIiwKICAiZGFzaEFycmF5IjogbnVsbCwKICAiZGFzaE9mZnNldCI6IG51bGwsCiAgImZpbGwiOiB0cnVlLAogICJmaWxsQ29sb3IiOiAiIzMxODZjYyIsCiAgImZpbGxPcGFjaXR5IjogMC43LAogICJmaWxsUnVsZSI6ICJldmVub2RkIiwKICAibGluZUNhcCI6ICJyb3VuZCIsCiAgImxpbmVKb2luIjogInJvdW5kIiwKICAib3BhY2l0eSI6IDEuMCwKICAicmFkaXVzIjogNSwKICAic3Ryb2tlIjogdHJ1ZSwKICAid2VpZ2h0IjogMwp9CiAgICAgICAgICAgICAgICApLmFkZFRvKG1hcF8yYmZkMzY1NWNiNGM0NjE0YmIzY2VjOGRmNDdhNmMyOSk7CiAgICAgICAgICAgIAogICAgCiAgICAgICAgICAgIHZhciBwb3B1cF83YjI2YmJjOTU3NDQ0MDFkYWMwZjM4ZjVhZTllNzc0ZSA9IEwucG9wdXAoe21heFdpZHRoOiAnMzAwJ30pOwoKICAgICAgICAgICAgCiAgICAgICAgICAgICAgICB2YXIgaHRtbF80ZDAyZmI2YzgzNDY0NDYzYjgyOWRkYjZlY2RjOWQwNiA9ICQoJzxkaXYgaWQ9Imh0bWxfNGQwMmZiNmM4MzQ2NDQ2M2I4MjlkZGI2ZWNkYzlkMDYiIHN0eWxlPSJ3aWR0aDogMTAwLjAlOyBoZWlnaHQ6IDEwMC4wJTsiPlByb3NwZWN0IFBhcmsgU291dGg8L2Rpdj4nKVswXTsKICAgICAgICAgICAgICAgIHBvcHVwXzdiMjZiYmM5NTc0NDQwMWRhYzBmMzhmNWFlOWU3NzRlLnNldENvbnRlbnQoaHRtbF80ZDAyZmI2YzgzNDY0NDYzYjgyOWRkYjZlY2RjOWQwNik7CiAgICAgICAgICAgIAoKICAgICAgICAgICAgY2lyY2xlX21hcmtlcl82OGIyOTc1ZTNlMTk0NzczODU0MzFlYjQyNTQwODM1YS5iaW5kUG9wdXAocG9wdXBfN2IyNmJiYzk1NzQ0NDAxZGFjMGYzOGY1YWU5ZTc3NGUpOwoKICAgICAgICAgICAgCiAgICAgICAgCiAgICAKICAgICAgICAgICAgdmFyIGNpcmNsZV9tYXJrZXJfNDY4OWRhMWUxZDIwNDk3OGI3OTk1MjM3Nzg4YzJkNzEgPSBMLmNpcmNsZU1hcmtlcigKICAgICAgICAgICAgICAgIFs0MC42MjM4NDUyNDQ3ODQxOSwtNzMuOTE2MDc0ODM5NTEzMjRdLAogICAgICAgICAgICAgICAgewogICJidWJibGluZ01vdXNlRXZlbnRzIjogdHJ1ZSwKICAiY29sb3IiOiAiYmx1ZSIsCiAgImRhc2hBcnJheSI6IG51bGwsCiAgImRhc2hPZmZzZXQiOiBudWxsLAogICJmaWxsIjogdHJ1ZSwKICAiZmlsbENvbG9yIjogIiMzMTg2Y2MiLAogICJmaWxsT3BhY2l0eSI6IDAuNywKICAiZmlsbFJ1bGUiOiAiZXZlbm9kZCIsCiAgImxpbmVDYXAiOiAicm91bmQiLAogICJsaW5lSm9pbiI6ICJyb3VuZCIsCiAgIm9wYWNpdHkiOiAxLjAsCiAgInJhZGl1cyI6IDUsCiAgInN0cm9rZSI6IHRydWUsCiAgIndlaWdodCI6IDMKfQogICAgICAgICAgICAgICAgKS5hZGRUbyhtYXBfMmJmZDM2NTVjYjRjNDYxNGJiM2NlYzhkZjQ3YTZjMjkpOwogICAgICAgICAgICAKICAgIAogICAgICAgICAgICB2YXIgcG9wdXBfMGNlOGUzNjk5NzgyNDNlZjkyZDVlMGJkM2EzMmVmODYgPSBMLnBvcHVwKHttYXhXaWR0aDogJzMwMCd9KTsKCiAgICAgICAgICAgIAogICAgICAgICAgICAgICAgdmFyIGh0bWxfZjFhNzg5ZTMzZWRiNDQ1YzkxODA0NzhhYjE4OWRmZDcgPSAkKCc8ZGl2IGlkPSJodG1sX2YxYTc4OWUzM2VkYjQ0NWM5MTgwNDc4YWIxODlkZmQ3IiBzdHlsZT0id2lkdGg6IDEwMC4wJTsgaGVpZ2h0OiAxMDAuMCU7Ij5HZW9yZ2V0b3duPC9kaXY+JylbMF07CiAgICAgICAgICAgICAgICBwb3B1cF8wY2U4ZTM2OTk3ODI0M2VmOTJkNWUwYmQzYTMyZWY4Ni5zZXRDb250ZW50KGh0bWxfZjFhNzg5ZTMzZWRiNDQ1YzkxODA0NzhhYjE4OWRmZDcpOwogICAgICAgICAgICAKCiAgICAgICAgICAgIGNpcmNsZV9tYXJrZXJfNDY4OWRhMWUxZDIwNDk3OGI3OTk1MjM3Nzg4YzJkNzEuYmluZFBvcHVwKHBvcHVwXzBjZThlMzY5OTc4MjQzZWY5MmQ1ZTBiZDNhMzJlZjg2KTsKCiAgICAgICAgICAgIAogICAgICAgIAogICAgCiAgICAgICAgICAgIHZhciBjaXJjbGVfbWFya2VyXzYzZmVlNGNlZGNjNjQ5NzBiMjZiODE4NmE0NDZhYmIzID0gTC5jaXJjbGVNYXJrZXIoCiAgICAgICAgICAgICAgICBbNDAuNzA4NDkyNDEwNDE1NDgsLTczLjkzODg1ODE1MjY5MTk1XSwKICAgICAgICAgICAgICAgIHsKICAiYnViYmxpbmdNb3VzZUV2ZW50cyI6IHRydWUsCiAgImNvbG9yIjogImJsdWUiLAogICJkYXNoQXJyYXkiOiBudWxsLAogICJkYXNoT2Zmc2V0IjogbnVsbCwKICAiZmlsbCI6IHRydWUsCiAgImZpbGxDb2xvciI6ICIjMzE4NmNjIiwKICAiZmlsbE9wYWNpdHkiOiAwLjcsCiAgImZpbGxSdWxlIjogImV2ZW5vZGQiLAogICJsaW5lQ2FwIjogInJvdW5kIiwKICAibGluZUpvaW4iOiAicm91bmQiLAogICJvcGFjaXR5IjogMS4wLAogICJyYWRpdXMiOiA1LAogICJzdHJva2UiOiB0cnVlLAogICJ3ZWlnaHQiOiAzCn0KICAgICAgICAgICAgICAgICkuYWRkVG8obWFwXzJiZmQzNjU1Y2I0YzQ2MTRiYjNjZWM4ZGY0N2E2YzI5KTsKICAgICAgICAgICAgCiAgICAKICAgICAgICAgICAgdmFyIHBvcHVwX2U5ZmMwMDU1MmY2NDRlZTI4NTA3YWQ4NWE1Y2NlNmY3ID0gTC5wb3B1cCh7bWF4V2lkdGg6ICczMDAnfSk7CgogICAgICAgICAgICAKICAgICAgICAgICAgICAgIHZhciBodG1sXzRkMzkxNWJlZDExZTRkOTI5MWU1MmM0YWJiYTc0ODFlID0gJCgnPGRpdiBpZD0iaHRtbF80ZDM5MTViZWQxMWU0ZDkyOTFlNTJjNGFiYmE3NDgxZSIgc3R5bGU9IndpZHRoOiAxMDAuMCU7IGhlaWdodDogMTAwLjAlOyI+RWFzdCBXaWxsaWFtc2J1cmc8L2Rpdj4nKVswXTsKICAgICAgICAgICAgICAgIHBvcHVwX2U5ZmMwMDU1MmY2NDRlZTI4NTA3YWQ4NWE1Y2NlNmY3LnNldENvbnRlbnQoaHRtbF80ZDM5MTViZWQxMWU0ZDkyOTFlNTJjNGFiYmE3NDgxZSk7CiAgICAgICAgICAgIAoKICAgICAgICAgICAgY2lyY2xlX21hcmtlcl82M2ZlZTRjZWRjYzY0OTcwYjI2YjgxODZhNDQ2YWJiMy5iaW5kUG9wdXAocG9wdXBfZTlmYzAwNTUyZjY0NGVlMjg1MDdhZDg1YTVjY2U2ZjcpOwoKICAgICAgICAgICAgCiAgICAgICAgCiAgICAKICAgICAgICAgICAgdmFyIGNpcmNsZV9tYXJrZXJfMGYwZDc3NjgwNDY1NDkwN2JkZTBhNGFjMGRkMDEwY2MgPSBMLmNpcmNsZU1hcmtlcigKICAgICAgICAgICAgICAgIFs0MC43MTQ4MjI5MDY1MzIwMTQsLTczLjk1ODgwODU3NTg3NTgyXSwKICAgICAgICAgICAgICAgIHsKICAiYnViYmxpbmdNb3VzZUV2ZW50cyI6IHRydWUsCiAgImNvbG9yIjogImJsdWUiLAogICJkYXNoQXJyYXkiOiBudWxsLAogICJkYXNoT2Zmc2V0IjogbnVsbCwKICAiZmlsbCI6IHRydWUsCiAgImZpbGxDb2xvciI6ICIjMzE4NmNjIiwKICAiZmlsbE9wYWNpdHkiOiAwLjcsCiAgImZpbGxSdWxlIjogImV2ZW5vZGQiLAogICJsaW5lQ2FwIjogInJvdW5kIiwKICAibGluZUpvaW4iOiAicm91bmQiLAogICJvcGFjaXR5IjogMS4wLAogICJyYWRpdXMiOiA1LAogICJzdHJva2UiOiB0cnVlLAogICJ3ZWlnaHQiOiAzCn0KICAgICAgICAgICAgICAgICkuYWRkVG8obWFwXzJiZmQzNjU1Y2I0YzQ2MTRiYjNjZWM4ZGY0N2E2YzI5KTsKICAgICAgICAgICAgCiAgICAKICAgICAgICAgICAgdmFyIHBvcHVwXzNhODQ3NmFmZmQwZDQxYzI5MmUxZmI4NDE0MzNjMTNhID0gTC5wb3B1cCh7bWF4V2lkdGg6ICczMDAnfSk7CgogICAgICAgICAgICAKICAgICAgICAgICAgICAgIHZhciBodG1sX2U3MTYzODg0OTI1YTRhOWZiMTNmOGM5MzI5Yzg4Y2EwID0gJCgnPGRpdiBpZD0iaHRtbF9lNzE2Mzg4NDkyNWE0YTlmYjEzZjhjOTMyOWM4OGNhMCIgc3R5bGU9IndpZHRoOiAxMDAuMCU7IGhlaWdodDogMTAwLjAlOyI+Tm9ydGggU2lkZTwvZGl2PicpWzBdOwogICAgICAgICAgICAgICAgcG9wdXBfM2E4NDc2YWZmZDBkNDFjMjkyZTFmYjg0MTQzM2MxM2Euc2V0Q29udGVudChodG1sX2U3MTYzODg0OTI1YTRhOWZiMTNmOGM5MzI5Yzg4Y2EwKTsKICAgICAgICAgICAgCgogICAgICAgICAgICBjaXJjbGVfbWFya2VyXzBmMGQ3NzY4MDQ2NTQ5MDdiZGUwYTRhYzBkZDAxMGNjLmJpbmRQb3B1cChwb3B1cF8zYTg0NzZhZmZkMGQ0MWMyOTJlMWZiODQxNDMzYzEzYSk7CgogICAgICAgICAgICAKICAgICAgICAKICAgIAogICAgICAgICAgICB2YXIgY2lyY2xlX21hcmtlcl82NjE2MTI4NDgyZjk0Njc3YTQwYTIxNzA0Y2MxNDg1YiA9IEwuY2lyY2xlTWFya2VyKAogICAgICAgICAgICAgICAgWzQwLjcxMDg2MTQ3MjY1MDY0LC03My45NTgwMDA5NTE1MzMzMV0sCiAgICAgICAgICAgICAgICB7CiAgImJ1YmJsaW5nTW91c2VFdmVudHMiOiB0cnVlLAogICJjb2xvciI6ICJibHVlIiwKICAiZGFzaEFycmF5IjogbnVsbCwKICAiZGFzaE9mZnNldCI6IG51bGwsCiAgImZpbGwiOiB0cnVlLAogICJmaWxsQ29sb3IiOiAiIzMxODZjYyIsCiAgImZpbGxPcGFjaXR5IjogMC43LAogICJmaWxsUnVsZSI6ICJldmVub2RkIiwKICAibGluZUNhcCI6ICJyb3VuZCIsCiAgImxpbmVKb2luIjogInJvdW5kIiwKICAib3BhY2l0eSI6IDEuMCwKICAicmFkaXVzIjogNSwKICAic3Ryb2tlIjogdHJ1ZSwKICAid2VpZ2h0IjogMwp9CiAgICAgICAgICAgICAgICApLmFkZFRvKG1hcF8yYmZkMzY1NWNiNGM0NjE0YmIzY2VjOGRmNDdhNmMyOSk7CiAgICAgICAgICAgIAogICAgCiAgICAgICAgICAgIHZhciBwb3B1cF8wM2E4ODViNDBkMTE0MWFkYThlODM2NWM5NmVmODk5MyA9IEwucG9wdXAoe21heFdpZHRoOiAnMzAwJ30pOwoKICAgICAgICAgICAgCiAgICAgICAgICAgICAgICB2YXIgaHRtbF9kODIxMTFiMDkwOTA0YTA0ODIzMjhhYThhNDhlMzUyOSA9ICQoJzxkaXYgaWQ9Imh0bWxfZDgyMTExYjA5MDkwNGEwNDgyMzI4YWE4YTQ4ZTM1MjkiIHN0eWxlPSJ3aWR0aDogMTAwLjAlOyBoZWlnaHQ6IDEwMC4wJTsiPlNvdXRoIFNpZGU8L2Rpdj4nKVswXTsKICAgICAgICAgICAgICAgIHBvcHVwXzAzYTg4NWI0MGQxMTQxYWRhOGU4MzY1Yzk2ZWY4OTkzLnNldENvbnRlbnQoaHRtbF9kODIxMTFiMDkwOTA0YTA0ODIzMjhhYThhNDhlMzUyOSk7CiAgICAgICAgICAgIAoKICAgICAgICAgICAgY2lyY2xlX21hcmtlcl82NjE2MTI4NDgyZjk0Njc3YTQwYTIxNzA0Y2MxNDg1Yi5iaW5kUG9wdXAocG9wdXBfMDNhODg1YjQwZDExNDFhZGE4ZTgzNjVjOTZlZjg5OTMpOwoKICAgICAgICAgICAgCiAgICAgICAgCiAgICAKICAgICAgICAgICAgdmFyIGNpcmNsZV9tYXJrZXJfZjA2M2JkZmJlNjRjNGYwOThkMjI1MTAzNWIzNDEzNTggPSBMLmNpcmNsZU1hcmtlcigKICAgICAgICAgICAgICAgIFs0MC42MTMwNTk3NjY2Nzk0MiwtNzMuOTY4MzY2NzgwMzU1NDFdLAogICAgICAgICAgICAgICAgewogICJidWJibGluZ01vdXNlRXZlbnRzIjogdHJ1ZSwKICAiY29sb3IiOiAiYmx1ZSIsCiAgImRhc2hBcnJheSI6IG51bGwsCiAgImRhc2hPZmZzZXQiOiBudWxsLAogICJmaWxsIjogdHJ1ZSwKICAiZmlsbENvbG9yIjogIiMzMTg2Y2MiLAogICJmaWxsT3BhY2l0eSI6IDAuNywKICAiZmlsbFJ1bGUiOiAiZXZlbm9kZCIsCiAgImxpbmVDYXAiOiAicm91bmQiLAogICJsaW5lSm9pbiI6ICJyb3VuZCIsCiAgIm9wYWNpdHkiOiAxLjAsCiAgInJhZGl1cyI6IDUsCiAgInN0cm9rZSI6IHRydWUsCiAgIndlaWdodCI6IDMKfQogICAgICAgICAgICAgICAgKS5hZGRUbyhtYXBfMmJmZDM2NTVjYjRjNDYxNGJiM2NlYzhkZjQ3YTZjMjkpOwogICAgICAgICAgICAKICAgIAogICAgICAgICAgICB2YXIgcG9wdXBfZmMwMDU3OTdmMmMxNDljYzhkZjBjY2IwNzlmODJmZGQgPSBMLnBvcHVwKHttYXhXaWR0aDogJzMwMCd9KTsKCiAgICAgICAgICAgIAogICAgICAgICAgICAgICAgdmFyIGh0bWxfNDU3OWNlMWVlMjBjNGQ0MTg2ODEwNWY0ZTUwZjljMDYgPSAkKCc8ZGl2IGlkPSJodG1sXzQ1NzljZTFlZTIwYzRkNDE4NjgxMDVmNGU1MGY5YzA2IiBzdHlsZT0id2lkdGg6IDEwMC4wJTsgaGVpZ2h0OiAxMDAuMCU7Ij5PY2VhbiBQYXJrd2F5PC9kaXY+JylbMF07CiAgICAgICAgICAgICAgICBwb3B1cF9mYzAwNTc5N2YyYzE0OWNjOGRmMGNjYjA3OWY4MmZkZC5zZXRDb250ZW50KGh0bWxfNDU3OWNlMWVlMjBjNGQ0MTg2ODEwNWY0ZTUwZjljMDYpOwogICAgICAgICAgICAKCiAgICAgICAgICAgIGNpcmNsZV9tYXJrZXJfZjA2M2JkZmJlNjRjNGYwOThkMjI1MTAzNWIzNDEzNTguYmluZFBvcHVwKHBvcHVwX2ZjMDA1Nzk3ZjJjMTQ5Y2M4ZGYwY2NiMDc5ZjgyZmRkKTsKCiAgICAgICAgICAgIAogICAgICAgIAogICAgCiAgICAgICAgICAgIHZhciBjaXJjbGVfbWFya2VyXzJlYjcxZjkwNmY4NzQwYjBiNjk4MzkwODA3MTI5ZjNkID0gTC5jaXJjbGVNYXJrZXIoCiAgICAgICAgICAgICAgICBbNDAuNjE0NzY4MTI2OTQyMjYsLTc0LjAzMTk3OTE0NTM3OTg0XSwKICAgICAgICAgICAgICAgIHsKICAiYnViYmxpbmdNb3VzZUV2ZW50cyI6IHRydWUsCiAgImNvbG9yIjogImJsdWUiLAogICJkYXNoQXJyYXkiOiBudWxsLAogICJkYXNoT2Zmc2V0IjogbnVsbCwKICAiZmlsbCI6IHRydWUsCiAgImZpbGxDb2xvciI6ICIjMzE4NmNjIiwKICAiZmlsbE9wYWNpdHkiOiAwLjcsCiAgImZpbGxSdWxlIjogImV2ZW5vZGQiLAogICJsaW5lQ2FwIjogInJvdW5kIiwKICAibGluZUpvaW4iOiAicm91bmQiLAogICJvcGFjaXR5IjogMS4wLAogICJyYWRpdXMiOiA1LAogICJzdHJva2UiOiB0cnVlLAogICJ3ZWlnaHQiOiAzCn0KICAgICAgICAgICAgICAgICkuYWRkVG8obWFwXzJiZmQzNjU1Y2I0YzQ2MTRiYjNjZWM4ZGY0N2E2YzI5KTsKICAgICAgICAgICAgCiAgICAKICAgICAgICAgICAgdmFyIHBvcHVwXzFlMmIyMGQ1OWE0YTQwOTI4YzMxZGQ2NDMxNzQ0NDgwID0gTC5wb3B1cCh7bWF4V2lkdGg6ICczMDAnfSk7CgogICAgICAgICAgICAKICAgICAgICAgICAgICAgIHZhciBodG1sXzBkNTk0ZmY1NGQxOTQxOTJiODMyYmE3ODMzZDVhOThlID0gJCgnPGRpdiBpZD0iaHRtbF8wZDU5NGZmNTRkMTk0MTkyYjgzMmJhNzgzM2Q1YTk4ZSIgc3R5bGU9IndpZHRoOiAxMDAuMCU7IGhlaWdodDogMTAwLjAlOyI+Rm9ydCBIYW1pbHRvbjwvZGl2PicpWzBdOwogICAgICAgICAgICAgICAgcG9wdXBfMWUyYjIwZDU5YTRhNDA5MjhjMzFkZDY0MzE3NDQ0ODAuc2V0Q29udGVudChodG1sXzBkNTk0ZmY1NGQxOTQxOTJiODMyYmE3ODMzZDVhOThlKTsKICAgICAgICAgICAgCgogICAgICAgICAgICBjaXJjbGVfbWFya2VyXzJlYjcxZjkwNmY4NzQwYjBiNjk4MzkwODA3MTI5ZjNkLmJpbmRQb3B1cChwb3B1cF8xZTJiMjBkNTlhNGE0MDkyOGMzMWRkNjQzMTc0NDQ4MCk7CgogICAgICAgICAgICAKICAgICAgICAKICAgIAogICAgICAgICAgICB2YXIgY2lyY2xlX21hcmtlcl9kOTgyYTRjN2RlOGM0Y2UzYTAyNTAwYmExYTk3MGZmMSA9IEwuY2lyY2xlTWFya2VyKAogICAgICAgICAgICAgICAgWzQwLjY0MzY3NTE4MzM0MDk3NCwtNzMuOTYxMDEzMTI0NjY3NzldLAogICAgICAgICAgICAgICAgewogICJidWJibGluZ01vdXNlRXZlbnRzIjogdHJ1ZSwKICAiY29sb3IiOiAiYmx1ZSIsCiAgImRhc2hBcnJheSI6IG51bGwsCiAgImRhc2hPZmZzZXQiOiBudWxsLAogICJmaWxsIjogdHJ1ZSwKICAiZmlsbENvbG9yIjogIiMzMTg2Y2MiLAogICJmaWxsT3BhY2l0eSI6IDAuNywKICAiZmlsbFJ1bGUiOiAiZXZlbm9kZCIsCiAgImxpbmVDYXAiOiAicm91bmQiLAogICJsaW5lSm9pbiI6ICJyb3VuZCIsCiAgIm9wYWNpdHkiOiAxLjAsCiAgInJhZGl1cyI6IDUsCiAgInN0cm9rZSI6IHRydWUsCiAgIndlaWdodCI6IDMKfQogICAgICAgICAgICAgICAgKS5hZGRUbyhtYXBfMmJmZDM2NTVjYjRjNDYxNGJiM2NlYzhkZjQ3YTZjMjkpOwogICAgICAgICAgICAKICAgIAogICAgICAgICAgICB2YXIgcG9wdXBfYjg5YzY4NTAzNDg1NDRlNWI5ZDFkNmE1YTI5ZGFkMDggPSBMLnBvcHVwKHttYXhXaWR0aDogJzMwMCd9KTsKCiAgICAgICAgICAgIAogICAgICAgICAgICAgICAgdmFyIGh0bWxfYjk1YWY5OWRhYWY0NGM0Nzg2NjFkMTI4OTc2ZjRhZTEgPSAkKCc8ZGl2IGlkPSJodG1sX2I5NWFmOTlkYWFmNDRjNDc4NjYxZDEyODk3NmY0YWUxIiBzdHlsZT0id2lkdGg6IDEwMC4wJTsgaGVpZ2h0OiAxMDAuMCU7Ij5EaXRtYXMgUGFyazwvZGl2PicpWzBdOwogICAgICAgICAgICAgICAgcG9wdXBfYjg5YzY4NTAzNDg1NDRlNWI5ZDFkNmE1YTI5ZGFkMDguc2V0Q29udGVudChodG1sX2I5NWFmOTlkYWFmNDRjNDc4NjYxZDEyODk3NmY0YWUxKTsKICAgICAgICAgICAgCgogICAgICAgICAgICBjaXJjbGVfbWFya2VyX2Q5ODJhNGM3ZGU4YzRjZTNhMDI1MDBiYTFhOTcwZmYxLmJpbmRQb3B1cChwb3B1cF9iODljNjg1MDM0ODU0NGU1YjlkMWQ2YTVhMjlkYWQwOCk7CgogICAgICAgICAgICAKICAgICAgICAKICAgIAogICAgICAgICAgICB2YXIgY2lyY2xlX21hcmtlcl9iM2RiMmMxYzJhNmI0ZmRkYTFiZGE2NjM4OWZiMTA1NCA9IEwuY2lyY2xlTWFya2VyKAogICAgICAgICAgICAgICAgWzQwLjY2MDk0NjU2MTg4MTExLC03My45MzcxODY4MDU1OTMxNF0sCiAgICAgICAgICAgICAgICB7CiAgImJ1YmJsaW5nTW91c2VFdmVudHMiOiB0cnVlLAogICJjb2xvciI6ICJibHVlIiwKICAiZGFzaEFycmF5IjogbnVsbCwKICAiZGFzaE9mZnNldCI6IG51bGwsCiAgImZpbGwiOiB0cnVlLAogICJmaWxsQ29sb3IiOiAiIzMxODZjYyIsCiAgImZpbGxPcGFjaXR5IjogMC43LAogICJmaWxsUnVsZSI6ICJldmVub2RkIiwKICAibGluZUNhcCI6ICJyb3VuZCIsCiAgImxpbmVKb2luIjogInJvdW5kIiwKICAib3BhY2l0eSI6IDEuMCwKICAicmFkaXVzIjogNSwKICAic3Ryb2tlIjogdHJ1ZSwKICAid2VpZ2h0IjogMwp9CiAgICAgICAgICAgICAgICApLmFkZFRvKG1hcF8yYmZkMzY1NWNiNGM0NjE0YmIzY2VjOGRmNDdhNmMyOSk7CiAgICAgICAgICAgIAogICAgCiAgICAgICAgICAgIHZhciBwb3B1cF83NGU2NTJiM2IwZDQ0MGZiYTAwMDZiMWYzNmRmZTBhOSA9IEwucG9wdXAoe21heFdpZHRoOiAnMzAwJ30pOwoKICAgICAgICAgICAgCiAgICAgICAgICAgICAgICB2YXIgaHRtbF9kZjZjYjAzMThmOTk0ZjUzOGQ4ZjcxMzk1MTRhYWI4ZSA9ICQoJzxkaXYgaWQ9Imh0bWxfZGY2Y2IwMzE4Zjk5NGY1MzhkOGY3MTM5NTE0YWFiOGUiIHN0eWxlPSJ3aWR0aDogMTAwLjAlOyBoZWlnaHQ6IDEwMC4wJTsiPldpbmdhdGU8L2Rpdj4nKVswXTsKICAgICAgICAgICAgICAgIHBvcHVwXzc0ZTY1MmIzYjBkNDQwZmJhMDAwNmIxZjM2ZGZlMGE5LnNldENvbnRlbnQoaHRtbF9kZjZjYjAzMThmOTk0ZjUzOGQ4ZjcxMzk1MTRhYWI4ZSk7CiAgICAgICAgICAgIAoKICAgICAgICAgICAgY2lyY2xlX21hcmtlcl9iM2RiMmMxYzJhNmI0ZmRkYTFiZGE2NjM4OWZiMTA1NC5iaW5kUG9wdXAocG9wdXBfNzRlNjUyYjNiMGQ0NDBmYmEwMDA2YjFmMzZkZmUwYTkpOwoKICAgICAgICAgICAgCiAgICAgICAgCiAgICAKICAgICAgICAgICAgdmFyIGNpcmNsZV9tYXJrZXJfMTU1ZDM5NzNkMGRhNGViODkzYjRmYzJlMzQ2YzNjM2IgPSBMLmNpcmNsZU1hcmtlcigKICAgICAgICAgICAgICAgIFs0MC42NTU1NzIzMTMyODA3NjQsLTczLjkyNjg4MjEyNjE2OTU1XSwKICAgICAgICAgICAgICAgIHsKICAiYnViYmxpbmdNb3VzZUV2ZW50cyI6IHRydWUsCiAgImNvbG9yIjogImJsdWUiLAogICJkYXNoQXJyYXkiOiBudWxsLAogICJkYXNoT2Zmc2V0IjogbnVsbCwKICAiZmlsbCI6IHRydWUsCiAgImZpbGxDb2xvciI6ICIjMzE4NmNjIiwKICAiZmlsbE9wYWNpdHkiOiAwLjcsCiAgImZpbGxSdWxlIjogImV2ZW5vZGQiLAogICJsaW5lQ2FwIjogInJvdW5kIiwKICAibGluZUpvaW4iOiAicm91bmQiLAogICJvcGFjaXR5IjogMS4wLAogICJyYWRpdXMiOiA1LAogICJzdHJva2UiOiB0cnVlLAogICJ3ZWlnaHQiOiAzCn0KICAgICAgICAgICAgICAgICkuYWRkVG8obWFwXzJiZmQzNjU1Y2I0YzQ2MTRiYjNjZWM4ZGY0N2E2YzI5KTsKICAgICAgICAgICAgCiAgICAKICAgICAgICAgICAgdmFyIHBvcHVwXzY3YTU2NWRlZjhkODRhMWZiOGFiNDhkYTVkZDdlMjc3ID0gTC5wb3B1cCh7bWF4V2lkdGg6ICczMDAnfSk7CgogICAgICAgICAgICAKICAgICAgICAgICAgICAgIHZhciBodG1sXzA3NjI2NzUwMjI5MTRkNDU5MzcyYzc5NGU4YWM0YTZmID0gJCgnPGRpdiBpZD0iaHRtbF8wNzYyNjc1MDIyOTE0ZDQ1OTM3MmM3OTRlOGFjNGE2ZiIgc3R5bGU9IndpZHRoOiAxMDAuMCU7IGhlaWdodDogMTAwLjAlOyI+UnVnYnk8L2Rpdj4nKVswXTsKICAgICAgICAgICAgICAgIHBvcHVwXzY3YTU2NWRlZjhkODRhMWZiOGFiNDhkYTVkZDdlMjc3LnNldENvbnRlbnQoaHRtbF8wNzYyNjc1MDIyOTE0ZDQ1OTM3MmM3OTRlOGFjNGE2Zik7CiAgICAgICAgICAgIAoKICAgICAgICAgICAgY2lyY2xlX21hcmtlcl8xNTVkMzk3M2QwZGE0ZWI4OTNiNGZjMmUzNDZjM2MzYi5iaW5kUG9wdXAocG9wdXBfNjdhNTY1ZGVmOGQ4NGExZmI4YWI0OGRhNWRkN2UyNzcpOwoKICAgICAgICAgICAgCiAgICAgICAgCiAgICAKICAgICAgICAgICAgdmFyIGNpcmNsZV9tYXJrZXJfNDNiZDA0YWFiNmYwNDlhZmFiZGM4MDE3NTk1ZGE0ZGMgPSBMLmNpcmNsZU1hcmtlcigKICAgICAgICAgICAgICAgIFs0MC42NTIxMTc0NTE3OTM0OTQsLTczLjkxNjY1MzMxOTc4MDQ4XSwKICAgICAgICAgICAgICAgIHsKICAiYnViYmxpbmdNb3VzZUV2ZW50cyI6IHRydWUsCiAgImNvbG9yIjogImJsdWUiLAogICJkYXNoQXJyYXkiOiBudWxsLAogICJkYXNoT2Zmc2V0IjogbnVsbCwKICAiZmlsbCI6IHRydWUsCiAgImZpbGxDb2xvciI6ICIjMzE4NmNjIiwKICAiZmlsbE9wYWNpdHkiOiAwLjcsCiAgImZpbGxSdWxlIjogImV2ZW5vZGQiLAogICJsaW5lQ2FwIjogInJvdW5kIiwKICAibGluZUpvaW4iOiAicm91bmQiLAogICJvcGFjaXR5IjogMS4wLAogICJyYWRpdXMiOiA1LAogICJzdHJva2UiOiB0cnVlLAogICJ3ZWlnaHQiOiAzCn0KICAgICAgICAgICAgICAgICkuYWRkVG8obWFwXzJiZmQzNjU1Y2I0YzQ2MTRiYjNjZWM4ZGY0N2E2YzI5KTsKICAgICAgICAgICAgCiAgICAKICAgICAgICAgICAgdmFyIHBvcHVwXzkxY2Y4ZGViYmZmYjRkMjNhNmNiM2U3NjllNTAxYTI5ID0gTC5wb3B1cCh7bWF4V2lkdGg6ICczMDAnfSk7CgogICAgICAgICAgICAKICAgICAgICAgICAgICAgIHZhciBodG1sXzc1NmY0M2E0Zjc4MDRiYWY5MzVkYTlhOGRlZGZkNmU1ID0gJCgnPGRpdiBpZD0iaHRtbF83NTZmNDNhNGY3ODA0YmFmOTM1ZGE5YThkZWRmZDZlNSIgc3R5bGU9IndpZHRoOiAxMDAuMCU7IGhlaWdodDogMTAwLjAlOyI+UmVtc2VuIFZpbGxhZ2U8L2Rpdj4nKVswXTsKICAgICAgICAgICAgICAgIHBvcHVwXzkxY2Y4ZGViYmZmYjRkMjNhNmNiM2U3NjllNTAxYTI5LnNldENvbnRlbnQoaHRtbF83NTZmNDNhNGY3ODA0YmFmOTM1ZGE5YThkZWRmZDZlNSk7CiAgICAgICAgICAgIAoKICAgICAgICAgICAgY2lyY2xlX21hcmtlcl80M2JkMDRhYWI2ZjA0OWFmYWJkYzgwMTc1OTVkYTRkYy5iaW5kUG9wdXAocG9wdXBfOTFjZjhkZWJiZmZiNGQyM2E2Y2IzZTc2OWU1MDFhMjkpOwoKICAgICAgICAgICAgCiAgICAgICAgCiAgICAKICAgICAgICAgICAgdmFyIGNpcmNsZV9tYXJrZXJfMGQxNDNmNTYwMGMwNGYxOTgzZjAzZjdhMGJmZjIxYjYgPSBMLmNpcmNsZU1hcmtlcigKICAgICAgICAgICAgICAgIFs0MC42NjI3NDQyNzk2OTY2LC03My44ODUxMTc3NjM3OTI5Ml0sCiAgICAgICAgICAgICAgICB7CiAgImJ1YmJsaW5nTW91c2VFdmVudHMiOiB0cnVlLAogICJjb2xvciI6ICJibHVlIiwKICAiZGFzaEFycmF5IjogbnVsbCwKICAiZGFzaE9mZnNldCI6IG51bGwsCiAgImZpbGwiOiB0cnVlLAogICJmaWxsQ29sb3IiOiAiIzMxODZjYyIsCiAgImZpbGxPcGFjaXR5IjogMC43LAogICJmaWxsUnVsZSI6ICJldmVub2RkIiwKICAibGluZUNhcCI6ICJyb3VuZCIsCiAgImxpbmVKb2luIjogInJvdW5kIiwKICAib3BhY2l0eSI6IDEuMCwKICAicmFkaXVzIjogNSwKICAic3Ryb2tlIjogdHJ1ZSwKICAid2VpZ2h0IjogMwp9CiAgICAgICAgICAgICAgICApLmFkZFRvKG1hcF8yYmZkMzY1NWNiNGM0NjE0YmIzY2VjOGRmNDdhNmMyOSk7CiAgICAgICAgICAgIAogICAgCiAgICAgICAgICAgIHZhciBwb3B1cF82MzAxYzkyZjlkNDE0NzZjYmJiOGM1ZjA3YWNhZDY5NyA9IEwucG9wdXAoe21heFdpZHRoOiAnMzAwJ30pOwoKICAgICAgICAgICAgCiAgICAgICAgICAgICAgICB2YXIgaHRtbF9lZTU0ZjgyNmFhMTc0MmI0YjE1YWI4NTBiYmZlZGIwMiA9ICQoJzxkaXYgaWQ9Imh0bWxfZWU1NGY4MjZhYTE3NDJiNGIxNWFiODUwYmJmZWRiMDIiIHN0eWxlPSJ3aWR0aDogMTAwLjAlOyBoZWlnaHQ6IDEwMC4wJTsiPk5ldyBMb3RzPC9kaXY+JylbMF07CiAgICAgICAgICAgICAgICBwb3B1cF82MzAxYzkyZjlkNDE0NzZjYmJiOGM1ZjA3YWNhZDY5Ny5zZXRDb250ZW50KGh0bWxfZWU1NGY4MjZhYTE3NDJiNGIxNWFiODUwYmJmZWRiMDIpOwogICAgICAgICAgICAKCiAgICAgICAgICAgIGNpcmNsZV9tYXJrZXJfMGQxNDNmNTYwMGMwNGYxOTgzZjAzZjdhMGJmZjIxYjYuYmluZFBvcHVwKHBvcHVwXzYzMDFjOTJmOWQ0MTQ3NmNiYmI4YzVmMDdhY2FkNjk3KTsKCiAgICAgICAgICAgIAogICAgICAgIAogICAgCiAgICAgICAgICAgIHZhciBjaXJjbGVfbWFya2VyXzdiODU2OTI5NGQzZDRjZGJhMmUxMDVhOWQwNmZmYjI0ID0gTC5jaXJjbGVNYXJrZXIoCiAgICAgICAgICAgICAgICBbNDAuNjMxMzE3NTUwMzk2NjcsLTczLjkwMjMzNDc0Mjk1ODM2XSwKICAgICAgICAgICAgICAgIHsKICAiYnViYmxpbmdNb3VzZUV2ZW50cyI6IHRydWUsCiAgImNvbG9yIjogImJsdWUiLAogICJkYXNoQXJyYXkiOiBudWxsLAogICJkYXNoT2Zmc2V0IjogbnVsbCwKICAiZmlsbCI6IHRydWUsCiAgImZpbGxDb2xvciI6ICIjMzE4NmNjIiwKICAiZmlsbE9wYWNpdHkiOiAwLjcsCiAgImZpbGxSdWxlIjogImV2ZW5vZGQiLAogICJsaW5lQ2FwIjogInJvdW5kIiwKICAibGluZUpvaW4iOiAicm91bmQiLAogICJvcGFjaXR5IjogMS4wLAogICJyYWRpdXMiOiA1LAogICJzdHJva2UiOiB0cnVlLAogICJ3ZWlnaHQiOiAzCn0KICAgICAgICAgICAgICAgICkuYWRkVG8obWFwXzJiZmQzNjU1Y2I0YzQ2MTRiYjNjZWM4ZGY0N2E2YzI5KTsKICAgICAgICAgICAgCiAgICAKICAgICAgICAgICAgdmFyIHBvcHVwX2E0OWZlM2NlZDA1NTQ3OWM4NmZlODFmYTk5NjFmMTU5ID0gTC5wb3B1cCh7bWF4V2lkdGg6ICczMDAnfSk7CgogICAgICAgICAgICAKICAgICAgICAgICAgICAgIHZhciBodG1sX2NhN2ZhZjFiMGRiYzRhYTk4ZWQyNzUzZTZjZWYzMTg1ID0gJCgnPGRpdiBpZD0iaHRtbF9jYTdmYWYxYjBkYmM0YWE5OGVkMjc1M2U2Y2VmMzE4NSIgc3R5bGU9IndpZHRoOiAxMDAuMCU7IGhlaWdodDogMTAwLjAlOyI+UGFlcmRlZ2F0IEJhc2luPC9kaXY+JylbMF07CiAgICAgICAgICAgICAgICBwb3B1cF9hNDlmZTNjZWQwNTU0NzljODZmZTgxZmE5OTYxZjE1OS5zZXRDb250ZW50KGh0bWxfY2E3ZmFmMWIwZGJjNGFhOThlZDI3NTNlNmNlZjMxODUpOwogICAgICAgICAgICAKCiAgICAgICAgICAgIGNpcmNsZV9tYXJrZXJfN2I4NTY5Mjk0ZDNkNGNkYmEyZTEwNWE5ZDA2ZmZiMjQuYmluZFBvcHVwKHBvcHVwX2E0OWZlM2NlZDA1NTQ3OWM4NmZlODFmYTk5NjFmMTU5KTsKCiAgICAgICAgICAgIAogICAgICAgIAogICAgCiAgICAgICAgICAgIHZhciBjaXJjbGVfbWFya2VyXzMxNDA4ODg3MTg3YjQ2ZjRhOTcyMTk1ZTM5MGRkMWIzID0gTC5jaXJjbGVNYXJrZXIoCiAgICAgICAgICAgICAgICBbNDAuNjE1OTc0MjM5NjIzMzYsLTczLjkxNTE1MzkxNTUwNDA0XSwKICAgICAgICAgICAgICAgIHsKICAiYnViYmxpbmdNb3VzZUV2ZW50cyI6IHRydWUsCiAgImNvbG9yIjogImJsdWUiLAogICJkYXNoQXJyYXkiOiBudWxsLAogICJkYXNoT2Zmc2V0IjogbnVsbCwKICAiZmlsbCI6IHRydWUsCiAgImZpbGxDb2xvciI6ICIjMzE4NmNjIiwKICAiZmlsbE9wYWNpdHkiOiAwLjcsCiAgImZpbGxSdWxlIjogImV2ZW5vZGQiLAogICJsaW5lQ2FwIjogInJvdW5kIiwKICAibGluZUpvaW4iOiAicm91bmQiLAogICJvcGFjaXR5IjogMS4wLAogICJyYWRpdXMiOiA1LAogICJzdHJva2UiOiB0cnVlLAogICJ3ZWlnaHQiOiAzCn0KICAgICAgICAgICAgICAgICkuYWRkVG8obWFwXzJiZmQzNjU1Y2I0YzQ2MTRiYjNjZWM4ZGY0N2E2YzI5KTsKICAgICAgICAgICAgCiAgICAKICAgICAgICAgICAgdmFyIHBvcHVwXzMxZDVjODMzNjJmYzQ0ZjI4MmU1ZWRiZGI5ZWJhNjg1ID0gTC5wb3B1cCh7bWF4V2lkdGg6ICczMDAnfSk7CgogICAgICAgICAgICAKICAgICAgICAgICAgICAgIHZhciBodG1sXzhmYTUxNmE3ZTEyNDQ2YmJiOTdlNTBiNDFlYzllM2ZjID0gJCgnPGRpdiBpZD0iaHRtbF84ZmE1MTZhN2UxMjQ0NmJiYjk3ZTUwYjQxZWM5ZTNmYyIgc3R5bGU9IndpZHRoOiAxMDAuMCU7IGhlaWdodDogMTAwLjAlOyI+TWlsbCBCYXNpbjwvZGl2PicpWzBdOwogICAgICAgICAgICAgICAgcG9wdXBfMzFkNWM4MzM2MmZjNDRmMjgyZTVlZGJkYjllYmE2ODUuc2V0Q29udGVudChodG1sXzhmYTUxNmE3ZTEyNDQ2YmJiOTdlNTBiNDFlYzllM2ZjKTsKICAgICAgICAgICAgCgogICAgICAgICAgICBjaXJjbGVfbWFya2VyXzMxNDA4ODg3MTg3YjQ2ZjRhOTcyMTk1ZTM5MGRkMWIzLmJpbmRQb3B1cChwb3B1cF8zMWQ1YzgzMzYyZmM0NGYyODJlNWVkYmRiOWViYTY4NSk7CgogICAgICAgICAgICAKICAgICAgICAKICAgIAogICAgICAgICAgICB2YXIgY2lyY2xlX21hcmtlcl8zMWY0YjAwYTJmYTQ0OTZjYmJmNTIzMGQ1NTZmYjI2MyA9IEwuY2lyY2xlTWFya2VyKAogICAgICAgICAgICAgICAgWzQwLjcwMzI4MTA5MDkzMDE0LC03My45OTU1MDc1MTg4ODQxNV0sCiAgICAgICAgICAgICAgICB7CiAgImJ1YmJsaW5nTW91c2VFdmVudHMiOiB0cnVlLAogICJjb2xvciI6ICJibHVlIiwKICAiZGFzaEFycmF5IjogbnVsbCwKICAiZGFzaE9mZnNldCI6IG51bGwsCiAgImZpbGwiOiB0cnVlLAogICJmaWxsQ29sb3IiOiAiIzMxODZjYyIsCiAgImZpbGxPcGFjaXR5IjogMC43LAogICJmaWxsUnVsZSI6ICJldmVub2RkIiwKICAibGluZUNhcCI6ICJyb3VuZCIsCiAgImxpbmVKb2luIjogInJvdW5kIiwKICAib3BhY2l0eSI6IDEuMCwKICAicmFkaXVzIjogNSwKICAic3Ryb2tlIjogdHJ1ZSwKICAid2VpZ2h0IjogMwp9CiAgICAgICAgICAgICAgICApLmFkZFRvKG1hcF8yYmZkMzY1NWNiNGM0NjE0YmIzY2VjOGRmNDdhNmMyOSk7CiAgICAgICAgICAgIAogICAgCiAgICAgICAgICAgIHZhciBwb3B1cF9lNTg0NzQzZmNlNjQ0MGYzYTFlN2U1MTFkZDA5ODkzMSA9IEwucG9wdXAoe21heFdpZHRoOiAnMzAwJ30pOwoKICAgICAgICAgICAgCiAgICAgICAgICAgICAgICB2YXIgaHRtbF9jZWZiMzFmZTM1ODY0OGVkOTlhNWEzNTVlODkxZWNhZiA9ICQoJzxkaXYgaWQ9Imh0bWxfY2VmYjMxZmUzNTg2NDhlZDk5YTVhMzU1ZTg5MWVjYWYiIHN0eWxlPSJ3aWR0aDogMTAwLjAlOyBoZWlnaHQ6IDEwMC4wJTsiPkZ1bHRvbiBGZXJyeTwvZGl2PicpWzBdOwogICAgICAgICAgICAgICAgcG9wdXBfZTU4NDc0M2ZjZTY0NDBmM2ExZTdlNTExZGQwOTg5MzEuc2V0Q29udGVudChodG1sX2NlZmIzMWZlMzU4NjQ4ZWQ5OWE1YTM1NWU4OTFlY2FmKTsKICAgICAgICAgICAgCgogICAgICAgICAgICBjaXJjbGVfbWFya2VyXzMxZjRiMDBhMmZhNDQ5NmNiYmY1MjMwZDU1NmZiMjYzLmJpbmRQb3B1cChwb3B1cF9lNTg0NzQzZmNlNjQ0MGYzYTFlN2U1MTFkZDA5ODkzMSk7CgogICAgICAgICAgICAKICAgICAgICAKICAgIAogICAgICAgICAgICB2YXIgY2lyY2xlX21hcmtlcl9mYThjMGEwMzJiYmI0MGMzOTY3OTQ3ZjI3Njk4YTEyMCA9IEwuY2lyY2xlTWFya2VyKAogICAgICAgICAgICAgICAgWzQwLjcwMzMyMTQ5ODgyODc0LC03My45ODExMTYwMzU5MjM5M10sCiAgICAgICAgICAgICAgICB7CiAgImJ1YmJsaW5nTW91c2VFdmVudHMiOiB0cnVlLAogICJjb2xvciI6ICJibHVlIiwKICAiZGFzaEFycmF5IjogbnVsbCwKICAiZGFzaE9mZnNldCI6IG51bGwsCiAgImZpbGwiOiB0cnVlLAogICJmaWxsQ29sb3IiOiAiIzMxODZjYyIsCiAgImZpbGxPcGFjaXR5IjogMC43LAogICJmaWxsUnVsZSI6ICJldmVub2RkIiwKICAibGluZUNhcCI6ICJyb3VuZCIsCiAgImxpbmVKb2luIjogInJvdW5kIiwKICAib3BhY2l0eSI6IDEuMCwKICAicmFkaXVzIjogNSwKICAic3Ryb2tlIjogdHJ1ZSwKICAid2VpZ2h0IjogMwp9CiAgICAgICAgICAgICAgICApLmFkZFRvKG1hcF8yYmZkMzY1NWNiNGM0NjE0YmIzY2VjOGRmNDdhNmMyOSk7CiAgICAgICAgICAgIAogICAgCiAgICAgICAgICAgIHZhciBwb3B1cF8yYmZmYTk5Yjc1ZTQ0NDdhOWE3NjZjMmEzMGNkYWUzMSA9IEwucG9wdXAoe21heFdpZHRoOiAnMzAwJ30pOwoKICAgICAgICAgICAgCiAgICAgICAgICAgICAgICB2YXIgaHRtbF9iZWY1YTYwYTY4NGU0ZWIzYTExZWVmYWVmNWNjOGNiYiA9ICQoJzxkaXYgaWQ9Imh0bWxfYmVmNWE2MGE2ODRlNGViM2ExMWVlZmFlZjVjYzhjYmIiIHN0eWxlPSJ3aWR0aDogMTAwLjAlOyBoZWlnaHQ6IDEwMC4wJTsiPlZpbmVnYXIgSGlsbDwvZGl2PicpWzBdOwogICAgICAgICAgICAgICAgcG9wdXBfMmJmZmE5OWI3NWU0NDQ3YTlhNzY2YzJhMzBjZGFlMzEuc2V0Q29udGVudChodG1sX2JlZjVhNjBhNjg0ZTRlYjNhMTFlZWZhZWY1Y2M4Y2JiKTsKICAgICAgICAgICAgCgogICAgICAgICAgICBjaXJjbGVfbWFya2VyX2ZhOGMwYTAzMmJiYjQwYzM5Njc5NDdmMjc2OThhMTIwLmJpbmRQb3B1cChwb3B1cF8yYmZmYTk5Yjc1ZTQ0NDdhOWE3NjZjMmEzMGNkYWUzMSk7CgogICAgICAgICAgICAKICAgICAgICAKICAgIAogICAgICAgICAgICB2YXIgY2lyY2xlX21hcmtlcl81NjIwMTg2MmIzYzc0ZDVjODk0MTcxYTk5NTk5NjQzZiA9IEwuY2lyY2xlTWFya2VyKAogICAgICAgICAgICAgICAgWzQwLjY3NTAzOTg2NTAzMjM3LC03My45MzA1MzEwODgxNzMzOF0sCiAgICAgICAgICAgICAgICB7CiAgImJ1YmJsaW5nTW91c2VFdmVudHMiOiB0cnVlLAogICJjb2xvciI6ICJibHVlIiwKICAiZGFzaEFycmF5IjogbnVsbCwKICAiZGFzaE9mZnNldCI6IG51bGwsCiAgImZpbGwiOiB0cnVlLAogICJmaWxsQ29sb3IiOiAiIzMxODZjYyIsCiAgImZpbGxPcGFjaXR5IjogMC43LAogICJmaWxsUnVsZSI6ICJldmVub2RkIiwKICAibGluZUNhcCI6ICJyb3VuZCIsCiAgImxpbmVKb2luIjogInJvdW5kIiwKICAib3BhY2l0eSI6IDEuMCwKICAicmFkaXVzIjogNSwKICAic3Ryb2tlIjogdHJ1ZSwKICAid2VpZ2h0IjogMwp9CiAgICAgICAgICAgICAgICApLmFkZFRvKG1hcF8yYmZkMzY1NWNiNGM0NjE0YmIzY2VjOGRmNDdhNmMyOSk7CiAgICAgICAgICAgIAogICAgCiAgICAgICAgICAgIHZhciBwb3B1cF9lMmVmOTU2Zjc1MGQ0YjYyYWE1NGI0M2MzZmIxM2RjOCA9IEwucG9wdXAoe21heFdpZHRoOiAnMzAwJ30pOwoKICAgICAgICAgICAgCiAgICAgICAgICAgICAgICB2YXIgaHRtbF9lMDUwMzhmZWNhZjc0Y2U5YWRlNWJkMTYyNTI2ODM3NiA9ICQoJzxkaXYgaWQ9Imh0bWxfZTA1MDM4ZmVjYWY3NGNlOWFkZTViZDE2MjUyNjgzNzYiIHN0eWxlPSJ3aWR0aDogMTAwLjAlOyBoZWlnaHQ6IDEwMC4wJTsiPldlZWtzdmlsbGU8L2Rpdj4nKVswXTsKICAgICAgICAgICAgICAgIHBvcHVwX2UyZWY5NTZmNzUwZDRiNjJhYTU0YjQzYzNmYjEzZGM4LnNldENvbnRlbnQoaHRtbF9lMDUwMzhmZWNhZjc0Y2U5YWRlNWJkMTYyNTI2ODM3Nik7CiAgICAgICAgICAgIAoKICAgICAgICAgICAgY2lyY2xlX21hcmtlcl81NjIwMTg2MmIzYzc0ZDVjODk0MTcxYTk5NTk5NjQzZi5iaW5kUG9wdXAocG9wdXBfZTJlZjk1NmY3NTBkNGI2MmFhNTRiNDNjM2ZiMTNkYzgpOwoKICAgICAgICAgICAgCiAgICAgICAgCiAgICAKICAgICAgICAgICAgdmFyIGNpcmNsZV9tYXJrZXJfZDA1NmU0YTkyZDc3NDZlYWI5MTQ2ODI4YmE0ZWIyNGMgPSBMLmNpcmNsZU1hcmtlcigKICAgICAgICAgICAgICAgIFs0MC42Nzc4NjEwNDc2OTUzMSwtNzMuOTAzMzE2ODQ4NTI1OTldLAogICAgICAgICAgICAgICAgewogICJidWJibGluZ01vdXNlRXZlbnRzIjogdHJ1ZSwKICAiY29sb3IiOiAiYmx1ZSIsCiAgImRhc2hBcnJheSI6IG51bGwsCiAgImRhc2hPZmZzZXQiOiBudWxsLAogICJmaWxsIjogdHJ1ZSwKICAiZmlsbENvbG9yIjogIiMzMTg2Y2MiLAogICJmaWxsT3BhY2l0eSI6IDAuNywKICAiZmlsbFJ1bGUiOiAiZXZlbm9kZCIsCiAgImxpbmVDYXAiOiAicm91bmQiLAogICJsaW5lSm9pbiI6ICJyb3VuZCIsCiAgIm9wYWNpdHkiOiAxLjAsCiAgInJhZGl1cyI6IDUsCiAgInN0cm9rZSI6IHRydWUsCiAgIndlaWdodCI6IDMKfQogICAgICAgICAgICAgICAgKS5hZGRUbyhtYXBfMmJmZDM2NTVjYjRjNDYxNGJiM2NlYzhkZjQ3YTZjMjkpOwogICAgICAgICAgICAKICAgIAogICAgICAgICAgICB2YXIgcG9wdXBfMmQ2MDcxMzhhYzVmNDEwNGFmYzcyMTE3YzljZDMxYWEgPSBMLnBvcHVwKHttYXhXaWR0aDogJzMwMCd9KTsKCiAgICAgICAgICAgIAogICAgICAgICAgICAgICAgdmFyIGh0bWxfMDY4YmJjNGQyYWEzNGM0ZmE5ZGNhZDllOTYzYjI5MTcgPSAkKCc8ZGl2IGlkPSJodG1sXzA2OGJiYzRkMmFhMzRjNGZhOWRjYWQ5ZTk2M2IyOTE3IiBzdHlsZT0id2lkdGg6IDEwMC4wJTsgaGVpZ2h0OiAxMDAuMCU7Ij5Ccm9hZHdheSBKdW5jdGlvbjwvZGl2PicpWzBdOwogICAgICAgICAgICAgICAgcG9wdXBfMmQ2MDcxMzhhYzVmNDEwNGFmYzcyMTE3YzljZDMxYWEuc2V0Q29udGVudChodG1sXzA2OGJiYzRkMmFhMzRjNGZhOWRjYWQ5ZTk2M2IyOTE3KTsKICAgICAgICAgICAgCgogICAgICAgICAgICBjaXJjbGVfbWFya2VyX2QwNTZlNGE5MmQ3NzQ2ZWFiOTE0NjgyOGJhNGViMjRjLmJpbmRQb3B1cChwb3B1cF8yZDYwNzEzOGFjNWY0MTA0YWZjNzIxMTdjOWNkMzFhYSk7CgogICAgICAgICAgICAKICAgICAgICAKICAgIAogICAgICAgICAgICB2YXIgY2lyY2xlX21hcmtlcl82YWIzOTc2Mjc4YTA0YTc2YmY1MTQ0ZjQ1OGZhOTg0ZiA9IEwuY2lyY2xlTWFya2VyKAogICAgICAgICAgICAgICAgWzQwLjcwMzE3NjMyODIyNjkyLC03My45ODg3NTI4MDc0NTA0XSwKICAgICAgICAgICAgICAgIHsKICAiYnViYmxpbmdNb3VzZUV2ZW50cyI6IHRydWUsCiAgImNvbG9yIjogImJsdWUiLAogICJkYXNoQXJyYXkiOiBudWxsLAogICJkYXNoT2Zmc2V0IjogbnVsbCwKICAiZmlsbCI6IHRydWUsCiAgImZpbGxDb2xvciI6ICIjMzE4NmNjIiwKICAiZmlsbE9wYWNpdHkiOiAwLjcsCiAgImZpbGxSdWxlIjogImV2ZW5vZGQiLAogICJsaW5lQ2FwIjogInJvdW5kIiwKICAibGluZUpvaW4iOiAicm91bmQiLAogICJvcGFjaXR5IjogMS4wLAogICJyYWRpdXMiOiA1LAogICJzdHJva2UiOiB0cnVlLAogICJ3ZWlnaHQiOiAzCn0KICAgICAgICAgICAgICAgICkuYWRkVG8obWFwXzJiZmQzNjU1Y2I0YzQ2MTRiYjNjZWM4ZGY0N2E2YzI5KTsKICAgICAgICAgICAgCiAgICAKICAgICAgICAgICAgdmFyIHBvcHVwXzYxNTFiMWU3ZjNiNTQ0MmZiOWYxOGU0MTM1ZGM0YjhkID0gTC5wb3B1cCh7bWF4V2lkdGg6ICczMDAnfSk7CgogICAgICAgICAgICAKICAgICAgICAgICAgICAgIHZhciBodG1sXzZmNjVkYjU2MjRkOTQ4OGU4MjIyNThjMDU3NGRmZDY5ID0gJCgnPGRpdiBpZD0iaHRtbF82ZjY1ZGI1NjI0ZDk0ODhlODIyMjU4YzA1NzRkZmQ2OSIgc3R5bGU9IndpZHRoOiAxMDAuMCU7IGhlaWdodDogMTAwLjAlOyI+RHVtYm88L2Rpdj4nKVswXTsKICAgICAgICAgICAgICAgIHBvcHVwXzYxNTFiMWU3ZjNiNTQ0MmZiOWYxOGU0MTM1ZGM0YjhkLnNldENvbnRlbnQoaHRtbF82ZjY1ZGI1NjI0ZDk0ODhlODIyMjU4YzA1NzRkZmQ2OSk7CiAgICAgICAgICAgIAoKICAgICAgICAgICAgY2lyY2xlX21hcmtlcl82YWIzOTc2Mjc4YTA0YTc2YmY1MTQ0ZjQ1OGZhOTg0Zi5iaW5kUG9wdXAocG9wdXBfNjE1MWIxZTdmM2I1NDQyZmI5ZjE4ZTQxMzVkYzRiOGQpOwoKICAgICAgICAgICAgCiAgICAgICAgCiAgICAKICAgICAgICAgICAgdmFyIGNpcmNsZV9tYXJrZXJfZTcyMzEyZjkwNmViNDk3ZmI2YzBhMzM4NDc3NmViNTggPSBMLmNpcmNsZU1hcmtlcigKICAgICAgICAgICAgICAgIFs0MC41OTg1MjUwOTUxMzcyNTUsLTczLjk1OTE4NDU5NDI4NzAyXSwKICAgICAgICAgICAgICAgIHsKICAiYnViYmxpbmdNb3VzZUV2ZW50cyI6IHRydWUsCiAgImNvbG9yIjogImJsdWUiLAogICJkYXNoQXJyYXkiOiBudWxsLAogICJkYXNoT2Zmc2V0IjogbnVsbCwKICAiZmlsbCI6IHRydWUsCiAgImZpbGxDb2xvciI6ICIjMzE4NmNjIiwKICAiZmlsbE9wYWNpdHkiOiAwLjcsCiAgImZpbGxSdWxlIjogImV2ZW5vZGQiLAogICJsaW5lQ2FwIjogInJvdW5kIiwKICAibGluZUpvaW4iOiAicm91bmQiLAogICJvcGFjaXR5IjogMS4wLAogICJyYWRpdXMiOiA1LAogICJzdHJva2UiOiB0cnVlLAogICJ3ZWlnaHQiOiAzCn0KICAgICAgICAgICAgICAgICkuYWRkVG8obWFwXzJiZmQzNjU1Y2I0YzQ2MTRiYjNjZWM4ZGY0N2E2YzI5KTsKICAgICAgICAgICAgCiAgICAKICAgICAgICAgICAgdmFyIHBvcHVwX2Y3ODY0MmJkNTU2MjQ3NWY4M2JjMTZhMzIwOTE0NmRkID0gTC5wb3B1cCh7bWF4V2lkdGg6ICczMDAnfSk7CgogICAgICAgICAgICAKICAgICAgICAgICAgICAgIHZhciBodG1sX2VlMzRkOWQ0ZjEyMjQzMzhhMzQ1YzhiYjY1YWU0OTBjID0gJCgnPGRpdiBpZD0iaHRtbF9lZTM0ZDlkNGYxMjI0MzM4YTM0NWM4YmI2NWFlNDkwYyIgc3R5bGU9IndpZHRoOiAxMDAuMCU7IGhlaWdodDogMTAwLjAlOyI+SG9tZWNyZXN0PC9kaXY+JylbMF07CiAgICAgICAgICAgICAgICBwb3B1cF9mNzg2NDJiZDU1NjI0NzVmODNiYzE2YTMyMDkxNDZkZC5zZXRDb250ZW50KGh0bWxfZWUzNGQ5ZDRmMTIyNDMzOGEzNDVjOGJiNjVhZTQ5MGMpOwogICAgICAgICAgICAKCiAgICAgICAgICAgIGNpcmNsZV9tYXJrZXJfZTcyMzEyZjkwNmViNDk3ZmI2YzBhMzM4NDc3NmViNTguYmluZFBvcHVwKHBvcHVwX2Y3ODY0MmJkNTU2MjQ3NWY4M2JjMTZhMzIwOTE0NmRkKTsKCiAgICAgICAgICAgIAogICAgICAgIAogICAgCiAgICAgICAgICAgIHZhciBjaXJjbGVfbWFya2VyX2Q5ZmMyN2JjMmJmMzQzMjRhMmQ2OWU4Y2IzZjhjZTQxID0gTC5jaXJjbGVNYXJrZXIoCiAgICAgICAgICAgICAgICBbNDAuNjgxOTk4OTM0NTE3MywtNzMuODkwMzQ1NzA5ODcyXSwKICAgICAgICAgICAgICAgIHsKICAiYnViYmxpbmdNb3VzZUV2ZW50cyI6IHRydWUsCiAgImNvbG9yIjogImJsdWUiLAogICJkYXNoQXJyYXkiOiBudWxsLAogICJkYXNoT2Zmc2V0IjogbnVsbCwKICAiZmlsbCI6IHRydWUsCiAgImZpbGxDb2xvciI6ICIjMzE4NmNjIiwKICAiZmlsbE9wYWNpdHkiOiAwLjcsCiAgImZpbGxSdWxlIjogImV2ZW5vZGQiLAogICJsaW5lQ2FwIjogInJvdW5kIiwKICAibGluZUpvaW4iOiAicm91bmQiLAogICJvcGFjaXR5IjogMS4wLAogICJyYWRpdXMiOiA1LAogICJzdHJva2UiOiB0cnVlLAogICJ3ZWlnaHQiOiAzCn0KICAgICAgICAgICAgICAgICkuYWRkVG8obWFwXzJiZmQzNjU1Y2I0YzQ2MTRiYjNjZWM4ZGY0N2E2YzI5KTsKICAgICAgICAgICAgCiAgICAKICAgICAgICAgICAgdmFyIHBvcHVwXzRiY2JhYjdiYTRlMzRhMjJiNmM4ZTc1ZWIzZWIyYTIwID0gTC5wb3B1cCh7bWF4V2lkdGg6ICczMDAnfSk7CgogICAgICAgICAgICAKICAgICAgICAgICAgICAgIHZhciBodG1sXzk0ZGEzZTk2YWZjMjQ5ZTRiMDRhN2VkY2Y1M2I3YmRmID0gJCgnPGRpdiBpZD0iaHRtbF85NGRhM2U5NmFmYzI0OWU0YjA0YTdlZGNmNTNiN2JkZiIgc3R5bGU9IndpZHRoOiAxMDAuMCU7IGhlaWdodDogMTAwLjAlOyI+SGlnaGxhbmQgUGFyazwvZGl2PicpWzBdOwogICAgICAgICAgICAgICAgcG9wdXBfNGJjYmFiN2JhNGUzNGEyMmI2YzhlNzVlYjNlYjJhMjAuc2V0Q29udGVudChodG1sXzk0ZGEzZTk2YWZjMjQ5ZTRiMDRhN2VkY2Y1M2I3YmRmKTsKICAgICAgICAgICAgCgogICAgICAgICAgICBjaXJjbGVfbWFya2VyX2Q5ZmMyN2JjMmJmMzQzMjRhMmQ2OWU4Y2IzZjhjZTQxLmJpbmRQb3B1cChwb3B1cF80YmNiYWI3YmE0ZTM0YTIyYjZjOGU3NWViM2ViMmEyMCk7CgogICAgICAgICAgICAKICAgICAgICAKICAgIAogICAgICAgICAgICB2YXIgY2lyY2xlX21hcmtlcl82NGRmZTE1OTk4NWU0NDI1OWU0YjlhNTg3OGE5N2IyMiA9IEwuY2lyY2xlTWFya2VyKAogICAgICAgICAgICAgICAgWzQwLjYwOTM3NzcwMTEzNzY2LC03My45NDg0MTUxNTMyODg5M10sCiAgICAgICAgICAgICAgICB7CiAgImJ1YmJsaW5nTW91c2VFdmVudHMiOiB0cnVlLAogICJjb2xvciI6ICJibHVlIiwKICAiZGFzaEFycmF5IjogbnVsbCwKICAiZGFzaE9mZnNldCI6IG51bGwsCiAgImZpbGwiOiB0cnVlLAogICJmaWxsQ29sb3IiOiAiIzMxODZjYyIsCiAgImZpbGxPcGFjaXR5IjogMC43LAogICJmaWxsUnVsZSI6ICJldmVub2RkIiwKICAibGluZUNhcCI6ICJyb3VuZCIsCiAgImxpbmVKb2luIjogInJvdW5kIiwKICAib3BhY2l0eSI6IDEuMCwKICAicmFkaXVzIjogNSwKICAic3Ryb2tlIjogdHJ1ZSwKICAid2VpZ2h0IjogMwp9CiAgICAgICAgICAgICAgICApLmFkZFRvKG1hcF8yYmZkMzY1NWNiNGM0NjE0YmIzY2VjOGRmNDdhNmMyOSk7CiAgICAgICAgICAgIAogICAgCiAgICAgICAgICAgIHZhciBwb3B1cF9kNzFhYzI0ZWFiNWE0YzZjODA1YzEwYmRjY2Y0YTQxYiA9IEwucG9wdXAoe21heFdpZHRoOiAnMzAwJ30pOwoKICAgICAgICAgICAgCiAgICAgICAgICAgICAgICB2YXIgaHRtbF8xNGFlMTJhYTU1NGI0MTk0YmE4OWY0ZGJiMjFkMWRhNCA9ICQoJzxkaXYgaWQ9Imh0bWxfMTRhZTEyYWE1NTRiNDE5NGJhODlmNGRiYjIxZDFkYTQiIHN0eWxlPSJ3aWR0aDogMTAwLjAlOyBoZWlnaHQ6IDEwMC4wJTsiPk1hZGlzb248L2Rpdj4nKVswXTsKICAgICAgICAgICAgICAgIHBvcHVwX2Q3MWFjMjRlYWI1YTRjNmM4MDVjMTBiZGNjZjRhNDFiLnNldENvbnRlbnQoaHRtbF8xNGFlMTJhYTU1NGI0MTk0YmE4OWY0ZGJiMjFkMWRhNCk7CiAgICAgICAgICAgIAoKICAgICAgICAgICAgY2lyY2xlX21hcmtlcl82NGRmZTE1OTk4NWU0NDI1OWU0YjlhNTg3OGE5N2IyMi5iaW5kUG9wdXAocG9wdXBfZDcxYWMyNGVhYjVhNGM2YzgwNWMxMGJkY2NmNGE0MWIpOwoKICAgICAgICAgICAgCiAgICAgICAgCiAgICAKICAgICAgICAgICAgdmFyIGNpcmNsZV9tYXJrZXJfNjViZDJiOGZlNDk0NDJiZDk5MjRhNTljNWY0NjAwNDcgPSBMLmNpcmNsZU1hcmtlcigKICAgICAgICAgICAgICAgIFs0MC42NDY5MjYwNjY1ODU3OSwtNzMuOTQ4MTc3MDk5MjAxODRdLAogICAgICAgICAgICAgICAgewogICJidWJibGluZ01vdXNlRXZlbnRzIjogdHJ1ZSwKICAiY29sb3IiOiAiYmx1ZSIsCiAgImRhc2hBcnJheSI6IG51bGwsCiAgImRhc2hPZmZzZXQiOiBudWxsLAogICJmaWxsIjogdHJ1ZSwKICAiZmlsbENvbG9yIjogIiMzMTg2Y2MiLAogICJmaWxsT3BhY2l0eSI6IDAuNywKICAiZmlsbFJ1bGUiOiAiZXZlbm9kZCIsCiAgImxpbmVDYXAiOiAicm91bmQiLAogICJsaW5lSm9pbiI6ICJyb3VuZCIsCiAgIm9wYWNpdHkiOiAxLjAsCiAgInJhZGl1cyI6IDUsCiAgInN0cm9rZSI6IHRydWUsCiAgIndlaWdodCI6IDMKfQogICAgICAgICAgICAgICAgKS5hZGRUbyhtYXBfMmJmZDM2NTVjYjRjNDYxNGJiM2NlYzhkZjQ3YTZjMjkpOwogICAgICAgICAgICAKICAgIAogICAgICAgICAgICB2YXIgcG9wdXBfYjBhYWM3ODU5ODBhNDU4NGFiMTc3NmI5NmI3ZTE4ZTEgPSBMLnBvcHVwKHttYXhXaWR0aDogJzMwMCd9KTsKCiAgICAgICAgICAgIAogICAgICAgICAgICAgICAgdmFyIGh0bWxfOTFjZjhjZWE3MWFhNGRhNmFmMjU3ZGNlZDM3OTRlZDUgPSAkKCc8ZGl2IGlkPSJodG1sXzkxY2Y4Y2VhNzFhYTRkYTZhZjI1N2RjZWQzNzk0ZWQ1IiBzdHlsZT0id2lkdGg6IDEwMC4wJTsgaGVpZ2h0OiAxMDAuMCU7Ij5FcmFzbXVzPC9kaXY+JylbMF07CiAgICAgICAgICAgICAgICBwb3B1cF9iMGFhYzc4NTk4MGE0NTg0YWIxNzc2Yjk2YjdlMThlMS5zZXRDb250ZW50KGh0bWxfOTFjZjhjZWE3MWFhNGRhNmFmMjU3ZGNlZDM3OTRlZDUpOwogICAgICAgICAgICAKCiAgICAgICAgICAgIGNpcmNsZV9tYXJrZXJfNjViZDJiOGZlNDk0NDJiZDk5MjRhNTljNWY0NjAwNDcuYmluZFBvcHVwKHBvcHVwX2IwYWFjNzg1OTgwYTQ1ODRhYjE3NzZiOTZiN2UxOGUxKTsKCiAgICAgICAgICAgIAogICAgICAgIAogICAgCiAgICAgICAgICAgIHZhciBjaXJjbGVfbWFya2VyXzIzYzNkOWFjOGFhODQzZTE4YWVjNjU2NjRiMmNkMmM5ID0gTC5jaXJjbGVNYXJrZXIoCiAgICAgICAgICAgICAgICBbNDAuNjI1ODAxMDY1MDEwNjU2LC03NC4wMzA2MjA2OTM1MzgxM10sCiAgICAgICAgICAgICAgICB7CiAgImJ1YmJsaW5nTW91c2VFdmVudHMiOiB0cnVlLAogICJjb2xvciI6ICJibHVlIiwKICAiZGFzaEFycmF5IjogbnVsbCwKICAiZGFzaE9mZnNldCI6IG51bGwsCiAgImZpbGwiOiB0cnVlLAogICJmaWxsQ29sb3IiOiAiIzMxODZjYyIsCiAgImZpbGxPcGFjaXR5IjogMC43LAogICJmaWxsUnVsZSI6ICJldmVub2RkIiwKICAibGluZUNhcCI6ICJyb3VuZCIsCiAgImxpbmVKb2luIjogInJvdW5kIiwKICAib3BhY2l0eSI6IDEuMCwKICAicmFkaXVzIjogNSwKICAic3Ryb2tlIjogdHJ1ZSwKICAid2VpZ2h0IjogMwp9CiAgICAgICAgICAgICAgICApLmFkZFRvKG1hcF8yYmZkMzY1NWNiNGM0NjE0YmIzY2VjOGRmNDdhNmMyOSk7CiAgICAgICAgICAgIAogICAgCiAgICAgICAgICAgIHZhciBwb3B1cF9jNzcyMjM5OGEzNWY0YzEwYTZhYmQwYzBiZTllNTdiMyA9IEwucG9wdXAoe21heFdpZHRoOiAnMzAwJ30pOwoKICAgICAgICAgICAgCiAgICAgICAgICAgICAgICB2YXIgaHRtbF9hNzVjNjkwYmY4ODk0MDU4YTQwMzJlMWYwMmUyNWVmYSA9ICQoJzxkaXYgaWQ9Imh0bWxfYTc1YzY5MGJmODg5NDA1OGE0MDMyZTFmMDJlMjVlZmEiIHN0eWxlPSJ3aWR0aDogMTAwLjAlOyBoZWlnaHQ6IDEwMC4wJTsiPkJheSBSaWRnZTwvZGl2PicpWzBdOwogICAgICAgICAgICAgICAgcG9wdXBfYzc3MjIzOThhMzVmNGMxMGE2YWJkMGMwYmU5ZTU3YjMuc2V0Q29udGVudChodG1sX2E3NWM2OTBiZjg4OTQwNThhNDAzMmUxZjAyZTI1ZWZhKTsKICAgICAgICAgICAgCgogICAgICAgICAgICBjaXJjbGVfbWFya2VyXzIzYzNkOWFjOGFhODQzZTE4YWVjNjU2NjRiMmNkMmM5LmJpbmRQb3B1cChwb3B1cF9jNzcyMjM5OGEzNWY0YzEwYTZhYmQwYzBiZTllNTdiMyk7CgogICAgICAgICAgICAKICAgICAgICAKICAgIAogICAgICAgICAgICB2YXIgY2lyY2xlX21hcmtlcl82MjAyZDNiYzhjYzQ0N2ZjYTUxOWE0OGM1OTE2YTU3YiA9IEwuY2lyY2xlTWFya2VyKAogICAgICAgICAgICAgICAgWzQwLjYxMTAwODkwMjAyMDQ0LC03My45OTUxNzk5ODM4MDcyOV0sCiAgICAgICAgICAgICAgICB7CiAgImJ1YmJsaW5nTW91c2VFdmVudHMiOiB0cnVlLAogICJjb2xvciI6ICJibHVlIiwKICAiZGFzaEFycmF5IjogbnVsbCwKICAiZGFzaE9mZnNldCI6IG51bGwsCiAgImZpbGwiOiB0cnVlLAogICJmaWxsQ29sb3IiOiAiIzMxODZjYyIsCiAgImZpbGxPcGFjaXR5IjogMC43LAogICJmaWxsUnVsZSI6ICJldmVub2RkIiwKICAibGluZUNhcCI6ICJyb3VuZCIsCiAgImxpbmVKb2luIjogInJvdW5kIiwKICAib3BhY2l0eSI6IDEuMCwKICAicmFkaXVzIjogNSwKICAic3Ryb2tlIjogdHJ1ZSwKICAid2VpZ2h0IjogMwp9CiAgICAgICAgICAgICAgICApLmFkZFRvKG1hcF8yYmZkMzY1NWNiNGM0NjE0YmIzY2VjOGRmNDdhNmMyOSk7CiAgICAgICAgICAgIAogICAgCiAgICAgICAgICAgIHZhciBwb3B1cF9kY2UwNDcyOTUwZmI0MWEwODc1OWEwMWVmYTI4NGFhOCA9IEwucG9wdXAoe21heFdpZHRoOiAnMzAwJ30pOwoKICAgICAgICAgICAgCiAgICAgICAgICAgICAgICB2YXIgaHRtbF9jMWE1MTUzNGRkOWY0ODc0ODhjNzE1ZTQyOGQzNWNhOCA9ICQoJzxkaXYgaWQ9Imh0bWxfYzFhNTE1MzRkZDlmNDg3NDg4YzcxNWU0MjhkMzVjYTgiIHN0eWxlPSJ3aWR0aDogMTAwLjAlOyBoZWlnaHQ6IDEwMC4wJTsiPkJlbnNvbmh1cnN0PC9kaXY+JylbMF07CiAgICAgICAgICAgICAgICBwb3B1cF9kY2UwNDcyOTUwZmI0MWEwODc1OWEwMWVmYTI4NGFhOC5zZXRDb250ZW50KGh0bWxfYzFhNTE1MzRkZDlmNDg3NDg4YzcxNWU0MjhkMzVjYTgpOwogICAgICAgICAgICAKCiAgICAgICAgICAgIGNpcmNsZV9tYXJrZXJfNjIwMmQzYmM4Y2M0NDdmY2E1MTlhNDhjNTkxNmE1N2IuYmluZFBvcHVwKHBvcHVwX2RjZTA0NzI5NTBmYjQxYTA4NzU5YTAxZWZhMjg0YWE4KTsKCiAgICAgICAgICAgIAogICAgICAgIAogICAgCiAgICAgICAgICAgIHZhciBjaXJjbGVfbWFya2VyX2M0MmI5M2I2MDczMTQ4ZTI5MGQ2MmU1YjBmYjU5MmQ4ID0gTC5jaXJjbGVNYXJrZXIoCiAgICAgICAgICAgICAgICBbNDAuNjQ1MTAyOTQ5MjU0MjksLTc0LjAxMDMxNjE4NTI3Nzg0XSwKICAgICAgICAgICAgICAgIHsKICAiYnViYmxpbmdNb3VzZUV2ZW50cyI6IHRydWUsCiAgImNvbG9yIjogImJsdWUiLAogICJkYXNoQXJyYXkiOiBudWxsLAogICJkYXNoT2Zmc2V0IjogbnVsbCwKICAiZmlsbCI6IHRydWUsCiAgImZpbGxDb2xvciI6ICIjMzE4NmNjIiwKICAiZmlsbE9wYWNpdHkiOiAwLjcsCiAgImZpbGxSdWxlIjogImV2ZW5vZGQiLAogICJsaW5lQ2FwIjogInJvdW5kIiwKICAibGluZUpvaW4iOiAicm91bmQiLAogICJvcGFjaXR5IjogMS4wLAogICJyYWRpdXMiOiA1LAogICJzdHJva2UiOiB0cnVlLAogICJ3ZWlnaHQiOiAzCn0KICAgICAgICAgICAgICAgICkuYWRkVG8obWFwXzJiZmQzNjU1Y2I0YzQ2MTRiYjNjZWM4ZGY0N2E2YzI5KTsKICAgICAgICAgICAgCiAgICAKICAgICAgICAgICAgdmFyIHBvcHVwXzMyZjNiOWYxYjM2MTRhYzliZjc0OWExNWJiMGQ4OTFkID0gTC5wb3B1cCh7bWF4V2lkdGg6ICczMDAnfSk7CgogICAgICAgICAgICAKICAgICAgICAgICAgICAgIHZhciBodG1sXzUyMGQ3MWMxNmY3ZDQ3NzZiYTY4NjI3YzYyNGIzYjE4ID0gJCgnPGRpdiBpZD0iaHRtbF81MjBkNzFjMTZmN2Q0Nzc2YmE2ODYyN2M2MjRiM2IxOCIgc3R5bGU9IndpZHRoOiAxMDAuMCU7IGhlaWdodDogMTAwLjAlOyI+U3Vuc2V0IFBhcms8L2Rpdj4nKVswXTsKICAgICAgICAgICAgICAgIHBvcHVwXzMyZjNiOWYxYjM2MTRhYzliZjc0OWExNWJiMGQ4OTFkLnNldENvbnRlbnQoaHRtbF81MjBkNzFjMTZmN2Q0Nzc2YmE2ODYyN2M2MjRiM2IxOCk7CiAgICAgICAgICAgIAoKICAgICAgICAgICAgY2lyY2xlX21hcmtlcl9jNDJiOTNiNjA3MzE0OGUyOTBkNjJlNWIwZmI1OTJkOC5iaW5kUG9wdXAocG9wdXBfMzJmM2I5ZjFiMzYxNGFjOWJmNzQ5YTE1YmIwZDg5MWQpOwoKICAgICAgICAgICAgCiAgICAgICAgCiAgICAKICAgICAgICAgICAgdmFyIGNpcmNsZV9tYXJrZXJfOWNiMjc5MWQ5OTZjNDc5NWFkZjJlMjE2MWY3NjM0ZjkgPSBMLmNpcmNsZU1hcmtlcigKICAgICAgICAgICAgICAgIFs0MC43MzAyMDA5ODQ4NjQ3LC03My45NTQyNDA5MzEyNzM5M10sCiAgICAgICAgICAgICAgICB7CiAgImJ1YmJsaW5nTW91c2VFdmVudHMiOiB0cnVlLAogICJjb2xvciI6ICJibHVlIiwKICAiZGFzaEFycmF5IjogbnVsbCwKICAiZGFzaE9mZnNldCI6IG51bGwsCiAgImZpbGwiOiB0cnVlLAogICJmaWxsQ29sb3IiOiAiIzMxODZjYyIsCiAgImZpbGxPcGFjaXR5IjogMC43LAogICJmaWxsUnVsZSI6ICJldmVub2RkIiwKICAibGluZUNhcCI6ICJyb3VuZCIsCiAgImxpbmVKb2luIjogInJvdW5kIiwKICAib3BhY2l0eSI6IDEuMCwKICAicmFkaXVzIjogNSwKICAic3Ryb2tlIjogdHJ1ZSwKICAid2VpZ2h0IjogMwp9CiAgICAgICAgICAgICAgICApLmFkZFRvKG1hcF8yYmZkMzY1NWNiNGM0NjE0YmIzY2VjOGRmNDdhNmMyOSk7CiAgICAgICAgICAgIAogICAgCiAgICAgICAgICAgIHZhciBwb3B1cF84MWRkMDE1NjhmNzM0Yzc1OGFhZWYwY2FjMzA4NTgxMCA9IEwucG9wdXAoe21heFdpZHRoOiAnMzAwJ30pOwoKICAgICAgICAgICAgCiAgICAgICAgICAgICAgICB2YXIgaHRtbF81NmQ2MzM5YmFmZmU0MzA3OWY5ODcwYmFlY2MzYjFhMiA9ICQoJzxkaXYgaWQ9Imh0bWxfNTZkNjMzOWJhZmZlNDMwNzlmOTg3MGJhZWNjM2IxYTIiIHN0eWxlPSJ3aWR0aDogMTAwLjAlOyBoZWlnaHQ6IDEwMC4wJTsiPkdyZWVucG9pbnQ8L2Rpdj4nKVswXTsKICAgICAgICAgICAgICAgIHBvcHVwXzgxZGQwMTU2OGY3MzRjNzU4YWFlZjBjYWMzMDg1ODEwLnNldENvbnRlbnQoaHRtbF81NmQ2MzM5YmFmZmU0MzA3OWY5ODcwYmFlY2MzYjFhMik7CiAgICAgICAgICAgIAoKICAgICAgICAgICAgY2lyY2xlX21hcmtlcl85Y2IyNzkxZDk5NmM0Nzk1YWRmMmUyMTYxZjc2MzRmOS5iaW5kUG9wdXAocG9wdXBfODFkZDAxNTY4ZjczNGM3NThhYWVmMGNhYzMwODU4MTApOwoKICAgICAgICAgICAgCiAgICAgICAgCiAgICAKICAgICAgICAgICAgdmFyIGNpcmNsZV9tYXJrZXJfMjE0YTQxY2IyNTFkNDExOGJmYmI0ODIzNTUwYjE4MTUgPSBMLmNpcmNsZU1hcmtlcigKICAgICAgICAgICAgICAgIFs0MC41OTUyNjAwMTMwNjU5MywtNzMuOTczNDcwODc3MDg0NDVdLAogICAgICAgICAgICAgICAgewogICJidWJibGluZ01vdXNlRXZlbnRzIjogdHJ1ZSwKICAiY29sb3IiOiAiYmx1ZSIsCiAgImRhc2hBcnJheSI6IG51bGwsCiAgImRhc2hPZmZzZXQiOiBudWxsLAogICJmaWxsIjogdHJ1ZSwKICAiZmlsbENvbG9yIjogIiMzMTg2Y2MiLAogICJmaWxsT3BhY2l0eSI6IDAuNywKICAiZmlsbFJ1bGUiOiAiZXZlbm9kZCIsCiAgImxpbmVDYXAiOiAicm91bmQiLAogICJsaW5lSm9pbiI6ICJyb3VuZCIsCiAgIm9wYWNpdHkiOiAxLjAsCiAgInJhZGl1cyI6IDUsCiAgInN0cm9rZSI6IHRydWUsCiAgIndlaWdodCI6IDMKfQogICAgICAgICAgICAgICAgKS5hZGRUbyhtYXBfMmJmZDM2NTVjYjRjNDYxNGJiM2NlYzhkZjQ3YTZjMjkpOwogICAgICAgICAgICAKICAgIAogICAgICAgICAgICB2YXIgcG9wdXBfNDI0MmQ1YmRhN2Y2NGY4OGEyNmU0MzczOWE1YzViMzMgPSBMLnBvcHVwKHttYXhXaWR0aDogJzMwMCd9KTsKCiAgICAgICAgICAgIAogICAgICAgICAgICAgICAgdmFyIGh0bWxfMTkxNmRhNWI3OWY3NDY0YmI1Zjc2OTdmYWJlZjg3ZWEgPSAkKCc8ZGl2IGlkPSJodG1sXzE5MTZkYTViNzlmNzQ2NGJiNWY3Njk3ZmFiZWY4N2VhIiBzdHlsZT0id2lkdGg6IDEwMC4wJTsgaGVpZ2h0OiAxMDAuMCU7Ij5HcmF2ZXNlbmQ8L2Rpdj4nKVswXTsKICAgICAgICAgICAgICAgIHBvcHVwXzQyNDJkNWJkYTdmNjRmODhhMjZlNDM3MzlhNWM1YjMzLnNldENvbnRlbnQoaHRtbF8xOTE2ZGE1Yjc5Zjc0NjRiYjVmNzY5N2ZhYmVmODdlYSk7CiAgICAgICAgICAgIAoKICAgICAgICAgICAgY2lyY2xlX21hcmtlcl8yMTRhNDFjYjI1MWQ0MTE4YmZiYjQ4MjM1NTBiMTgxNS5iaW5kUG9wdXAocG9wdXBfNDI0MmQ1YmRhN2Y2NGY4OGEyNmU0MzczOWE1YzViMzMpOwoKICAgICAgICAgICAgCiAgICAgICAgCiAgICAKICAgICAgICAgICAgdmFyIGNpcmNsZV9tYXJrZXJfYjU1NTU1Nzg3N2YyNDY0MGI3ZWFiOTcwYWQzZmRmNDMgPSBMLmNpcmNsZU1hcmtlcigKICAgICAgICAgICAgICAgIFs0MC41NzY4MjUwNjU2NjYwNCwtNzMuOTY1MDk0NDg3ODUzMzZdLAogICAgICAgICAgICAgICAgewogICJidWJibGluZ01vdXNlRXZlbnRzIjogdHJ1ZSwKICAiY29sb3IiOiAiYmx1ZSIsCiAgImRhc2hBcnJheSI6IG51bGwsCiAgImRhc2hPZmZzZXQiOiBudWxsLAogICJmaWxsIjogdHJ1ZSwKICAiZmlsbENvbG9yIjogIiMzMTg2Y2MiLAogICJmaWxsT3BhY2l0eSI6IDAuNywKICAiZmlsbFJ1bGUiOiAiZXZlbm9kZCIsCiAgImxpbmVDYXAiOiAicm91bmQiLAogICJsaW5lSm9pbiI6ICJyb3VuZCIsCiAgIm9wYWNpdHkiOiAxLjAsCiAgInJhZGl1cyI6IDUsCiAgInN0cm9rZSI6IHRydWUsCiAgIndlaWdodCI6IDMKfQogICAgICAgICAgICAgICAgKS5hZGRUbyhtYXBfMmJmZDM2NTVjYjRjNDYxNGJiM2NlYzhkZjQ3YTZjMjkpOwogICAgICAgICAgICAKICAgIAogICAgICAgICAgICB2YXIgcG9wdXBfZmRmNWU3MGM1ZDE2NDRhMjg5YjhhMTAyNzQwZDZlZjkgPSBMLnBvcHVwKHttYXhXaWR0aDogJzMwMCd9KTsKCiAgICAgICAgICAgIAogICAgICAgICAgICAgICAgdmFyIGh0bWxfNDk2NDE2ZjgyZGU2NGFhZmE4ZjAwNzBiZWNlYjg3NDQgPSAkKCc8ZGl2IGlkPSJodG1sXzQ5NjQxNmY4MmRlNjRhYWZhOGYwMDcwYmVjZWI4NzQ0IiBzdHlsZT0id2lkdGg6IDEwMC4wJTsgaGVpZ2h0OiAxMDAuMCU7Ij5CcmlnaHRvbiBCZWFjaDwvZGl2PicpWzBdOwogICAgICAgICAgICAgICAgcG9wdXBfZmRmNWU3MGM1ZDE2NDRhMjg5YjhhMTAyNzQwZDZlZjkuc2V0Q29udGVudChodG1sXzQ5NjQxNmY4MmRlNjRhYWZhOGYwMDcwYmVjZWI4NzQ0KTsKICAgICAgICAgICAgCgogICAgICAgICAgICBjaXJjbGVfbWFya2VyX2I1NTU1NTc4NzdmMjQ2NDBiN2VhYjk3MGFkM2ZkZjQzLmJpbmRQb3B1cChwb3B1cF9mZGY1ZTcwYzVkMTY0NGEyODliOGExMDI3NDBkNmVmOSk7CgogICAgICAgICAgICAKICAgICAgICAKICAgIAogICAgICAgICAgICB2YXIgY2lyY2xlX21hcmtlcl9kZWMwMjU1MjY5NzU0NTA3OTFlMzFlNjNjNGM5ZDYwOSA9IEwuY2lyY2xlTWFya2VyKAogICAgICAgICAgICAgICAgWzQwLjU4Njg5MDEyNjc4Mzg0LC03My45NDMxODY0MDQ4Mjk3OV0sCiAgICAgICAgICAgICAgICB7CiAgImJ1YmJsaW5nTW91c2VFdmVudHMiOiB0cnVlLAogICJjb2xvciI6ICJibHVlIiwKICAiZGFzaEFycmF5IjogbnVsbCwKICAiZGFzaE9mZnNldCI6IG51bGwsCiAgImZpbGwiOiB0cnVlLAogICJmaWxsQ29sb3IiOiAiIzMxODZjYyIsCiAgImZpbGxPcGFjaXR5IjogMC43LAogICJmaWxsUnVsZSI6ICJldmVub2RkIiwKICAibGluZUNhcCI6ICJyb3VuZCIsCiAgImxpbmVKb2luIjogInJvdW5kIiwKICAib3BhY2l0eSI6IDEuMCwKICAicmFkaXVzIjogNSwKICAic3Ryb2tlIjogdHJ1ZSwKICAid2VpZ2h0IjogMwp9CiAgICAgICAgICAgICAgICApLmFkZFRvKG1hcF8yYmZkMzY1NWNiNGM0NjE0YmIzY2VjOGRmNDdhNmMyOSk7CiAgICAgICAgICAgIAogICAgCiAgICAgICAgICAgIHZhciBwb3B1cF9iNjZjNGZmOTNiZDU0OGQ0ODk4ZWZiZTBmZWMwZTIzMyA9IEwucG9wdXAoe21heFdpZHRoOiAnMzAwJ30pOwoKICAgICAgICAgICAgCiAgICAgICAgICAgICAgICB2YXIgaHRtbF9mMGEzZDAyNTI2OTA0Y2FlYWI0ZjJlODEwMmY0MGI5YSA9ICQoJzxkaXYgaWQ9Imh0bWxfZjBhM2QwMjUyNjkwNGNhZWFiNGYyZTgxMDJmNDBiOWEiIHN0eWxlPSJ3aWR0aDogMTAwLjAlOyBoZWlnaHQ6IDEwMC4wJTsiPlNoZWVwc2hlYWQgQmF5PC9kaXY+JylbMF07CiAgICAgICAgICAgICAgICBwb3B1cF9iNjZjNGZmOTNiZDU0OGQ0ODk4ZWZiZTBmZWMwZTIzMy5zZXRDb250ZW50KGh0bWxfZjBhM2QwMjUyNjkwNGNhZWFiNGYyZTgxMDJmNDBiOWEpOwogICAgICAgICAgICAKCiAgICAgICAgICAgIGNpcmNsZV9tYXJrZXJfZGVjMDI1NTI2OTc1NDUwNzkxZTMxZTYzYzRjOWQ2MDkuYmluZFBvcHVwKHBvcHVwX2I2NmM0ZmY5M2JkNTQ4ZDQ4OThlZmJlMGZlYzBlMjMzKTsKCiAgICAgICAgICAgIAogICAgICAgIAogICAgCiAgICAgICAgICAgIHZhciBjaXJjbGVfbWFya2VyXzgwODk0MTQzMmIzMTQ4MDc5MzMxMDQ1ZTVmODE4MTAyID0gTC5jaXJjbGVNYXJrZXIoCiAgICAgICAgICAgICAgICBbNDAuNjE0NDMyNTEzMzUwOTgsLTczLjk1NzQzODQwNTU5OTM5XSwKICAgICAgICAgICAgICAgIHsKICAiYnViYmxpbmdNb3VzZUV2ZW50cyI6IHRydWUsCiAgImNvbG9yIjogImJsdWUiLAogICJkYXNoQXJyYXkiOiBudWxsLAogICJkYXNoT2Zmc2V0IjogbnVsbCwKICAiZmlsbCI6IHRydWUsCiAgImZpbGxDb2xvciI6ICIjMzE4NmNjIiwKICAiZmlsbE9wYWNpdHkiOiAwLjcsCiAgImZpbGxSdWxlIjogImV2ZW5vZGQiLAogICJsaW5lQ2FwIjogInJvdW5kIiwKICAibGluZUpvaW4iOiAicm91bmQiLAogICJvcGFjaXR5IjogMS4wLAogICJyYWRpdXMiOiA1LAogICJzdHJva2UiOiB0cnVlLAogICJ3ZWlnaHQiOiAzCn0KICAgICAgICAgICAgICAgICkuYWRkVG8obWFwXzJiZmQzNjU1Y2I0YzQ2MTRiYjNjZWM4ZGY0N2E2YzI5KTsKICAgICAgICAgICAgCiAgICAKICAgICAgICAgICAgdmFyIHBvcHVwXzc5YjVmMDVkN2M3NTQ5YTZhMzYxYThkMGZlY2FjZTQzID0gTC5wb3B1cCh7bWF4V2lkdGg6ICczMDAnfSk7CgogICAgICAgICAgICAKICAgICAgICAgICAgICAgIHZhciBodG1sXzJiMzBmOWZkMzAwOTRmZjlhN2UzZjVjNDkzYmM2ZTE2ID0gJCgnPGRpdiBpZD0iaHRtbF8yYjMwZjlmZDMwMDk0ZmY5YTdlM2Y1YzQ5M2JjNmUxNiIgc3R5bGU9IndpZHRoOiAxMDAuMCU7IGhlaWdodDogMTAwLjAlOyI+TWFuaGF0dGFuIFRlcnJhY2U8L2Rpdj4nKVswXTsKICAgICAgICAgICAgICAgIHBvcHVwXzc5YjVmMDVkN2M3NTQ5YTZhMzYxYThkMGZlY2FjZTQzLnNldENvbnRlbnQoaHRtbF8yYjMwZjlmZDMwMDk0ZmY5YTdlM2Y1YzQ5M2JjNmUxNik7CiAgICAgICAgICAgIAoKICAgICAgICAgICAgY2lyY2xlX21hcmtlcl84MDg5NDE0MzJiMzE0ODA3OTMzMTA0NWU1ZjgxODEwMi5iaW5kUG9wdXAocG9wdXBfNzliNWYwNWQ3Yzc1NDlhNmEzNjFhOGQwZmVjYWNlNDMpOwoKICAgICAgICAgICAgCiAgICAgICAgCiAgICAKICAgICAgICAgICAgdmFyIGNpcmNsZV9tYXJrZXJfZjc2NTk2YTRiZmRjNGE4ZWI4Y2FjZDBjYjViOTA3MDAgPSBMLmNpcmNsZU1hcmtlcigKICAgICAgICAgICAgICAgIFs0MC42MzYzMjU4OTAyNjY3NywtNzMuOTU4NDAxMDY1MzM5MDNdLAogICAgICAgICAgICAgICAgewogICJidWJibGluZ01vdXNlRXZlbnRzIjogdHJ1ZSwKICAiY29sb3IiOiAiYmx1ZSIsCiAgImRhc2hBcnJheSI6IG51bGwsCiAgImRhc2hPZmZzZXQiOiBudWxsLAogICJmaWxsIjogdHJ1ZSwKICAiZmlsbENvbG9yIjogIiMzMTg2Y2MiLAogICJmaWxsT3BhY2l0eSI6IDAuNywKICAiZmlsbFJ1bGUiOiAiZXZlbm9kZCIsCiAgImxpbmVDYXAiOiAicm91bmQiLAogICJsaW5lSm9pbiI6ICJyb3VuZCIsCiAgIm9wYWNpdHkiOiAxLjAsCiAgInJhZGl1cyI6IDUsCiAgInN0cm9rZSI6IHRydWUsCiAgIndlaWdodCI6IDMKfQogICAgICAgICAgICAgICAgKS5hZGRUbyhtYXBfMmJmZDM2NTVjYjRjNDYxNGJiM2NlYzhkZjQ3YTZjMjkpOwogICAgICAgICAgICAKICAgIAogICAgICAgICAgICB2YXIgcG9wdXBfNjg0MWI4ZTUyNGEzNGNlYjk2Y2RkY2E4MGM5MWVhZDAgPSBMLnBvcHVwKHttYXhXaWR0aDogJzMwMCd9KTsKCiAgICAgICAgICAgIAogICAgICAgICAgICAgICAgdmFyIGh0bWxfYjliYTZjY2Q2OGZhNGQ5NTkwYWZkNTZkMTc1OGJjY2YgPSAkKCc8ZGl2IGlkPSJodG1sX2I5YmE2Y2NkNjhmYTRkOTU5MGFmZDU2ZDE3NThiY2NmIiBzdHlsZT0id2lkdGg6IDEwMC4wJTsgaGVpZ2h0OiAxMDAuMCU7Ij5GbGF0YnVzaDwvZGl2PicpWzBdOwogICAgICAgICAgICAgICAgcG9wdXBfNjg0MWI4ZTUyNGEzNGNlYjk2Y2RkY2E4MGM5MWVhZDAuc2V0Q29udGVudChodG1sX2I5YmE2Y2NkNjhmYTRkOTU5MGFmZDU2ZDE3NThiY2NmKTsKICAgICAgICAgICAgCgogICAgICAgICAgICBjaXJjbGVfbWFya2VyX2Y3NjU5NmE0YmZkYzRhOGViOGNhY2QwY2I1YjkwNzAwLmJpbmRQb3B1cChwb3B1cF82ODQxYjhlNTI0YTM0Y2ViOTZjZGRjYTgwYzkxZWFkMCk7CgogICAgICAgICAgICAKICAgICAgICAKICAgIAogICAgICAgICAgICB2YXIgY2lyY2xlX21hcmtlcl84MjQxMzRmYzk5ZDY0MTAzOGIzMWE2NTBkMTY5OTJmOCA9IEwuY2lyY2xlTWFya2VyKAogICAgICAgICAgICAgICAgWzQwLjY3MDgyOTE3Njk1Mjk0LC03My45NDMyOTExOTA3MzU4Ml0sCiAgICAgICAgICAgICAgICB7CiAgImJ1YmJsaW5nTW91c2VFdmVudHMiOiB0cnVlLAogICJjb2xvciI6ICJibHVlIiwKICAiZGFzaEFycmF5IjogbnVsbCwKICAiZGFzaE9mZnNldCI6IG51bGwsCiAgImZpbGwiOiB0cnVlLAogICJmaWxsQ29sb3IiOiAiIzMxODZjYyIsCiAgImZpbGxPcGFjaXR5IjogMC43LAogICJmaWxsUnVsZSI6ICJldmVub2RkIiwKICAibGluZUNhcCI6ICJyb3VuZCIsCiAgImxpbmVKb2luIjogInJvdW5kIiwKICAib3BhY2l0eSI6IDEuMCwKICAicmFkaXVzIjogNSwKICAic3Ryb2tlIjogdHJ1ZSwKICAid2VpZ2h0IjogMwp9CiAgICAgICAgICAgICAgICApLmFkZFRvKG1hcF8yYmZkMzY1NWNiNGM0NjE0YmIzY2VjOGRmNDdhNmMyOSk7CiAgICAgICAgICAgIAogICAgCiAgICAgICAgICAgIHZhciBwb3B1cF80NWZiYTkzY2JlMjk0MmEyYmZkOThjOGU5MWEzOWUwYiA9IEwucG9wdXAoe21heFdpZHRoOiAnMzAwJ30pOwoKICAgICAgICAgICAgCiAgICAgICAgICAgICAgICB2YXIgaHRtbF9jMDA2ODAwN2ZkNmE0YjI0YmI0ZDJhZDVhMDBjOGE5ZCA9ICQoJzxkaXYgaWQ9Imh0bWxfYzAwNjgwMDdmZDZhNGIyNGJiNGQyYWQ1YTAwYzhhOWQiIHN0eWxlPSJ3aWR0aDogMTAwLjAlOyBoZWlnaHQ6IDEwMC4wJTsiPkNyb3duIEhlaWdodHM8L2Rpdj4nKVswXTsKICAgICAgICAgICAgICAgIHBvcHVwXzQ1ZmJhOTNjYmUyOTQyYTJiZmQ5OGM4ZTkxYTM5ZTBiLnNldENvbnRlbnQoaHRtbF9jMDA2ODAwN2ZkNmE0YjI0YmI0ZDJhZDVhMDBjOGE5ZCk7CiAgICAgICAgICAgIAoKICAgICAgICAgICAgY2lyY2xlX21hcmtlcl84MjQxMzRmYzk5ZDY0MTAzOGIzMWE2NTBkMTY5OTJmOC5iaW5kUG9wdXAocG9wdXBfNDVmYmE5M2NiZTI5NDJhMmJmZDk4YzhlOTFhMzllMGIpOwoKICAgICAgICAgICAgCiAgICAgICAgCiAgICAKICAgICAgICAgICAgdmFyIGNpcmNsZV9tYXJrZXJfZGI0Y2FlZTY1Nzk4NDY0NThkMjAyYzkxMzQ1MjhkZGIgPSBMLmNpcmNsZU1hcmtlcigKICAgICAgICAgICAgICAgIFs0MC42NDE3MTc3NjY2ODk2MSwtNzMuOTM2MTAyNTYxODU4MzZdLAogICAgICAgICAgICAgICAgewogICJidWJibGluZ01vdXNlRXZlbnRzIjogdHJ1ZSwKICAiY29sb3IiOiAiYmx1ZSIsCiAgImRhc2hBcnJheSI6IG51bGwsCiAgImRhc2hPZmZzZXQiOiBudWxsLAogICJmaWxsIjogdHJ1ZSwKICAiZmlsbENvbG9yIjogIiMzMTg2Y2MiLAogICJmaWxsT3BhY2l0eSI6IDAuNywKICAiZmlsbFJ1bGUiOiAiZXZlbm9kZCIsCiAgImxpbmVDYXAiOiAicm91bmQiLAogICJsaW5lSm9pbiI6ICJyb3VuZCIsCiAgIm9wYWNpdHkiOiAxLjAsCiAgInJhZGl1cyI6IDUsCiAgInN0cm9rZSI6IHRydWUsCiAgIndlaWdodCI6IDMKfQogICAgICAgICAgICAgICAgKS5hZGRUbyhtYXBfMmJmZDM2NTVjYjRjNDYxNGJiM2NlYzhkZjQ3YTZjMjkpOwogICAgICAgICAgICAKICAgIAogICAgICAgICAgICB2YXIgcG9wdXBfYmMzYzA5NWEzZGJkNDY0OTliOTEzZTk3ODY3ZDAyZGMgPSBMLnBvcHVwKHttYXhXaWR0aDogJzMwMCd9KTsKCiAgICAgICAgICAgIAogICAgICAgICAgICAgICAgdmFyIGh0bWxfYzgyNTg5MDM4Njg2NDFkMmJhZWRmNzE4OGJjNjBmZjQgPSAkKCc8ZGl2IGlkPSJodG1sX2M4MjU4OTAzODY4NjQxZDJiYWVkZjcxODhiYzYwZmY0IiBzdHlsZT0id2lkdGg6IDEwMC4wJTsgaGVpZ2h0OiAxMDAuMCU7Ij5FYXN0IEZsYXRidXNoPC9kaXY+JylbMF07CiAgICAgICAgICAgICAgICBwb3B1cF9iYzNjMDk1YTNkYmQ0NjQ5OWI5MTNlOTc4NjdkMDJkYy5zZXRDb250ZW50KGh0bWxfYzgyNTg5MDM4Njg2NDFkMmJhZWRmNzE4OGJjNjBmZjQpOwogICAgICAgICAgICAKCiAgICAgICAgICAgIGNpcmNsZV9tYXJrZXJfZGI0Y2FlZTY1Nzk4NDY0NThkMjAyYzkxMzQ1MjhkZGIuYmluZFBvcHVwKHBvcHVwX2JjM2MwOTVhM2RiZDQ2NDk5YjkxM2U5Nzg2N2QwMmRjKTsKCiAgICAgICAgICAgIAogICAgICAgIAogICAgCiAgICAgICAgICAgIHZhciBjaXJjbGVfbWFya2VyXzAwZGUyOGMxODdlMjQ2OTBhMzRiODQ1NzI3MjM2YmVhID0gTC5jaXJjbGVNYXJrZXIoCiAgICAgICAgICAgICAgICBbNDAuNjQyMzgxOTU4MDAzNTI2LC03My45ODA0MjExMDU1OTQ3NF0sCiAgICAgICAgICAgICAgICB7CiAgImJ1YmJsaW5nTW91c2VFdmVudHMiOiB0cnVlLAogICJjb2xvciI6ICJibHVlIiwKICAiZGFzaEFycmF5IjogbnVsbCwKICAiZGFzaE9mZnNldCI6IG51bGwsCiAgImZpbGwiOiB0cnVlLAogICJmaWxsQ29sb3IiOiAiIzMxODZjYyIsCiAgImZpbGxPcGFjaXR5IjogMC43LAogICJmaWxsUnVsZSI6ICJldmVub2RkIiwKICAibGluZUNhcCI6ICJyb3VuZCIsCiAgImxpbmVKb2luIjogInJvdW5kIiwKICAib3BhY2l0eSI6IDEuMCwKICAicmFkaXVzIjogNSwKICAic3Ryb2tlIjogdHJ1ZSwKICAid2VpZ2h0IjogMwp9CiAgICAgICAgICAgICAgICApLmFkZFRvKG1hcF8yYmZkMzY1NWNiNGM0NjE0YmIzY2VjOGRmNDdhNmMyOSk7CiAgICAgICAgICAgIAogICAgCiAgICAgICAgICAgIHZhciBwb3B1cF82ZmVkYTAxYTZkMDM0Y2Y1OWVmZmQ0Y2Q4MGQ5MjMxNiA9IEwucG9wdXAoe21heFdpZHRoOiAnMzAwJ30pOwoKICAgICAgICAgICAgCiAgICAgICAgICAgICAgICB2YXIgaHRtbF82YzQ2NTYzM2E4Mjk0MDc2YjlhYjE3ZWQwYjdiMjM5YiA9ICQoJzxkaXYgaWQ9Imh0bWxfNmM0NjU2MzNhODI5NDA3NmI5YWIxN2VkMGI3YjIzOWIiIHN0eWxlPSJ3aWR0aDogMTAwLjAlOyBoZWlnaHQ6IDEwMC4wJTsiPktlbnNpbmd0b248L2Rpdj4nKVswXTsKICAgICAgICAgICAgICAgIHBvcHVwXzZmZWRhMDFhNmQwMzRjZjU5ZWZmZDRjZDgwZDkyMzE2LnNldENvbnRlbnQoaHRtbF82YzQ2NTYzM2E4Mjk0MDc2YjlhYjE3ZWQwYjdiMjM5Yik7CiAgICAgICAgICAgIAoKICAgICAgICAgICAgY2lyY2xlX21hcmtlcl8wMGRlMjhjMTg3ZTI0NjkwYTM0Yjg0NTcyNzIzNmJlYS5iaW5kUG9wdXAocG9wdXBfNmZlZGEwMWE2ZDAzNGNmNTllZmZkNGNkODBkOTIzMTYpOwoKICAgICAgICAgICAgCiAgICAgICAgCiAgICAKICAgICAgICAgICAgdmFyIGNpcmNsZV9tYXJrZXJfZmMwZjVkZTg2NzQwNGJlYjhlNWE3NmVjY2ZjNWIwZWEgPSBMLmNpcmNsZU1hcmtlcigKICAgICAgICAgICAgICAgIFs0MC42NTY5NDU4MzU3NTEwNCwtNzMuOTgwMDczNDA0MzAxNzJdLAogICAgICAgICAgICAgICAgewogICJidWJibGluZ01vdXNlRXZlbnRzIjogdHJ1ZSwKICAiY29sb3IiOiAiYmx1ZSIsCiAgImRhc2hBcnJheSI6IG51bGwsCiAgImRhc2hPZmZzZXQiOiBudWxsLAogICJmaWxsIjogdHJ1ZSwKICAiZmlsbENvbG9yIjogIiMzMTg2Y2MiLAogICJmaWxsT3BhY2l0eSI6IDAuNywKICAiZmlsbFJ1bGUiOiAiZXZlbm9kZCIsCiAgImxpbmVDYXAiOiAicm91bmQiLAogICJsaW5lSm9pbiI6ICJyb3VuZCIsCiAgIm9wYWNpdHkiOiAxLjAsCiAgInJhZGl1cyI6IDUsCiAgInN0cm9rZSI6IHRydWUsCiAgIndlaWdodCI6IDMKfQogICAgICAgICAgICAgICAgKS5hZGRUbyhtYXBfMmJmZDM2NTVjYjRjNDYxNGJiM2NlYzhkZjQ3YTZjMjkpOwogICAgICAgICAgICAKICAgIAogICAgICAgICAgICB2YXIgcG9wdXBfNGNjM2I2ZGJiNTc2NDZjNTg3MDQ1NTBmMzI5ZDEwYWYgPSBMLnBvcHVwKHttYXhXaWR0aDogJzMwMCd9KTsKCiAgICAgICAgICAgIAogICAgICAgICAgICAgICAgdmFyIGh0bWxfNjMyNjdhMGE0NGYwNDIzZWE3MmQxMjE1MTgwOTkyMWQgPSAkKCc8ZGl2IGlkPSJodG1sXzYzMjY3YTBhNDRmMDQyM2VhNzJkMTIxNTE4MDk5MjFkIiBzdHlsZT0id2lkdGg6IDEwMC4wJTsgaGVpZ2h0OiAxMDAuMCU7Ij5XaW5kc29yIFRlcnJhY2U8L2Rpdj4nKVswXTsKICAgICAgICAgICAgICAgIHBvcHVwXzRjYzNiNmRiYjU3NjQ2YzU4NzA0NTUwZjMyOWQxMGFmLnNldENvbnRlbnQoaHRtbF82MzI2N2EwYTQ0ZjA0MjNlYTcyZDEyMTUxODA5OTIxZCk7CiAgICAgICAgICAgIAoKICAgICAgICAgICAgY2lyY2xlX21hcmtlcl9mYzBmNWRlODY3NDA0YmViOGU1YTc2ZWNjZmM1YjBlYS5iaW5kUG9wdXAocG9wdXBfNGNjM2I2ZGJiNTc2NDZjNTg3MDQ1NTBmMzI5ZDEwYWYpOwoKICAgICAgICAgICAgCiAgICAgICAgCiAgICAKICAgICAgICAgICAgdmFyIGNpcmNsZV9tYXJrZXJfN2YwNjIyZDRkZjhjNDZlMDg1M2VjNzNkYTgxNjJmMDAgPSBMLmNpcmNsZU1hcmtlcigKICAgICAgICAgICAgICAgIFs0MC42NzY4MjIyNjIyNTQ3MjQsLTczLjk2NDg1OTI0MjYyNjldLAogICAgICAgICAgICAgICAgewogICJidWJibGluZ01vdXNlRXZlbnRzIjogdHJ1ZSwKICAiY29sb3IiOiAiYmx1ZSIsCiAgImRhc2hBcnJheSI6IG51bGwsCiAgImRhc2hPZmZzZXQiOiBudWxsLAogICJmaWxsIjogdHJ1ZSwKICAiZmlsbENvbG9yIjogIiMzMTg2Y2MiLAogICJmaWxsT3BhY2l0eSI6IDAuNywKICAiZmlsbFJ1bGUiOiAiZXZlbm9kZCIsCiAgImxpbmVDYXAiOiAicm91bmQiLAogICJsaW5lSm9pbiI6ICJyb3VuZCIsCiAgIm9wYWNpdHkiOiAxLjAsCiAgInJhZGl1cyI6IDUsCiAgInN0cm9rZSI6IHRydWUsCiAgIndlaWdodCI6IDMKfQogICAgICAgICAgICAgICAgKS5hZGRUbyhtYXBfMmJmZDM2NTVjYjRjNDYxNGJiM2NlYzhkZjQ3YTZjMjkpOwogICAgICAgICAgICAKICAgIAogICAgICAgICAgICB2YXIgcG9wdXBfMTE1MDkxYzdkOWQ5NDYzODhmMzgwZjBmMzE1YWRhMzYgPSBMLnBvcHVwKHttYXhXaWR0aDogJzMwMCd9KTsKCiAgICAgICAgICAgIAogICAgICAgICAgICAgICAgdmFyIGh0bWxfN2VmYzQ1ODY0OTZkNDgyYjhmNjVlMDdlMjJhYmJiMzUgPSAkKCc8ZGl2IGlkPSJodG1sXzdlZmM0NTg2NDk2ZDQ4MmI4ZjY1ZTA3ZTIyYWJiYjM1IiBzdHlsZT0id2lkdGg6IDEwMC4wJTsgaGVpZ2h0OiAxMDAuMCU7Ij5Qcm9zcGVjdCBIZWlnaHRzPC9kaXY+JylbMF07CiAgICAgICAgICAgICAgICBwb3B1cF8xMTUwOTFjN2Q5ZDk0NjM4OGYzODBmMGYzMTVhZGEzNi5zZXRDb250ZW50KGh0bWxfN2VmYzQ1ODY0OTZkNDgyYjhmNjVlMDdlMjJhYmJiMzUpOwogICAgICAgICAgICAKCiAgICAgICAgICAgIGNpcmNsZV9tYXJrZXJfN2YwNjIyZDRkZjhjNDZlMDg1M2VjNzNkYTgxNjJmMDAuYmluZFBvcHVwKHBvcHVwXzExNTA5MWM3ZDlkOTQ2Mzg4ZjM4MGYwZjMxNWFkYTM2KTsKCiAgICAgICAgICAgIAogICAgICAgIAogICAgCiAgICAgICAgICAgIHZhciBjaXJjbGVfbWFya2VyX2UxMmQ5YWYwZDgxZTQzMjliMWM2NTFhMWVhOWRlNzA2ID0gTC5jaXJjbGVNYXJrZXIoCiAgICAgICAgICAgICAgICBbNDAuNjYzOTQ5OTQzMzk3NTUsLTczLjkxMDIzNTM2MTc2NjA3XSwKICAgICAgICAgICAgICAgIHsKICAiYnViYmxpbmdNb3VzZUV2ZW50cyI6IHRydWUsCiAgImNvbG9yIjogImJsdWUiLAogICJkYXNoQXJyYXkiOiBudWxsLAogICJkYXNoT2Zmc2V0IjogbnVsbCwKICAiZmlsbCI6IHRydWUsCiAgImZpbGxDb2xvciI6ICIjMzE4NmNjIiwKICAiZmlsbE9wYWNpdHkiOiAwLjcsCiAgImZpbGxSdWxlIjogImV2ZW5vZGQiLAogICJsaW5lQ2FwIjogInJvdW5kIiwKICAibGluZUpvaW4iOiAicm91bmQiLAogICJvcGFjaXR5IjogMS4wLAogICJyYWRpdXMiOiA1LAogICJzdHJva2UiOiB0cnVlLAogICJ3ZWlnaHQiOiAzCn0KICAgICAgICAgICAgICAgICkuYWRkVG8obWFwXzJiZmQzNjU1Y2I0YzQ2MTRiYjNjZWM4ZGY0N2E2YzI5KTsKICAgICAgICAgICAgCiAgICAKICAgICAgICAgICAgdmFyIHBvcHVwXzNjY2ZkZGQxNWJmNTRkNjZiZjFmNGRlMTYxZDZlMDVlID0gTC5wb3B1cCh7bWF4V2lkdGg6ICczMDAnfSk7CgogICAgICAgICAgICAKICAgICAgICAgICAgICAgIHZhciBodG1sX2U4ODkzYzc5ZGI2NzRjNjViMWY4YzIwNjY1NTMzMTNmID0gJCgnPGRpdiBpZD0iaHRtbF9lODg5M2M3OWRiNjc0YzY1YjFmOGMyMDY2NTUzMzEzZiIgc3R5bGU9IndpZHRoOiAxMDAuMCU7IGhlaWdodDogMTAwLjAlOyI+QnJvd25zdmlsbGU8L2Rpdj4nKVswXTsKICAgICAgICAgICAgICAgIHBvcHVwXzNjY2ZkZGQxNWJmNTRkNjZiZjFmNGRlMTYxZDZlMDVlLnNldENvbnRlbnQoaHRtbF9lODg5M2M3OWRiNjc0YzY1YjFmOGMyMDY2NTUzMzEzZik7CiAgICAgICAgICAgIAoKICAgICAgICAgICAgY2lyY2xlX21hcmtlcl9lMTJkOWFmMGQ4MWU0MzI5YjFjNjUxYTFlYTlkZTcwNi5iaW5kUG9wdXAocG9wdXBfM2NjZmRkZDE1YmY1NGQ2NmJmMWY0ZGUxNjFkNmUwNWUpOwoKICAgICAgICAgICAgCiAgICAgICAgCiAgICAKICAgICAgICAgICAgdmFyIGNpcmNsZV9tYXJrZXJfZjJhN2I0ZDBjZGMwNDNmY2EzOGZiNDUyMGUwYTY3MzAgPSBMLmNpcmNsZU1hcmtlcigKICAgICAgICAgICAgICAgIFs0MC43MDcxNDQzOTM0NDI1MSwtNzMuOTU4MTE1MjkyMjA5MjddLAogICAgICAgICAgICAgICAgewogICJidWJibGluZ01vdXNlRXZlbnRzIjogdHJ1ZSwKICAiY29sb3IiOiAiYmx1ZSIsCiAgImRhc2hBcnJheSI6IG51bGwsCiAgImRhc2hPZmZzZXQiOiBudWxsLAogICJmaWxsIjogdHJ1ZSwKICAiZmlsbENvbG9yIjogIiMzMTg2Y2MiLAogICJmaWxsT3BhY2l0eSI6IDAuNywKICAiZmlsbFJ1bGUiOiAiZXZlbm9kZCIsCiAgImxpbmVDYXAiOiAicm91bmQiLAogICJsaW5lSm9pbiI6ICJyb3VuZCIsCiAgIm9wYWNpdHkiOiAxLjAsCiAgInJhZGl1cyI6IDUsCiAgInN0cm9rZSI6IHRydWUsCiAgIndlaWdodCI6IDMKfQogICAgICAgICAgICAgICAgKS5hZGRUbyhtYXBfMmJmZDM2NTVjYjRjNDYxNGJiM2NlYzhkZjQ3YTZjMjkpOwogICAgICAgICAgICAKICAgIAogICAgICAgICAgICB2YXIgcG9wdXBfZjcxMzY4NzEzNDdkNDBjYzkyNzcyZTEwN2VhMzNjOWEgPSBMLnBvcHVwKHttYXhXaWR0aDogJzMwMCd9KTsKCiAgICAgICAgICAgIAogICAgICAgICAgICAgICAgdmFyIGh0bWxfMDhmNmRjMTIzOTk1NDc4MDhkZDFmZjlmZTRiNTdkZTYgPSAkKCc8ZGl2IGlkPSJodG1sXzA4ZjZkYzEyMzk5NTQ3ODA4ZGQxZmY5ZmU0YjU3ZGU2IiBzdHlsZT0id2lkdGg6IDEwMC4wJTsgaGVpZ2h0OiAxMDAuMCU7Ij5XaWxsaWFtc2J1cmc8L2Rpdj4nKVswXTsKICAgICAgICAgICAgICAgIHBvcHVwX2Y3MTM2ODcxMzQ3ZDQwY2M5Mjc3MmUxMDdlYTMzYzlhLnNldENvbnRlbnQoaHRtbF8wOGY2ZGMxMjM5OTU0NzgwOGRkMWZmOWZlNGI1N2RlNik7CiAgICAgICAgICAgIAoKICAgICAgICAgICAgY2lyY2xlX21hcmtlcl9mMmE3YjRkMGNkYzA0M2ZjYTM4ZmI0NTIwZTBhNjczMC5iaW5kUG9wdXAocG9wdXBfZjcxMzY4NzEzNDdkNDBjYzkyNzcyZTEwN2VhMzNjOWEpOwoKICAgICAgICAgICAgCiAgICAgICAgCiAgICAKICAgICAgICAgICAgdmFyIGNpcmNsZV9tYXJrZXJfNjQyY2ExY2VlZWU2NDUxM2JiMjc0YjE3ZWI4ODFmMWYgPSBMLmNpcmNsZU1hcmtlcigKICAgICAgICAgICAgICAgIFs0MC42OTgxMTYxMTAxNzkwMSwtNzMuOTI1MjU3OTc0ODcwNDVdLAogICAgICAgICAgICAgICAgewogICJidWJibGluZ01vdXNlRXZlbnRzIjogdHJ1ZSwKICAiY29sb3IiOiAiYmx1ZSIsCiAgImRhc2hBcnJheSI6IG51bGwsCiAgImRhc2hPZmZzZXQiOiBudWxsLAogICJmaWxsIjogdHJ1ZSwKICAiZmlsbENvbG9yIjogIiMzMTg2Y2MiLAogICJmaWxsT3BhY2l0eSI6IDAuNywKICAiZmlsbFJ1bGUiOiAiZXZlbm9kZCIsCiAgImxpbmVDYXAiOiAicm91bmQiLAogICJsaW5lSm9pbiI6ICJyb3VuZCIsCiAgIm9wYWNpdHkiOiAxLjAsCiAgInJhZGl1cyI6IDUsCiAgInN0cm9rZSI6IHRydWUsCiAgIndlaWdodCI6IDMKfQogICAgICAgICAgICAgICAgKS5hZGRUbyhtYXBfMmJmZDM2NTVjYjRjNDYxNGJiM2NlYzhkZjQ3YTZjMjkpOwogICAgICAgICAgICAKICAgIAogICAgICAgICAgICB2YXIgcG9wdXBfNjhmMTE2NjM1MDQ5NGJjMmE4YzA0ZTQyY2ZhNTFmZjcgPSBMLnBvcHVwKHttYXhXaWR0aDogJzMwMCd9KTsKCiAgICAgICAgICAgIAogICAgICAgICAgICAgICAgdmFyIGh0bWxfMGRhMDg2OWNiYWY3NGE1M2FiOTExODcxZTA0YzdiNzAgPSAkKCc8ZGl2IGlkPSJodG1sXzBkYTA4NjljYmFmNzRhNTNhYjkxMTg3MWUwNGM3YjcwIiBzdHlsZT0id2lkdGg6IDEwMC4wJTsgaGVpZ2h0OiAxMDAuMCU7Ij5CdXNod2ljazwvZGl2PicpWzBdOwogICAgICAgICAgICAgICAgcG9wdXBfNjhmMTE2NjM1MDQ5NGJjMmE4YzA0ZTQyY2ZhNTFmZjcuc2V0Q29udGVudChodG1sXzBkYTA4NjljYmFmNzRhNTNhYjkxMTg3MWUwNGM3YjcwKTsKICAgICAgICAgICAgCgogICAgICAgICAgICBjaXJjbGVfbWFya2VyXzY0MmNhMWNlZWVlNjQ1MTNiYjI3NGIxN2ViODgxZjFmLmJpbmRQb3B1cChwb3B1cF82OGYxMTY2MzUwNDk0YmMyYThjMDRlNDJjZmE1MWZmNyk7CgogICAgICAgICAgICAKICAgICAgICAKICAgIAogICAgICAgICAgICB2YXIgY2lyY2xlX21hcmtlcl9iYWVkM2U5ZmVlZjg0ZTBiYTNhNzFjM2VhOGE0OWY1ZSA9IEwuY2lyY2xlTWFya2VyKAogICAgICAgICAgICAgICAgWzQwLjY4NzIzMTYwNzcyMDQ1NiwtNzMuOTQxNzg0ODg2OTAyOTddLAogICAgICAgICAgICAgICAgewogICJidWJibGluZ01vdXNlRXZlbnRzIjogdHJ1ZSwKICAiY29sb3IiOiAiYmx1ZSIsCiAgImRhc2hBcnJheSI6IG51bGwsCiAgImRhc2hPZmZzZXQiOiBudWxsLAogICJmaWxsIjogdHJ1ZSwKICAiZmlsbENvbG9yIjogIiMzMTg2Y2MiLAogICJmaWxsT3BhY2l0eSI6IDAuNywKICAiZmlsbFJ1bGUiOiAiZXZlbm9kZCIsCiAgImxpbmVDYXAiOiAicm91bmQiLAogICJsaW5lSm9pbiI6ICJyb3VuZCIsCiAgIm9wYWNpdHkiOiAxLjAsCiAgInJhZGl1cyI6IDUsCiAgInN0cm9rZSI6IHRydWUsCiAgIndlaWdodCI6IDMKfQogICAgICAgICAgICAgICAgKS5hZGRUbyhtYXBfMmJmZDM2NTVjYjRjNDYxNGJiM2NlYzhkZjQ3YTZjMjkpOwogICAgICAgICAgICAKICAgIAogICAgICAgICAgICB2YXIgcG9wdXBfNmFjYTkxOWFiMjViNGNhNTlkN2JiOTc0YjdiNmQzNmIgPSBMLnBvcHVwKHttYXhXaWR0aDogJzMwMCd9KTsKCiAgICAgICAgICAgIAogICAgICAgICAgICAgICAgdmFyIGh0bWxfY2Y1OTFiMmEyZDc2NGU1OWJjMWJhOGUzNmIwY2Y4YzMgPSAkKCc8ZGl2IGlkPSJodG1sX2NmNTkxYjJhMmQ3NjRlNTliYzFiYThlMzZiMGNmOGMzIiBzdHlsZT0id2lkdGg6IDEwMC4wJTsgaGVpZ2h0OiAxMDAuMCU7Ij5CZWRmb3JkIFN0dXl2ZXNhbnQ8L2Rpdj4nKVswXTsKICAgICAgICAgICAgICAgIHBvcHVwXzZhY2E5MTlhYjI1YjRjYTU5ZDdiYjk3NGI3YjZkMzZiLnNldENvbnRlbnQoaHRtbF9jZjU5MWIyYTJkNzY0ZTU5YmMxYmE4ZTM2YjBjZjhjMyk7CiAgICAgICAgICAgIAoKICAgICAgICAgICAgY2lyY2xlX21hcmtlcl9iYWVkM2U5ZmVlZjg0ZTBiYTNhNzFjM2VhOGE0OWY1ZS5iaW5kUG9wdXAocG9wdXBfNmFjYTkxOWFiMjViNGNhNTlkN2JiOTc0YjdiNmQzNmIpOwoKICAgICAgICAgICAgCiAgICAgICAgCiAgICAKICAgICAgICAgICAgdmFyIGNpcmNsZV9tYXJrZXJfNmNhZjE1ZDkyMDRjNDkyN2E4ZDY4Y2I2MWQxMzc1NmYgPSBMLmNpcmNsZU1hcmtlcigKICAgICAgICAgICAgICAgIFs0MC42OTU4NjM3MjI3MjQwODQsLTczLjk5Mzc4MjI1NDk2NDI0XSwKICAgICAgICAgICAgICAgIHsKICAiYnViYmxpbmdNb3VzZUV2ZW50cyI6IHRydWUsCiAgImNvbG9yIjogImJsdWUiLAogICJkYXNoQXJyYXkiOiBudWxsLAogICJkYXNoT2Zmc2V0IjogbnVsbCwKICAiZmlsbCI6IHRydWUsCiAgImZpbGxDb2xvciI6ICIjMzE4NmNjIiwKICAiZmlsbE9wYWNpdHkiOiAwLjcsCiAgImZpbGxSdWxlIjogImV2ZW5vZGQiLAogICJsaW5lQ2FwIjogInJvdW5kIiwKICAibGluZUpvaW4iOiAicm91bmQiLAogICJvcGFjaXR5IjogMS4wLAogICJyYWRpdXMiOiA1LAogICJzdHJva2UiOiB0cnVlLAogICJ3ZWlnaHQiOiAzCn0KICAgICAgICAgICAgICAgICkuYWRkVG8obWFwXzJiZmQzNjU1Y2I0YzQ2MTRiYjNjZWM4ZGY0N2E2YzI5KTsKICAgICAgICAgICAgCiAgICAKICAgICAgICAgICAgdmFyIHBvcHVwX2EyZmFiMDIxODQxMzRkMGE5YmQyMjU5Yjk5NjQxMDg4ID0gTC5wb3B1cCh7bWF4V2lkdGg6ICczMDAnfSk7CgogICAgICAgICAgICAKICAgICAgICAgICAgICAgIHZhciBodG1sXzZiY2QwNTAxNDZmNTQ0MTFhZjY0YzEzMWYzNmFkZDE1ID0gJCgnPGRpdiBpZD0iaHRtbF82YmNkMDUwMTQ2ZjU0NDExYWY2NGMxMzFmMzZhZGQxNSIgc3R5bGU9IndpZHRoOiAxMDAuMCU7IGhlaWdodDogMTAwLjAlOyI+QnJvb2tseW4gSGVpZ2h0czwvZGl2PicpWzBdOwogICAgICAgICAgICAgICAgcG9wdXBfYTJmYWIwMjE4NDEzNGQwYTliZDIyNTliOTk2NDEwODguc2V0Q29udGVudChodG1sXzZiY2QwNTAxNDZmNTQ0MTFhZjY0YzEzMWYzNmFkZDE1KTsKICAgICAgICAgICAgCgogICAgICAgICAgICBjaXJjbGVfbWFya2VyXzZjYWYxNWQ5MjA0YzQ5MjdhOGQ2OGNiNjFkMTM3NTZmLmJpbmRQb3B1cChwb3B1cF9hMmZhYjAyMTg0MTM0ZDBhOWJkMjI1OWI5OTY0MTA4OCk7CgogICAgICAgICAgICAKICAgICAgICAKICAgIAogICAgICAgICAgICB2YXIgY2lyY2xlX21hcmtlcl83MDY4OGQ4ZmM4NTE0NDJmOWQwMjU5YzZjYTJhNTRhZCA9IEwuY2lyY2xlTWFya2VyKAogICAgICAgICAgICAgICAgWzQwLjY4NzkxOTcyMjQ4NTU3NCwtNzMuOTk4NTYxMzkyMTg0NjNdLAogICAgICAgICAgICAgICAgewogICJidWJibGluZ01vdXNlRXZlbnRzIjogdHJ1ZSwKICAiY29sb3IiOiAiYmx1ZSIsCiAgImRhc2hBcnJheSI6IG51bGwsCiAgImRhc2hPZmZzZXQiOiBudWxsLAogICJmaWxsIjogdHJ1ZSwKICAiZmlsbENvbG9yIjogIiMzMTg2Y2MiLAogICJmaWxsT3BhY2l0eSI6IDAuNywKICAiZmlsbFJ1bGUiOiAiZXZlbm9kZCIsCiAgImxpbmVDYXAiOiAicm91bmQiLAogICJsaW5lSm9pbiI6ICJyb3VuZCIsCiAgIm9wYWNpdHkiOiAxLjAsCiAgInJhZGl1cyI6IDUsCiAgInN0cm9rZSI6IHRydWUsCiAgIndlaWdodCI6IDMKfQogICAgICAgICAgICAgICAgKS5hZGRUbyhtYXBfMmJmZDM2NTVjYjRjNDYxNGJiM2NlYzhkZjQ3YTZjMjkpOwogICAgICAgICAgICAKICAgIAogICAgICAgICAgICB2YXIgcG9wdXBfNDMzNWM2MjA3Y2Y4NGVkZDk2NGViMzE2MmJiNTM2NWMgPSBMLnBvcHVwKHttYXhXaWR0aDogJzMwMCd9KTsKCiAgICAgICAgICAgIAogICAgICAgICAgICAgICAgdmFyIGh0bWxfOGUzZjdkODllODI0NDhhNGFjZDMwMzMwZmU2MzJiNjQgPSAkKCc8ZGl2IGlkPSJodG1sXzhlM2Y3ZDg5ZTgyNDQ4YTRhY2QzMDMzMGZlNjMyYjY0IiBzdHlsZT0id2lkdGg6IDEwMC4wJTsgaGVpZ2h0OiAxMDAuMCU7Ij5Db2JibGUgSGlsbDwvZGl2PicpWzBdOwogICAgICAgICAgICAgICAgcG9wdXBfNDMzNWM2MjA3Y2Y4NGVkZDk2NGViMzE2MmJiNTM2NWMuc2V0Q29udGVudChodG1sXzhlM2Y3ZDg5ZTgyNDQ4YTRhY2QzMDMzMGZlNjMyYjY0KTsKICAgICAgICAgICAgCgogICAgICAgICAgICBjaXJjbGVfbWFya2VyXzcwNjg4ZDhmYzg1MTQ0MmY5ZDAyNTljNmNhMmE1NGFkLmJpbmRQb3B1cChwb3B1cF80MzM1YzYyMDdjZjg0ZWRkOTY0ZWIzMTYyYmI1MzY1Yyk7CgogICAgICAgICAgICAKICAgICAgICAKICAgIAogICAgICAgICAgICB2YXIgY2lyY2xlX21hcmtlcl82ZDJkM2MyNTEwNTI0ODE2ODhiMDhlM2JhNzYyM2NhNCA9IEwuY2lyY2xlTWFya2VyKAogICAgICAgICAgICAgICAgWzQwLjY4MDU0MDIzMTA3NjQ4NSwtNzMuOTk0NjUzNzI4MjgwMDZdLAogICAgICAgICAgICAgICAgewogICJidWJibGluZ01vdXNlRXZlbnRzIjogdHJ1ZSwKICAiY29sb3IiOiAiYmx1ZSIsCiAgImRhc2hBcnJheSI6IG51bGwsCiAgImRhc2hPZmZzZXQiOiBudWxsLAogICJmaWxsIjogdHJ1ZSwKICAiZmlsbENvbG9yIjogIiMzMTg2Y2MiLAogICJmaWxsT3BhY2l0eSI6IDAuNywKICAiZmlsbFJ1bGUiOiAiZXZlbm9kZCIsCiAgImxpbmVDYXAiOiAicm91bmQiLAogICJsaW5lSm9pbiI6ICJyb3VuZCIsCiAgIm9wYWNpdHkiOiAxLjAsCiAgInJhZGl1cyI6IDUsCiAgInN0cm9rZSI6IHRydWUsCiAgIndlaWdodCI6IDMKfQogICAgICAgICAgICAgICAgKS5hZGRUbyhtYXBfMmJmZDM2NTVjYjRjNDYxNGJiM2NlYzhkZjQ3YTZjMjkpOwogICAgICAgICAgICAKICAgIAogICAgICAgICAgICB2YXIgcG9wdXBfOGM2MGQ1NTViNjFkNDE4ZTlmMzg3YzFlOTIzMzVhMzIgPSBMLnBvcHVwKHttYXhXaWR0aDogJzMwMCd9KTsKCiAgICAgICAgICAgIAogICAgICAgICAgICAgICAgdmFyIGh0bWxfNGU1MjcxODkzMDU1NDQ3NWExMGE0Mzk4MTU1YjBlZDUgPSAkKCc8ZGl2IGlkPSJodG1sXzRlNTI3MTg5MzA1NTQ0NzVhMTBhNDM5ODE1NWIwZWQ1IiBzdHlsZT0id2lkdGg6IDEwMC4wJTsgaGVpZ2h0OiAxMDAuMCU7Ij5DYXJyb2xsIEdhcmRlbnM8L2Rpdj4nKVswXTsKICAgICAgICAgICAgICAgIHBvcHVwXzhjNjBkNTU1YjYxZDQxOGU5ZjM4N2MxZTkyMzM1YTMyLnNldENvbnRlbnQoaHRtbF80ZTUyNzE4OTMwNTU0NDc1YTEwYTQzOTgxNTViMGVkNSk7CiAgICAgICAgICAgIAoKICAgICAgICAgICAgY2lyY2xlX21hcmtlcl82ZDJkM2MyNTEwNTI0ODE2ODhiMDhlM2JhNzYyM2NhNC5iaW5kUG9wdXAocG9wdXBfOGM2MGQ1NTViNjFkNDE4ZTlmMzg3YzFlOTIzMzVhMzIpOwoKICAgICAgICAgICAgCiAgICAgICAgCiAgICAKICAgICAgICAgICAgdmFyIGNpcmNsZV9tYXJrZXJfNGFlYzRhYWFiYTVlNDBmOThmYWYzZjRlMTdkOTI2MWYgPSBMLmNpcmNsZU1hcmtlcigKICAgICAgICAgICAgICAgIFs0MC42NzYyNTMyMzAyNTA4ODYsLTc0LjAxMjc1ODk3NDczNTZdLAogICAgICAgICAgICAgICAgewogICJidWJibGluZ01vdXNlRXZlbnRzIjogdHJ1ZSwKICAiY29sb3IiOiAiYmx1ZSIsCiAgImRhc2hBcnJheSI6IG51bGwsCiAgImRhc2hPZmZzZXQiOiBudWxsLAogICJmaWxsIjogdHJ1ZSwKICAiZmlsbENvbG9yIjogIiMzMTg2Y2MiLAogICJmaWxsT3BhY2l0eSI6IDAuNywKICAiZmlsbFJ1bGUiOiAiZXZlbm9kZCIsCiAgImxpbmVDYXAiOiAicm91bmQiLAogICJsaW5lSm9pbiI6ICJyb3VuZCIsCiAgIm9wYWNpdHkiOiAxLjAsCiAgInJhZGl1cyI6IDUsCiAgInN0cm9rZSI6IHRydWUsCiAgIndlaWdodCI6IDMKfQogICAgICAgICAgICAgICAgKS5hZGRUbyhtYXBfMmJmZDM2NTVjYjRjNDYxNGJiM2NlYzhkZjQ3YTZjMjkpOwogICAgICAgICAgICAKICAgIAogICAgICAgICAgICB2YXIgcG9wdXBfZTAyZjNlMzJjNDY4NGVjZWI0YzZhZTQ1MDQ3MmU0NGMgPSBMLnBvcHVwKHttYXhXaWR0aDogJzMwMCd9KTsKCiAgICAgICAgICAgIAogICAgICAgICAgICAgICAgdmFyIGh0bWxfZmQxYzFmZWUwMmIxNGQ4MGFmNGFlMDFhZGJjYjVkMTkgPSAkKCc8ZGl2IGlkPSJodG1sX2ZkMWMxZmVlMDJiMTRkODBhZjRhZTAxYWRiY2I1ZDE5IiBzdHlsZT0id2lkdGg6IDEwMC4wJTsgaGVpZ2h0OiAxMDAuMCU7Ij5SZWQgSG9vazwvZGl2PicpWzBdOwogICAgICAgICAgICAgICAgcG9wdXBfZTAyZjNlMzJjNDY4NGVjZWI0YzZhZTQ1MDQ3MmU0NGMuc2V0Q29udGVudChodG1sX2ZkMWMxZmVlMDJiMTRkODBhZjRhZTAxYWRiY2I1ZDE5KTsKICAgICAgICAgICAgCgogICAgICAgICAgICBjaXJjbGVfbWFya2VyXzRhZWM0YWFhYmE1ZTQwZjk4ZmFmM2Y0ZTE3ZDkyNjFmLmJpbmRQb3B1cChwb3B1cF9lMDJmM2UzMmM0Njg0ZWNlYjRjNmFlNDUwNDcyZTQ0Yyk7CgogICAgICAgICAgICAKICAgICAgICAKICAgIAogICAgICAgICAgICB2YXIgY2lyY2xlX21hcmtlcl85OTQ5ODk5ZGFmMmQ0OTBkYjVhZDVjOGIzOGE2NjBmYSA9IEwuY2lyY2xlTWFya2VyKAogICAgICAgICAgICAgICAgWzQwLjY3MzkzMTE0MzE4NzE1NCwtNzMuOTk0NDQwODcxNDUzMzldLAogICAgICAgICAgICAgICAgewogICJidWJibGluZ01vdXNlRXZlbnRzIjogdHJ1ZSwKICAiY29sb3IiOiAiYmx1ZSIsCiAgImRhc2hBcnJheSI6IG51bGwsCiAgImRhc2hPZmZzZXQiOiBudWxsLAogICJmaWxsIjogdHJ1ZSwKICAiZmlsbENvbG9yIjogIiMzMTg2Y2MiLAogICJmaWxsT3BhY2l0eSI6IDAuNywKICAiZmlsbFJ1bGUiOiAiZXZlbm9kZCIsCiAgImxpbmVDYXAiOiAicm91bmQiLAogICJsaW5lSm9pbiI6ICJyb3VuZCIsCiAgIm9wYWNpdHkiOiAxLjAsCiAgInJhZGl1cyI6IDUsCiAgInN0cm9rZSI6IHRydWUsCiAgIndlaWdodCI6IDMKfQogICAgICAgICAgICAgICAgKS5hZGRUbyhtYXBfMmJmZDM2NTVjYjRjNDYxNGJiM2NlYzhkZjQ3YTZjMjkpOwogICAgICAgICAgICAKICAgIAogICAgICAgICAgICB2YXIgcG9wdXBfNTFhMmMyNzIyYjU1NDIxYzhmYzExZTljMzhlMGZlMTMgPSBMLnBvcHVwKHttYXhXaWR0aDogJzMwMCd9KTsKCiAgICAgICAgICAgIAogICAgICAgICAgICAgICAgdmFyIGh0bWxfY2ViNDAwMWE2ZTliNDIxNzhiZTg4NmI0ODI5NzNmYzAgPSAkKCc8ZGl2IGlkPSJodG1sX2NlYjQwMDFhNmU5YjQyMTc4YmU4ODZiNDgyOTczZmMwIiBzdHlsZT0id2lkdGg6IDEwMC4wJTsgaGVpZ2h0OiAxMDAuMCU7Ij5Hb3dhbnVzPC9kaXY+JylbMF07CiAgICAgICAgICAgICAgICBwb3B1cF81MWEyYzI3MjJiNTU0MjFjOGZjMTFlOWMzOGUwZmUxMy5zZXRDb250ZW50KGh0bWxfY2ViNDAwMWE2ZTliNDIxNzhiZTg4NmI0ODI5NzNmYzApOwogICAgICAgICAgICAKCiAgICAgICAgICAgIGNpcmNsZV9tYXJrZXJfOTk0OTg5OWRhZjJkNDkwZGI1YWQ1YzhiMzhhNjYwZmEuYmluZFBvcHVwKHBvcHVwXzUxYTJjMjcyMmI1NTQyMWM4ZmMxMWU5YzM4ZTBmZTEzKTsKCiAgICAgICAgICAgIAogICAgICAgIAogICAgCiAgICAgICAgICAgIHZhciBjaXJjbGVfbWFya2VyXzc5MWY1NmY2MTY1NzRiMzNiYWNhYzdkNGM1NmNhMWIxID0gTC5jaXJjbGVNYXJrZXIoCiAgICAgICAgICAgICAgICBbNDAuNjg4NTI3MjYwMTg5NzcsLTczLjk3MjkwNTc0MzY5MDkyXSwKICAgICAgICAgICAgICAgIHsKICAiYnViYmxpbmdNb3VzZUV2ZW50cyI6IHRydWUsCiAgImNvbG9yIjogImJsdWUiLAogICJkYXNoQXJyYXkiOiBudWxsLAogICJkYXNoT2Zmc2V0IjogbnVsbCwKICAiZmlsbCI6IHRydWUsCiAgImZpbGxDb2xvciI6ICIjMzE4NmNjIiwKICAiZmlsbE9wYWNpdHkiOiAwLjcsCiAgImZpbGxSdWxlIjogImV2ZW5vZGQiLAogICJsaW5lQ2FwIjogInJvdW5kIiwKICAibGluZUpvaW4iOiAicm91bmQiLAogICJvcGFjaXR5IjogMS4wLAogICJyYWRpdXMiOiA1LAogICJzdHJva2UiOiB0cnVlLAogICJ3ZWlnaHQiOiAzCn0KICAgICAgICAgICAgICAgICkuYWRkVG8obWFwXzJiZmQzNjU1Y2I0YzQ2MTRiYjNjZWM4ZGY0N2E2YzI5KTsKICAgICAgICAgICAgCiAgICAKICAgICAgICAgICAgdmFyIHBvcHVwXzVlNjk1YmM3YzZlNDRkZjdhNzBkY2IxMmJhZWUyODdjID0gTC5wb3B1cCh7bWF4V2lkdGg6ICczMDAnfSk7CgogICAgICAgICAgICAKICAgICAgICAgICAgICAgIHZhciBodG1sXzY2NDFjYWFmNTQ2ODQ4NzFhODFiZDQ2YzhjYzRkM2M0ID0gJCgnPGRpdiBpZD0iaHRtbF82NjQxY2FhZjU0Njg0ODcxYTgxYmQ0NmM4Y2M0ZDNjNCIgc3R5bGU9IndpZHRoOiAxMDAuMCU7IGhlaWdodDogMTAwLjAlOyI+Rm9ydCBHcmVlbmU8L2Rpdj4nKVswXTsKICAgICAgICAgICAgICAgIHBvcHVwXzVlNjk1YmM3YzZlNDRkZjdhNzBkY2IxMmJhZWUyODdjLnNldENvbnRlbnQoaHRtbF82NjQxY2FhZjU0Njg0ODcxYTgxYmQ0NmM4Y2M0ZDNjNCk7CiAgICAgICAgICAgIAoKICAgICAgICAgICAgY2lyY2xlX21hcmtlcl83OTFmNTZmNjE2NTc0YjMzYmFjYWM3ZDRjNTZjYTFiMS5iaW5kUG9wdXAocG9wdXBfNWU2OTViYzdjNmU0NGRmN2E3MGRjYjEyYmFlZTI4N2MpOwoKICAgICAgICAgICAgCiAgICAgICAgCiAgICAKICAgICAgICAgICAgdmFyIGNpcmNsZV9tYXJrZXJfMGRiMjliNDRhZmJiNDU3Y2IyNTc4MGIyM2Q1OWUzN2MgPSBMLmNpcmNsZU1hcmtlcigKICAgICAgICAgICAgICAgIFs0MC42NzIzMjA1MjI2ODE5NywtNzMuOTc3MDUwMzAxODM5MjRdLAogICAgICAgICAgICAgICAgewogICJidWJibGluZ01vdXNlRXZlbnRzIjogdHJ1ZSwKICAiY29sb3IiOiAiYmx1ZSIsCiAgImRhc2hBcnJheSI6IG51bGwsCiAgImRhc2hPZmZzZXQiOiBudWxsLAogICJmaWxsIjogdHJ1ZSwKICAiZmlsbENvbG9yIjogIiMzMTg2Y2MiLAogICJmaWxsT3BhY2l0eSI6IDAuNywKICAiZmlsbFJ1bGUiOiAiZXZlbm9kZCIsCiAgImxpbmVDYXAiOiAicm91bmQiLAogICJsaW5lSm9pbiI6ICJyb3VuZCIsCiAgIm9wYWNpdHkiOiAxLjAsCiAgInJhZGl1cyI6IDUsCiAgInN0cm9rZSI6IHRydWUsCiAgIndlaWdodCI6IDMKfQogICAgICAgICAgICAgICAgKS5hZGRUbyhtYXBfMmJmZDM2NTVjYjRjNDYxNGJiM2NlYzhkZjQ3YTZjMjkpOwogICAgICAgICAgICAKICAgIAogICAgICAgICAgICB2YXIgcG9wdXBfNmM0OWYwNmQ1OTdkNGRjZWJkODNkMGUzNDlkODM5MjAgPSBMLnBvcHVwKHttYXhXaWR0aDogJzMwMCd9KTsKCiAgICAgICAgICAgIAogICAgICAgICAgICAgICAgdmFyIGh0bWxfZWRkMzJjNzYwZDFkNGMxNjkwODM5NGUwZDAwZGI0YzIgPSAkKCc8ZGl2IGlkPSJodG1sX2VkZDMyYzc2MGQxZDRjMTY5MDgzOTRlMGQwMGRiNGMyIiBzdHlsZT0id2lkdGg6IDEwMC4wJTsgaGVpZ2h0OiAxMDAuMCU7Ij5QYXJrIFNsb3BlPC9kaXY+JylbMF07CiAgICAgICAgICAgICAgICBwb3B1cF82YzQ5ZjA2ZDU5N2Q0ZGNlYmQ4M2QwZTM0OWQ4MzkyMC5zZXRDb250ZW50KGh0bWxfZWRkMzJjNzYwZDFkNGMxNjkwODM5NGUwZDAwZGI0YzIpOwogICAgICAgICAgICAKCiAgICAgICAgICAgIGNpcmNsZV9tYXJrZXJfMGRiMjliNDRhZmJiNDU3Y2IyNTc4MGIyM2Q1OWUzN2MuYmluZFBvcHVwKHBvcHVwXzZjNDlmMDZkNTk3ZDRkY2ViZDgzZDBlMzQ5ZDgzOTIwKTsKCiAgICAgICAgICAgIAogICAgICAgIAogICAgCiAgICAgICAgICAgIHZhciBjaXJjbGVfbWFya2VyXzFjYWFkOGZmZTA3MjRjZmE4MGIwOTJiZDQzM2VjOGMyID0gTC5jaXJjbGVNYXJrZXIoCiAgICAgICAgICAgICAgICBbNDAuNjgyMzkxMDExNDQyMTEsLTczLjg3NjYxNTk2NDU3Mjk2XSwKICAgICAgICAgICAgICAgIHsKICAiYnViYmxpbmdNb3VzZUV2ZW50cyI6IHRydWUsCiAgImNvbG9yIjogImJsdWUiLAogICJkYXNoQXJyYXkiOiBudWxsLAogICJkYXNoT2Zmc2V0IjogbnVsbCwKICAiZmlsbCI6IHRydWUsCiAgImZpbGxDb2xvciI6ICIjMzE4NmNjIiwKICAiZmlsbE9wYWNpdHkiOiAwLjcsCiAgImZpbGxSdWxlIjogImV2ZW5vZGQiLAogICJsaW5lQ2FwIjogInJvdW5kIiwKICAibGluZUpvaW4iOiAicm91bmQiLAogICJvcGFjaXR5IjogMS4wLAogICJyYWRpdXMiOiA1LAogICJzdHJva2UiOiB0cnVlLAogICJ3ZWlnaHQiOiAzCn0KICAgICAgICAgICAgICAgICkuYWRkVG8obWFwXzJiZmQzNjU1Y2I0YzQ2MTRiYjNjZWM4ZGY0N2E2YzI5KTsKICAgICAgICAgICAgCiAgICAKICAgICAgICAgICAgdmFyIHBvcHVwXzMzY2RlOTdkMGI2MTQ0MjM5ZDYzY2Y2ODdlMTMyZTgxID0gTC5wb3B1cCh7bWF4V2lkdGg6ICczMDAnfSk7CgogICAgICAgICAgICAKICAgICAgICAgICAgICAgIHZhciBodG1sXzQwNTRhYzk4MjFmYjQwM2E4ZDE2Yjk1NzdiODAwZTI5ID0gJCgnPGRpdiBpZD0iaHRtbF80MDU0YWM5ODIxZmI0MDNhOGQxNmI5NTc3YjgwMGUyOSIgc3R5bGU9IndpZHRoOiAxMDAuMCU7IGhlaWdodDogMTAwLjAlOyI+Q3lwcmVzcyBIaWxsczwvZGl2PicpWzBdOwogICAgICAgICAgICAgICAgcG9wdXBfMzNjZGU5N2QwYjYxNDQyMzlkNjNjZjY4N2UxMzJlODEuc2V0Q29udGVudChodG1sXzQwNTRhYzk4MjFmYjQwM2E4ZDE2Yjk1NzdiODAwZTI5KTsKICAgICAgICAgICAgCgogICAgICAgICAgICBjaXJjbGVfbWFya2VyXzFjYWFkOGZmZTA3MjRjZmE4MGIwOTJiZDQzM2VjOGMyLmJpbmRQb3B1cChwb3B1cF8zM2NkZTk3ZDBiNjE0NDIzOWQ2M2NmNjg3ZTEzMmU4MSk7CgogICAgICAgICAgICAKICAgICAgICAKICAgIAogICAgICAgICAgICB2YXIgY2lyY2xlX21hcmtlcl80ZGY3YjI0YjU0YmU0YTk0ODg5MWM2NGI1MWMxOGMyYiA9IEwuY2lyY2xlTWFya2VyKAogICAgICAgICAgICAgICAgWzQwLjY2OTkyNTcwMDg0NzA0NSwtNzMuODgwNjk4NjM5MTczNjZdLAogICAgICAgICAgICAgICAgewogICJidWJibGluZ01vdXNlRXZlbnRzIjogdHJ1ZSwKICAiY29sb3IiOiAiYmx1ZSIsCiAgImRhc2hBcnJheSI6IG51bGwsCiAgImRhc2hPZmZzZXQiOiBudWxsLAogICJmaWxsIjogdHJ1ZSwKICAiZmlsbENvbG9yIjogIiMzMTg2Y2MiLAogICJmaWxsT3BhY2l0eSI6IDAuNywKICAiZmlsbFJ1bGUiOiAiZXZlbm9kZCIsCiAgImxpbmVDYXAiOiAicm91bmQiLAogICJsaW5lSm9pbiI6ICJyb3VuZCIsCiAgIm9wYWNpdHkiOiAxLjAsCiAgInJhZGl1cyI6IDUsCiAgInN0cm9rZSI6IHRydWUsCiAgIndlaWdodCI6IDMKfQogICAgICAgICAgICAgICAgKS5hZGRUbyhtYXBfMmJmZDM2NTVjYjRjNDYxNGJiM2NlYzhkZjQ3YTZjMjkpOwogICAgICAgICAgICAKICAgIAogICAgICAgICAgICB2YXIgcG9wdXBfMjA4ODg3MzkzNjBmNGMwMTk4M2QyYzM1NDY2N2Y1ZjUgPSBMLnBvcHVwKHttYXhXaWR0aDogJzMwMCd9KTsKCiAgICAgICAgICAgIAogICAgICAgICAgICAgICAgdmFyIGh0bWxfNDc2ZmRjYTM1N2YxNGMzZmE0MDY2NmRiNjlkZWY1YzIgPSAkKCc8ZGl2IGlkPSJodG1sXzQ3NmZkY2EzNTdmMTRjM2ZhNDA2NjZkYjY5ZGVmNWMyIiBzdHlsZT0id2lkdGg6IDEwMC4wJTsgaGVpZ2h0OiAxMDAuMCU7Ij5FYXN0IE5ldyBZb3JrPC9kaXY+JylbMF07CiAgICAgICAgICAgICAgICBwb3B1cF8yMDg4ODczOTM2MGY0YzAxOTgzZDJjMzU0NjY3ZjVmNS5zZXRDb250ZW50KGh0bWxfNDc2ZmRjYTM1N2YxNGMzZmE0MDY2NmRiNjlkZWY1YzIpOwogICAgICAgICAgICAKCiAgICAgICAgICAgIGNpcmNsZV9tYXJrZXJfNGRmN2IyNGI1NGJlNGE5NDg4OTFjNjRiNTFjMThjMmIuYmluZFBvcHVwKHBvcHVwXzIwODg4NzM5MzYwZjRjMDE5ODNkMmMzNTQ2NjdmNWY1KTsKCiAgICAgICAgICAgIAogICAgICAgIAogICAgCiAgICAgICAgICAgIHZhciBjaXJjbGVfbWFya2VyXzEyYTdiY2I2NDEwMTRiNGFiMjgxNWFlMzA0MDcwNzBlID0gTC5jaXJjbGVNYXJrZXIoCiAgICAgICAgICAgICAgICBbNDAuNjQ3NTg5MDUyMzA4NzQsLTczLjg3OTM2OTcwMDQ1ODc1XSwKICAgICAgICAgICAgICAgIHsKICAiYnViYmxpbmdNb3VzZUV2ZW50cyI6IHRydWUsCiAgImNvbG9yIjogImJsdWUiLAogICJkYXNoQXJyYXkiOiBudWxsLAogICJkYXNoT2Zmc2V0IjogbnVsbCwKICAiZmlsbCI6IHRydWUsCiAgImZpbGxDb2xvciI6ICIjMzE4NmNjIiwKICAiZmlsbE9wYWNpdHkiOiAwLjcsCiAgImZpbGxSdWxlIjogImV2ZW5vZGQiLAogICJsaW5lQ2FwIjogInJvdW5kIiwKICAibGluZUpvaW4iOiAicm91bmQiLAogICJvcGFjaXR5IjogMS4wLAogICJyYWRpdXMiOiA1LAogICJzdHJva2UiOiB0cnVlLAogICJ3ZWlnaHQiOiAzCn0KICAgICAgICAgICAgICAgICkuYWRkVG8obWFwXzJiZmQzNjU1Y2I0YzQ2MTRiYjNjZWM4ZGY0N2E2YzI5KTsKICAgICAgICAgICAgCiAgICAKICAgICAgICAgICAgdmFyIHBvcHVwXzM3OGU0NjBkMzVlMjRkNDFhMmE5YWZiNWY3MDg1ZTI4ID0gTC5wb3B1cCh7bWF4V2lkdGg6ICczMDAnfSk7CgogICAgICAgICAgICAKICAgICAgICAgICAgICAgIHZhciBodG1sXzE2OTIzYTdkMDc3YjRlMDJiYzZkOTU0ZDBjNTg3MjdjID0gJCgnPGRpdiBpZD0iaHRtbF8xNjkyM2E3ZDA3N2I0ZTAyYmM2ZDk1NGQwYzU4NzI3YyIgc3R5bGU9IndpZHRoOiAxMDAuMCU7IGhlaWdodDogMTAwLjAlOyI+U3RhcnJldHQgQ2l0eTwvZGl2PicpWzBdOwogICAgICAgICAgICAgICAgcG9wdXBfMzc4ZTQ2MGQzNWUyNGQ0MWEyYTlhZmI1ZjcwODVlMjguc2V0Q29udGVudChodG1sXzE2OTIzYTdkMDc3YjRlMDJiYzZkOTU0ZDBjNTg3MjdjKTsKICAgICAgICAgICAgCgogICAgICAgICAgICBjaXJjbGVfbWFya2VyXzEyYTdiY2I2NDEwMTRiNGFiMjgxNWFlMzA0MDcwNzBlLmJpbmRQb3B1cChwb3B1cF8zNzhlNDYwZDM1ZTI0ZDQxYTJhOWFmYjVmNzA4NWUyOCk7CgogICAgICAgICAgICAKICAgICAgICAKICAgIAogICAgICAgICAgICB2YXIgY2lyY2xlX21hcmtlcl9mNGI0YWYwMWVmN2M0ZjVmOTNkM2EwMzZlODQ4YTlkYSA9IEwuY2lyY2xlTWFya2VyKAogICAgICAgICAgICAgICAgWzQwLjYzNTU2NDMyNzk3NDI4LC03My45MDIwOTI2OTc3ODk2Nl0sCiAgICAgICAgICAgICAgICB7CiAgImJ1YmJsaW5nTW91c2VFdmVudHMiOiB0cnVlLAogICJjb2xvciI6ICJibHVlIiwKICAiZGFzaEFycmF5IjogbnVsbCwKICAiZGFzaE9mZnNldCI6IG51bGwsCiAgImZpbGwiOiB0cnVlLAogICJmaWxsQ29sb3IiOiAiIzMxODZjYyIsCiAgImZpbGxPcGFjaXR5IjogMC43LAogICJmaWxsUnVsZSI6ICJldmVub2RkIiwKICAibGluZUNhcCI6ICJyb3VuZCIsCiAgImxpbmVKb2luIjogInJvdW5kIiwKICAib3BhY2l0eSI6IDEuMCwKICAicmFkaXVzIjogNSwKICAic3Ryb2tlIjogdHJ1ZSwKICAid2VpZ2h0IjogMwp9CiAgICAgICAgICAgICAgICApLmFkZFRvKG1hcF8yYmZkMzY1NWNiNGM0NjE0YmIzY2VjOGRmNDdhNmMyOSk7CiAgICAgICAgICAgIAogICAgCiAgICAgICAgICAgIHZhciBwb3B1cF82ODM2OGVkZjc3YzE0Y2RkYTI3MzIxNmZhNGEzYTkyMCA9IEwucG9wdXAoe21heFdpZHRoOiAnMzAwJ30pOwoKICAgICAgICAgICAgCiAgICAgICAgICAgICAgICB2YXIgaHRtbF8zMWEyOTg0OWM5MTY0NDY0YjcxMTM3ZjE5YzJkZDM3ZSA9ICQoJzxkaXYgaWQ9Imh0bWxfMzFhMjk4NDljOTE2NDQ2NGI3MTEzN2YxOWMyZGQzN2UiIHN0eWxlPSJ3aWR0aDogMTAwLjAlOyBoZWlnaHQ6IDEwMC4wJTsiPkNhbmFyc2llPC9kaXY+JylbMF07CiAgICAgICAgICAgICAgICBwb3B1cF82ODM2OGVkZjc3YzE0Y2RkYTI3MzIxNmZhNGEzYTkyMC5zZXRDb250ZW50KGh0bWxfMzFhMjk4NDljOTE2NDQ2NGI3MTEzN2YxOWMyZGQzN2UpOwogICAgICAgICAgICAKCiAgICAgICAgICAgIGNpcmNsZV9tYXJrZXJfZjRiNGFmMDFlZjdjNGY1ZjkzZDNhMDM2ZTg0OGE5ZGEuYmluZFBvcHVwKHBvcHVwXzY4MzY4ZWRmNzdjMTRjZGRhMjczMjE2ZmE0YTNhOTIwKTsKCiAgICAgICAgICAgIAogICAgICAgIAogICAgCiAgICAgICAgICAgIHZhciBjaXJjbGVfbWFya2VyXzI4YzA1YmZmMGU0OTRjYjQ5OGVmYjUwZTViY2Q5ZTQwID0gTC5jaXJjbGVNYXJrZXIoCiAgICAgICAgICAgICAgICBbNDAuNjMwNDQ2MDQzNzU3NDY2LC03My45MjkxMTMwMjY0NDY3NF0sCiAgICAgICAgICAgICAgICB7CiAgImJ1YmJsaW5nTW91c2VFdmVudHMiOiB0cnVlLAogICJjb2xvciI6ICJibHVlIiwKICAiZGFzaEFycmF5IjogbnVsbCwKICAiZGFzaE9mZnNldCI6IG51bGwsCiAgImZpbGwiOiB0cnVlLAogICJmaWxsQ29sb3IiOiAiIzMxODZjYyIsCiAgImZpbGxPcGFjaXR5IjogMC43LAogICJmaWxsUnVsZSI6ICJldmVub2RkIiwKICAibGluZUNhcCI6ICJyb3VuZCIsCiAgImxpbmVKb2luIjogInJvdW5kIiwKICAib3BhY2l0eSI6IDEuMCwKICAicmFkaXVzIjogNSwKICAic3Ryb2tlIjogdHJ1ZSwKICAid2VpZ2h0IjogMwp9CiAgICAgICAgICAgICAgICApLmFkZFRvKG1hcF8yYmZkMzY1NWNiNGM0NjE0YmIzY2VjOGRmNDdhNmMyOSk7CiAgICAgICAgICAgIAogICAgCiAgICAgICAgICAgIHZhciBwb3B1cF9iZmNiNmExYzNmYzU0YTdkYWRhYmI5OGM2ZDUwMjZjNCA9IEwucG9wdXAoe21heFdpZHRoOiAnMzAwJ30pOwoKICAgICAgICAgICAgCiAgICAgICAgICAgICAgICB2YXIgaHRtbF84NmI3YjEyY2ZiOTc0ZDdhYmVhOWU2Nzk4Yjg2MTdhZCA9ICQoJzxkaXYgaWQ9Imh0bWxfODZiN2IxMmNmYjk3NGQ3YWJlYTllNjc5OGI4NjE3YWQiIHN0eWxlPSJ3aWR0aDogMTAwLjAlOyBoZWlnaHQ6IDEwMC4wJTsiPkZsYXRsYW5kczwvZGl2PicpWzBdOwogICAgICAgICAgICAgICAgcG9wdXBfYmZjYjZhMWMzZmM1NGE3ZGFkYWJiOThjNmQ1MDI2YzQuc2V0Q29udGVudChodG1sXzg2YjdiMTJjZmI5NzRkN2FiZWE5ZTY3OThiODYxN2FkKTsKICAgICAgICAgICAgCgogICAgICAgICAgICBjaXJjbGVfbWFya2VyXzI4YzA1YmZmMGU0OTRjYjQ5OGVmYjUwZTViY2Q5ZTQwLmJpbmRQb3B1cChwb3B1cF9iZmNiNmExYzNmYzU0YTdkYWRhYmI5OGM2ZDUwMjZjNCk7CgogICAgICAgICAgICAKICAgICAgICAKICAgIAogICAgICAgICAgICB2YXIgY2lyY2xlX21hcmtlcl9iNWM2ZDUzMzVhY2M0YmY2YjBlODBiMjdiN2NhYzNiMSA9IEwuY2lyY2xlTWFya2VyKAogICAgICAgICAgICAgICAgWzQwLjYwNjMzNjQyMTY4NTYyNiwtNzMuOTA4MTg1NzE3Nzc0MjNdLAogICAgICAgICAgICAgICAgewogICJidWJibGluZ01vdXNlRXZlbnRzIjogdHJ1ZSwKICAiY29sb3IiOiAiYmx1ZSIsCiAgImRhc2hBcnJheSI6IG51bGwsCiAgImRhc2hPZmZzZXQiOiBudWxsLAogICJmaWxsIjogdHJ1ZSwKICAiZmlsbENvbG9yIjogIiMzMTg2Y2MiLAogICJmaWxsT3BhY2l0eSI6IDAuNywKICAiZmlsbFJ1bGUiOiAiZXZlbm9kZCIsCiAgImxpbmVDYXAiOiAicm91bmQiLAogICJsaW5lSm9pbiI6ICJyb3VuZCIsCiAgIm9wYWNpdHkiOiAxLjAsCiAgInJhZGl1cyI6IDUsCiAgInN0cm9rZSI6IHRydWUsCiAgIndlaWdodCI6IDMKfQogICAgICAgICAgICAgICAgKS5hZGRUbyhtYXBfMmJmZDM2NTVjYjRjNDYxNGJiM2NlYzhkZjQ3YTZjMjkpOwogICAgICAgICAgICAKICAgIAogICAgICAgICAgICB2YXIgcG9wdXBfNzhhYzRkMzRhODg2NGJiNGI2YThhZGI4YjMxYWQwZTIgPSBMLnBvcHVwKHttYXhXaWR0aDogJzMwMCd9KTsKCiAgICAgICAgICAgIAogICAgICAgICAgICAgICAgdmFyIGh0bWxfZDg4YTNkYmMyYzNiNGE1YzgxNjZlODAxODVlODZjZmIgPSAkKCc8ZGl2IGlkPSJodG1sX2Q4OGEzZGJjMmMzYjRhNWM4MTY2ZTgwMTg1ZTg2Y2ZiIiBzdHlsZT0id2lkdGg6IDEwMC4wJTsgaGVpZ2h0OiAxMDAuMCU7Ij5NaWxsIElzbGFuZDwvZGl2PicpWzBdOwogICAgICAgICAgICAgICAgcG9wdXBfNzhhYzRkMzRhODg2NGJiNGI2YThhZGI4YjMxYWQwZTIuc2V0Q29udGVudChodG1sX2Q4OGEzZGJjMmMzYjRhNWM4MTY2ZTgwMTg1ZTg2Y2ZiKTsKICAgICAgICAgICAgCgogICAgICAgICAgICBjaXJjbGVfbWFya2VyX2I1YzZkNTMzNWFjYzRiZjZiMGU4MGIyN2I3Y2FjM2IxLmJpbmRQb3B1cChwb3B1cF83OGFjNGQzNGE4ODY0YmI0YjZhOGFkYjhiMzFhZDBlMik7CgogICAgICAgICAgICAKICAgICAgICAKICAgIAogICAgICAgICAgICB2YXIgY2lyY2xlX21hcmtlcl9hMWIyYjRjMWE2MTU0OTQzOWM2OGNiZDk5MmI4MTEyOSA9IEwuY2lyY2xlTWFya2VyKAogICAgICAgICAgICAgICAgWzQwLjU3NzkxMzUwMzA4NjU3LC03My45NDM1MzcyMjg5MTg4Nl0sCiAgICAgICAgICAgICAgICB7CiAgImJ1YmJsaW5nTW91c2VFdmVudHMiOiB0cnVlLAogICJjb2xvciI6ICJibHVlIiwKICAiZGFzaEFycmF5IjogbnVsbCwKICAiZGFzaE9mZnNldCI6IG51bGwsCiAgImZpbGwiOiB0cnVlLAogICJmaWxsQ29sb3IiOiAiIzMxODZjYyIsCiAgImZpbGxPcGFjaXR5IjogMC43LAogICJmaWxsUnVsZSI6ICJldmVub2RkIiwKICAibGluZUNhcCI6ICJyb3VuZCIsCiAgImxpbmVKb2luIjogInJvdW5kIiwKICAib3BhY2l0eSI6IDEuMCwKICAicmFkaXVzIjogNSwKICAic3Ryb2tlIjogdHJ1ZSwKICAid2VpZ2h0IjogMwp9CiAgICAgICAgICAgICAgICApLmFkZFRvKG1hcF8yYmZkMzY1NWNiNGM0NjE0YmIzY2VjOGRmNDdhNmMyOSk7CiAgICAgICAgICAgIAogICAgCiAgICAgICAgICAgIHZhciBwb3B1cF84ZTU4Yjg0NWE5NzA0YzVmYmU1N2NlOTJhNmMwNDBkMSA9IEwucG9wdXAoe21heFdpZHRoOiAnMzAwJ30pOwoKICAgICAgICAgICAgCiAgICAgICAgICAgICAgICB2YXIgaHRtbF83NmM1N2I3MjE5YjI0NzM1OTM4ZGFhMWExM2VlZTUxZCA9ICQoJzxkaXYgaWQ9Imh0bWxfNzZjNTdiNzIxOWIyNDczNTkzOGRhYTFhMTNlZWU1MWQiIHN0eWxlPSJ3aWR0aDogMTAwLjAlOyBoZWlnaHQ6IDEwMC4wJTsiPk1hbmhhdHRhbiBCZWFjaDwvZGl2PicpWzBdOwogICAgICAgICAgICAgICAgcG9wdXBfOGU1OGI4NDVhOTcwNGM1ZmJlNTdjZTkyYTZjMDQwZDEuc2V0Q29udGVudChodG1sXzc2YzU3YjcyMTliMjQ3MzU5MzhkYWExYTEzZWVlNTFkKTsKICAgICAgICAgICAgCgogICAgICAgICAgICBjaXJjbGVfbWFya2VyX2ExYjJiNGMxYTYxNTQ5NDM5YzY4Y2JkOTkyYjgxMTI5LmJpbmRQb3B1cChwb3B1cF84ZTU4Yjg0NWE5NzA0YzVmYmU1N2NlOTJhNmMwNDBkMSk7CgogICAgICAgICAgICAKICAgICAgICAKICAgIAogICAgICAgICAgICB2YXIgY2lyY2xlX21hcmtlcl9hZGQxMTAzMGUwZmI0YWY1OTk0Mjk5YjQxYjM2MWM5ZiA9IEwuY2lyY2xlTWFya2VyKAogICAgICAgICAgICAgICAgWzQwLjU3NDI5MjU2NDcxNjAxLC03My45ODg2ODI5NTgyMTYzN10sCiAgICAgICAgICAgICAgICB7CiAgImJ1YmJsaW5nTW91c2VFdmVudHMiOiB0cnVlLAogICJjb2xvciI6ICJibHVlIiwKICAiZGFzaEFycmF5IjogbnVsbCwKICAiZGFzaE9mZnNldCI6IG51bGwsCiAgImZpbGwiOiB0cnVlLAogICJmaWxsQ29sb3IiOiAiIzMxODZjYyIsCiAgImZpbGxPcGFjaXR5IjogMC43LAogICJmaWxsUnVsZSI6ICJldmVub2RkIiwKICAibGluZUNhcCI6ICJyb3VuZCIsCiAgImxpbmVKb2luIjogInJvdW5kIiwKICAib3BhY2l0eSI6IDEuMCwKICAicmFkaXVzIjogNSwKICAic3Ryb2tlIjogdHJ1ZSwKICAid2VpZ2h0IjogMwp9CiAgICAgICAgICAgICAgICApLmFkZFRvKG1hcF8yYmZkMzY1NWNiNGM0NjE0YmIzY2VjOGRmNDdhNmMyOSk7CiAgICAgICAgICAgIAogICAgCiAgICAgICAgICAgIHZhciBwb3B1cF84MDc2NzlmY2FmOTY0MDJiODMzYzM0ZWVhNDk1OTY4YyA9IEwucG9wdXAoe21heFdpZHRoOiAnMzAwJ30pOwoKICAgICAgICAgICAgCiAgICAgICAgICAgICAgICB2YXIgaHRtbF82ZDFlNjI4ZGZkNWY0YTc0YTVhOGVhN2I3YmJiODJkMCA9ICQoJzxkaXYgaWQ9Imh0bWxfNmQxZTYyOGRmZDVmNGE3NGE1YThlYTdiN2JiYjgyZDAiIHN0eWxlPSJ3aWR0aDogMTAwLjAlOyBoZWlnaHQ6IDEwMC4wJTsiPkNvbmV5IElzbGFuZDwvZGl2PicpWzBdOwogICAgICAgICAgICAgICAgcG9wdXBfODA3Njc5ZmNhZjk2NDAyYjgzM2MzNGVlYTQ5NTk2OGMuc2V0Q29udGVudChodG1sXzZkMWU2MjhkZmQ1ZjRhNzRhNWE4ZWE3YjdiYmI4MmQwKTsKICAgICAgICAgICAgCgogICAgICAgICAgICBjaXJjbGVfbWFya2VyX2FkZDExMDMwZTBmYjRhZjU5OTQyOTliNDFiMzYxYzlmLmJpbmRQb3B1cChwb3B1cF84MDc2NzlmY2FmOTY0MDJiODMzYzM0ZWVhNDk1OTY4Yyk7CgogICAgICAgICAgICAKICAgICAgICAKICAgIAogICAgICAgICAgICB2YXIgY2lyY2xlX21hcmtlcl9jYjA0Y2ExN2M0NWE0MGQ0YTcyYzAxMDI3NjUxYjJlNSA9IEwuY2lyY2xlTWFya2VyKAogICAgICAgICAgICAgICAgWzQwLjU5OTUxODcwMjgyMjM4LC03My45OTg3NTIyMTQ0MzUxOV0sCiAgICAgICAgICAgICAgICB7CiAgImJ1YmJsaW5nTW91c2VFdmVudHMiOiB0cnVlLAogICJjb2xvciI6ICJibHVlIiwKICAiZGFzaEFycmF5IjogbnVsbCwKICAiZGFzaE9mZnNldCI6IG51bGwsCiAgImZpbGwiOiB0cnVlLAogICJmaWxsQ29sb3IiOiAiIzMxODZjYyIsCiAgImZpbGxPcGFjaXR5IjogMC43LAogICJmaWxsUnVsZSI6ICJldmVub2RkIiwKICAibGluZUNhcCI6ICJyb3VuZCIsCiAgImxpbmVKb2luIjogInJvdW5kIiwKICAib3BhY2l0eSI6IDEuMCwKICAicmFkaXVzIjogNSwKICAic3Ryb2tlIjogdHJ1ZSwKICAid2VpZ2h0IjogMwp9CiAgICAgICAgICAgICAgICApLmFkZFRvKG1hcF8yYmZkMzY1NWNiNGM0NjE0YmIzY2VjOGRmNDdhNmMyOSk7CiAgICAgICAgICAgIAogICAgCiAgICAgICAgICAgIHZhciBwb3B1cF82Y2FmOTQ3ZjAxNjY0MTA2OGQ0YWYxNWE5NjViMmM1NCA9IEwucG9wdXAoe21heFdpZHRoOiAnMzAwJ30pOwoKICAgICAgICAgICAgCiAgICAgICAgICAgICAgICB2YXIgaHRtbF83ZWI0MGViZGM0NWE0ZjQwOWIxZTRkZjZkNTY0NzY5MiA9ICQoJzxkaXYgaWQ9Imh0bWxfN2ViNDBlYmRjNDVhNGY0MDliMWU0ZGY2ZDU2NDc2OTIiIHN0eWxlPSJ3aWR0aDogMTAwLjAlOyBoZWlnaHQ6IDEwMC4wJTsiPkJhdGggQmVhY2g8L2Rpdj4nKVswXTsKICAgICAgICAgICAgICAgIHBvcHVwXzZjYWY5NDdmMDE2NjQxMDY4ZDRhZjE1YTk2NWIyYzU0LnNldENvbnRlbnQoaHRtbF83ZWI0MGViZGM0NWE0ZjQwOWIxZTRkZjZkNTY0NzY5Mik7CiAgICAgICAgICAgIAoKICAgICAgICAgICAgY2lyY2xlX21hcmtlcl9jYjA0Y2ExN2M0NWE0MGQ0YTcyYzAxMDI3NjUxYjJlNS5iaW5kUG9wdXAocG9wdXBfNmNhZjk0N2YwMTY2NDEwNjhkNGFmMTVhOTY1YjJjNTQpOwoKICAgICAgICAgICAgCiAgICAgICAgCiAgICAKICAgICAgICAgICAgdmFyIGNpcmNsZV9tYXJrZXJfNGMzOTY5ZWVjZTIxNGFhYjg5ODUyZjYwNDI5OWNiZWEgPSBMLmNpcmNsZU1hcmtlcigKICAgICAgICAgICAgICAgIFs0MC42MzMxMzA1MTI3NTgwMTUsLTczLjk5MDQ5ODIzMDQ0ODExXSwKICAgICAgICAgICAgICAgIHsKICAiYnViYmxpbmdNb3VzZUV2ZW50cyI6IHRydWUsCiAgImNvbG9yIjogImJsdWUiLAogICJkYXNoQXJyYXkiOiBudWxsLAogICJkYXNoT2Zmc2V0IjogbnVsbCwKICAiZmlsbCI6IHRydWUsCiAgImZpbGxDb2xvciI6ICIjMzE4NmNjIiwKICAiZmlsbE9wYWNpdHkiOiAwLjcsCiAgImZpbGxSdWxlIjogImV2ZW5vZGQiLAogICJsaW5lQ2FwIjogInJvdW5kIiwKICAibGluZUpvaW4iOiAicm91bmQiLAogICJvcGFjaXR5IjogMS4wLAogICJyYWRpdXMiOiA1LAogICJzdHJva2UiOiB0cnVlLAogICJ3ZWlnaHQiOiAzCn0KICAgICAgICAgICAgICAgICkuYWRkVG8obWFwXzJiZmQzNjU1Y2I0YzQ2MTRiYjNjZWM4ZGY0N2E2YzI5KTsKICAgICAgICAgICAgCiAgICAKICAgICAgICAgICAgdmFyIHBvcHVwXzM5ZGE5YzQ5NTQ1MzQ3YzQ5MmU1NTA0ZmM3ZGY1NzliID0gTC5wb3B1cCh7bWF4V2lkdGg6ICczMDAnfSk7CgogICAgICAgICAgICAKICAgICAgICAgICAgICAgIHZhciBodG1sXzdiNjE4ZGM3ODkxYjQ3YjM4Y2RkOTcxYjYzZjljNmJjID0gJCgnPGRpdiBpZD0iaHRtbF83YjYxOGRjNzg5MWI0N2IzOGNkZDk3MWI2M2Y5YzZiYyIgc3R5bGU9IndpZHRoOiAxMDAuMCU7IGhlaWdodDogMTAwLjAlOyI+Qm9yb3VnaCBQYXJrPC9kaXY+JylbMF07CiAgICAgICAgICAgICAgICBwb3B1cF8zOWRhOWM0OTU0NTM0N2M0OTJlNTUwNGZjN2RmNTc5Yi5zZXRDb250ZW50KGh0bWxfN2I2MThkYzc4OTFiNDdiMzhjZGQ5NzFiNjNmOWM2YmMpOwogICAgICAgICAgICAKCiAgICAgICAgICAgIGNpcmNsZV9tYXJrZXJfNGMzOTY5ZWVjZTIxNGFhYjg5ODUyZjYwNDI5OWNiZWEuYmluZFBvcHVwKHBvcHVwXzM5ZGE5YzQ5NTQ1MzQ3YzQ5MmU1NTA0ZmM3ZGY1NzliKTsKCiAgICAgICAgICAgIAogICAgICAgIAogICAgCiAgICAgICAgICAgIHZhciBjaXJjbGVfbWFya2VyXzg0NDc4NGY4OWVjZjQ2ODNiNmVjYWMwNTk4ZWM3YzIxID0gTC5jaXJjbGVNYXJrZXIoCiAgICAgICAgICAgICAgICBbNDAuNjE5MjE5NDU3NzIyNjM2LC03NC4wMTkzMTM3NTYzNjAyMl0sCiAgICAgICAgICAgICAgICB7CiAgImJ1YmJsaW5nTW91c2VFdmVudHMiOiB0cnVlLAogICJjb2xvciI6ICJibHVlIiwKICAiZGFzaEFycmF5IjogbnVsbCwKICAiZGFzaE9mZnNldCI6IG51bGwsCiAgImZpbGwiOiB0cnVlLAogICJmaWxsQ29sb3IiOiAiIzMxODZjYyIsCiAgImZpbGxPcGFjaXR5IjogMC43LAogICJmaWxsUnVsZSI6ICJldmVub2RkIiwKICAibGluZUNhcCI6ICJyb3VuZCIsCiAgImxpbmVKb2luIjogInJvdW5kIiwKICAib3BhY2l0eSI6IDEuMCwKICAicmFkaXVzIjogNSwKICAic3Ryb2tlIjogdHJ1ZSwKICAid2VpZ2h0IjogMwp9CiAgICAgICAgICAgICAgICApLmFkZFRvKG1hcF8yYmZkMzY1NWNiNGM0NjE0YmIzY2VjOGRmNDdhNmMyOSk7CiAgICAgICAgICAgIAogICAgCiAgICAgICAgICAgIHZhciBwb3B1cF9hZTk0MjZlNjRjY2Y0N2NmODBjZDM2Y2Q2M2E0YmFmNyA9IEwucG9wdXAoe21heFdpZHRoOiAnMzAwJ30pOwoKICAgICAgICAgICAgCiAgICAgICAgICAgICAgICB2YXIgaHRtbF8yYTY4NWNiZWM2NDA0MDI3ODdhNDg2MDU0NzFkMzgzZiA9ICQoJzxkaXYgaWQ9Imh0bWxfMmE2ODVjYmVjNjQwNDAyNzg3YTQ4NjA1NDcxZDM4M2YiIHN0eWxlPSJ3aWR0aDogMTAwLjAlOyBoZWlnaHQ6IDEwMC4wJTsiPkR5a2VyIEhlaWdodHM8L2Rpdj4nKVswXTsKICAgICAgICAgICAgICAgIHBvcHVwX2FlOTQyNmU2NGNjZjQ3Y2Y4MGNkMzZjZDYzYTRiYWY3LnNldENvbnRlbnQoaHRtbF8yYTY4NWNiZWM2NDA0MDI3ODdhNDg2MDU0NzFkMzgzZik7CiAgICAgICAgICAgIAoKICAgICAgICAgICAgY2lyY2xlX21hcmtlcl84NDQ3ODRmODllY2Y0NjgzYjZlY2FjMDU5OGVjN2MyMS5iaW5kUG9wdXAocG9wdXBfYWU5NDI2ZTY0Y2NmNDdjZjgwY2QzNmNkNjNhNGJhZjcpOwoKICAgICAgICAgICAgCiAgICAgICAgCiAgICAKICAgICAgICAgICAgdmFyIGNpcmNsZV9tYXJrZXJfNDA0OTYxNGY3N2JkNDFjMWIyODY1NjE0NTJiMmJkOTIgPSBMLmNpcmNsZU1hcmtlcigKICAgICAgICAgICAgICAgIFs0MC41OTA4NDg0MzM5MDIwNDYsLTczLjkzMDEwMTcwNjkxMTk2XSwKICAgICAgICAgICAgICAgIHsKICAiYnViYmxpbmdNb3VzZUV2ZW50cyI6IHRydWUsCiAgImNvbG9yIjogImJsdWUiLAogICJkYXNoQXJyYXkiOiBudWxsLAogICJkYXNoT2Zmc2V0IjogbnVsbCwKICAiZmlsbCI6IHRydWUsCiAgImZpbGxDb2xvciI6ICIjMzE4NmNjIiwKICAiZmlsbE9wYWNpdHkiOiAwLjcsCiAgImZpbGxSdWxlIjogImV2ZW5vZGQiLAogICJsaW5lQ2FwIjogInJvdW5kIiwKICAibGluZUpvaW4iOiAicm91bmQiLAogICJvcGFjaXR5IjogMS4wLAogICJyYWRpdXMiOiA1LAogICJzdHJva2UiOiB0cnVlLAogICJ3ZWlnaHQiOiAzCn0KICAgICAgICAgICAgICAgICkuYWRkVG8obWFwXzJiZmQzNjU1Y2I0YzQ2MTRiYjNjZWM4ZGY0N2E2YzI5KTsKICAgICAgICAgICAgCiAgICAKICAgICAgICAgICAgdmFyIHBvcHVwXzAzMDMxNmZmZDYxNTRhNmY4MDc5Nzk5YmVlYjI3N2M4ID0gTC5wb3B1cCh7bWF4V2lkdGg6ICczMDAnfSk7CgogICAgICAgICAgICAKICAgICAgICAgICAgICAgIHZhciBodG1sXzllYWQzNjlhYTIwZjQxYzQ5ODY4NTY5MGExN2I3YTU3ID0gJCgnPGRpdiBpZD0iaHRtbF85ZWFkMzY5YWEyMGY0MWM0OTg2ODU2OTBhMTdiN2E1NyIgc3R5bGU9IndpZHRoOiAxMDAuMCU7IGhlaWdodDogMTAwLjAlOyI+R2Vycml0c2VuIEJlYWNoPC9kaXY+JylbMF07CiAgICAgICAgICAgICAgICBwb3B1cF8wMzAzMTZmZmQ2MTU0YTZmODA3OTc5OWJlZWIyNzdjOC5zZXRDb250ZW50KGh0bWxfOWVhZDM2OWFhMjBmNDFjNDk4Njg1NjkwYTE3YjdhNTcpOwogICAgICAgICAgICAKCiAgICAgICAgICAgIGNpcmNsZV9tYXJrZXJfNDA0OTYxNGY3N2JkNDFjMWIyODY1NjE0NTJiMmJkOTIuYmluZFBvcHVwKHBvcHVwXzAzMDMxNmZmZDYxNTRhNmY4MDc5Nzk5YmVlYjI3N2M4KTsKCiAgICAgICAgICAgIAogICAgICAgIAogICAgCiAgICAgICAgICAgIHZhciBjaXJjbGVfbWFya2VyX2EzY2U3ZjRkYTEwOTRlOWQ4MGY1ZTUwYTI2N2JiMzI0ID0gTC5jaXJjbGVNYXJrZXIoCiAgICAgICAgICAgICAgICBbNDAuNjA5NzQ3Nzc5ODk0NjA0LC03My45MzEzNDQwNDEwODQ5N10sCiAgICAgICAgICAgICAgICB7CiAgImJ1YmJsaW5nTW91c2VFdmVudHMiOiB0cnVlLAogICJjb2xvciI6ICJibHVlIiwKICAiZGFzaEFycmF5IjogbnVsbCwKICAiZGFzaE9mZnNldCI6IG51bGwsCiAgImZpbGwiOiB0cnVlLAogICJmaWxsQ29sb3IiOiAiIzMxODZjYyIsCiAgImZpbGxPcGFjaXR5IjogMC43LAogICJmaWxsUnVsZSI6ICJldmVub2RkIiwKICAibGluZUNhcCI6ICJyb3VuZCIsCiAgImxpbmVKb2luIjogInJvdW5kIiwKICAib3BhY2l0eSI6IDEuMCwKICAicmFkaXVzIjogNSwKICAic3Ryb2tlIjogdHJ1ZSwKICAid2VpZ2h0IjogMwp9CiAgICAgICAgICAgICAgICApLmFkZFRvKG1hcF8yYmZkMzY1NWNiNGM0NjE0YmIzY2VjOGRmNDdhNmMyOSk7CiAgICAgICAgICAgIAogICAgCiAgICAgICAgICAgIHZhciBwb3B1cF8wMjNhZTQ5YTE3Zjc0NGFkYjUzYTYyOWFjY2UxMGM0MyA9IEwucG9wdXAoe21heFdpZHRoOiAnMzAwJ30pOwoKICAgICAgICAgICAgCiAgICAgICAgICAgICAgICB2YXIgaHRtbF9lY2I1MTY1NTdiN2I0MmNlOGRmZDU3ZjI2ODI2MmU0NyA9ICQoJzxkaXYgaWQ9Imh0bWxfZWNiNTE2NTU3YjdiNDJjZThkZmQ1N2YyNjgyNjJlNDciIHN0eWxlPSJ3aWR0aDogMTAwLjAlOyBoZWlnaHQ6IDEwMC4wJTsiPk1hcmluZSBQYXJrPC9kaXY+JylbMF07CiAgICAgICAgICAgICAgICBwb3B1cF8wMjNhZTQ5YTE3Zjc0NGFkYjUzYTYyOWFjY2UxMGM0My5zZXRDb250ZW50KGh0bWxfZWNiNTE2NTU3YjdiNDJjZThkZmQ1N2YyNjgyNjJlNDcpOwogICAgICAgICAgICAKCiAgICAgICAgICAgIGNpcmNsZV9tYXJrZXJfYTNjZTdmNGRhMTA5NGU5ZDgwZjVlNTBhMjY3YmIzMjQuYmluZFBvcHVwKHBvcHVwXzAyM2FlNDlhMTdmNzQ0YWRiNTNhNjI5YWNjZTEwYzQzKTsKCiAgICAgICAgICAgIAogICAgICAgIAogICAgCiAgICAgICAgICAgIHZhciBjaXJjbGVfbWFya2VyXzNjN2E5MTM5MjUxMzQzYWI4NDI4ZjNlODA5OTBjNGRkID0gTC5jaXJjbGVNYXJrZXIoCiAgICAgICAgICAgICAgICBbNDAuNjkzMjI5NDIxODgxNTA0LC03My45Njc4NDMwNjIxNjM2N10sCiAgICAgICAgICAgICAgICB7CiAgImJ1YmJsaW5nTW91c2VFdmVudHMiOiB0cnVlLAogICJjb2xvciI6ICJibHVlIiwKICAiZGFzaEFycmF5IjogbnVsbCwKICAiZGFzaE9mZnNldCI6IG51bGwsCiAgImZpbGwiOiB0cnVlLAogICJmaWxsQ29sb3IiOiAiIzMxODZjYyIsCiAgImZpbGxPcGFjaXR5IjogMC43LAogICJmaWxsUnVsZSI6ICJldmVub2RkIiwKICAibGluZUNhcCI6ICJyb3VuZCIsCiAgImxpbmVKb2luIjogInJvdW5kIiwKICAib3BhY2l0eSI6IDEuMCwKICAicmFkaXVzIjogNSwKICAic3Ryb2tlIjogdHJ1ZSwKICAid2VpZ2h0IjogMwp9CiAgICAgICAgICAgICAgICApLmFkZFRvKG1hcF8yYmZkMzY1NWNiNGM0NjE0YmIzY2VjOGRmNDdhNmMyOSk7CiAgICAgICAgICAgIAogICAgCiAgICAgICAgICAgIHZhciBwb3B1cF9kY2E0MWY1Yzk1NjE0OWZmOWZkMGY0Mzk3NmM0ZDZiYSA9IEwucG9wdXAoe21heFdpZHRoOiAnMzAwJ30pOwoKICAgICAgICAgICAgCiAgICAgICAgICAgICAgICB2YXIgaHRtbF83YjA3YTY2ZGI3NzE0MmQ4OWFkMzcxMjlhM2I5MGU0OSA9ICQoJzxkaXYgaWQ9Imh0bWxfN2IwN2E2NmRiNzcxNDJkODlhZDM3MTI5YTNiOTBlNDkiIHN0eWxlPSJ3aWR0aDogMTAwLjAlOyBoZWlnaHQ6IDEwMC4wJTsiPkNsaW50b24gSGlsbDwvZGl2PicpWzBdOwogICAgICAgICAgICAgICAgcG9wdXBfZGNhNDFmNWM5NTYxNDlmZjlmZDBmNDM5NzZjNGQ2YmEuc2V0Q29udGVudChodG1sXzdiMDdhNjZkYjc3MTQyZDg5YWQzNzEyOWEzYjkwZTQ5KTsKICAgICAgICAgICAgCgogICAgICAgICAgICBjaXJjbGVfbWFya2VyXzNjN2E5MTM5MjUxMzQzYWI4NDI4ZjNlODA5OTBjNGRkLmJpbmRQb3B1cChwb3B1cF9kY2E0MWY1Yzk1NjE0OWZmOWZkMGY0Mzk3NmM0ZDZiYSk7CgogICAgICAgICAgICAKICAgICAgICAKICAgIAogICAgICAgICAgICB2YXIgY2lyY2xlX21hcmtlcl83M2RiNzJjYjlmODU0ZTJmYTY0YzNkNGMxMmUyOTY3MiA9IEwuY2lyY2xlTWFya2VyKAogICAgICAgICAgICAgICAgWzQwLjU3NjM3NTM3ODkwMjI0LC03NC4wMDc4NzMxMTIwMDI0XSwKICAgICAgICAgICAgICAgIHsKICAiYnViYmxpbmdNb3VzZUV2ZW50cyI6IHRydWUsCiAgImNvbG9yIjogImJsdWUiLAogICJkYXNoQXJyYXkiOiBudWxsLAogICJkYXNoT2Zmc2V0IjogbnVsbCwKICAiZmlsbCI6IHRydWUsCiAgImZpbGxDb2xvciI6ICIjMzE4NmNjIiwKICAiZmlsbE9wYWNpdHkiOiAwLjcsCiAgImZpbGxSdWxlIjogImV2ZW5vZGQiLAogICJsaW5lQ2FwIjogInJvdW5kIiwKICAibGluZUpvaW4iOiAicm91bmQiLAogICJvcGFjaXR5IjogMS4wLAogICJyYWRpdXMiOiA1LAogICJzdHJva2UiOiB0cnVlLAogICJ3ZWlnaHQiOiAzCn0KICAgICAgICAgICAgICAgICkuYWRkVG8obWFwXzJiZmQzNjU1Y2I0YzQ2MTRiYjNjZWM4ZGY0N2E2YzI5KTsKICAgICAgICAgICAgCiAgICAKICAgICAgICAgICAgdmFyIHBvcHVwX2VmYWJmM2E1YjM2ODRkMmJhNzhmNTI1OTJmODRmN2QxID0gTC5wb3B1cCh7bWF4V2lkdGg6ICczMDAnfSk7CgogICAgICAgICAgICAKICAgICAgICAgICAgICAgIHZhciBodG1sX2NlNTEzYTA5MThjNjRmYzVhYjljYjU4ZGRhNjhlYzZlID0gJCgnPGRpdiBpZD0iaHRtbF9jZTUxM2EwOTE4YzY0ZmM1YWI5Y2I1OGRkYTY4ZWM2ZSIgc3R5bGU9IndpZHRoOiAxMDAuMCU7IGhlaWdodDogMTAwLjAlOyI+U2VhIEdhdGU8L2Rpdj4nKVswXTsKICAgICAgICAgICAgICAgIHBvcHVwX2VmYWJmM2E1YjM2ODRkMmJhNzhmNTI1OTJmODRmN2QxLnNldENvbnRlbnQoaHRtbF9jZTUxM2EwOTE4YzY0ZmM1YWI5Y2I1OGRkYTY4ZWM2ZSk7CiAgICAgICAgICAgIAoKICAgICAgICAgICAgY2lyY2xlX21hcmtlcl83M2RiNzJjYjlmODU0ZTJmYTY0YzNkNGMxMmUyOTY3Mi5iaW5kUG9wdXAocG9wdXBfZWZhYmYzYTViMzY4NGQyYmE3OGY1MjU5MmY4NGY3ZDEpOwoKICAgICAgICAgICAgCiAgICAgICAgCiAgICAKICAgICAgICAgICAgdmFyIGNpcmNsZV9tYXJrZXJfMzc1ZmZhNWY2NGZhNGQzMDk5MjNkNzNkOWY1ZDM4ZTEgPSBMLmNpcmNsZU1hcmtlcigKICAgICAgICAgICAgICAgIFs0MC42OTA4NDQwMjEwOTgwMiwtNzMuOTgzNDYzMzc0MzEwOTldLAogICAgICAgICAgICAgICAgewogICJidWJibGluZ01vdXNlRXZlbnRzIjogdHJ1ZSwKICAiY29sb3IiOiAiYmx1ZSIsCiAgImRhc2hBcnJheSI6IG51bGwsCiAgImRhc2hPZmZzZXQiOiBudWxsLAogICJmaWxsIjogdHJ1ZSwKICAiZmlsbENvbG9yIjogIiMzMTg2Y2MiLAogICJmaWxsT3BhY2l0eSI6IDAuNywKICAiZmlsbFJ1bGUiOiAiZXZlbm9kZCIsCiAgImxpbmVDYXAiOiAicm91bmQiLAogICJsaW5lSm9pbiI6ICJyb3VuZCIsCiAgIm9wYWNpdHkiOiAxLjAsCiAgInJhZGl1cyI6IDUsCiAgInN0cm9rZSI6IHRydWUsCiAgIndlaWdodCI6IDMKfQogICAgICAgICAgICAgICAgKS5hZGRUbyhtYXBfMmJmZDM2NTVjYjRjNDYxNGJiM2NlYzhkZjQ3YTZjMjkpOwogICAgICAgICAgICAKICAgIAogICAgICAgICAgICB2YXIgcG9wdXBfOTkyZTFjODRjZWI4NDFlNmE5YzdjMWI4NjJkZmJhNjggPSBMLnBvcHVwKHttYXhXaWR0aDogJzMwMCd9KTsKCiAgICAgICAgICAgIAogICAgICAgICAgICAgICAgdmFyIGh0bWxfMmFmZTRkODQxNjQ5NGM4ZjlhNzhlNWY3MzU4YzM3YTYgPSAkKCc8ZGl2IGlkPSJodG1sXzJhZmU0ZDg0MTY0OTRjOGY5YTc4ZTVmNzM1OGMzN2E2IiBzdHlsZT0id2lkdGg6IDEwMC4wJTsgaGVpZ2h0OiAxMDAuMCU7Ij5Eb3dudG93bjwvZGl2PicpWzBdOwogICAgICAgICAgICAgICAgcG9wdXBfOTkyZTFjODRjZWI4NDFlNmE5YzdjMWI4NjJkZmJhNjguc2V0Q29udGVudChodG1sXzJhZmU0ZDg0MTY0OTRjOGY5YTc4ZTVmNzM1OGMzN2E2KTsKICAgICAgICAgICAgCgogICAgICAgICAgICBjaXJjbGVfbWFya2VyXzM3NWZmYTVmNjRmYTRkMzA5OTIzZDczZDlmNWQzOGUxLmJpbmRQb3B1cChwb3B1cF85OTJlMWM4NGNlYjg0MWU2YTljN2MxYjg2MmRmYmE2OCk7CgogICAgICAgICAgICAKICAgICAgICAKICAgIAogICAgICAgICAgICB2YXIgY2lyY2xlX21hcmtlcl81M2JmMDg1Zjk0NDM0YjQ5YmVjMzQ2OGNlNmM1NWZhNiA9IEwuY2lyY2xlTWFya2VyKAogICAgICAgICAgICAgICAgWzQwLjY4NTY4MjkxMjA5MTQ0NCwtNzMuOTgzNzQ4MjQxMTU3OThdLAogICAgICAgICAgICAgICAgewogICJidWJibGluZ01vdXNlRXZlbnRzIjogdHJ1ZSwKICAiY29sb3IiOiAiYmx1ZSIsCiAgImRhc2hBcnJheSI6IG51bGwsCiAgImRhc2hPZmZzZXQiOiBudWxsLAogICJmaWxsIjogdHJ1ZSwKICAiZmlsbENvbG9yIjogIiMzMTg2Y2MiLAogICJmaWxsT3BhY2l0eSI6IDAuNywKICAiZmlsbFJ1bGUiOiAiZXZlbm9kZCIsCiAgImxpbmVDYXAiOiAicm91bmQiLAogICJsaW5lSm9pbiI6ICJyb3VuZCIsCiAgIm9wYWNpdHkiOiAxLjAsCiAgInJhZGl1cyI6IDUsCiAgInN0cm9rZSI6IHRydWUsCiAgIndlaWdodCI6IDMKfQogICAgICAgICAgICAgICAgKS5hZGRUbyhtYXBfMmJmZDM2NTVjYjRjNDYxNGJiM2NlYzhkZjQ3YTZjMjkpOwogICAgICAgICAgICAKICAgIAogICAgICAgICAgICB2YXIgcG9wdXBfZjRhZmMzZjliN2RjNGQzNmFmOGEyNTdlMjZmMzA3OTIgPSBMLnBvcHVwKHttYXhXaWR0aDogJzMwMCd9KTsKCiAgICAgICAgICAgIAogICAgICAgICAgICAgICAgdmFyIGh0bWxfZTQyY2UxZjY0M2VlNGVkZmJhMjAzODBhM2JmZTg5YTIgPSAkKCc8ZGl2IGlkPSJodG1sX2U0MmNlMWY2NDNlZTRlZGZiYTIwMzgwYTNiZmU4OWEyIiBzdHlsZT0id2lkdGg6IDEwMC4wJTsgaGVpZ2h0OiAxMDAuMCU7Ij5Cb2VydW0gSGlsbDwvZGl2PicpWzBdOwogICAgICAgICAgICAgICAgcG9wdXBfZjRhZmMzZjliN2RjNGQzNmFmOGEyNTdlMjZmMzA3OTIuc2V0Q29udGVudChodG1sX2U0MmNlMWY2NDNlZTRlZGZiYTIwMzgwYTNiZmU4OWEyKTsKICAgICAgICAgICAgCgogICAgICAgICAgICBjaXJjbGVfbWFya2VyXzUzYmYwODVmOTQ0MzRiNDliZWMzNDY4Y2U2YzU1ZmE2LmJpbmRQb3B1cChwb3B1cF9mNGFmYzNmOWI3ZGM0ZDM2YWY4YTI1N2UyNmYzMDc5Mik7CgogICAgICAgICAgICAKICAgICAgICAKICAgIAogICAgICAgICAgICB2YXIgY2lyY2xlX21hcmtlcl82MDIzZGZkOTk0ZmY0MmVkOThiYmQ4YTU2OWUwNzNjZCA9IEwuY2lyY2xlTWFya2VyKAogICAgICAgICAgICAgICAgWzQwLjY1ODQyMDAxNzQ2OTgxNSwtNzMuOTU0ODk4NjcwNzc3MTNdLAogICAgICAgICAgICAgICAgewogICJidWJibGluZ01vdXNlRXZlbnRzIjogdHJ1ZSwKICAiY29sb3IiOiAiYmx1ZSIsCiAgImRhc2hBcnJheSI6IG51bGwsCiAgImRhc2hPZmZzZXQiOiBudWxsLAogICJmaWxsIjogdHJ1ZSwKICAiZmlsbENvbG9yIjogIiMzMTg2Y2MiLAogICJmaWxsT3BhY2l0eSI6IDAuNywKICAiZmlsbFJ1bGUiOiAiZXZlbm9kZCIsCiAgImxpbmVDYXAiOiAicm91bmQiLAogICJsaW5lSm9pbiI6ICJyb3VuZCIsCiAgIm9wYWNpdHkiOiAxLjAsCiAgInJhZGl1cyI6IDUsCiAgInN0cm9rZSI6IHRydWUsCiAgIndlaWdodCI6IDMKfQogICAgICAgICAgICAgICAgKS5hZGRUbyhtYXBfMmJmZDM2NTVjYjRjNDYxNGJiM2NlYzhkZjQ3YTZjMjkpOwogICAgICAgICAgICAKICAgIAogICAgICAgICAgICB2YXIgcG9wdXBfMjY0NTI5MWFiZWVhNDUwZjliMDg0ZDkxN2FjZWE2YjQgPSBMLnBvcHVwKHttYXhXaWR0aDogJzMwMCd9KTsKCiAgICAgICAgICAgIAogICAgICAgICAgICAgICAgdmFyIGh0bWxfMGIwNDE5MjQ5MzQ5NDVmNGEzNjJkOGI0ZTlhMzA0OTAgPSAkKCc8ZGl2IGlkPSJodG1sXzBiMDQxOTI0OTM0OTQ1ZjRhMzYyZDhiNGU5YTMwNDkwIiBzdHlsZT0id2lkdGg6IDEwMC4wJTsgaGVpZ2h0OiAxMDAuMCU7Ij5Qcm9zcGVjdCBMZWZmZXJ0cyBHYXJkZW5zPC9kaXY+JylbMF07CiAgICAgICAgICAgICAgICBwb3B1cF8yNjQ1MjkxYWJlZWE0NTBmOWIwODRkOTE3YWNlYTZiNC5zZXRDb250ZW50KGh0bWxfMGIwNDE5MjQ5MzQ5NDVmNGEzNjJkOGI0ZTlhMzA0OTApOwogICAgICAgICAgICAKCiAgICAgICAgICAgIGNpcmNsZV9tYXJrZXJfNjAyM2RmZDk5NGZmNDJlZDk4YmJkOGE1NjllMDczY2QuYmluZFBvcHVwKHBvcHVwXzI2NDUyOTFhYmVlYTQ1MGY5YjA4NGQ5MTdhY2VhNmI0KTsKCiAgICAgICAgICAgIAogICAgICAgIAogICAgCiAgICAgICAgICAgIHZhciBjaXJjbGVfbWFya2VyXzNhY2UzOTU0ZGFlNjRmNmFiMzYzMjkxMDAxMDk3ZTc3ID0gTC5jaXJjbGVNYXJrZXIoCiAgICAgICAgICAgICAgICBbNDAuNjc4NDAyNTU0Nzk1MzU1LC03My45MTMwNjgzMTc4NzM5NV0sCiAgICAgICAgICAgICAgICB7CiAgImJ1YmJsaW5nTW91c2VFdmVudHMiOiB0cnVlLAogICJjb2xvciI6ICJibHVlIiwKICAiZGFzaEFycmF5IjogbnVsbCwKICAiZGFzaE9mZnNldCI6IG51bGwsCiAgImZpbGwiOiB0cnVlLAogICJmaWxsQ29sb3IiOiAiIzMxODZjYyIsCiAgImZpbGxPcGFjaXR5IjogMC43LAogICJmaWxsUnVsZSI6ICJldmVub2RkIiwKICAibGluZUNhcCI6ICJyb3VuZCIsCiAgImxpbmVKb2luIjogInJvdW5kIiwKICAib3BhY2l0eSI6IDEuMCwKICAicmFkaXVzIjogNSwKICAic3Ryb2tlIjogdHJ1ZSwKICAid2VpZ2h0IjogMwp9CiAgICAgICAgICAgICAgICApLmFkZFRvKG1hcF8yYmZkMzY1NWNiNGM0NjE0YmIzY2VjOGRmNDdhNmMyOSk7CiAgICAgICAgICAgIAogICAgCiAgICAgICAgICAgIHZhciBwb3B1cF81MTY1MjdlZGFhYjA0ZDU5OGU5NzhhNTIzOWQ5YWEzNiA9IEwucG9wdXAoe21heFdpZHRoOiAnMzAwJ30pOwoKICAgICAgICAgICAgCiAgICAgICAgICAgICAgICB2YXIgaHRtbF9hZjZiZTdkZjNhYTY0YWM0YjNlZmRkZTA3NjZkODZhNCA9ICQoJzxkaXYgaWQ9Imh0bWxfYWY2YmU3ZGYzYWE2NGFjNGIzZWZkZGUwNzY2ZDg2YTQiIHN0eWxlPSJ3aWR0aDogMTAwLjAlOyBoZWlnaHQ6IDEwMC4wJTsiPk9jZWFuIEhpbGw8L2Rpdj4nKVswXTsKICAgICAgICAgICAgICAgIHBvcHVwXzUxNjUyN2VkYWFiMDRkNTk4ZTk3OGE1MjM5ZDlhYTM2LnNldENvbnRlbnQoaHRtbF9hZjZiZTdkZjNhYTY0YWM0YjNlZmRkZTA3NjZkODZhNCk7CiAgICAgICAgICAgIAoKICAgICAgICAgICAgY2lyY2xlX21hcmtlcl8zYWNlMzk1NGRhZTY0ZjZhYjM2MzI5MTAwMTA5N2U3Ny5iaW5kUG9wdXAocG9wdXBfNTE2NTI3ZWRhYWIwNGQ1OThlOTc4YTUyMzlkOWFhMzYpOwoKICAgICAgICAgICAgCiAgICAgICAgCiAgICAKICAgICAgICAgICAgdmFyIGNpcmNsZV9tYXJrZXJfYzUwYjJkMGVkZWMwNDc5NzgwOWUwMzJkZmJlOWY3MTIgPSBMLmNpcmNsZU1hcmtlcigKICAgICAgICAgICAgICAgIFs0MC42Nzg1Njk5NTcyNzQ3OSwtNzMuODY3OTc1OTgwODEzMzRdLAogICAgICAgICAgICAgICAgewogICJidWJibGluZ01vdXNlRXZlbnRzIjogdHJ1ZSwKICAiY29sb3IiOiAiYmx1ZSIsCiAgImRhc2hBcnJheSI6IG51bGwsCiAgImRhc2hPZmZzZXQiOiBudWxsLAogICJmaWxsIjogdHJ1ZSwKICAiZmlsbENvbG9yIjogIiMzMTg2Y2MiLAogICJmaWxsT3BhY2l0eSI6IDAuNywKICAiZmlsbFJ1bGUiOiAiZXZlbm9kZCIsCiAgImxpbmVDYXAiOiAicm91bmQiLAogICJsaW5lSm9pbiI6ICJyb3VuZCIsCiAgIm9wYWNpdHkiOiAxLjAsCiAgInJhZGl1cyI6IDUsCiAgInN0cm9rZSI6IHRydWUsCiAgIndlaWdodCI6IDMKfQogICAgICAgICAgICAgICAgKS5hZGRUbyhtYXBfMmJmZDM2NTVjYjRjNDYxNGJiM2NlYzhkZjQ3YTZjMjkpOwogICAgICAgICAgICAKICAgIAogICAgICAgICAgICB2YXIgcG9wdXBfOGVlOGRhNzU4MmIzNDVmY2FlYjg0MGZiNWM0OTAyZDkgPSBMLnBvcHVwKHttYXhXaWR0aDogJzMwMCd9KTsKCiAgICAgICAgICAgIAogICAgICAgICAgICAgICAgdmFyIGh0bWxfNDJiODgwNTI4NjgzNDFlOTg2OTNhYzUyNjk5YTY5MDcgPSAkKCc8ZGl2IGlkPSJodG1sXzQyYjg4MDUyODY4MzQxZTk4NjkzYWM1MjY5OWE2OTA3IiBzdHlsZT0id2lkdGg6IDEwMC4wJTsgaGVpZ2h0OiAxMDAuMCU7Ij5DaXR5IExpbmU8L2Rpdj4nKVswXTsKICAgICAgICAgICAgICAgIHBvcHVwXzhlZThkYTc1ODJiMzQ1ZmNhZWI4NDBmYjVjNDkwMmQ5LnNldENvbnRlbnQoaHRtbF80MmI4ODA1Mjg2ODM0MWU5ODY5M2FjNTI2OTlhNjkwNyk7CiAgICAgICAgICAgIAoKICAgICAgICAgICAgY2lyY2xlX21hcmtlcl9jNTBiMmQwZWRlYzA0Nzk3ODA5ZTAzMmRmYmU5ZjcxMi5iaW5kUG9wdXAocG9wdXBfOGVlOGRhNzU4MmIzNDVmY2FlYjg0MGZiNWM0OTAyZDkpOwoKICAgICAgICAgICAgCiAgICAgICAgCiAgICAKICAgICAgICAgICAgdmFyIGNpcmNsZV9tYXJrZXJfYzA2Mzg5YzZmZTVhNGE0ZTlkMzZhYTQ4ZDBjZGRmYjAgPSBMLmNpcmNsZU1hcmtlcigKICAgICAgICAgICAgICAgIFs0MC42MTUxNDk1NTA0NTMwOCwtNzMuODk4NTU2MzM2MzAzMTddLAogICAgICAgICAgICAgICAgewogICJidWJibGluZ01vdXNlRXZlbnRzIjogdHJ1ZSwKICAiY29sb3IiOiAiYmx1ZSIsCiAgImRhc2hBcnJheSI6IG51bGwsCiAgImRhc2hPZmZzZXQiOiBudWxsLAogICJmaWxsIjogdHJ1ZSwKICAiZmlsbENvbG9yIjogIiMzMTg2Y2MiLAogICJmaWxsT3BhY2l0eSI6IDAuNywKICAiZmlsbFJ1bGUiOiAiZXZlbm9kZCIsCiAgImxpbmVDYXAiOiAicm91bmQiLAogICJsaW5lSm9pbiI6ICJyb3VuZCIsCiAgIm9wYWNpdHkiOiAxLjAsCiAgInJhZGl1cyI6IDUsCiAgInN0cm9rZSI6IHRydWUsCiAgIndlaWdodCI6IDMKfQogICAgICAgICAgICAgICAgKS5hZGRUbyhtYXBfMmJmZDM2NTVjYjRjNDYxNGJiM2NlYzhkZjQ3YTZjMjkpOwogICAgICAgICAgICAKICAgIAogICAgICAgICAgICB2YXIgcG9wdXBfZjc4YTU4ODM0MTIxNDZkZGFlOWFhNDljMWI1MmRmZTMgPSBMLnBvcHVwKHttYXhXaWR0aDogJzMwMCd9KTsKCiAgICAgICAgICAgIAogICAgICAgICAgICAgICAgdmFyIGh0bWxfNzY4NjJmM2RiNGRiNDQ1YzlhNDU3NTVlZDMwM2VhMDYgPSAkKCc8ZGl2IGlkPSJodG1sXzc2ODYyZjNkYjRkYjQ0NWM5YTQ1NzU1ZWQzMDNlYTA2IiBzdHlsZT0id2lkdGg6IDEwMC4wJTsgaGVpZ2h0OiAxMDAuMCU7Ij5CZXJnZW4gQmVhY2g8L2Rpdj4nKVswXTsKICAgICAgICAgICAgICAgIHBvcHVwX2Y3OGE1ODgzNDEyMTQ2ZGRhZTlhYTQ5YzFiNTJkZmUzLnNldENvbnRlbnQoaHRtbF83Njg2MmYzZGI0ZGI0NDVjOWE0NTc1NWVkMzAzZWEwNik7CiAgICAgICAgICAgIAoKICAgICAgICAgICAgY2lyY2xlX21hcmtlcl9jMDYzODljNmZlNWE0YTRlOWQzNmFhNDhkMGNkZGZiMC5iaW5kUG9wdXAocG9wdXBfZjc4YTU4ODM0MTIxNDZkZGFlOWFhNDljMWI1MmRmZTMpOwoKICAgICAgICAgICAgCiAgICAgICAgCiAgICAKICAgICAgICAgICAgdmFyIGNpcmNsZV9tYXJrZXJfZTc2MjgzOTBmODNiNGVlZjgxYmYxZDc0ZDQ4N2RkY2QgPSBMLmNpcmNsZU1hcmtlcigKICAgICAgICAgICAgICAgIFs0MC42MjU1OTU4OTg2OTg0MywtNzMuOTU3NTk1MjM0ODk4MzhdLAogICAgICAgICAgICAgICAgewogICJidWJibGluZ01vdXNlRXZlbnRzIjogdHJ1ZSwKICAiY29sb3IiOiAiYmx1ZSIsCiAgImRhc2hBcnJheSI6IG51bGwsCiAgImRhc2hPZmZzZXQiOiBudWxsLAogICJmaWxsIjogdHJ1ZSwKICAiZmlsbENvbG9yIjogIiMzMTg2Y2MiLAogICJmaWxsT3BhY2l0eSI6IDAuNywKICAiZmlsbFJ1bGUiOiAiZXZlbm9kZCIsCiAgImxpbmVDYXAiOiAicm91bmQiLAogICJsaW5lSm9pbiI6ICJyb3VuZCIsCiAgIm9wYWNpdHkiOiAxLjAsCiAgInJhZGl1cyI6IDUsCiAgInN0cm9rZSI6IHRydWUsCiAgIndlaWdodCI6IDMKfQogICAgICAgICAgICAgICAgKS5hZGRUbyhtYXBfMmJmZDM2NTVjYjRjNDYxNGJiM2NlYzhkZjQ3YTZjMjkpOwogICAgICAgICAgICAKICAgIAogICAgICAgICAgICB2YXIgcG9wdXBfMDAxNzFlZjY3MDBkNDgxYWI4ZjBjZmRiNGVhZTJmYjQgPSBMLnBvcHVwKHttYXhXaWR0aDogJzMwMCd9KTsKCiAgICAgICAgICAgIAogICAgICAgICAgICAgICAgdmFyIGh0bWxfNjFiNTkwZjk3NDdhNDRlY2E4ZTRlZDVhYjRjMDRlMDEgPSAkKCc8ZGl2IGlkPSJodG1sXzYxYjU5MGY5NzQ3YTQ0ZWNhOGU0ZWQ1YWI0YzA0ZTAxIiBzdHlsZT0id2lkdGg6IDEwMC4wJTsgaGVpZ2h0OiAxMDAuMCU7Ij5NaWR3b29kPC9kaXY+JylbMF07CiAgICAgICAgICAgICAgICBwb3B1cF8wMDE3MWVmNjcwMGQ0ODFhYjhmMGNmZGI0ZWFlMmZiNC5zZXRDb250ZW50KGh0bWxfNjFiNTkwZjk3NDdhNDRlY2E4ZTRlZDVhYjRjMDRlMDEpOwogICAgICAgICAgICAKCiAgICAgICAgICAgIGNpcmNsZV9tYXJrZXJfZTc2MjgzOTBmODNiNGVlZjgxYmYxZDc0ZDQ4N2RkY2QuYmluZFBvcHVwKHBvcHVwXzAwMTcxZWY2NzAwZDQ4MWFiOGYwY2ZkYjRlYWUyZmI0KTsKCiAgICAgICAgICAgIAogICAgICAgIAogICAgCiAgICAgICAgICAgIHZhciBjaXJjbGVfbWFya2VyX2YwYTBlMDg3ZDJjYzQ2OWZiYmYzOTg1M2ViZWYxYTc4ID0gTC5jaXJjbGVNYXJrZXIoCiAgICAgICAgICAgICAgICBbNDAuNjQ3MDA4NjAzMTg1MTg1LC03My45NjI2MTMxNjcxNjA0OF0sCiAgICAgICAgICAgICAgICB7CiAgImJ1YmJsaW5nTW91c2VFdmVudHMiOiB0cnVlLAogICJjb2xvciI6ICJibHVlIiwKICAiZGFzaEFycmF5IjogbnVsbCwKICAiZGFzaE9mZnNldCI6IG51bGwsCiAgImZpbGwiOiB0cnVlLAogICJmaWxsQ29sb3IiOiAiIzMxODZjYyIsCiAgImZpbGxPcGFjaXR5IjogMC43LAogICJmaWxsUnVsZSI6ICJldmVub2RkIiwKICAibGluZUNhcCI6ICJyb3VuZCIsCiAgImxpbmVKb2luIjogInJvdW5kIiwKICAib3BhY2l0eSI6IDEuMCwKICAicmFkaXVzIjogNSwKICAic3Ryb2tlIjogdHJ1ZSwKICAid2VpZ2h0IjogMwp9CiAgICAgICAgICAgICAgICApLmFkZFRvKG1hcF8yYmZkMzY1NWNiNGM0NjE0YmIzY2VjOGRmNDdhNmMyOSk7CiAgICAgICAgICAgIAogICAgCiAgICAgICAgICAgIHZhciBwb3B1cF8zNmEyNDY3MDY4Mzg0MjM0ODI4YzAwMzk0YjBiMmMwNyA9IEwucG9wdXAoe21heFdpZHRoOiAnMzAwJ30pOwoKICAgICAgICAgICAgCiAgICAgICAgICAgICAgICB2YXIgaHRtbF8zNzcyMDczZDA3MmM0MzIwYjBjMGM5NTFiMDBhNGQyZiA9ICQoJzxkaXYgaWQ9Imh0bWxfMzc3MjA3M2QwNzJjNDMyMGIwYzBjOTUxYjAwYTRkMmYiIHN0eWxlPSJ3aWR0aDogMTAwLjAlOyBoZWlnaHQ6IDEwMC4wJTsiPlByb3NwZWN0IFBhcmsgU291dGg8L2Rpdj4nKVswXTsKICAgICAgICAgICAgICAgIHBvcHVwXzM2YTI0NjcwNjgzODQyMzQ4MjhjMDAzOTRiMGIyYzA3LnNldENvbnRlbnQoaHRtbF8zNzcyMDczZDA3MmM0MzIwYjBjMGM5NTFiMDBhNGQyZik7CiAgICAgICAgICAgIAoKICAgICAgICAgICAgY2lyY2xlX21hcmtlcl9mMGEwZTA4N2QyY2M0NjlmYmJmMzk4NTNlYmVmMWE3OC5iaW5kUG9wdXAocG9wdXBfMzZhMjQ2NzA2ODM4NDIzNDgyOGMwMDM5NGIwYjJjMDcpOwoKICAgICAgICAgICAgCiAgICAgICAgCiAgICAKICAgICAgICAgICAgdmFyIGNpcmNsZV9tYXJrZXJfNzhjNTBmOWRiNGM5NDgwMDkwNTZlMTdkMmY0OTJkMTggPSBMLmNpcmNsZU1hcmtlcigKICAgICAgICAgICAgICAgIFs0MC42MjM4NDUyNDQ3ODQxOSwtNzMuOTE2MDc0ODM5NTEzMjRdLAogICAgICAgICAgICAgICAgewogICJidWJibGluZ01vdXNlRXZlbnRzIjogdHJ1ZSwKICAiY29sb3IiOiAiYmx1ZSIsCiAgImRhc2hBcnJheSI6IG51bGwsCiAgImRhc2hPZmZzZXQiOiBudWxsLAogICJmaWxsIjogdHJ1ZSwKICAiZmlsbENvbG9yIjogIiMzMTg2Y2MiLAogICJmaWxsT3BhY2l0eSI6IDAuNywKICAiZmlsbFJ1bGUiOiAiZXZlbm9kZCIsCiAgImxpbmVDYXAiOiAicm91bmQiLAogICJsaW5lSm9pbiI6ICJyb3VuZCIsCiAgIm9wYWNpdHkiOiAxLjAsCiAgInJhZGl1cyI6IDUsCiAgInN0cm9rZSI6IHRydWUsCiAgIndlaWdodCI6IDMKfQogICAgICAgICAgICAgICAgKS5hZGRUbyhtYXBfMmJmZDM2NTVjYjRjNDYxNGJiM2NlYzhkZjQ3YTZjMjkpOwogICAgICAgICAgICAKICAgIAogICAgICAgICAgICB2YXIgcG9wdXBfYmMwODIyM2M5MjlkNGM2OWI1YzA1MTEzMWYwNjY3NDUgPSBMLnBvcHVwKHttYXhXaWR0aDogJzMwMCd9KTsKCiAgICAgICAgICAgIAogICAgICAgICAgICAgICAgdmFyIGh0bWxfOWUxMjE0NThiNDg0NDllYWJhNjU0YzlkMmJjMjc0MjQgPSAkKCc8ZGl2IGlkPSJodG1sXzllMTIxNDU4YjQ4NDQ5ZWFiYTY1NGM5ZDJiYzI3NDI0IiBzdHlsZT0id2lkdGg6IDEwMC4wJTsgaGVpZ2h0OiAxMDAuMCU7Ij5HZW9yZ2V0b3duPC9kaXY+JylbMF07CiAgICAgICAgICAgICAgICBwb3B1cF9iYzA4MjIzYzkyOWQ0YzY5YjVjMDUxMTMxZjA2Njc0NS5zZXRDb250ZW50KGh0bWxfOWUxMjE0NThiNDg0NDllYWJhNjU0YzlkMmJjMjc0MjQpOwogICAgICAgICAgICAKCiAgICAgICAgICAgIGNpcmNsZV9tYXJrZXJfNzhjNTBmOWRiNGM5NDgwMDkwNTZlMTdkMmY0OTJkMTguYmluZFBvcHVwKHBvcHVwX2JjMDgyMjNjOTI5ZDRjNjliNWMwNTExMzFmMDY2NzQ1KTsKCiAgICAgICAgICAgIAogICAgICAgIAogICAgCiAgICAgICAgICAgIHZhciBjaXJjbGVfbWFya2VyXzc1MDM2NjVmNmU3NDRkNWVhMDYzMGIyM2U1NmZhY2FkID0gTC5jaXJjbGVNYXJrZXIoCiAgICAgICAgICAgICAgICBbNDAuNzA4NDkyNDEwNDE1NDgsLTczLjkzODg1ODE1MjY5MTk1XSwKICAgICAgICAgICAgICAgIHsKICAiYnViYmxpbmdNb3VzZUV2ZW50cyI6IHRydWUsCiAgImNvbG9yIjogImJsdWUiLAogICJkYXNoQXJyYXkiOiBudWxsLAogICJkYXNoT2Zmc2V0IjogbnVsbCwKICAiZmlsbCI6IHRydWUsCiAgImZpbGxDb2xvciI6ICIjMzE4NmNjIiwKICAiZmlsbE9wYWNpdHkiOiAwLjcsCiAgImZpbGxSdWxlIjogImV2ZW5vZGQiLAogICJsaW5lQ2FwIjogInJvdW5kIiwKICAibGluZUpvaW4iOiAicm91bmQiLAogICJvcGFjaXR5IjogMS4wLAogICJyYWRpdXMiOiA1LAogICJzdHJva2UiOiB0cnVlLAogICJ3ZWlnaHQiOiAzCn0KICAgICAgICAgICAgICAgICkuYWRkVG8obWFwXzJiZmQzNjU1Y2I0YzQ2MTRiYjNjZWM4ZGY0N2E2YzI5KTsKICAgICAgICAgICAgCiAgICAKICAgICAgICAgICAgdmFyIHBvcHVwXzJhOGRiNzczM2Q0YjRhYWM5NjEzMzk2MmFkMGI4YTcxID0gTC5wb3B1cCh7bWF4V2lkdGg6ICczMDAnfSk7CgogICAgICAgICAgICAKICAgICAgICAgICAgICAgIHZhciBodG1sXzk4MDhjZTdhYTU4MTRhZGRhY2MxM2I5NjMxYWNiZTRmID0gJCgnPGRpdiBpZD0iaHRtbF85ODA4Y2U3YWE1ODE0YWRkYWNjMTNiOTYzMWFjYmU0ZiIgc3R5bGU9IndpZHRoOiAxMDAuMCU7IGhlaWdodDogMTAwLjAlOyI+RWFzdCBXaWxsaWFtc2J1cmc8L2Rpdj4nKVswXTsKICAgICAgICAgICAgICAgIHBvcHVwXzJhOGRiNzczM2Q0YjRhYWM5NjEzMzk2MmFkMGI4YTcxLnNldENvbnRlbnQoaHRtbF85ODA4Y2U3YWE1ODE0YWRkYWNjMTNiOTYzMWFjYmU0Zik7CiAgICAgICAgICAgIAoKICAgICAgICAgICAgY2lyY2xlX21hcmtlcl83NTAzNjY1ZjZlNzQ0ZDVlYTA2MzBiMjNlNTZmYWNhZC5iaW5kUG9wdXAocG9wdXBfMmE4ZGI3NzMzZDRiNGFhYzk2MTMzOTYyYWQwYjhhNzEpOwoKICAgICAgICAgICAgCiAgICAgICAgCiAgICAKICAgICAgICAgICAgdmFyIGNpcmNsZV9tYXJrZXJfYjFhODljNjM2ZDY5NGM4NTlkYTg1NjMzYWI5NDczYTAgPSBMLmNpcmNsZU1hcmtlcigKICAgICAgICAgICAgICAgIFs0MC43MTQ4MjI5MDY1MzIwMTQsLTczLjk1ODgwODU3NTg3NTgyXSwKICAgICAgICAgICAgICAgIHsKICAiYnViYmxpbmdNb3VzZUV2ZW50cyI6IHRydWUsCiAgImNvbG9yIjogImJsdWUiLAogICJkYXNoQXJyYXkiOiBudWxsLAogICJkYXNoT2Zmc2V0IjogbnVsbCwKICAiZmlsbCI6IHRydWUsCiAgImZpbGxDb2xvciI6ICIjMzE4NmNjIiwKICAiZmlsbE9wYWNpdHkiOiAwLjcsCiAgImZpbGxSdWxlIjogImV2ZW5vZGQiLAogICJsaW5lQ2FwIjogInJvdW5kIiwKICAibGluZUpvaW4iOiAicm91bmQiLAogICJvcGFjaXR5IjogMS4wLAogICJyYWRpdXMiOiA1LAogICJzdHJva2UiOiB0cnVlLAogICJ3ZWlnaHQiOiAzCn0KICAgICAgICAgICAgICAgICkuYWRkVG8obWFwXzJiZmQzNjU1Y2I0YzQ2MTRiYjNjZWM4ZGY0N2E2YzI5KTsKICAgICAgICAgICAgCiAgICAKICAgICAgICAgICAgdmFyIHBvcHVwXzE5NGU5N2Q0MjVmNzQwZDdhNjZiOTIyOWU0Yzc0MTc0ID0gTC5wb3B1cCh7bWF4V2lkdGg6ICczMDAnfSk7CgogICAgICAgICAgICAKICAgICAgICAgICAgICAgIHZhciBodG1sXzRjMTcxMmJiMTYyODRhNTM4NTQ1YmFiNzllMDczZTU4ID0gJCgnPGRpdiBpZD0iaHRtbF80YzE3MTJiYjE2Mjg0YTUzODU0NWJhYjc5ZTA3M2U1OCIgc3R5bGU9IndpZHRoOiAxMDAuMCU7IGhlaWdodDogMTAwLjAlOyI+Tm9ydGggU2lkZTwvZGl2PicpWzBdOwogICAgICAgICAgICAgICAgcG9wdXBfMTk0ZTk3ZDQyNWY3NDBkN2E2NmI5MjI5ZTRjNzQxNzQuc2V0Q29udGVudChodG1sXzRjMTcxMmJiMTYyODRhNTM4NTQ1YmFiNzllMDczZTU4KTsKICAgICAgICAgICAgCgogICAgICAgICAgICBjaXJjbGVfbWFya2VyX2IxYTg5YzYzNmQ2OTRjODU5ZGE4NTYzM2FiOTQ3M2EwLmJpbmRQb3B1cChwb3B1cF8xOTRlOTdkNDI1Zjc0MGQ3YTY2YjkyMjllNGM3NDE3NCk7CgogICAgICAgICAgICAKICAgICAgICAKICAgIAogICAgICAgICAgICB2YXIgY2lyY2xlX21hcmtlcl8zMWNmNThhMjdjMjQ0MmM4OTRkNDFkMzcyYTY1MWM0NSA9IEwuY2lyY2xlTWFya2VyKAogICAgICAgICAgICAgICAgWzQwLjcxMDg2MTQ3MjY1MDY0LC03My45NTgwMDA5NTE1MzMzMV0sCiAgICAgICAgICAgICAgICB7CiAgImJ1YmJsaW5nTW91c2VFdmVudHMiOiB0cnVlLAogICJjb2xvciI6ICJibHVlIiwKICAiZGFzaEFycmF5IjogbnVsbCwKICAiZGFzaE9mZnNldCI6IG51bGwsCiAgImZpbGwiOiB0cnVlLAogICJmaWxsQ29sb3IiOiAiIzMxODZjYyIsCiAgImZpbGxPcGFjaXR5IjogMC43LAogICJmaWxsUnVsZSI6ICJldmVub2RkIiwKICAibGluZUNhcCI6ICJyb3VuZCIsCiAgImxpbmVKb2luIjogInJvdW5kIiwKICAib3BhY2l0eSI6IDEuMCwKICAicmFkaXVzIjogNSwKICAic3Ryb2tlIjogdHJ1ZSwKICAid2VpZ2h0IjogMwp9CiAgICAgICAgICAgICAgICApLmFkZFRvKG1hcF8yYmZkMzY1NWNiNGM0NjE0YmIzY2VjOGRmNDdhNmMyOSk7CiAgICAgICAgICAgIAogICAgCiAgICAgICAgICAgIHZhciBwb3B1cF81ODcxMzQxMDVhYTE0OTAyOWYyZWJkODQ0ZTliOTQ3YyA9IEwucG9wdXAoe21heFdpZHRoOiAnMzAwJ30pOwoKICAgICAgICAgICAgCiAgICAgICAgICAgICAgICB2YXIgaHRtbF84Njk4MDNlZGU2MWY0YmY5YjliNmQyYzU2OWVjYWQ1YSA9ICQoJzxkaXYgaWQ9Imh0bWxfODY5ODAzZWRlNjFmNGJmOWI5YjZkMmM1NjllY2FkNWEiIHN0eWxlPSJ3aWR0aDogMTAwLjAlOyBoZWlnaHQ6IDEwMC4wJTsiPlNvdXRoIFNpZGU8L2Rpdj4nKVswXTsKICAgICAgICAgICAgICAgIHBvcHVwXzU4NzEzNDEwNWFhMTQ5MDI5ZjJlYmQ4NDRlOWI5NDdjLnNldENvbnRlbnQoaHRtbF84Njk4MDNlZGU2MWY0YmY5YjliNmQyYzU2OWVjYWQ1YSk7CiAgICAgICAgICAgIAoKICAgICAgICAgICAgY2lyY2xlX21hcmtlcl8zMWNmNThhMjdjMjQ0MmM4OTRkNDFkMzcyYTY1MWM0NS5iaW5kUG9wdXAocG9wdXBfNTg3MTM0MTA1YWExNDkwMjlmMmViZDg0NGU5Yjk0N2MpOwoKICAgICAgICAgICAgCiAgICAgICAgCiAgICAKICAgICAgICAgICAgdmFyIGNpcmNsZV9tYXJrZXJfNTdkYzYwODBjY2EyNGM1ZjhkOTBmNDIyNzIyMzhlOGQgPSBMLmNpcmNsZU1hcmtlcigKICAgICAgICAgICAgICAgIFs0MC42MTMwNTk3NjY2Nzk0MiwtNzMuOTY4MzY2NzgwMzU1NDFdLAogICAgICAgICAgICAgICAgewogICJidWJibGluZ01vdXNlRXZlbnRzIjogdHJ1ZSwKICAiY29sb3IiOiAiYmx1ZSIsCiAgImRhc2hBcnJheSI6IG51bGwsCiAgImRhc2hPZmZzZXQiOiBudWxsLAogICJmaWxsIjogdHJ1ZSwKICAiZmlsbENvbG9yIjogIiMzMTg2Y2MiLAogICJmaWxsT3BhY2l0eSI6IDAuNywKICAiZmlsbFJ1bGUiOiAiZXZlbm9kZCIsCiAgImxpbmVDYXAiOiAicm91bmQiLAogICJsaW5lSm9pbiI6ICJyb3VuZCIsCiAgIm9wYWNpdHkiOiAxLjAsCiAgInJhZGl1cyI6IDUsCiAgInN0cm9rZSI6IHRydWUsCiAgIndlaWdodCI6IDMKfQogICAgICAgICAgICAgICAgKS5hZGRUbyhtYXBfMmJmZDM2NTVjYjRjNDYxNGJiM2NlYzhkZjQ3YTZjMjkpOwogICAgICAgICAgICAKICAgIAogICAgICAgICAgICB2YXIgcG9wdXBfNWM4ZWJiOWQ4OWUzNGVjNDg3YjYwMDJmMTBlODk0NTQgPSBMLnBvcHVwKHttYXhXaWR0aDogJzMwMCd9KTsKCiAgICAgICAgICAgIAogICAgICAgICAgICAgICAgdmFyIGh0bWxfMGNmZjJmYjVjOGRlNDgxZjk0NTI4MThiNGE2NzA5OTYgPSAkKCc8ZGl2IGlkPSJodG1sXzBjZmYyZmI1YzhkZTQ4MWY5NDUyODE4YjRhNjcwOTk2IiBzdHlsZT0id2lkdGg6IDEwMC4wJTsgaGVpZ2h0OiAxMDAuMCU7Ij5PY2VhbiBQYXJrd2F5PC9kaXY+JylbMF07CiAgICAgICAgICAgICAgICBwb3B1cF81YzhlYmI5ZDg5ZTM0ZWM0ODdiNjAwMmYxMGU4OTQ1NC5zZXRDb250ZW50KGh0bWxfMGNmZjJmYjVjOGRlNDgxZjk0NTI4MThiNGE2NzA5OTYpOwogICAgICAgICAgICAKCiAgICAgICAgICAgIGNpcmNsZV9tYXJrZXJfNTdkYzYwODBjY2EyNGM1ZjhkOTBmNDIyNzIyMzhlOGQuYmluZFBvcHVwKHBvcHVwXzVjOGViYjlkODllMzRlYzQ4N2I2MDAyZjEwZTg5NDU0KTsKCiAgICAgICAgICAgIAogICAgICAgIAogICAgCiAgICAgICAgICAgIHZhciBjaXJjbGVfbWFya2VyXzNhYWFlMmYyZTRjZjQzMWNhOGVhYmVlMzI1MThiMTI2ID0gTC5jaXJjbGVNYXJrZXIoCiAgICAgICAgICAgICAgICBbNDAuNjE0NzY4MTI2OTQyMjYsLTc0LjAzMTk3OTE0NTM3OTg0XSwKICAgICAgICAgICAgICAgIHsKICAiYnViYmxpbmdNb3VzZUV2ZW50cyI6IHRydWUsCiAgImNvbG9yIjogImJsdWUiLAogICJkYXNoQXJyYXkiOiBudWxsLAogICJkYXNoT2Zmc2V0IjogbnVsbCwKICAiZmlsbCI6IHRydWUsCiAgImZpbGxDb2xvciI6ICIjMzE4NmNjIiwKICAiZmlsbE9wYWNpdHkiOiAwLjcsCiAgImZpbGxSdWxlIjogImV2ZW5vZGQiLAogICJsaW5lQ2FwIjogInJvdW5kIiwKICAibGluZUpvaW4iOiAicm91bmQiLAogICJvcGFjaXR5IjogMS4wLAogICJyYWRpdXMiOiA1LAogICJzdHJva2UiOiB0cnVlLAogICJ3ZWlnaHQiOiAzCn0KICAgICAgICAgICAgICAgICkuYWRkVG8obWFwXzJiZmQzNjU1Y2I0YzQ2MTRiYjNjZWM4ZGY0N2E2YzI5KTsKICAgICAgICAgICAgCiAgICAKICAgICAgICAgICAgdmFyIHBvcHVwXzg4MmI4NTYyMzZmYzQ5ZTQ5Njk5MWEwZjRkZTFmNjUxID0gTC5wb3B1cCh7bWF4V2lkdGg6ICczMDAnfSk7CgogICAgICAgICAgICAKICAgICAgICAgICAgICAgIHZhciBodG1sX2EwOWJkNzFkYmJmOTRlZjc5Yzc2NzMzMDRhMDM0NzNiID0gJCgnPGRpdiBpZD0iaHRtbF9hMDliZDcxZGJiZjk0ZWY3OWM3NjczMzA0YTAzNDczYiIgc3R5bGU9IndpZHRoOiAxMDAuMCU7IGhlaWdodDogMTAwLjAlOyI+Rm9ydCBIYW1pbHRvbjwvZGl2PicpWzBdOwogICAgICAgICAgICAgICAgcG9wdXBfODgyYjg1NjIzNmZjNDllNDk2OTkxYTBmNGRlMWY2NTEuc2V0Q29udGVudChodG1sX2EwOWJkNzFkYmJmOTRlZjc5Yzc2NzMzMDRhMDM0NzNiKTsKICAgICAgICAgICAgCgogICAgICAgICAgICBjaXJjbGVfbWFya2VyXzNhYWFlMmYyZTRjZjQzMWNhOGVhYmVlMzI1MThiMTI2LmJpbmRQb3B1cChwb3B1cF84ODJiODU2MjM2ZmM0OWU0OTY5OTFhMGY0ZGUxZjY1MSk7CgogICAgICAgICAgICAKICAgICAgICAKICAgIAogICAgICAgICAgICB2YXIgY2lyY2xlX21hcmtlcl8wODVhZWYxN2IzMjk0NDAzOTE0ZGE1ZTViNWYwMGM0NiA9IEwuY2lyY2xlTWFya2VyKAogICAgICAgICAgICAgICAgWzQwLjY0MzY3NTE4MzM0MDk3NCwtNzMuOTYxMDEzMTI0NjY3NzldLAogICAgICAgICAgICAgICAgewogICJidWJibGluZ01vdXNlRXZlbnRzIjogdHJ1ZSwKICAiY29sb3IiOiAiYmx1ZSIsCiAgImRhc2hBcnJheSI6IG51bGwsCiAgImRhc2hPZmZzZXQiOiBudWxsLAogICJmaWxsIjogdHJ1ZSwKICAiZmlsbENvbG9yIjogIiMzMTg2Y2MiLAogICJmaWxsT3BhY2l0eSI6IDAuNywKICAiZmlsbFJ1bGUiOiAiZXZlbm9kZCIsCiAgImxpbmVDYXAiOiAicm91bmQiLAogICJsaW5lSm9pbiI6ICJyb3VuZCIsCiAgIm9wYWNpdHkiOiAxLjAsCiAgInJhZGl1cyI6IDUsCiAgInN0cm9rZSI6IHRydWUsCiAgIndlaWdodCI6IDMKfQogICAgICAgICAgICAgICAgKS5hZGRUbyhtYXBfMmJmZDM2NTVjYjRjNDYxNGJiM2NlYzhkZjQ3YTZjMjkpOwogICAgICAgICAgICAKICAgIAogICAgICAgICAgICB2YXIgcG9wdXBfZGMxZWE4YzUyMzhkNGYyMTk3YTNjMjk0ZjY2OWM5MDggPSBMLnBvcHVwKHttYXhXaWR0aDogJzMwMCd9KTsKCiAgICAgICAgICAgIAogICAgICAgICAgICAgICAgdmFyIGh0bWxfZjA0OTRkYzM3Yzk2NDM2Yzk2MmViNzQ4MzExYzlmYWUgPSAkKCc8ZGl2IGlkPSJodG1sX2YwNDk0ZGMzN2M5NjQzNmM5NjJlYjc0ODMxMWM5ZmFlIiBzdHlsZT0id2lkdGg6IDEwMC4wJTsgaGVpZ2h0OiAxMDAuMCU7Ij5EaXRtYXMgUGFyazwvZGl2PicpWzBdOwogICAgICAgICAgICAgICAgcG9wdXBfZGMxZWE4YzUyMzhkNGYyMTk3YTNjMjk0ZjY2OWM5MDguc2V0Q29udGVudChodG1sX2YwNDk0ZGMzN2M5NjQzNmM5NjJlYjc0ODMxMWM5ZmFlKTsKICAgICAgICAgICAgCgogICAgICAgICAgICBjaXJjbGVfbWFya2VyXzA4NWFlZjE3YjMyOTQ0MDM5MTRkYTVlNWI1ZjAwYzQ2LmJpbmRQb3B1cChwb3B1cF9kYzFlYThjNTIzOGQ0ZjIxOTdhM2MyOTRmNjY5YzkwOCk7CgogICAgICAgICAgICAKICAgICAgICAKICAgIAogICAgICAgICAgICB2YXIgY2lyY2xlX21hcmtlcl9mNTA4MTNmMzJiODA0YjhiOTI0YWNjOWU1NzdmNzY4NCA9IEwuY2lyY2xlTWFya2VyKAogICAgICAgICAgICAgICAgWzQwLjY2MDk0NjU2MTg4MTExLC03My45MzcxODY4MDU1OTMxNF0sCiAgICAgICAgICAgICAgICB7CiAgImJ1YmJsaW5nTW91c2VFdmVudHMiOiB0cnVlLAogICJjb2xvciI6ICJibHVlIiwKICAiZGFzaEFycmF5IjogbnVsbCwKICAiZGFzaE9mZnNldCI6IG51bGwsCiAgImZpbGwiOiB0cnVlLAogICJmaWxsQ29sb3IiOiAiIzMxODZjYyIsCiAgImZpbGxPcGFjaXR5IjogMC43LAogICJmaWxsUnVsZSI6ICJldmVub2RkIiwKICAibGluZUNhcCI6ICJyb3VuZCIsCiAgImxpbmVKb2luIjogInJvdW5kIiwKICAib3BhY2l0eSI6IDEuMCwKICAicmFkaXVzIjogNSwKICAic3Ryb2tlIjogdHJ1ZSwKICAid2VpZ2h0IjogMwp9CiAgICAgICAgICAgICAgICApLmFkZFRvKG1hcF8yYmZkMzY1NWNiNGM0NjE0YmIzY2VjOGRmNDdhNmMyOSk7CiAgICAgICAgICAgIAogICAgCiAgICAgICAgICAgIHZhciBwb3B1cF81MDliM2U4MDIxYjU0MGRkOWIzMmZhYWVjYzdlN2RhYyA9IEwucG9wdXAoe21heFdpZHRoOiAnMzAwJ30pOwoKICAgICAgICAgICAgCiAgICAgICAgICAgICAgICB2YXIgaHRtbF9lZjM4NThjYjJmYWQ0YzkwYmVlNzgxZDc4ODBiNjE3NCA9ICQoJzxkaXYgaWQ9Imh0bWxfZWYzODU4Y2IyZmFkNGM5MGJlZTc4MWQ3ODgwYjYxNzQiIHN0eWxlPSJ3aWR0aDogMTAwLjAlOyBoZWlnaHQ6IDEwMC4wJTsiPldpbmdhdGU8L2Rpdj4nKVswXTsKICAgICAgICAgICAgICAgIHBvcHVwXzUwOWIzZTgwMjFiNTQwZGQ5YjMyZmFhZWNjN2U3ZGFjLnNldENvbnRlbnQoaHRtbF9lZjM4NThjYjJmYWQ0YzkwYmVlNzgxZDc4ODBiNjE3NCk7CiAgICAgICAgICAgIAoKICAgICAgICAgICAgY2lyY2xlX21hcmtlcl9mNTA4MTNmMzJiODA0YjhiOTI0YWNjOWU1NzdmNzY4NC5iaW5kUG9wdXAocG9wdXBfNTA5YjNlODAyMWI1NDBkZDliMzJmYWFlY2M3ZTdkYWMpOwoKICAgICAgICAgICAgCiAgICAgICAgCiAgICAKICAgICAgICAgICAgdmFyIGNpcmNsZV9tYXJrZXJfNzJhMzg3NDAxZTdkNDI2NDgyYmJmODBhYTg0NmFjMDQgPSBMLmNpcmNsZU1hcmtlcigKICAgICAgICAgICAgICAgIFs0MC42NTU1NzIzMTMyODA3NjQsLTczLjkyNjg4MjEyNjE2OTU1XSwKICAgICAgICAgICAgICAgIHsKICAiYnViYmxpbmdNb3VzZUV2ZW50cyI6IHRydWUsCiAgImNvbG9yIjogImJsdWUiLAogICJkYXNoQXJyYXkiOiBudWxsLAogICJkYXNoT2Zmc2V0IjogbnVsbCwKICAiZmlsbCI6IHRydWUsCiAgImZpbGxDb2xvciI6ICIjMzE4NmNjIiwKICAiZmlsbE9wYWNpdHkiOiAwLjcsCiAgImZpbGxSdWxlIjogImV2ZW5vZGQiLAogICJsaW5lQ2FwIjogInJvdW5kIiwKICAibGluZUpvaW4iOiAicm91bmQiLAogICJvcGFjaXR5IjogMS4wLAogICJyYWRpdXMiOiA1LAogICJzdHJva2UiOiB0cnVlLAogICJ3ZWlnaHQiOiAzCn0KICAgICAgICAgICAgICAgICkuYWRkVG8obWFwXzJiZmQzNjU1Y2I0YzQ2MTRiYjNjZWM4ZGY0N2E2YzI5KTsKICAgICAgICAgICAgCiAgICAKICAgICAgICAgICAgdmFyIHBvcHVwXzIwOTAxYWM2ZTZiNTQ1MDk4ODAyYmY0ZjY4NjdjMTMxID0gTC5wb3B1cCh7bWF4V2lkdGg6ICczMDAnfSk7CgogICAgICAgICAgICAKICAgICAgICAgICAgICAgIHZhciBodG1sXzJkNmNhZDVlMDg0OTQ0MTBhM2IxYTcwYzMyZjM5ZThkID0gJCgnPGRpdiBpZD0iaHRtbF8yZDZjYWQ1ZTA4NDk0NDEwYTNiMWE3MGMzMmYzOWU4ZCIgc3R5bGU9IndpZHRoOiAxMDAuMCU7IGhlaWdodDogMTAwLjAlOyI+UnVnYnk8L2Rpdj4nKVswXTsKICAgICAgICAgICAgICAgIHBvcHVwXzIwOTAxYWM2ZTZiNTQ1MDk4ODAyYmY0ZjY4NjdjMTMxLnNldENvbnRlbnQoaHRtbF8yZDZjYWQ1ZTA4NDk0NDEwYTNiMWE3MGMzMmYzOWU4ZCk7CiAgICAgICAgICAgIAoKICAgICAgICAgICAgY2lyY2xlX21hcmtlcl83MmEzODc0MDFlN2Q0MjY0ODJiYmY4MGFhODQ2YWMwNC5iaW5kUG9wdXAocG9wdXBfMjA5MDFhYzZlNmI1NDUwOTg4MDJiZjRmNjg2N2MxMzEpOwoKICAgICAgICAgICAgCiAgICAgICAgCiAgICAKICAgICAgICAgICAgdmFyIGNpcmNsZV9tYXJrZXJfMGQwMDMxMzRmYWI3NDJjZGFiOGE3Yzk4ZTY2MzVjYWYgPSBMLmNpcmNsZU1hcmtlcigKICAgICAgICAgICAgICAgIFs0MC42NTIxMTc0NTE3OTM0OTQsLTczLjkxNjY1MzMxOTc4MDQ4XSwKICAgICAgICAgICAgICAgIHsKICAiYnViYmxpbmdNb3VzZUV2ZW50cyI6IHRydWUsCiAgImNvbG9yIjogImJsdWUiLAogICJkYXNoQXJyYXkiOiBudWxsLAogICJkYXNoT2Zmc2V0IjogbnVsbCwKICAiZmlsbCI6IHRydWUsCiAgImZpbGxDb2xvciI6ICIjMzE4NmNjIiwKICAiZmlsbE9wYWNpdHkiOiAwLjcsCiAgImZpbGxSdWxlIjogImV2ZW5vZGQiLAogICJsaW5lQ2FwIjogInJvdW5kIiwKICAibGluZUpvaW4iOiAicm91bmQiLAogICJvcGFjaXR5IjogMS4wLAogICJyYWRpdXMiOiA1LAogICJzdHJva2UiOiB0cnVlLAogICJ3ZWlnaHQiOiAzCn0KICAgICAgICAgICAgICAgICkuYWRkVG8obWFwXzJiZmQzNjU1Y2I0YzQ2MTRiYjNjZWM4ZGY0N2E2YzI5KTsKICAgICAgICAgICAgCiAgICAKICAgICAgICAgICAgdmFyIHBvcHVwXzcwZmNmYzJkYjA3NDQ1MzViZjc3YWFlZmExOTk5NWQ4ID0gTC5wb3B1cCh7bWF4V2lkdGg6ICczMDAnfSk7CgogICAgICAgICAgICAKICAgICAgICAgICAgICAgIHZhciBodG1sXzlmN2ZkZWQzNWRmMDRjMzc4OTk4NzljZmE0OWM0ODllID0gJCgnPGRpdiBpZD0iaHRtbF85ZjdmZGVkMzVkZjA0YzM3ODk5ODc5Y2ZhNDljNDg5ZSIgc3R5bGU9IndpZHRoOiAxMDAuMCU7IGhlaWdodDogMTAwLjAlOyI+UmVtc2VuIFZpbGxhZ2U8L2Rpdj4nKVswXTsKICAgICAgICAgICAgICAgIHBvcHVwXzcwZmNmYzJkYjA3NDQ1MzViZjc3YWFlZmExOTk5NWQ4LnNldENvbnRlbnQoaHRtbF85ZjdmZGVkMzVkZjA0YzM3ODk5ODc5Y2ZhNDljNDg5ZSk7CiAgICAgICAgICAgIAoKICAgICAgICAgICAgY2lyY2xlX21hcmtlcl8wZDAwMzEzNGZhYjc0MmNkYWI4YTdjOThlNjYzNWNhZi5iaW5kUG9wdXAocG9wdXBfNzBmY2ZjMmRiMDc0NDUzNWJmNzdhYWVmYTE5OTk1ZDgpOwoKICAgICAgICAgICAgCiAgICAgICAgCiAgICAKICAgICAgICAgICAgdmFyIGNpcmNsZV9tYXJrZXJfNzE1MzUzMGYzNDMyNDhjNmI1OGYzNzNhNzc4YTIzMTUgPSBMLmNpcmNsZU1hcmtlcigKICAgICAgICAgICAgICAgIFs0MC42NjI3NDQyNzk2OTY2LC03My44ODUxMTc3NjM3OTI5Ml0sCiAgICAgICAgICAgICAgICB7CiAgImJ1YmJsaW5nTW91c2VFdmVudHMiOiB0cnVlLAogICJjb2xvciI6ICJibHVlIiwKICAiZGFzaEFycmF5IjogbnVsbCwKICAiZGFzaE9mZnNldCI6IG51bGwsCiAgImZpbGwiOiB0cnVlLAogICJmaWxsQ29sb3IiOiAiIzMxODZjYyIsCiAgImZpbGxPcGFjaXR5IjogMC43LAogICJmaWxsUnVsZSI6ICJldmVub2RkIiwKICAibGluZUNhcCI6ICJyb3VuZCIsCiAgImxpbmVKb2luIjogInJvdW5kIiwKICAib3BhY2l0eSI6IDEuMCwKICAicmFkaXVzIjogNSwKICAic3Ryb2tlIjogdHJ1ZSwKICAid2VpZ2h0IjogMwp9CiAgICAgICAgICAgICAgICApLmFkZFRvKG1hcF8yYmZkMzY1NWNiNGM0NjE0YmIzY2VjOGRmNDdhNmMyOSk7CiAgICAgICAgICAgIAogICAgCiAgICAgICAgICAgIHZhciBwb3B1cF9kZTJiYzQyZTI1ZDk0NGI1YTZkYzA4NGRlNjQ2ZGZjOCA9IEwucG9wdXAoe21heFdpZHRoOiAnMzAwJ30pOwoKICAgICAgICAgICAgCiAgICAgICAgICAgICAgICB2YXIgaHRtbF9mYTdiMmVhM2JiNjI0ZDVmYjk2NWFkYjcwMzRmNjhiZSA9ICQoJzxkaXYgaWQ9Imh0bWxfZmE3YjJlYTNiYjYyNGQ1ZmI5NjVhZGI3MDM0ZjY4YmUiIHN0eWxlPSJ3aWR0aDogMTAwLjAlOyBoZWlnaHQ6IDEwMC4wJTsiPk5ldyBMb3RzPC9kaXY+JylbMF07CiAgICAgICAgICAgICAgICBwb3B1cF9kZTJiYzQyZTI1ZDk0NGI1YTZkYzA4NGRlNjQ2ZGZjOC5zZXRDb250ZW50KGh0bWxfZmE3YjJlYTNiYjYyNGQ1ZmI5NjVhZGI3MDM0ZjY4YmUpOwogICAgICAgICAgICAKCiAgICAgICAgICAgIGNpcmNsZV9tYXJrZXJfNzE1MzUzMGYzNDMyNDhjNmI1OGYzNzNhNzc4YTIzMTUuYmluZFBvcHVwKHBvcHVwX2RlMmJjNDJlMjVkOTQ0YjVhNmRjMDg0ZGU2NDZkZmM4KTsKCiAgICAgICAgICAgIAogICAgICAgIAogICAgCiAgICAgICAgICAgIHZhciBjaXJjbGVfbWFya2VyX2Y4NzhkZDhjZDRlYTRjNGRhZjVmZWI2YTk2NDY2MGM2ID0gTC5jaXJjbGVNYXJrZXIoCiAgICAgICAgICAgICAgICBbNDAuNjMxMzE3NTUwMzk2NjcsLTczLjkwMjMzNDc0Mjk1ODM2XSwKICAgICAgICAgICAgICAgIHsKICAiYnViYmxpbmdNb3VzZUV2ZW50cyI6IHRydWUsCiAgImNvbG9yIjogImJsdWUiLAogICJkYXNoQXJyYXkiOiBudWxsLAogICJkYXNoT2Zmc2V0IjogbnVsbCwKICAiZmlsbCI6IHRydWUsCiAgImZpbGxDb2xvciI6ICIjMzE4NmNjIiwKICAiZmlsbE9wYWNpdHkiOiAwLjcsCiAgImZpbGxSdWxlIjogImV2ZW5vZGQiLAogICJsaW5lQ2FwIjogInJvdW5kIiwKICAibGluZUpvaW4iOiAicm91bmQiLAogICJvcGFjaXR5IjogMS4wLAogICJyYWRpdXMiOiA1LAogICJzdHJva2UiOiB0cnVlLAogICJ3ZWlnaHQiOiAzCn0KICAgICAgICAgICAgICAgICkuYWRkVG8obWFwXzJiZmQzNjU1Y2I0YzQ2MTRiYjNjZWM4ZGY0N2E2YzI5KTsKICAgICAgICAgICAgCiAgICAKICAgICAgICAgICAgdmFyIHBvcHVwX2U5NjhlZDM0Y2ZiODQ5MjhhMDNjOTIwMzUxZmVlZTA3ID0gTC5wb3B1cCh7bWF4V2lkdGg6ICczMDAnfSk7CgogICAgICAgICAgICAKICAgICAgICAgICAgICAgIHZhciBodG1sXzY1MDA1NjQ4OWRmZDRlYWY5MTZiZjg4MTc2MDg4MWJiID0gJCgnPGRpdiBpZD0iaHRtbF82NTAwNTY0ODlkZmQ0ZWFmOTE2YmY4ODE3NjA4ODFiYiIgc3R5bGU9IndpZHRoOiAxMDAuMCU7IGhlaWdodDogMTAwLjAlOyI+UGFlcmRlZ2F0IEJhc2luPC9kaXY+JylbMF07CiAgICAgICAgICAgICAgICBwb3B1cF9lOTY4ZWQzNGNmYjg0OTI4YTAzYzkyMDM1MWZlZWUwNy5zZXRDb250ZW50KGh0bWxfNjUwMDU2NDg5ZGZkNGVhZjkxNmJmODgxNzYwODgxYmIpOwogICAgICAgICAgICAKCiAgICAgICAgICAgIGNpcmNsZV9tYXJrZXJfZjg3OGRkOGNkNGVhNGM0ZGFmNWZlYjZhOTY0NjYwYzYuYmluZFBvcHVwKHBvcHVwX2U5NjhlZDM0Y2ZiODQ5MjhhMDNjOTIwMzUxZmVlZTA3KTsKCiAgICAgICAgICAgIAogICAgICAgIAogICAgCiAgICAgICAgICAgIHZhciBjaXJjbGVfbWFya2VyX2M3MDQ5ZjIzOTU5YTQ5MWJiOWI5MjczMjI0NWMwMmViID0gTC5jaXJjbGVNYXJrZXIoCiAgICAgICAgICAgICAgICBbNDAuNjE1OTc0MjM5NjIzMzYsLTczLjkxNTE1MzkxNTUwNDA0XSwKICAgICAgICAgICAgICAgIHsKICAiYnViYmxpbmdNb3VzZUV2ZW50cyI6IHRydWUsCiAgImNvbG9yIjogImJsdWUiLAogICJkYXNoQXJyYXkiOiBudWxsLAogICJkYXNoT2Zmc2V0IjogbnVsbCwKICAiZmlsbCI6IHRydWUsCiAgImZpbGxDb2xvciI6ICIjMzE4NmNjIiwKICAiZmlsbE9wYWNpdHkiOiAwLjcsCiAgImZpbGxSdWxlIjogImV2ZW5vZGQiLAogICJsaW5lQ2FwIjogInJvdW5kIiwKICAibGluZUpvaW4iOiAicm91bmQiLAogICJvcGFjaXR5IjogMS4wLAogICJyYWRpdXMiOiA1LAogICJzdHJva2UiOiB0cnVlLAogICJ3ZWlnaHQiOiAzCn0KICAgICAgICAgICAgICAgICkuYWRkVG8obWFwXzJiZmQzNjU1Y2I0YzQ2MTRiYjNjZWM4ZGY0N2E2YzI5KTsKICAgICAgICAgICAgCiAgICAKICAgICAgICAgICAgdmFyIHBvcHVwX2ZjNWRhOTYyMzFlZTQxMGRiNjAzNjA4Y2I5YTk3OWRhID0gTC5wb3B1cCh7bWF4V2lkdGg6ICczMDAnfSk7CgogICAgICAgICAgICAKICAgICAgICAgICAgICAgIHZhciBodG1sX2IyMjY2YzQyMDNiMzRiZWU4NWFjNGM3NWVkMjdlZWU5ID0gJCgnPGRpdiBpZD0iaHRtbF9iMjI2NmM0MjAzYjM0YmVlODVhYzRjNzVlZDI3ZWVlOSIgc3R5bGU9IndpZHRoOiAxMDAuMCU7IGhlaWdodDogMTAwLjAlOyI+TWlsbCBCYXNpbjwvZGl2PicpWzBdOwogICAgICAgICAgICAgICAgcG9wdXBfZmM1ZGE5NjIzMWVlNDEwZGI2MDM2MDhjYjlhOTc5ZGEuc2V0Q29udGVudChodG1sX2IyMjY2YzQyMDNiMzRiZWU4NWFjNGM3NWVkMjdlZWU5KTsKICAgICAgICAgICAgCgogICAgICAgICAgICBjaXJjbGVfbWFya2VyX2M3MDQ5ZjIzOTU5YTQ5MWJiOWI5MjczMjI0NWMwMmViLmJpbmRQb3B1cChwb3B1cF9mYzVkYTk2MjMxZWU0MTBkYjYwMzYwOGNiOWE5NzlkYSk7CgogICAgICAgICAgICAKICAgICAgICAKICAgIAogICAgICAgICAgICB2YXIgY2lyY2xlX21hcmtlcl80MjUwNWZiY2Q5NWI0NDQ4ODQ4ZTlhNmQ1MzY3MDVmOSA9IEwuY2lyY2xlTWFya2VyKAogICAgICAgICAgICAgICAgWzQwLjcwMzI4MTA5MDkzMDE0LC03My45OTU1MDc1MTg4ODQxNV0sCiAgICAgICAgICAgICAgICB7CiAgImJ1YmJsaW5nTW91c2VFdmVudHMiOiB0cnVlLAogICJjb2xvciI6ICJibHVlIiwKICAiZGFzaEFycmF5IjogbnVsbCwKICAiZGFzaE9mZnNldCI6IG51bGwsCiAgImZpbGwiOiB0cnVlLAogICJmaWxsQ29sb3IiOiAiIzMxODZjYyIsCiAgImZpbGxPcGFjaXR5IjogMC43LAogICJmaWxsUnVsZSI6ICJldmVub2RkIiwKICAibGluZUNhcCI6ICJyb3VuZCIsCiAgImxpbmVKb2luIjogInJvdW5kIiwKICAib3BhY2l0eSI6IDEuMCwKICAicmFkaXVzIjogNSwKICAic3Ryb2tlIjogdHJ1ZSwKICAid2VpZ2h0IjogMwp9CiAgICAgICAgICAgICAgICApLmFkZFRvKG1hcF8yYmZkMzY1NWNiNGM0NjE0YmIzY2VjOGRmNDdhNmMyOSk7CiAgICAgICAgICAgIAogICAgCiAgICAgICAgICAgIHZhciBwb3B1cF9lYjcwYTBlMGU4M2E0NzNmOTlkNjY2YWQzZWIwNzYwNyA9IEwucG9wdXAoe21heFdpZHRoOiAnMzAwJ30pOwoKICAgICAgICAgICAgCiAgICAgICAgICAgICAgICB2YXIgaHRtbF81OTBlOGM0ZGI0NDA0OWU0OTM3MmU5ZjM3OWMzNjFiOCA9ICQoJzxkaXYgaWQ9Imh0bWxfNTkwZThjNGRiNDQwNDllNDkzNzJlOWYzNzljMzYxYjgiIHN0eWxlPSJ3aWR0aDogMTAwLjAlOyBoZWlnaHQ6IDEwMC4wJTsiPkZ1bHRvbiBGZXJyeTwvZGl2PicpWzBdOwogICAgICAgICAgICAgICAgcG9wdXBfZWI3MGEwZTBlODNhNDczZjk5ZDY2NmFkM2ViMDc2MDcuc2V0Q29udGVudChodG1sXzU5MGU4YzRkYjQ0MDQ5ZTQ5MzcyZTlmMzc5YzM2MWI4KTsKICAgICAgICAgICAgCgogICAgICAgICAgICBjaXJjbGVfbWFya2VyXzQyNTA1ZmJjZDk1YjQ0NDg4NDhlOWE2ZDUzNjcwNWY5LmJpbmRQb3B1cChwb3B1cF9lYjcwYTBlMGU4M2E0NzNmOTlkNjY2YWQzZWIwNzYwNyk7CgogICAgICAgICAgICAKICAgICAgICAKICAgIAogICAgICAgICAgICB2YXIgY2lyY2xlX21hcmtlcl84ZGFmZTQ3ZDdlZjQ0NzIyYWU3MzAyZjJkODY0YmI5YyA9IEwuY2lyY2xlTWFya2VyKAogICAgICAgICAgICAgICAgWzQwLjcwMzMyMTQ5ODgyODc0LC03My45ODExMTYwMzU5MjM5M10sCiAgICAgICAgICAgICAgICB7CiAgImJ1YmJsaW5nTW91c2VFdmVudHMiOiB0cnVlLAogICJjb2xvciI6ICJibHVlIiwKICAiZGFzaEFycmF5IjogbnVsbCwKICAiZGFzaE9mZnNldCI6IG51bGwsCiAgImZpbGwiOiB0cnVlLAogICJmaWxsQ29sb3IiOiAiIzMxODZjYyIsCiAgImZpbGxPcGFjaXR5IjogMC43LAogICJmaWxsUnVsZSI6ICJldmVub2RkIiwKICAibGluZUNhcCI6ICJyb3VuZCIsCiAgImxpbmVKb2luIjogInJvdW5kIiwKICAib3BhY2l0eSI6IDEuMCwKICAicmFkaXVzIjogNSwKICAic3Ryb2tlIjogdHJ1ZSwKICAid2VpZ2h0IjogMwp9CiAgICAgICAgICAgICAgICApLmFkZFRvKG1hcF8yYmZkMzY1NWNiNGM0NjE0YmIzY2VjOGRmNDdhNmMyOSk7CiAgICAgICAgICAgIAogICAgCiAgICAgICAgICAgIHZhciBwb3B1cF9mNzhhYzIxYTJhYTY0YTk0OTkyMmVlYzNhY2YyNjMzYiA9IEwucG9wdXAoe21heFdpZHRoOiAnMzAwJ30pOwoKICAgICAgICAgICAgCiAgICAgICAgICAgICAgICB2YXIgaHRtbF84NTJmNjkzYTA0Mzg0ZmMxOGZkNjUxZjk4YzJjYTczNyA9ICQoJzxkaXYgaWQ9Imh0bWxfODUyZjY5M2EwNDM4NGZjMThmZDY1MWY5OGMyY2E3MzciIHN0eWxlPSJ3aWR0aDogMTAwLjAlOyBoZWlnaHQ6IDEwMC4wJTsiPlZpbmVnYXIgSGlsbDwvZGl2PicpWzBdOwogICAgICAgICAgICAgICAgcG9wdXBfZjc4YWMyMWEyYWE2NGE5NDk5MjJlZWMzYWNmMjYzM2Iuc2V0Q29udGVudChodG1sXzg1MmY2OTNhMDQzODRmYzE4ZmQ2NTFmOThjMmNhNzM3KTsKICAgICAgICAgICAgCgogICAgICAgICAgICBjaXJjbGVfbWFya2VyXzhkYWZlNDdkN2VmNDQ3MjJhZTczMDJmMmQ4NjRiYjljLmJpbmRQb3B1cChwb3B1cF9mNzhhYzIxYTJhYTY0YTk0OTkyMmVlYzNhY2YyNjMzYik7CgogICAgICAgICAgICAKICAgICAgICAKICAgIAogICAgICAgICAgICB2YXIgY2lyY2xlX21hcmtlcl8wMzAyZjI3ZmFmNTI0YzYyYWNhYWE4OTJkMGZjOTYxMiA9IEwuY2lyY2xlTWFya2VyKAogICAgICAgICAgICAgICAgWzQwLjY3NTAzOTg2NTAzMjM3LC03My45MzA1MzEwODgxNzMzOF0sCiAgICAgICAgICAgICAgICB7CiAgImJ1YmJsaW5nTW91c2VFdmVudHMiOiB0cnVlLAogICJjb2xvciI6ICJibHVlIiwKICAiZGFzaEFycmF5IjogbnVsbCwKICAiZGFzaE9mZnNldCI6IG51bGwsCiAgImZpbGwiOiB0cnVlLAogICJmaWxsQ29sb3IiOiAiIzMxODZjYyIsCiAgImZpbGxPcGFjaXR5IjogMC43LAogICJmaWxsUnVsZSI6ICJldmVub2RkIiwKICAibGluZUNhcCI6ICJyb3VuZCIsCiAgImxpbmVKb2luIjogInJvdW5kIiwKICAib3BhY2l0eSI6IDEuMCwKICAicmFkaXVzIjogNSwKICAic3Ryb2tlIjogdHJ1ZSwKICAid2VpZ2h0IjogMwp9CiAgICAgICAgICAgICAgICApLmFkZFRvKG1hcF8yYmZkMzY1NWNiNGM0NjE0YmIzY2VjOGRmNDdhNmMyOSk7CiAgICAgICAgICAgIAogICAgCiAgICAgICAgICAgIHZhciBwb3B1cF9hOTNiMGI5NWJjZTM0NzcyOGY1MGQ4ZDljOGViMzk2MSA9IEwucG9wdXAoe21heFdpZHRoOiAnMzAwJ30pOwoKICAgICAgICAgICAgCiAgICAgICAgICAgICAgICB2YXIgaHRtbF82ZGRiNzQyNzRmZTE0N2VjYWNmMzVkYzFkMzM0OTFkYiA9ICQoJzxkaXYgaWQ9Imh0bWxfNmRkYjc0Mjc0ZmUxNDdlY2FjZjM1ZGMxZDMzNDkxZGIiIHN0eWxlPSJ3aWR0aDogMTAwLjAlOyBoZWlnaHQ6IDEwMC4wJTsiPldlZWtzdmlsbGU8L2Rpdj4nKVswXTsKICAgICAgICAgICAgICAgIHBvcHVwX2E5M2IwYjk1YmNlMzQ3NzI4ZjUwZDhkOWM4ZWIzOTYxLnNldENvbnRlbnQoaHRtbF82ZGRiNzQyNzRmZTE0N2VjYWNmMzVkYzFkMzM0OTFkYik7CiAgICAgICAgICAgIAoKICAgICAgICAgICAgY2lyY2xlX21hcmtlcl8wMzAyZjI3ZmFmNTI0YzYyYWNhYWE4OTJkMGZjOTYxMi5iaW5kUG9wdXAocG9wdXBfYTkzYjBiOTViY2UzNDc3MjhmNTBkOGQ5YzhlYjM5NjEpOwoKICAgICAgICAgICAgCiAgICAgICAgCiAgICAKICAgICAgICAgICAgdmFyIGNpcmNsZV9tYXJrZXJfMWJiMmMxNTA1YTI0NDg2YTllZjNjN2EyM2M2ZmEzZjUgPSBMLmNpcmNsZU1hcmtlcigKICAgICAgICAgICAgICAgIFs0MC42Nzc4NjEwNDc2OTUzMSwtNzMuOTAzMzE2ODQ4NTI1OTldLAogICAgICAgICAgICAgICAgewogICJidWJibGluZ01vdXNlRXZlbnRzIjogdHJ1ZSwKICAiY29sb3IiOiAiYmx1ZSIsCiAgImRhc2hBcnJheSI6IG51bGwsCiAgImRhc2hPZmZzZXQiOiBudWxsLAogICJmaWxsIjogdHJ1ZSwKICAiZmlsbENvbG9yIjogIiMzMTg2Y2MiLAogICJmaWxsT3BhY2l0eSI6IDAuNywKICAiZmlsbFJ1bGUiOiAiZXZlbm9kZCIsCiAgImxpbmVDYXAiOiAicm91bmQiLAogICJsaW5lSm9pbiI6ICJyb3VuZCIsCiAgIm9wYWNpdHkiOiAxLjAsCiAgInJhZGl1cyI6IDUsCiAgInN0cm9rZSI6IHRydWUsCiAgIndlaWdodCI6IDMKfQogICAgICAgICAgICAgICAgKS5hZGRUbyhtYXBfMmJmZDM2NTVjYjRjNDYxNGJiM2NlYzhkZjQ3YTZjMjkpOwogICAgICAgICAgICAKICAgIAogICAgICAgICAgICB2YXIgcG9wdXBfZWQ4NjkwYjZiOGExNDI2OGJlNWE4OTE0NzVlYTQ5NTEgPSBMLnBvcHVwKHttYXhXaWR0aDogJzMwMCd9KTsKCiAgICAgICAgICAgIAogICAgICAgICAgICAgICAgdmFyIGh0bWxfNzNlZDU2M2I5YWE5NDJhZThkNjg5NmRhMmZlYmI4NGIgPSAkKCc8ZGl2IGlkPSJodG1sXzczZWQ1NjNiOWFhOTQyYWU4ZDY4OTZkYTJmZWJiODRiIiBzdHlsZT0id2lkdGg6IDEwMC4wJTsgaGVpZ2h0OiAxMDAuMCU7Ij5Ccm9hZHdheSBKdW5jdGlvbjwvZGl2PicpWzBdOwogICAgICAgICAgICAgICAgcG9wdXBfZWQ4NjkwYjZiOGExNDI2OGJlNWE4OTE0NzVlYTQ5NTEuc2V0Q29udGVudChodG1sXzczZWQ1NjNiOWFhOTQyYWU4ZDY4OTZkYTJmZWJiODRiKTsKICAgICAgICAgICAgCgogICAgICAgICAgICBjaXJjbGVfbWFya2VyXzFiYjJjMTUwNWEyNDQ4NmE5ZWYzYzdhMjNjNmZhM2Y1LmJpbmRQb3B1cChwb3B1cF9lZDg2OTBiNmI4YTE0MjY4YmU1YTg5MTQ3NWVhNDk1MSk7CgogICAgICAgICAgICAKICAgICAgICAKICAgIAogICAgICAgICAgICB2YXIgY2lyY2xlX21hcmtlcl8zMzQ4OTY2ODQyOTI0MjMxODE5ODMwNDFmMTg4MmRmMyA9IEwuY2lyY2xlTWFya2VyKAogICAgICAgICAgICAgICAgWzQwLjcwMzE3NjMyODIyNjkyLC03My45ODg3NTI4MDc0NTA0XSwKICAgICAgICAgICAgICAgIHsKICAiYnViYmxpbmdNb3VzZUV2ZW50cyI6IHRydWUsCiAgImNvbG9yIjogImJsdWUiLAogICJkYXNoQXJyYXkiOiBudWxsLAogICJkYXNoT2Zmc2V0IjogbnVsbCwKICAiZmlsbCI6IHRydWUsCiAgImZpbGxDb2xvciI6ICIjMzE4NmNjIiwKICAiZmlsbE9wYWNpdHkiOiAwLjcsCiAgImZpbGxSdWxlIjogImV2ZW5vZGQiLAogICJsaW5lQ2FwIjogInJvdW5kIiwKICAibGluZUpvaW4iOiAicm91bmQiLAogICJvcGFjaXR5IjogMS4wLAogICJyYWRpdXMiOiA1LAogICJzdHJva2UiOiB0cnVlLAogICJ3ZWlnaHQiOiAzCn0KICAgICAgICAgICAgICAgICkuYWRkVG8obWFwXzJiZmQzNjU1Y2I0YzQ2MTRiYjNjZWM4ZGY0N2E2YzI5KTsKICAgICAgICAgICAgCiAgICAKICAgICAgICAgICAgdmFyIHBvcHVwXzg0ZjRlMzY0YWQwZDQ1OTBiZGZiMzMyNDRhZTA2YWEyID0gTC5wb3B1cCh7bWF4V2lkdGg6ICczMDAnfSk7CgogICAgICAgICAgICAKICAgICAgICAgICAgICAgIHZhciBodG1sX2EwNjRjNjM5OGRhYTQzOGE4ZTI4MzJhYTU2MGE3YTQzID0gJCgnPGRpdiBpZD0iaHRtbF9hMDY0YzYzOThkYWE0MzhhOGUyODMyYWE1NjBhN2E0MyIgc3R5bGU9IndpZHRoOiAxMDAuMCU7IGhlaWdodDogMTAwLjAlOyI+RHVtYm88L2Rpdj4nKVswXTsKICAgICAgICAgICAgICAgIHBvcHVwXzg0ZjRlMzY0YWQwZDQ1OTBiZGZiMzMyNDRhZTA2YWEyLnNldENvbnRlbnQoaHRtbF9hMDY0YzYzOThkYWE0MzhhOGUyODMyYWE1NjBhN2E0Myk7CiAgICAgICAgICAgIAoKICAgICAgICAgICAgY2lyY2xlX21hcmtlcl8zMzQ4OTY2ODQyOTI0MjMxODE5ODMwNDFmMTg4MmRmMy5iaW5kUG9wdXAocG9wdXBfODRmNGUzNjRhZDBkNDU5MGJkZmIzMzI0NGFlMDZhYTIpOwoKICAgICAgICAgICAgCiAgICAgICAgCiAgICAKICAgICAgICAgICAgdmFyIGNpcmNsZV9tYXJrZXJfNjNhNTFhNGU5M2ZkNDNlMjhmZTk4MzM3NmEzNGJmYWMgPSBMLmNpcmNsZU1hcmtlcigKICAgICAgICAgICAgICAgIFs0MC41OTg1MjUwOTUxMzcyNTUsLTczLjk1OTE4NDU5NDI4NzAyXSwKICAgICAgICAgICAgICAgIHsKICAiYnViYmxpbmdNb3VzZUV2ZW50cyI6IHRydWUsCiAgImNvbG9yIjogImJsdWUiLAogICJkYXNoQXJyYXkiOiBudWxsLAogICJkYXNoT2Zmc2V0IjogbnVsbCwKICAiZmlsbCI6IHRydWUsCiAgImZpbGxDb2xvciI6ICIjMzE4NmNjIiwKICAiZmlsbE9wYWNpdHkiOiAwLjcsCiAgImZpbGxSdWxlIjogImV2ZW5vZGQiLAogICJsaW5lQ2FwIjogInJvdW5kIiwKICAibGluZUpvaW4iOiAicm91bmQiLAogICJvcGFjaXR5IjogMS4wLAogICJyYWRpdXMiOiA1LAogICJzdHJva2UiOiB0cnVlLAogICJ3ZWlnaHQiOiAzCn0KICAgICAgICAgICAgICAgICkuYWRkVG8obWFwXzJiZmQzNjU1Y2I0YzQ2MTRiYjNjZWM4ZGY0N2E2YzI5KTsKICAgICAgICAgICAgCiAgICAKICAgICAgICAgICAgdmFyIHBvcHVwXzMwYTE3N2U3YWZkNDQ3MDFiM2UyNzg2MDhjMTVjYTljID0gTC5wb3B1cCh7bWF4V2lkdGg6ICczMDAnfSk7CgogICAgICAgICAgICAKICAgICAgICAgICAgICAgIHZhciBodG1sXzcxMmZmNDFmNDAzYzQ4MGQ4Yzg4ZGVlMWJkZGY3ZTE3ID0gJCgnPGRpdiBpZD0iaHRtbF83MTJmZjQxZjQwM2M0ODBkOGM4OGRlZTFiZGRmN2UxNyIgc3R5bGU9IndpZHRoOiAxMDAuMCU7IGhlaWdodDogMTAwLjAlOyI+SG9tZWNyZXN0PC9kaXY+JylbMF07CiAgICAgICAgICAgICAgICBwb3B1cF8zMGExNzdlN2FmZDQ0NzAxYjNlMjc4NjA4YzE1Y2E5Yy5zZXRDb250ZW50KGh0bWxfNzEyZmY0MWY0MDNjNDgwZDhjODhkZWUxYmRkZjdlMTcpOwogICAgICAgICAgICAKCiAgICAgICAgICAgIGNpcmNsZV9tYXJrZXJfNjNhNTFhNGU5M2ZkNDNlMjhmZTk4MzM3NmEzNGJmYWMuYmluZFBvcHVwKHBvcHVwXzMwYTE3N2U3YWZkNDQ3MDFiM2UyNzg2MDhjMTVjYTljKTsKCiAgICAgICAgICAgIAogICAgICAgIAogICAgCiAgICAgICAgICAgIHZhciBjaXJjbGVfbWFya2VyXzM2YzRkY2VkYTZhMzRkNDM4MmRhODU5NTkxN2IwZWU4ID0gTC5jaXJjbGVNYXJrZXIoCiAgICAgICAgICAgICAgICBbNDAuNjgxOTk4OTM0NTE3MywtNzMuODkwMzQ1NzA5ODcyXSwKICAgICAgICAgICAgICAgIHsKICAiYnViYmxpbmdNb3VzZUV2ZW50cyI6IHRydWUsCiAgImNvbG9yIjogImJsdWUiLAogICJkYXNoQXJyYXkiOiBudWxsLAogICJkYXNoT2Zmc2V0IjogbnVsbCwKICAiZmlsbCI6IHRydWUsCiAgImZpbGxDb2xvciI6ICIjMzE4NmNjIiwKICAiZmlsbE9wYWNpdHkiOiAwLjcsCiAgImZpbGxSdWxlIjogImV2ZW5vZGQiLAogICJsaW5lQ2FwIjogInJvdW5kIiwKICAibGluZUpvaW4iOiAicm91bmQiLAogICJvcGFjaXR5IjogMS4wLAogICJyYWRpdXMiOiA1LAogICJzdHJva2UiOiB0cnVlLAogICJ3ZWlnaHQiOiAzCn0KICAgICAgICAgICAgICAgICkuYWRkVG8obWFwXzJiZmQzNjU1Y2I0YzQ2MTRiYjNjZWM4ZGY0N2E2YzI5KTsKICAgICAgICAgICAgCiAgICAKICAgICAgICAgICAgdmFyIHBvcHVwX2U5NDJkOTNiZjU1ZDQxMDZiZTc0ZDM4NjE5ZGY0ZDYxID0gTC5wb3B1cCh7bWF4V2lkdGg6ICczMDAnfSk7CgogICAgICAgICAgICAKICAgICAgICAgICAgICAgIHZhciBodG1sXzVhZDRmMzljMDhlZjQ4YjhiYTVmOTBlMzRiNzQ2ODE0ID0gJCgnPGRpdiBpZD0iaHRtbF81YWQ0ZjM5YzA4ZWY0OGI4YmE1ZjkwZTM0Yjc0NjgxNCIgc3R5bGU9IndpZHRoOiAxMDAuMCU7IGhlaWdodDogMTAwLjAlOyI+SGlnaGxhbmQgUGFyazwvZGl2PicpWzBdOwogICAgICAgICAgICAgICAgcG9wdXBfZTk0MmQ5M2JmNTVkNDEwNmJlNzRkMzg2MTlkZjRkNjEuc2V0Q29udGVudChodG1sXzVhZDRmMzljMDhlZjQ4YjhiYTVmOTBlMzRiNzQ2ODE0KTsKICAgICAgICAgICAgCgogICAgICAgICAgICBjaXJjbGVfbWFya2VyXzM2YzRkY2VkYTZhMzRkNDM4MmRhODU5NTkxN2IwZWU4LmJpbmRQb3B1cChwb3B1cF9lOTQyZDkzYmY1NWQ0MTA2YmU3NGQzODYxOWRmNGQ2MSk7CgogICAgICAgICAgICAKICAgICAgICAKICAgIAogICAgICAgICAgICB2YXIgY2lyY2xlX21hcmtlcl8xMDMwNDE5Yjg3MDg0OTQ2ODg1NWYwYjRmZjQxNzg5NCA9IEwuY2lyY2xlTWFya2VyKAogICAgICAgICAgICAgICAgWzQwLjYwOTM3NzcwMTEzNzY2LC03My45NDg0MTUxNTMyODg5M10sCiAgICAgICAgICAgICAgICB7CiAgImJ1YmJsaW5nTW91c2VFdmVudHMiOiB0cnVlLAogICJjb2xvciI6ICJibHVlIiwKICAiZGFzaEFycmF5IjogbnVsbCwKICAiZGFzaE9mZnNldCI6IG51bGwsCiAgImZpbGwiOiB0cnVlLAogICJmaWxsQ29sb3IiOiAiIzMxODZjYyIsCiAgImZpbGxPcGFjaXR5IjogMC43LAogICJmaWxsUnVsZSI6ICJldmVub2RkIiwKICAibGluZUNhcCI6ICJyb3VuZCIsCiAgImxpbmVKb2luIjogInJvdW5kIiwKICAib3BhY2l0eSI6IDEuMCwKICAicmFkaXVzIjogNSwKICAic3Ryb2tlIjogdHJ1ZSwKICAid2VpZ2h0IjogMwp9CiAgICAgICAgICAgICAgICApLmFkZFRvKG1hcF8yYmZkMzY1NWNiNGM0NjE0YmIzY2VjOGRmNDdhNmMyOSk7CiAgICAgICAgICAgIAogICAgCiAgICAgICAgICAgIHZhciBwb3B1cF9kMDhhNDM1ZjY2YTg0ZmM2OTUwNDliMzM0MmRkZjE5NCA9IEwucG9wdXAoe21heFdpZHRoOiAnMzAwJ30pOwoKICAgICAgICAgICAgCiAgICAgICAgICAgICAgICB2YXIgaHRtbF8xMGYyMzkxOWExM2Q0MDQ3OGU3NDI2ZWRjMWFlZTM0OCA9ICQoJzxkaXYgaWQ9Imh0bWxfMTBmMjM5MTlhMTNkNDA0NzhlNzQyNmVkYzFhZWUzNDgiIHN0eWxlPSJ3aWR0aDogMTAwLjAlOyBoZWlnaHQ6IDEwMC4wJTsiPk1hZGlzb248L2Rpdj4nKVswXTsKICAgICAgICAgICAgICAgIHBvcHVwX2QwOGE0MzVmNjZhODRmYzY5NTA0OWIzMzQyZGRmMTk0LnNldENvbnRlbnQoaHRtbF8xMGYyMzkxOWExM2Q0MDQ3OGU3NDI2ZWRjMWFlZTM0OCk7CiAgICAgICAgICAgIAoKICAgICAgICAgICAgY2lyY2xlX21hcmtlcl8xMDMwNDE5Yjg3MDg0OTQ2ODg1NWYwYjRmZjQxNzg5NC5iaW5kUG9wdXAocG9wdXBfZDA4YTQzNWY2NmE4NGZjNjk1MDQ5YjMzNDJkZGYxOTQpOwoKICAgICAgICAgICAgCiAgICAgICAgCiAgICAKICAgICAgICAgICAgdmFyIGNpcmNsZV9tYXJrZXJfNjRhYzE0NWEyYjJiNGVkOTk5MWYyZDcxYWUwMTYyZDEgPSBMLmNpcmNsZU1hcmtlcigKICAgICAgICAgICAgICAgIFs0MC42NDY5MjYwNjY1ODU3OSwtNzMuOTQ4MTc3MDk5MjAxODRdLAogICAgICAgICAgICAgICAgewogICJidWJibGluZ01vdXNlRXZlbnRzIjogdHJ1ZSwKICAiY29sb3IiOiAiYmx1ZSIsCiAgImRhc2hBcnJheSI6IG51bGwsCiAgImRhc2hPZmZzZXQiOiBudWxsLAogICJmaWxsIjogdHJ1ZSwKICAiZmlsbENvbG9yIjogIiMzMTg2Y2MiLAogICJmaWxsT3BhY2l0eSI6IDAuNywKICAiZmlsbFJ1bGUiOiAiZXZlbm9kZCIsCiAgImxpbmVDYXAiOiAicm91bmQiLAogICJsaW5lSm9pbiI6ICJyb3VuZCIsCiAgIm9wYWNpdHkiOiAxLjAsCiAgInJhZGl1cyI6IDUsCiAgInN0cm9rZSI6IHRydWUsCiAgIndlaWdodCI6IDMKfQogICAgICAgICAgICAgICAgKS5hZGRUbyhtYXBfMmJmZDM2NTVjYjRjNDYxNGJiM2NlYzhkZjQ3YTZjMjkpOwogICAgICAgICAgICAKICAgIAogICAgICAgICAgICB2YXIgcG9wdXBfMGMwYWUwMWNlMGExNDY2OWE4NDY4YWY4NjZmYWFhY2QgPSBMLnBvcHVwKHttYXhXaWR0aDogJzMwMCd9KTsKCiAgICAgICAgICAgIAogICAgICAgICAgICAgICAgdmFyIGh0bWxfNDhkMDMxODM3OWY2NDRmNTgwYjZkOTdiMjM3NTgyMmQgPSAkKCc8ZGl2IGlkPSJodG1sXzQ4ZDAzMTgzNzlmNjQ0ZjU4MGI2ZDk3YjIzNzU4MjJkIiBzdHlsZT0id2lkdGg6IDEwMC4wJTsgaGVpZ2h0OiAxMDAuMCU7Ij5FcmFzbXVzPC9kaXY+JylbMF07CiAgICAgICAgICAgICAgICBwb3B1cF8wYzBhZTAxY2UwYTE0NjY5YTg0NjhhZjg2NmZhYWFjZC5zZXRDb250ZW50KGh0bWxfNDhkMDMxODM3OWY2NDRmNTgwYjZkOTdiMjM3NTgyMmQpOwogICAgICAgICAgICAKCiAgICAgICAgICAgIGNpcmNsZV9tYXJrZXJfNjRhYzE0NWEyYjJiNGVkOTk5MWYyZDcxYWUwMTYyZDEuYmluZFBvcHVwKHBvcHVwXzBjMGFlMDFjZTBhMTQ2NjlhODQ2OGFmODY2ZmFhYWNkKTsKCiAgICAgICAgICAgIAogICAgICAgIAo8L3NjcmlwdD4=\" style=\"position:absolute;width:100%;height:100%;left:0;top:0;border:none !important;\" allowfullscreen webkitallowfullscreen mozallowfullscreen></iframe></div></div>"
      ],
      "text/plain": [
       "<folium.folium.Map at 0x7f539e5ae668>"
      ]
     },
     "execution_count": 96,
     "metadata": {},
     "output_type": "execute_result"
    }
   ],
   "source": [
    "# create map of Brooklyn using latitude and longitude values\n",
    "map_brooklyn = folium.Map(location=[latitude, longitude], zoom_start=12)\n",
    "\n",
    "# add markers to map\n",
    "for lat, lng, label in zip(brooklyn_data['Latitude'], brooklyn_data['Longitude'], brooklyn_data['Neighborhood']):\n",
    "    label = folium.Popup(label, parse_html=True)\n",
    "    folium.CircleMarker(\n",
    "        [lat, lng],\n",
    "        radius=5,\n",
    "        popup=label,\n",
    "        color='blue',\n",
    "        fill=True,\n",
    "        fill_color='#3186cc',\n",
    "        fill_opacity=0.7,\n",
    "        parse_html=False).add_to(map_brooklyn)  \n",
    "    \n",
    "map_brooklyn"
   ]
  },
  {
   "cell_type": "markdown",
   "metadata": {},
   "source": [
    "## 2. Explore Neighborhoods in Brooklyn"
   ]
  },
  {
   "cell_type": "markdown",
   "metadata": {},
   "source": [
    "Define Foursquare Credentials and Version"
   ]
  },
  {
   "cell_type": "code",
   "execution_count": 32,
   "metadata": {},
   "outputs": [
    {
     "name": "stdout",
     "output_type": "stream",
     "text": [
      "Your credentails:\n",
      "CLIENT_ID: NA3LVSVRKA340AEGF5LJWUFT4ZLS3KDUWSFV3M20JQFMJKKM\n",
      "CLIENT_SECRET:ABM2AZ5SFVGWNYOJLYNFZX55JLBHWQOG0KSSQWOABNFOHHN5\n"
     ]
    }
   ],
   "source": [
    "CLIENT_ID = 'NA3LVSVRKA340AEGF5LJWUFT4ZLS3KDUWSFV3M20JQFMJKKM' # your Foursquare ID\n",
    "CLIENT_SECRET = 'ABM2AZ5SFVGWNYOJLYNFZX55JLBHWQOG0KSSQWOABNFOHHN5' # your Foursquare Secret\n",
    "VERSION = '20180605' # Foursquare API version\n",
    "\n",
    "print('Your credentails:')\n",
    "print('CLIENT_ID: ' + CLIENT_ID)\n",
    "print('CLIENT_SECRET:' + CLIENT_SECRET)"
   ]
  },
  {
   "cell_type": "markdown",
   "metadata": {},
   "source": [
    "#### Function to get venues in all the neighborhoods of Brooklyn"
   ]
  },
  {
   "cell_type": "code",
   "execution_count": 36,
   "metadata": {},
   "outputs": [],
   "source": [
    "def getNearbyVenues(names, latitudes, longitudes, radius=500, limit=100):\n",
    "    \n",
    "    venues_list=[]\n",
    "    for name, lat, lng in zip(names, latitudes, longitudes):\n",
    "        print(name)\n",
    "            \n",
    "        # create the API request URL\n",
    "        url = 'https://api.foursquare.com/v2/venues/explore?&client_id={}&client_secret={}&v={}&ll={},{}&radius={}&limit={}'.format(\n",
    "            CLIENT_ID, \n",
    "            CLIENT_SECRET, \n",
    "            VERSION, \n",
    "            lat, \n",
    "            lng, \n",
    "            radius, \n",
    "            LIMIT)\n",
    "            \n",
    "        # make the GET request\n",
    "        results = requests.get(url).json()[\"response\"]['groups'][0]['items']\n",
    "        \n",
    "        # return only relevant information for each nearby venue\n",
    "        venues_list.append([(\n",
    "            name, \n",
    "            lat, \n",
    "            lng, \n",
    "            v['venue']['name'], \n",
    "            v['venue']['location']['lat'], \n",
    "            v['venue']['location']['lng'],  \n",
    "            v['venue']['categories'][0]['name']) for v in results])\n",
    "\n",
    "    nearby_venues = pd.DataFrame([item for venue_list in venues_list for item in venue_list])\n",
    "    nearby_venues.columns = ['Neighborhood', \n",
    "                  'Neighborhood Latitude', \n",
    "                  'Neighborhood Longitude', \n",
    "                  'Venue', \n",
    "                  'Venue Latitude', \n",
    "                  'Venue Longitude', \n",
    "                  'Venue Category']\n",
    "    \n",
    "    return(nearby_venues)"
   ]
  },
  {
   "cell_type": "markdown",
   "metadata": {},
   "source": [
    "Run the above function"
   ]
  },
  {
   "cell_type": "code",
   "execution_count": 37,
   "metadata": {},
   "outputs": [
    {
     "name": "stdout",
     "output_type": "stream",
     "text": [
      "Bay Ridge\n",
      "Bensonhurst\n",
      "Sunset Park\n",
      "Greenpoint\n",
      "Gravesend\n",
      "Brighton Beach\n",
      "Sheepshead Bay\n",
      "Manhattan Terrace\n",
      "Flatbush\n",
      "Crown Heights\n",
      "East Flatbush\n",
      "Kensington\n",
      "Windsor Terrace\n",
      "Prospect Heights\n",
      "Brownsville\n",
      "Williamsburg\n",
      "Bushwick\n",
      "Bedford Stuyvesant\n",
      "Brooklyn Heights\n",
      "Cobble Hill\n",
      "Carroll Gardens\n",
      "Red Hook\n",
      "Gowanus\n",
      "Fort Greene\n",
      "Park Slope\n",
      "Cypress Hills\n",
      "East New York\n",
      "Starrett City\n",
      "Canarsie\n",
      "Flatlands\n",
      "Mill Island\n",
      "Manhattan Beach\n",
      "Coney Island\n",
      "Bath Beach\n",
      "Borough Park\n",
      "Dyker Heights\n",
      "Gerritsen Beach\n",
      "Marine Park\n",
      "Clinton Hill\n",
      "Sea Gate\n",
      "Downtown\n",
      "Boerum Hill\n",
      "Prospect Lefferts Gardens\n",
      "Ocean Hill\n",
      "City Line\n",
      "Bergen Beach\n",
      "Midwood\n",
      "Prospect Park South\n",
      "Georgetown\n",
      "East Williamsburg\n",
      "North Side\n",
      "South Side\n",
      "Ocean Parkway\n",
      "Fort Hamilton\n",
      "Ditmas Park\n",
      "Wingate\n",
      "Rugby\n",
      "Remsen Village\n",
      "New Lots\n",
      "Paerdegat Basin\n",
      "Mill Basin\n",
      "Fulton Ferry\n",
      "Vinegar Hill\n",
      "Weeksville\n",
      "Broadway Junction\n",
      "Dumbo\n",
      "Homecrest\n",
      "Highland Park\n",
      "Madison\n",
      "Erasmus\n",
      "Bay Ridge\n",
      "Bensonhurst\n",
      "Sunset Park\n",
      "Greenpoint\n",
      "Gravesend\n",
      "Brighton Beach\n",
      "Sheepshead Bay\n",
      "Manhattan Terrace\n",
      "Flatbush\n",
      "Crown Heights\n",
      "East Flatbush\n",
      "Kensington\n",
      "Windsor Terrace\n",
      "Prospect Heights\n",
      "Brownsville\n",
      "Williamsburg\n",
      "Bushwick\n",
      "Bedford Stuyvesant\n",
      "Brooklyn Heights\n",
      "Cobble Hill\n",
      "Carroll Gardens\n",
      "Red Hook\n",
      "Gowanus\n",
      "Fort Greene\n",
      "Park Slope\n",
      "Cypress Hills\n",
      "East New York\n",
      "Starrett City\n",
      "Canarsie\n",
      "Flatlands\n",
      "Mill Island\n",
      "Manhattan Beach\n",
      "Coney Island\n",
      "Bath Beach\n",
      "Borough Park\n",
      "Dyker Heights\n",
      "Gerritsen Beach\n",
      "Marine Park\n",
      "Clinton Hill\n",
      "Sea Gate\n",
      "Downtown\n",
      "Boerum Hill\n",
      "Prospect Lefferts Gardens\n",
      "Ocean Hill\n",
      "City Line\n",
      "Bergen Beach\n",
      "Midwood\n",
      "Prospect Park South\n",
      "Georgetown\n",
      "East Williamsburg\n",
      "North Side\n",
      "South Side\n",
      "Ocean Parkway\n",
      "Fort Hamilton\n",
      "Ditmas Park\n",
      "Wingate\n",
      "Rugby\n",
      "Remsen Village\n",
      "New Lots\n",
      "Paerdegat Basin\n",
      "Mill Basin\n",
      "Fulton Ferry\n",
      "Vinegar Hill\n",
      "Weeksville\n",
      "Broadway Junction\n",
      "Dumbo\n",
      "Homecrest\n",
      "Highland Park\n",
      "Madison\n",
      "Erasmus\n"
     ]
    }
   ],
   "source": [
    "brooklyn_venues = getNearbyVenues(names=brooklyn_data['Neighborhood'],\n",
    "                                   latitudes=brooklyn_data['Latitude'],\n",
    "                                   longitudes=brooklyn_data['Longitude']\n",
    "                                  )\n"
   ]
  },
  {
   "cell_type": "code",
   "execution_count": 41,
   "metadata": {},
   "outputs": [
    {
     "name": "stdout",
     "output_type": "stream",
     "text": [
      "(5626, 7)\n"
     ]
    },
    {
     "data": {
      "text/html": [
       "<div>\n",
       "<style scoped>\n",
       "    .dataframe tbody tr th:only-of-type {\n",
       "        vertical-align: middle;\n",
       "    }\n",
       "\n",
       "    .dataframe tbody tr th {\n",
       "        vertical-align: top;\n",
       "    }\n",
       "\n",
       "    .dataframe thead th {\n",
       "        text-align: right;\n",
       "    }\n",
       "</style>\n",
       "<table border=\"1\" class=\"dataframe\">\n",
       "  <thead>\n",
       "    <tr style=\"text-align: right;\">\n",
       "      <th></th>\n",
       "      <th>Neighborhood</th>\n",
       "      <th>Neighborhood Latitude</th>\n",
       "      <th>Neighborhood Longitude</th>\n",
       "      <th>Venue</th>\n",
       "      <th>Venue Latitude</th>\n",
       "      <th>Venue Longitude</th>\n",
       "      <th>Venue Category</th>\n",
       "    </tr>\n",
       "  </thead>\n",
       "  <tbody>\n",
       "    <tr>\n",
       "      <th>0</th>\n",
       "      <td>Bay Ridge</td>\n",
       "      <td>40.625801</td>\n",
       "      <td>-74.030621</td>\n",
       "      <td>Pilo Arts Day Spa and Salon</td>\n",
       "      <td>40.624748</td>\n",
       "      <td>-74.030591</td>\n",
       "      <td>Spa</td>\n",
       "    </tr>\n",
       "    <tr>\n",
       "      <th>1</th>\n",
       "      <td>Bay Ridge</td>\n",
       "      <td>40.625801</td>\n",
       "      <td>-74.030621</td>\n",
       "      <td>Cocoa Grinder</td>\n",
       "      <td>40.623967</td>\n",
       "      <td>-74.030863</td>\n",
       "      <td>Juice Bar</td>\n",
       "    </tr>\n",
       "    <tr>\n",
       "      <th>2</th>\n",
       "      <td>Bay Ridge</td>\n",
       "      <td>40.625801</td>\n",
       "      <td>-74.030621</td>\n",
       "      <td>Bagel Boy</td>\n",
       "      <td>40.627896</td>\n",
       "      <td>-74.029335</td>\n",
       "      <td>Bagel Shop</td>\n",
       "    </tr>\n",
       "    <tr>\n",
       "      <th>3</th>\n",
       "      <td>Bay Ridge</td>\n",
       "      <td>40.625801</td>\n",
       "      <td>-74.030621</td>\n",
       "      <td>Pegasus Cafe</td>\n",
       "      <td>40.623168</td>\n",
       "      <td>-74.031186</td>\n",
       "      <td>Breakfast Spot</td>\n",
       "    </tr>\n",
       "    <tr>\n",
       "      <th>4</th>\n",
       "      <td>Bay Ridge</td>\n",
       "      <td>40.625801</td>\n",
       "      <td>-74.030621</td>\n",
       "      <td>Ho' Brah Taco Joint</td>\n",
       "      <td>40.622960</td>\n",
       "      <td>-74.031371</td>\n",
       "      <td>Taco Place</td>\n",
       "    </tr>\n",
       "  </tbody>\n",
       "</table>\n",
       "</div>"
      ],
      "text/plain": [
       "  Neighborhood  Neighborhood Latitude  Neighborhood Longitude  \\\n",
       "0    Bay Ridge              40.625801              -74.030621   \n",
       "1    Bay Ridge              40.625801              -74.030621   \n",
       "2    Bay Ridge              40.625801              -74.030621   \n",
       "3    Bay Ridge              40.625801              -74.030621   \n",
       "4    Bay Ridge              40.625801              -74.030621   \n",
       "\n",
       "                         Venue  Venue Latitude  Venue Longitude  \\\n",
       "0  Pilo Arts Day Spa and Salon       40.624748       -74.030591   \n",
       "1                Cocoa Grinder       40.623967       -74.030863   \n",
       "2                    Bagel Boy       40.627896       -74.029335   \n",
       "3                 Pegasus Cafe       40.623168       -74.031186   \n",
       "4          Ho' Brah Taco Joint       40.622960       -74.031371   \n",
       "\n",
       "   Venue Category  \n",
       "0             Spa  \n",
       "1       Juice Bar  \n",
       "2      Bagel Shop  \n",
       "3  Breakfast Spot  \n",
       "4      Taco Place  "
      ]
     },
     "execution_count": 41,
     "metadata": {},
     "output_type": "execute_result"
    }
   ],
   "source": [
    "print(brooklyn_venues.shape)\n",
    "brooklyn_venues.head()"
   ]
  },
  {
   "cell_type": "markdown",
   "metadata": {},
   "source": [
    "Get a new dataframe that includes only CoffeShops and Cafes in Brooklyn"
   ]
  },
  {
   "cell_type": "code",
   "execution_count": 72,
   "metadata": {},
   "outputs": [
    {
     "data": {
      "text/plain": [
       "(262, 7)"
      ]
     },
     "execution_count": 72,
     "metadata": {},
     "output_type": "execute_result"
    }
   ],
   "source": [
    "brooklyn_coffeeshops=brooklyn_venues.loc[brooklyn_venues['Venue Category'] == 'Coffee Shop']\n",
    "brooklyn_cafe=brooklyn_venues.loc[brooklyn_venues['Venue Category'] == 'Café']\n",
    "frames = [brooklyn_coffeeshops, brooklyn_cafe]\n",
    "brooklyn_coffee = pd.concat(frames)\n",
    "brooklyn_coffee.shape"
   ]
  },
  {
   "cell_type": "markdown",
   "metadata": {},
   "source": [
    "I consider that Starbucks won´t be a competitor for the new Coffee Shop because they produce American coffee that nothing has to do with French coffee. So, I drop Starbucks from the Coffee dataframe"
   ]
  },
  {
   "cell_type": "code",
   "execution_count": 77,
   "metadata": {},
   "outputs": [
    {
     "data": {
      "text/html": [
       "<div>\n",
       "<style scoped>\n",
       "    .dataframe tbody tr th:only-of-type {\n",
       "        vertical-align: middle;\n",
       "    }\n",
       "\n",
       "    .dataframe tbody tr th {\n",
       "        vertical-align: top;\n",
       "    }\n",
       "\n",
       "    .dataframe thead th {\n",
       "        text-align: right;\n",
       "    }\n",
       "</style>\n",
       "<table border=\"1\" class=\"dataframe\">\n",
       "  <thead>\n",
       "    <tr style=\"text-align: right;\">\n",
       "      <th></th>\n",
       "      <th>Neighborhood</th>\n",
       "      <th>Neighborhood Latitude</th>\n",
       "      <th>Neighborhood Longitude</th>\n",
       "      <th>Venue</th>\n",
       "      <th>Venue Latitude</th>\n",
       "      <th>Venue Longitude</th>\n",
       "      <th>Venue Category</th>\n",
       "    </tr>\n",
       "  </thead>\n",
       "  <tbody>\n",
       "    <tr>\n",
       "      <th>0</th>\n",
       "      <td>Bensonhurst</td>\n",
       "      <td>40.611009</td>\n",
       "      <td>-73.995180</td>\n",
       "      <td>Caffe Romeo</td>\n",
       "      <td>40.609732</td>\n",
       "      <td>-73.989766</td>\n",
       "      <td>Coffee Shop</td>\n",
       "    </tr>\n",
       "    <tr>\n",
       "      <th>1</th>\n",
       "      <td>Greenpoint</td>\n",
       "      <td>40.730201</td>\n",
       "      <td>-73.954241</td>\n",
       "      <td>Homecoming</td>\n",
       "      <td>40.729696</td>\n",
       "      <td>-73.957525</td>\n",
       "      <td>Coffee Shop</td>\n",
       "    </tr>\n",
       "    <tr>\n",
       "      <th>2</th>\n",
       "      <td>Greenpoint</td>\n",
       "      <td>40.730201</td>\n",
       "      <td>-73.954241</td>\n",
       "      <td>Upright Coffee</td>\n",
       "      <td>40.729332</td>\n",
       "      <td>-73.953892</td>\n",
       "      <td>Coffee Shop</td>\n",
       "    </tr>\n",
       "    <tr>\n",
       "      <th>3</th>\n",
       "      <td>Greenpoint</td>\n",
       "      <td>40.730201</td>\n",
       "      <td>-73.954241</td>\n",
       "      <td>Maman</td>\n",
       "      <td>40.730427</td>\n",
       "      <td>-73.958035</td>\n",
       "      <td>Coffee Shop</td>\n",
       "    </tr>\n",
       "    <tr>\n",
       "      <th>4</th>\n",
       "      <td>Greenpoint</td>\n",
       "      <td>40.730201</td>\n",
       "      <td>-73.954241</td>\n",
       "      <td>Café de Colombia</td>\n",
       "      <td>40.730526</td>\n",
       "      <td>-73.951822</td>\n",
       "      <td>Coffee Shop</td>\n",
       "    </tr>\n",
       "  </tbody>\n",
       "</table>\n",
       "</div>"
      ],
      "text/plain": [
       "  Neighborhood  Neighborhood Latitude  Neighborhood Longitude  \\\n",
       "0  Bensonhurst              40.611009              -73.995180   \n",
       "1   Greenpoint              40.730201              -73.954241   \n",
       "2   Greenpoint              40.730201              -73.954241   \n",
       "3   Greenpoint              40.730201              -73.954241   \n",
       "4   Greenpoint              40.730201              -73.954241   \n",
       "\n",
       "              Venue  Venue Latitude  Venue Longitude Venue Category  \n",
       "0       Caffe Romeo       40.609732       -73.989766    Coffee Shop  \n",
       "1        Homecoming       40.729696       -73.957525    Coffee Shop  \n",
       "2    Upright Coffee       40.729332       -73.953892    Coffee Shop  \n",
       "3             Maman       40.730427       -73.958035    Coffee Shop  \n",
       "4  Café de Colombia       40.730526       -73.951822    Coffee Shop  "
      ]
     },
     "execution_count": 77,
     "metadata": {},
     "output_type": "execute_result"
    }
   ],
   "source": [
    "starbucks = brooklyn_coffee[brooklyn_coffee['Venue'] == 'Starbucks' ]\n",
    "brooklyn_coffee_competitors = brooklyn_coffee.drop(starbucks.index, axis=0)\n",
    "#reset index\n",
    "brooklyn_coffee_competitors.reset_index(drop=True,inplace=True)\n",
    "brooklyn_coffee_competitors.head()"
   ]
  },
  {
   "cell_type": "markdown",
   "metadata": {},
   "source": [
    "## 3. Conclusion"
   ]
  },
  {
   "cell_type": "markdown",
   "metadata": {},
   "source": [
    "I would recommend to open the coffee store in one of the Neighborhoods with less coffee stores in Brooklyn. So, I need to count stores per Neighborhood\n"
   ]
  },
  {
   "cell_type": "code",
   "execution_count": 130,
   "metadata": {},
   "outputs": [
    {
     "data": {
      "text/html": [
       "<div>\n",
       "<style scoped>\n",
       "    .dataframe tbody tr th:only-of-type {\n",
       "        vertical-align: middle;\n",
       "    }\n",
       "\n",
       "    .dataframe tbody tr th {\n",
       "        vertical-align: top;\n",
       "    }\n",
       "\n",
       "    .dataframe thead th {\n",
       "        text-align: right;\n",
       "    }\n",
       "</style>\n",
       "<table border=\"1\" class=\"dataframe\">\n",
       "  <thead>\n",
       "    <tr style=\"text-align: right;\">\n",
       "      <th></th>\n",
       "      <th>Neighborhood</th>\n",
       "      <th>count</th>\n",
       "    </tr>\n",
       "  </thead>\n",
       "  <tbody>\n",
       "    <tr>\n",
       "      <th>0</th>\n",
       "      <td>Bensonhurst</td>\n",
       "      <td>2</td>\n",
       "    </tr>\n",
       "    <tr>\n",
       "      <th>1</th>\n",
       "      <td>Greenpoint</td>\n",
       "      <td>18</td>\n",
       "    </tr>\n",
       "    <tr>\n",
       "      <th>2</th>\n",
       "      <td>Greenpoint</td>\n",
       "      <td>18</td>\n",
       "    </tr>\n",
       "    <tr>\n",
       "      <th>3</th>\n",
       "      <td>Greenpoint</td>\n",
       "      <td>18</td>\n",
       "    </tr>\n",
       "    <tr>\n",
       "      <th>4</th>\n",
       "      <td>Greenpoint</td>\n",
       "      <td>18</td>\n",
       "    </tr>\n",
       "  </tbody>\n",
       "</table>\n",
       "</div>"
      ],
      "text/plain": [
       "  Neighborhood  count\n",
       "0  Bensonhurst      2\n",
       "1   Greenpoint     18\n",
       "2   Greenpoint     18\n",
       "3   Greenpoint     18\n",
       "4   Greenpoint     18"
      ]
     },
     "execution_count": 130,
     "metadata": {},
     "output_type": "execute_result"
    }
   ],
   "source": [
    "#Add a column count that counts frecuency of each neighborhood\n",
    "brooklyn_coffee_competitors['count'] = brooklyn_coffee_competitors.groupby('Neighborhood')['Neighborhood'].transform('count')\n",
    "#Get only the column I'm interested in\n",
    "coffee_per_neigh=brooklyn_coffee_competitors[['Neighborhood','count']]\n",
    "coffee_per_neigh.head()"
   ]
  },
  {
   "cell_type": "code",
   "execution_count": 139,
   "metadata": {},
   "outputs": [
    {
     "data": {
      "text/html": [
       "<div>\n",
       "<style scoped>\n",
       "    .dataframe tbody tr th:only-of-type {\n",
       "        vertical-align: middle;\n",
       "    }\n",
       "\n",
       "    .dataframe tbody tr th {\n",
       "        vertical-align: top;\n",
       "    }\n",
       "\n",
       "    .dataframe thead th {\n",
       "        text-align: right;\n",
       "    }\n",
       "</style>\n",
       "<table border=\"1\" class=\"dataframe\">\n",
       "  <thead>\n",
       "    <tr style=\"text-align: right;\">\n",
       "      <th></th>\n",
       "      <th>Neighborhood</th>\n",
       "      <th>count</th>\n",
       "    </tr>\n",
       "  </thead>\n",
       "  <tbody>\n",
       "    <tr>\n",
       "      <th>0</th>\n",
       "      <td>Bensonhurst</td>\n",
       "      <td>2</td>\n",
       "    </tr>\n",
       "    <tr>\n",
       "      <th>31</th>\n",
       "      <td>Sheepshead Bay</td>\n",
       "      <td>2</td>\n",
       "    </tr>\n",
       "    <tr>\n",
       "      <th>22</th>\n",
       "      <td>City Line</td>\n",
       "      <td>2</td>\n",
       "    </tr>\n",
       "    <tr>\n",
       "      <th>21</th>\n",
       "      <td>Ocean Hill</td>\n",
       "      <td>2</td>\n",
       "    </tr>\n",
       "    <tr>\n",
       "      <th>18</th>\n",
       "      <td>Borough Park</td>\n",
       "      <td>2</td>\n",
       "    </tr>\n",
       "  </tbody>\n",
       "</table>\n",
       "</div>"
      ],
      "text/plain": [
       "      Neighborhood  count\n",
       "0      Bensonhurst      2\n",
       "31  Sheepshead Bay      2\n",
       "22       City Line      2\n",
       "21      Ocean Hill      2\n",
       "18    Borough Park      2"
      ]
     },
     "execution_count": 139,
     "metadata": {},
     "output_type": "execute_result"
    }
   ],
   "source": [
    "#Drop duplicates\n",
    "coffee_per_neigh.drop_duplicates(subset=None, keep='first', inplace=True)\n",
    "coffee_per_neigh.head()\n",
    "#Reset index\n",
    "coffee_per_neigh.reset_index(drop=True,inplace=True)\n",
    "coffee_per_neigh.head()\n",
    "#Sort\n",
    "coffee_per_neigh=coffee_per_neigh.sort_values(['count'], ascending=True)\n",
    "coffee_per_neigh.head()"
   ]
  },
  {
   "cell_type": "markdown",
   "metadata": {},
   "source": [
    "Find out number of stores"
   ]
  },
  {
   "cell_type": "code",
   "execution_count": 142,
   "metadata": {},
   "outputs": [
    {
     "data": {
      "text/plain": [
       "array([ 2,  4,  6,  8, 10, 12, 16, 18])"
      ]
     },
     "execution_count": 142,
     "metadata": {},
     "output_type": "execute_result"
    }
   ],
   "source": [
    "coffee_per_neigh['count'].unique()"
   ]
  },
  {
   "cell_type": "markdown",
   "metadata": {},
   "source": [
    "I would recommend to open a coffee shop in those neighborhoods in which there are only 2 coffee shops. So, the recommendation list is the following:"
   ]
  },
  {
   "cell_type": "code",
   "execution_count": 143,
   "metadata": {},
   "outputs": [
    {
     "data": {
      "text/html": [
       "<div>\n",
       "<style scoped>\n",
       "    .dataframe tbody tr th:only-of-type {\n",
       "        vertical-align: middle;\n",
       "    }\n",
       "\n",
       "    .dataframe tbody tr th {\n",
       "        vertical-align: top;\n",
       "    }\n",
       "\n",
       "    .dataframe thead th {\n",
       "        text-align: right;\n",
       "    }\n",
       "</style>\n",
       "<table border=\"1\" class=\"dataframe\">\n",
       "  <thead>\n",
       "    <tr style=\"text-align: right;\">\n",
       "      <th></th>\n",
       "      <th>Neighborhood</th>\n",
       "      <th>count</th>\n",
       "    </tr>\n",
       "  </thead>\n",
       "  <tbody>\n",
       "    <tr>\n",
       "      <th>0</th>\n",
       "      <td>Bensonhurst</td>\n",
       "      <td>2</td>\n",
       "    </tr>\n",
       "    <tr>\n",
       "      <th>31</th>\n",
       "      <td>Sheepshead Bay</td>\n",
       "      <td>2</td>\n",
       "    </tr>\n",
       "    <tr>\n",
       "      <th>22</th>\n",
       "      <td>City Line</td>\n",
       "      <td>2</td>\n",
       "    </tr>\n",
       "    <tr>\n",
       "      <th>21</th>\n",
       "      <td>Ocean Hill</td>\n",
       "      <td>2</td>\n",
       "    </tr>\n",
       "    <tr>\n",
       "      <th>18</th>\n",
       "      <td>Borough Park</td>\n",
       "      <td>2</td>\n",
       "    </tr>\n",
       "  </tbody>\n",
       "</table>\n",
       "</div>"
      ],
      "text/plain": [
       "      Neighborhood  count\n",
       "0      Bensonhurst      2\n",
       "31  Sheepshead Bay      2\n",
       "22       City Line      2\n",
       "21      Ocean Hill      2\n",
       "18    Borough Park      2"
      ]
     },
     "execution_count": 143,
     "metadata": {},
     "output_type": "execute_result"
    }
   ],
   "source": [
    "#Get only Count=2\n",
    "brooklyn_recommen_coffee = coffee_per_neigh[ coffee_per_neigh['count'] == 2 ]\n",
    "brooklyn_recommen_coffee"
   ]
  },
  {
   "cell_type": "code",
   "execution_count": null,
   "metadata": {},
   "outputs": [],
   "source": []
  }
 ],
 "metadata": {
  "kernelspec": {
   "display_name": "Python 3",
   "language": "python",
   "name": "python3"
  },
  "language_info": {
   "codemirror_mode": {
    "name": "ipython",
    "version": 3
   },
   "file_extension": ".py",
   "mimetype": "text/x-python",
   "name": "python",
   "nbconvert_exporter": "python",
   "pygments_lexer": "ipython3",
   "version": "3.6.8"
  }
 },
 "nbformat": 4,
 "nbformat_minor": 2
}
