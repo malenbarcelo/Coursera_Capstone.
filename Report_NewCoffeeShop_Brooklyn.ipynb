{
 "cells": [
  {
   "cell_type": "markdown",
   "metadata": {},
   "source": [
    "# New Coffee Shop in Brooklyn, New York\n",
    "\n",
    "### Malen Barcelo, February 2019"
   ]
  },
  {
   "cell_type": "markdown",
   "metadata": {},
   "source": [
    "## 1. Introduction / Business problem\n",
    "\n",
    "A client is moving from Paris to Brooklyn, New York for work and his wife wants to move the Coffee Shop she has now in Paris to Brooklyn. They askes me where in the Borough I would recommend to open it."
   ]
  },
  {
   "cell_type": "markdown",
   "metadata": {},
   "source": [
    "I recommend them to open it in the Neighborhood with less coffee shops of Brooklyn. So I need to explore coffee shops in the borough and find out which is/are the Neighborhood/s with less coffee shops or lack of them.\n"
   ]
  },
  {
   "cell_type": "markdown",
   "metadata": {},
   "source": [
    "## 2. Data section"
   ]
  },
  {
   "cell_type": "markdown",
   "metadata": {},
   "source": [
    "#### Information about Boroughs and Neighborhoods in New York"
   ]
  },
  {
   "cell_type": "markdown",
   "metadata": {},
   "source": [
    "I will need to use a dataset that contains the boroughs and the neighborhoods that exist in each borough of New York as well as the the latitude and logitude coordinates of each neighborhood.\n",
    "\n",
    "This dataset exists for free on the web:\n",
    "https://geo.nyu.edu/catalog/nyu_2451_34572\n",
    "\n",
    "I know the files had been downloaded and placed on the server, so you can simply run a `wget` command and access the data (https://cocl.us/new_york_dataset)"
   ]
  },
  {
   "cell_type": "markdown",
   "metadata": {},
   "source": [
    "#### Information about Choffee Shops in Brooklyn"
   ]
  },
  {
   "cell_type": "markdown",
   "metadata": {},
   "source": [
    "I will use Foursquare (https://api.foursquare.com/v2/venues) to explore the venues in the borough I´m interested in, in particular I will explore Coffee Shops and Cafes"
   ]
  },
  {
   "cell_type": "markdown",
   "metadata": {},
   "source": [
    "## 3. Methodology"
   ]
  },
  {
   "cell_type": "markdown",
   "metadata": {},
   "source": [
    "### 1. Download, explore and clean New York Boroughs dataset"
   ]
  },
  {
   "cell_type": "markdown",
   "metadata": {},
   "source": [
    "#### 1.1 Download and explore data"
   ]
  },
  {
   "cell_type": "markdown",
   "metadata": {},
   "source": [
    "Data was downloaded and explored. After analysing data It was possible to select features"
   ]
  },
  {
   "cell_type": "markdown",
   "metadata": {},
   "source": [
    "#### 1.2 Feature selection and transforming data into a dataframe"
   ]
  },
  {
   "cell_type": "markdown",
   "metadata": {},
   "source": [
    "A pandas dataframe was created and filled in with the information selected from the dataset. "
   ]
  },
  {
   "cell_type": "markdown",
   "metadata": {},
   "source": [
    "#### 1.3 Cleaning data"
   ]
  },
  {
   "cell_type": "markdown",
   "metadata": {},
   "source": [
    "For the project, It was needed only the information about Brooklyn borough's Neighborhoods, so the dataframe was cleaned as to get only that information. "
   ]
  },
  {
   "cell_type": "markdown",
   "metadata": {},
   "source": [
    "#### 1.4 Visualize data"
   ]
  },
  {
   "cell_type": "markdown",
   "metadata": {},
   "source": [
    "A map of Brooklyn with it´s neighbohoods superimposed was creates as to understand better the information."
   ]
  },
  {
   "cell_type": "markdown",
   "metadata": {},
   "source": [
    "### 2. Get information about venues in New York"
   ]
  },
  {
   "cell_type": "markdown",
   "metadata": {},
   "source": [
    "#### 2.1 Get venues of Brooklyn"
   ]
  },
  {
   "cell_type": "markdown",
   "metadata": {},
   "source": [
    "Foursquare information was used to get all venues of Brooklyn"
   ]
  },
  {
   "cell_type": "markdown",
   "metadata": {},
   "source": [
    "#### 2.2 Clean venues data"
   ]
  },
  {
   "cell_type": "markdown",
   "metadata": {},
   "source": [
    "Venues data was cleaned as to get only information about Coffee Shops and Cafes. It was also dismissed information about Starbucks because it is not considered a competitior to coffee shops."
   ]
  },
  {
   "cell_type": "markdown",
   "metadata": {},
   "source": [
    "### 3. Identify how many coffee shops or cafes are located in each neighborhood of Brooklyn"
   ]
  },
  {
   "cell_type": "markdown",
   "metadata": {},
   "source": [
    "## 4. Results"
   ]
  },
  {
   "cell_type": "markdown",
   "metadata": {},
   "source": [
    "It was found that there are 5 neigborhoods in Brooklyn that have only 2 cofee shops or cafes."
   ]
  },
  {
   "cell_type": "markdown",
   "metadata": {},
   "source": [
    "## 5. Discussion"
   ]
  },
  {
   "cell_type": "markdown",
   "metadata": {},
   "source": [
    "It was found that there are also 6 neighborhoods with only 4 coffee shops or cafes. It could be also recommended to open a coffee shop in those neighborhoods. To get the conclusion it was taken in acount the neighborhood where the client is moving in.\n",
    "It was also discussed with the client the idea of dismissin Starbucks as a competitor. "
   ]
  },
  {
   "cell_type": "markdown",
   "metadata": {},
   "source": [
    "## 6. Conclusion"
   ]
  },
  {
   "cell_type": "markdown",
   "metadata": {},
   "source": [
    "In conclusion, it was recommended to open the coffee shop in one of the following neighborhoods of Broohlyn:\n",
    "- Bensonhurst\n",
    "- Sheepshead Bay\n",
    "- City Line\n",
    "- Ocenan Hill\n",
    "- Borough Park\n"
   ]
  }
 ],
 "metadata": {
  "kernelspec": {
   "display_name": "Python 3",
   "language": "python",
   "name": "python3"
  },
  "language_info": {
   "codemirror_mode": {
    "name": "ipython",
    "version": 3
   },
   "file_extension": ".py",
   "mimetype": "text/x-python",
   "name": "python",
   "nbconvert_exporter": "python",
   "pygments_lexer": "ipython3",
   "version": "3.6.8"
  }
 },
 "nbformat": 4,
 "nbformat_minor": 2
}
